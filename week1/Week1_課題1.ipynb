{
  "nbformat": 4,
  "nbformat_minor": 0,
  "metadata": {
    "colab": {
      "name": "Week1 課題1.ipynb",
      "provenance": [],
      "collapsed_sections": []
    },
    "kernelspec": {
      "name": "python3",
      "display_name": "Python 3"
    }
  },
  "cells": [
    {
      "cell_type": "markdown",
      "metadata": {
        "id": "PW_2uAh7B6c8",
        "colab_type": "text"
      },
      "source": [
        "##【問題1】100日目の米粒の数\n",
        "100日目には合計で米粒をいくつもらっているのかを計算するコードを作成し、答えを出力してください。また、1日目から100日目までの「その日にもらう米の数」と「その日までに累計で貰う米の数」の推移を折れ線グラフで表現してください。（縦軸が米の数、横軸が日数)"
      ]
    },
    {
      "cell_type": "code",
      "metadata": {
        "id": "HwiWXw4jCFt6",
        "colab_type": "code",
        "colab": {
          "base_uri": "https://localhost:8080/",
          "height": 295
        },
        "outputId": "0da9a833-662a-4d75-90f9-96fbab070285"
      },
      "source": [
        "import matplotlib.pyplot as plt\n",
        "\n",
        "rice = 1\n",
        "rice_total =[] #その日までに累計で貰う米の数\n",
        "rice_today =[] # その日にもらう米の数\n",
        "\n",
        "for _ in range(100):\n",
        "  rice *=2\n",
        "  rice_today.append(rice)\n",
        "  x = sum(rice_today) #SUMで合計を出す\n",
        "  rice_total.append(x) #SUMも配列に入れる\n",
        "\n",
        "  \n",
        "%matplotlib inline\n",
        "plt.title(\"RICE\")\n",
        "plt.xlabel(\"DAY\")\n",
        "plt.ylabel(\"grain of rice\")\n",
        "plt.plot(rice_total,label=\"total\",linestyle=\"dotted\")\n",
        "plt.plot(rice_today,label =\"today\",linestyle=\"dotted\")\n",
        "plt.legend() #labelを凡例に\n",
        "plt.show()"
      ],
      "execution_count": null,
      "outputs": [
        {
          "output_type": "display_data",
          "data": {
            "image/png": "[encoded data removed]",
            "text/plain": [
              "<Figure size 432x288 with 1 Axes>"
            ]
          },
          "metadata": {
            "tags": [],
            "needs_background": "light"
          }
        }
      ]
    },
    {
      "cell_type": "markdown",
      "metadata": {
        "id": "IT6I1qZ1DQES",
        "colab_type": "text"
      },
      "source": [
        "##【問題2】100日目以外の米粒の数\n",
        "この逸話は30日だったり81日だったりと日数が曖昧です。どの話にも対応できるように日数を引数とした 関数 を作成しましょう。関数を作成した上で、コースを受講する日数の間でいくつ米粒をもらえるかを答えてください。前の問題同様に折れ線グラフも出力してください。"
      ]
    },
    {
      "cell_type": "code",
      "metadata": {
        "id": "ISjpFlcWDPi7",
        "colab_type": "code",
        "colab": {
          "base_uri": "https://localhost:8080/",
          "height": 331
        },
        "outputId": "004ab6ba-2e1a-4a3b-fda7-d360056980cd"
      },
      "source": [
        "import matplotlib.pyplot as plt\n",
        "\n",
        "\n",
        "def compute_sorori_shinzaemon(day):\n",
        "  rice = 1\n",
        "  list_total_grains =[]\n",
        "  list_n_grains =[]\n",
        "  for _ in range(day):\n",
        "    rice *= 2\n",
        "    list_n_grains.append(rice)\n",
        "    x = sum(list_n_grains) #SUMで合計を出す\n",
        "    list_total_grains.append(x)\n",
        "\n",
        "  return list_n_grains, list_total_grains\n",
        "day = 42 #受講日数\n",
        "list_n_grains, list_total_grains = compute_sorori_shinzaemon(day)\n",
        "print(\"{}日に{}粒貰える\".format(day,list_n_grains[-1]))\n",
        "print(\"{}日で合計{}粒貰える\".format(day,list_total_grains[-1]))\n",
        "\n",
        "%matplotlib inline\n",
        "plt.title(\"RICE\")\n",
        "plt.xlabel(\"DAY\")\n",
        "plt.ylabel(\"grain of rice\")\n",
        "plt.plot(list_total_grains,label=\"total\",linestyle=\"dotted\")\n",
        "plt.plot(list_n_grains,label =\"today\",linestyle=\"dotted\")\n",
        "plt.legend() #labelを凡例に\n",
        "plt.show()\n"
      ],
      "execution_count": 4,
      "outputs": [
        {
          "output_type": "stream",
          "text": [
            "42日に4398046511104粒貰える\n",
            "42日で合計8796093022206粒貰える\n"
          ],
          "name": "stdout"
        },
        {
          "output_type": "display_data",
          "data": {
            "image/png": "[encoded data removed]",
            "text/plain": [
              "<Figure size 432x288 with 1 Axes>"
            ]
          },
          "metadata": {
            "tags": [],
            "needs_background": "light"
          }
        }
      ]
    },
    {
      "cell_type": "markdown",
      "metadata": {
        "id": "fJuI9CSHRlqw",
        "colab_type": "text"
      },
      "source": [
        "##【問題3】何人が何日生活できる米か\n",
        "この米があれば何人が何日生活できるか計算する関数を作成してください。コースを受講する期間に貰える米粒で、このクラスにいる人数であれば、何日間生活できるかを出力してみましょう"
      ]
    },
    {
      "cell_type": "code",
      "metadata": {
        "id": "tO2jTTNGRv__",
        "colab_type": "code",
        "colab": {
          "base_uri": "https://localhost:8080/",
          "height": 35
        },
        "outputId": "d845dfa7-a454-4dfe-d47c-702fe30e7363"
      },
      "source": [
        "def survival(rice,day,human,total):\n",
        "  days = total //(rice*day*human)\n",
        "  return days\n",
        "\n",
        "rice_bowl = 3250 #お茶碗1杯の米粒\n",
        "one_day = 3 #1日3食分\n",
        "total_human =14 #受講者\n",
        "total_grains = list_total_grains[-1]\n",
        "days = survival(rice_bowl,one_day,total_human,total_grains)\n",
        "\n",
        "print(\"{}日生活できる\".format(days))"
      ],
      "execution_count": 6,
      "outputs": [
        {
          "output_type": "stream",
          "text": [
            "64440241日生活できる\n"
          ],
          "name": "stdout"
        }
      ]
    },
    {
      "cell_type": "markdown",
      "metadata": {
        "id": "UGoDobUE-G_v",
        "colab_type": "text"
      },
      "source": [
        "#**根拠**\n",
        "引用 https://www.maff.go.jp/j/heya/sodan/1806/03.html\n",
        "\n",
        " 茶椀1杯のお米の粒（約65g）を数えると、約3，250粒あります。\n",
        " 3250粒 × 3食（１日） = 9,750粒"
      ]
    }
  ]
}