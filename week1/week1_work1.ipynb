{
  "nbformat": 4,
  "nbformat_minor": 0,
  "metadata": {
    "colab": {
      "name": "week1_work1.ipynb",
      "provenance": [],
      "collapsed_sections": []
    },
    "kernelspec": {
      "name": "python3",
      "display_name": "Python 3"
    }
  },
  "cells": [
    {
      "cell_type": "code",
      "metadata": {
        "id": "MvEsxECJMG2O",
        "colab_type": "code",
        "colab": {
          "base_uri": "https://localhost:8080/",
          "height": 71
        },
        "outputId": "fb9ebbe8-c274-4fde-d157-cb8d3e3d2be4"
      },
      "source": [
        "%%time\n",
        "\n",
        "THICKNESS = 0.00008\n",
        "MOON = 384400\n",
        "paper_fold = 2**43\n",
        "res = THICKNESS * paper_fold\n",
        "\n",
        "print(\"43回折ると{:.2f}万キロメートルなので月に届いた\".format(res/1000))\n"
      ],
      "execution_count": 15,
      "outputs": [
        {
          "output_type": "stream",
          "text": [
            "43回折ると703687.44万キロメートルなので月に届いた\n",
            "CPU times: user 73 µs, sys: 0 ns, total: 73 µs\n",
            "Wall time: 77 µs\n"
          ],
          "name": "stdout"
        }
      ]
    },
    {
      "cell_type": "code",
      "metadata": {
        "id": "lWznrZ3mxNIj",
        "colab_type": "code",
        "colab": {
          "base_uri": "https://localhost:8080/",
          "height": 71
        },
        "outputId": "a14a0cb9-e9bd-45fd-eefb-9670d0de185c"
      },
      "source": [
        "%%time\n",
        "\n",
        "PAPER = 0.00008\n",
        "MOON = 384400\n",
        "a = 1\n",
        "b = 2\n",
        "\n",
        "for i in range(43):\n",
        "  a *= b\n",
        "  res = PAPER * a\n",
        "print(\"43回折ると{:.2f}万キロメートルなので月に届いた\".format(res/1000))\n"
      ],
      "execution_count": 17,
      "outputs": [
        {
          "output_type": "stream",
          "text": [
            "43回折ると703687.44万キロメートルなので月に届いた\n",
            "CPU times: user 570 µs, sys: 0 ns, total: 570 µs\n",
            "Wall time: 578 µs\n"
          ],
          "name": "stdout"
        }
      ]
    },
    {
      "cell_type": "code",
      "metadata": {
        "id": "OA9HCWn-odw3",
        "colab_type": "code",
        "colab": {
          "base_uri": "https://localhost:8080/",
          "height": 300
        },
        "outputId": "7b4a92c5-b7dd-408f-ca72-bcfd99711e95"
      },
      "source": [
        "PAPER = 0.00008\n",
        "a = 1\n",
        "b = 2\n",
        "value=[0.0008]\n",
        "\n",
        "for i in range(43):\n",
        "  a *= b\n",
        "  res = PAPER * a\n",
        "  value.append(res)\n",
        "# print(len(value)) 配列に44個\n",
        "\n",
        "import matplotlib.pyplot as plt\n",
        "%matplotlib inline\n",
        "plt.figure(facecolor=\"yellow\", edgecolor=\"coral\", linewidth=12,)\n",
        "plt.title(\"How many miles to Moon?\")\n",
        "plt.xlabel(\"number of folds\")\n",
        "plt.ylabel(\"thickness[m]\")\n",
        "plt.tick_params(labelsize=15)\n",
        "plt.plot(value,color=\"red\",linestyle=\"dotted\")\n",
        "plt.show()\n",
        "#30の後半で劇的に変化する\n"
      ],
      "execution_count": null,
      "outputs": [
        {
          "output_type": "display_data",
          "data": {
            "image/png": "[encoded data removed]",
            "text/plain": [
              "<Figure size 432x288 with 1 Axes>"
            ]
          },
          "metadata": {
            "tags": []
          }
        }
      ]
    }
  ]
}