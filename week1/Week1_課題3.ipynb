{
  "nbformat": 4,
  "nbformat_minor": 0,
  "metadata": {
    "colab": {
      "name": "Week1 課題3.ipynb",
      "provenance": [],
      "collapsed_sections": []
    },
    "kernelspec": {
      "name": "python3",
      "display_name": "Python 3"
    }
  },
  "cells": [
    {
      "cell_type": "markdown",
      "metadata": {
        "id": "ieTXnOw3cxFq",
        "colab_type": "text"
      },
      "source": [
        "##問題】栗まんじゅうが太陽系を覆う日\n",
        "1個の栗まんじゅうにバイバインを振りかけた場合、太陽系が栗まんじゅうで覆われるのは何分後でしょうか。これを計算するプログラムを作成してください。\n",
        "栗まんじゅうや太陽系の体積を調査した上で仮定して計算してください。栗まんじゅうの隙間や重力などは考えず、問題を単純化して構いません。\n",
        "ボールにバイバインを振りかけた時、東京ドームが一杯になる時間など他の状況にも適用できるような汎用的なプログラムを作成してください。また、グラフを表示するなど分かりやすいノートブックを作成してください。"
      ]
    },
    {
      "cell_type": "markdown",
      "metadata": {
        "id": "_XGKi3r4H4xT",
        "colab_type": "text"
      },
      "source": [
        "水星から海王星までの距離が4446490000km \n",
        "その距離を直径とし、計算する。\n",
        "引用　https://planet-lab.biz/archives/230"
      ]
    },
    {
      "cell_type": "markdown",
      "metadata": {
        "id": "y0sc92lzkgNY",
        "colab_type": "text"
      },
      "source": [
        "栗饅頭の体積は100㎝3と仮定する。"
      ]
    },
    {
      "cell_type": "code",
      "metadata": {
        "id": "MzsNtHqdcw30",
        "colab_type": "code",
        "colab": {
          "base_uri": "https://localhost:8080/",
          "height": 1000
        },
        "outputId": "e113e170-acda-411a-e693-27ebba73ef08"
      },
      "source": [
        "import matplotlib.pyplot as plt\n",
        "import math\n",
        "import numpy as np\n",
        "\n",
        "\n",
        "\n",
        "obje =[]\n",
        "dista =[]\n",
        "\n",
        "def distance(dis): #対象の体積\n",
        "  up_to_distance = dis//2 #対象までの距離\n",
        "  distance_obj = 4 * math.pi * up_to_distance **3 / 3 #上記の距離を直径とし、体積を求める\n",
        "  dista.append(distance_obj)\n",
        "  return distance_obj\n",
        "\n",
        "def baibai(obj,distance_obj): #倍々算計算\n",
        "  min = 0\n",
        "  while obj < distance_obj:\n",
        "    obj *=2\n",
        "    min +=5\n",
        "    obje.append(obj)\n",
        "    print(\"{}分後には{}cm3\".format(min,obj))\n",
        "  print(\"{}分後には覆われる\".format(min))\n",
        "\n",
        "d = distance(4446490000)#水星から海王星までの距離\n",
        "baibaizan = baibai(100,d) #栗饅頭の体積を100cm3と仮定する\n",
        "\n",
        "%matplotlib inline\n",
        "plt.title(\"baibaizan\")\n",
        "plt.xlabel(\"count\")\n",
        "plt.ylabel(\"cm3\")\n",
        "plt.plot(obje,linestyle=\"dotted\",label = \"obj\")\n",
        "plt.show()\n"
      ],
      "execution_count": null,
      "outputs": [
        {
          "output_type": "stream",
          "text": [
            "5分後には200cm3\n",
            "10分後には400cm3\n",
            "15分後には800cm3\n",
            "20分後には1600cm3\n",
            "25分後には3200cm3\n",
            "30分後には6400cm3\n",
            "35分後には12800cm3\n",
            "40分後には25600cm3\n",
            "45分後には51200cm3\n",
            "50分後には102400cm3\n",
            "55分後には204800cm3\n",
            "60分後には409600cm3\n",
            "65分後には819200cm3\n",
            "70分後には1638400cm3\n",
            "75分後には3276800cm3\n",
            "80分後には6553600cm3\n",
            "85分後には13107200cm3\n",
            "90分後には26214400cm3\n",
            "95分後には52428800cm3\n",
            "100分後には104857600cm3\n",
            "105分後には209715200cm3\n",
            "110分後には419430400cm3\n",
            "115分後には838860800cm3\n",
            "120分後には1677721600cm3\n",
            "125分後には3355443200cm3\n",
            "130分後には6710886400cm3\n",
            "135分後には13421772800cm3\n",
            "140分後には26843545600cm3\n",
            "145分後には53687091200cm3\n",
            "150分後には107374182400cm3\n",
            "155分後には214748364800cm3\n",
            "160分後には429496729600cm3\n",
            "165分後には858993459200cm3\n",
            "170分後には1717986918400cm3\n",
            "175分後には3435973836800cm3\n",
            "180分後には6871947673600cm3\n",
            "185分後には13743895347200cm3\n",
            "190分後には27487790694400cm3\n",
            "195分後には54975581388800cm3\n",
            "200分後には109951162777600cm3\n",
            "205分後には219902325555200cm3\n",
            "210分後には439804651110400cm3\n",
            "215分後には879609302220800cm3\n",
            "220分後には1759218604441600cm3\n",
            "225分後には3518437208883200cm3\n",
            "230分後には7036874417766400cm3\n",
            "235分後には14073748835532800cm3\n",
            "240分後には28147497671065600cm3\n",
            "245分後には56294995342131200cm3\n",
            "250分後には112589990684262400cm3\n",
            "255分後には225179981368524800cm3\n",
            "260分後には450359962737049600cm3\n",
            "265分後には900719925474099200cm3\n",
            "270分後には1801439850948198400cm3\n",
            "275分後には3602879701896396800cm3\n",
            "280分後には7205759403792793600cm3\n",
            "285分後には14411518807585587200cm3\n",
            "290分後には28823037615171174400cm3\n",
            "295分後には57646075230342348800cm3\n",
            "300分後には115292150460684697600cm3\n",
            "305分後には230584300921369395200cm3\n",
            "310分後には461168601842738790400cm3\n",
            "315分後には922337203685477580800cm3\n",
            "320分後には1844674407370955161600cm3\n",
            "325分後には3689348814741910323200cm3\n",
            "330分後には7378697629483820646400cm3\n",
            "335分後には14757395258967641292800cm3\n",
            "340分後には29514790517935282585600cm3\n",
            "345分後には59029581035870565171200cm3\n",
            "350分後には118059162071741130342400cm3\n",
            "355分後には236118324143482260684800cm3\n",
            "360分後には472236648286964521369600cm3\n",
            "365分後には944473296573929042739200cm3\n",
            "370分後には1888946593147858085478400cm3\n",
            "375分後には3777893186295716170956800cm3\n",
            "380分後には7555786372591432341913600cm3\n",
            "385分後には15111572745182864683827200cm3\n",
            "390分後には30223145490365729367654400cm3\n",
            "395分後には60446290980731458735308800cm3\n",
            "400分後には120892581961462917470617600cm3\n",
            "405分後には241785163922925834941235200cm3\n",
            "410分後には483570327845851669882470400cm3\n",
            "415分後には967140655691703339764940800cm3\n",
            "420分後には1934281311383406679529881600cm3\n",
            "425分後には3868562622766813359059763200cm3\n",
            "430分後には7737125245533626718119526400cm3\n",
            "435分後には15474250491067253436239052800cm3\n",
            "440分後には30948500982134506872478105600cm3\n",
            "445分後には61897001964269013744956211200cm3\n",
            "445分後には覆われる\n"
          ],
          "name": "stdout"
        },
        {
          "output_type": "display_data",
          "data": {
            "image/png": "[encoded data removed]",
            "text/plain": [
              "<Figure size 432x288 with 1 Axes>"
            ]
          },
          "metadata": {
            "tags": [],
            "needs_background": "light"
          }
        }
      ]
    }
  ]
}