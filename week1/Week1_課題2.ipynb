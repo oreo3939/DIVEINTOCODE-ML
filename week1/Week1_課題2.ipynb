{
  "nbformat": 4,
  "nbformat_minor": 0,
  "metadata": {
    "colab": {
      "name": "Week1 課題2.ipynb",
      "provenance": [],
      "collapsed_sections": []
    },
    "kernelspec": {
      "name": "python3",
      "display_name": "Python 3"
    }
  },
  "cells": [
    {
      "cell_type": "markdown",
      "metadata": {
        "id": "Yw7I57tJNNmI",
        "colab_type": "text"
      },
      "source": [
        "##問題1　富士山を超える最小の折る回数\n",
        "厚さが「富士山(3776m)」を超えるのは何回紙を折った時か計算するプログラムを作成してください。"
      ]
    },
    {
      "cell_type": "code",
      "metadata": {
        "id": "iTw2hUegG2c6",
        "colab_type": "code",
        "colab": {}
      },
      "source": [
        "FUJI =3776\n",
        "paper = 0.00008\n",
        "ct = 0\n",
        "while paper < FUJI:\n",
        "    paper=paper*2 #折る\n",
        "    ct=ct+1 #回数\n",
        "    print(ct,'回折り曲げた','厚み:',paper, sep=\"\")\n",
        "print(ct,'回で富士山に到達しました。')\n"
      ],
      "execution_count": null,
      "outputs": []
    },
    {
      "cell_type": "markdown",
      "metadata": {
        "id": "E_kcPcXcB5iT",
        "colab_type": "text"
      },
      "source": [
        "##【問題2】任意の厚さに対応した関数を作成\n",
        "距離を入力すると、何回折った時に超えるかを出力する関数を作成してください。引数として、折る前の厚さ t0\n",
        " も設定できるようにしましょう。\n",
        "\n",
        "この関数を利用して、「最も近い太陽以外の恒星」に到達するには紙を何回折る必要があるか計算してください。「最も近い太陽以外の恒星」の距離は調査してください。"
      ]
    },
    {
      "cell_type": "markdown",
      "metadata": {
        "id": "1U0Gsk9EFZc5",
        "colab_type": "text"
      },
      "source": [
        "最も近い太陽以外の恒星はプロキシマ・ケンタウリ距離は\t4.243光年\n",
        "1光年約9兆5000億kmである　\n",
        "なので約4014187939520kmである。\n",
        "\n",
        "引用　https://ja.wikipedia.org/wiki/%E6%9C%80%E3%82%82%E8%BF%91%E3%81%84%E3%83%BB%E9%81%A0%E3%81%84%E5%A4%A9%E4%BD%93%E3%81%AE%E4%B8%80%E8%A6%A7"
      ]
    },
    {
      "cell_type": "code",
      "metadata": {
        "id": "pC46APQ5CBsL",
        "colab_type": "code",
        "colab": {
          "base_uri": "https://localhost:8080/",
          "height": 53
        },
        "outputId": "1d49073a-4783-4873-88c8-f34ed02cca8a"
      },
      "source": [
        "fixed_star = float(input()) #入力する距離4014187939520km\n",
        "def fold(paper):\n",
        "  cnt = 0\n",
        "  while paper < fixed_star:\n",
        "    paper = paper*2\n",
        "    cnt = cnt +1\n",
        "  print(\"{}回で届いた\".format(cnt))\n",
        "    \n",
        "f = fold(0.00008/1000)"
      ],
      "execution_count": 1,
      "outputs": [
        {
          "output_type": "stream",
          "text": [
            "4014187939520\n",
            "66回で届いた\n"
          ],
          "name": "stdout"
        }
      ]
    },
    {
      "cell_type": "markdown",
      "metadata": {
        "id": "U7P95s3PP-40",
        "colab_type": "text"
      },
      "source": [
        "##問題3 必要な紙の長さ\n",
        "実際のところ身近にある紙は43回はおろか10回も折れません。しかし、大きな紙ほどたくさん折ることができ、トイレットペーパーのような長い紙を一方向に折ることを考えた時の折れる回数を求める公式が存在します。"
      ]
    },
    {
      "cell_type": "markdown",
      "metadata": {
        "id": "LzAFA1nGG5BN",
        "colab_type": "text"
      },
      "source": [
        "富士山に届くために必要な紙の長さ"
      ]
    },
    {
      "cell_type": "code",
      "metadata": {
        "colab_type": "code",
        "id": "0bV1C_9YanaV",
        "colab": {
          "base_uri": "https://localhost:8080/",
          "height": 35
        },
        "outputId": "1d1b5d46-a798-429c-c3a5-171540b320e3"
      },
      "source": [
        "import math\n",
        "def paper_length(paper,n):\n",
        "  L = (paper*math.pi/6)*(2**n+4)*(2**n-1) #公式\n",
        "  return L\n",
        "\n",
        "length = paper_length(0.00008,26)\n",
        "print(length)"
      ],
      "execution_count": 3,
      "outputs": [
        {
          "output_type": "stream",
          "text": [
            "188646348487.24017\n"
          ],
          "name": "stdout"
        }
      ]
    },
    {
      "cell_type": "markdown",
      "metadata": {
        "id": "-CUTK-5VG9C6",
        "colab_type": "text"
      },
      "source": [
        "月に届くために必要な紙の長さ"
      ]
    },
    {
      "cell_type": "code",
      "metadata": {
        "id": "OTUAdCFjHIqg",
        "colab_type": "code",
        "colab": {
          "base_uri": "https://localhost:8080/",
          "height": 35
        },
        "outputId": "92cbbd3f-f2f5-4be2-db1f-bb7ed5c8f27d"
      },
      "source": [
        "length = paper_length(0.00008,43)\n",
        "print(length)"
      ],
      "execution_count": 4,
      "outputs": [
        {
          "output_type": "stream",
          "text": [
            "3.240919444170781e+21\n"
          ],
          "name": "stdout"
        }
      ]
    },
    {
      "cell_type": "markdown",
      "metadata": {
        "id": "0ax_dbxuHICq",
        "colab_type": "text"
      },
      "source": [
        "最も近い太陽以外の恒星に届くために必要な紙の長さ"
      ]
    },
    {
      "cell_type": "code",
      "metadata": {
        "id": "8FhZ6WbaHkfS",
        "colab_type": "code",
        "colab": {
          "base_uri": "https://localhost:8080/",
          "height": 35
        },
        "outputId": "ecb7fa0c-79a4-4d13-bf2a-c7dbf6694a41"
      },
      "source": [
        "length = paper_length(0.00008,66)\n",
        "print(length)"
      ],
      "execution_count": 5,
      "outputs": [
        {
          "output_type": "stream",
          "text": [
            "2.2805943126719294e+35\n"
          ],
          "name": "stdout"
        }
      ]
    }
  ]
}