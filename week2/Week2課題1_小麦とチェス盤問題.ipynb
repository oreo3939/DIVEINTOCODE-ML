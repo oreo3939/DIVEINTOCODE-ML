{
  "nbformat": 4,
  "nbformat_minor": 0,
  "metadata": {
    "colab": {
      "name": "Week2課題1 小麦とチェス盤問題.ipynb",
      "provenance": [],
      "collapsed_sections": []
    },
    "kernelspec": {
      "name": "python3",
      "display_name": "Python 3"
    }
  },
  "cells": [
    {
      "cell_type": "markdown",
      "metadata": {
        "id": "UcReToJT6Zv8",
        "colab_type": "text"
      },
      "source": [
        "##【問題1】2×2マスのチェス盤の小麦の数\n",
        "2×2マスのチェス盤をndarrayによって表現し、各マスの小麦の数を計算してください。左上のマスに小麦を1つ置いた後、その右が2つ、左下が4つ、右下が8つという風に進みます。\n",
        "サンプルコードで作成したndarrayのshapeの変形を行ってください。"
      ]
    },
    {
      "cell_type": "code",
      "metadata": {
        "id": "3AR_1wp86UnR",
        "colab_type": "code",
        "colab": {
          "base_uri": "https://localhost:8080/",
          "height": 53
        },
        "outputId": "79b54947-214e-461b-9304-e2d152d5cdef"
      },
      "source": [
        "import numpy as np\n",
        "n_squares = 4\n",
        "small_board_list = [1]\n",
        "for _ in range(n_squares - 1):\n",
        "    small_board_list.append(2*small_board_list[-1])\n",
        "small_board_ndarray = np.array(small_board_list)\n",
        "small_board_shape = np.reshape(small_board_ndarray,(2,2))\n",
        "print(small_board_shape)"
      ],
      "execution_count": null,
      "outputs": [
        {
          "output_type": "stream",
          "text": [
            "[[1 2]\n",
            " [4 8]]\n"
          ],
          "name": "stdout"
        }
      ]
    },
    {
      "cell_type": "markdown",
      "metadata": {
        "id": "Fjb3Q4H3n5uy",
        "colab_type": "text"
      },
      "source": [
        "##【問題2】n×mマスへの拡張\n",
        "n×mマスのチェス盤の小麦の数を記したndarrayを返す関数を作成してください。そして、この関数を使い8×8マスのチェス盤の小麦の数を求めてください。"
      ]
    },
    {
      "cell_type": "code",
      "metadata": {
        "id": "AwmKfcxeoELq",
        "colab_type": "code",
        "colab": {
          "base_uri": "https://localhost:8080/",
          "height": 215
        },
        "outputId": "9828f356-7c97-4d65-bbb1-4f3b4b34ab66"
      },
      "source": [
        "import numpy as np\n",
        "\n",
        "\n",
        "def chess_board(n,m):\n",
        "  board=[1]\n",
        "  for _  in range(n*m-1):\n",
        "    board.append(2*board[-1])\n",
        "    board_ndarray = np.array(board)\n",
        "  return board_ndarray \n",
        "\n",
        "\n",
        "chbo = chess_board(8,8)\n",
        "np.set_printoptions(formatter={'float': '{:.0f}'.format}) #　+e を表示しなくする\n",
        "print(chbo)"
      ],
      "execution_count": null,
      "outputs": [
        {
          "output_type": "stream",
          "text": [
            "[1 2 4 8 16 32 64 128 256 512 1024 2048 4096 8192 16384 32768 65536 131072\n",
            " 262144 524288 1048576 2097152 4194304 8388608 16777216 33554432 67108864\n",
            " 134217728 268435456 536870912 1073741824 2147483648 4294967296 8589934592\n",
            " 17179869184 34359738368 68719476736 137438953472 274877906944\n",
            " 549755813888 1099511627776 2199023255552 4398046511104 8796093022208\n",
            " 17592186044416 35184372088832 70368744177664 140737488355328\n",
            " 281474976710656 562949953421312 1125899906842624 2251799813685248\n",
            " 4503599627370496 9007199254740992 18014398509481984 36028797018963968\n",
            " 72057594037927936 144115188075855872 288230376151711744\n",
            " 576460752303423488 1152921504606846976 2305843009213693952\n",
            " 4611686018427387904 9223372036854775808]\n"
          ],
          "name": "stdout"
        }
      ]
    },
    {
      "cell_type": "markdown",
      "metadata": {
        "id": "IKSrStD85sdN",
        "colab_type": "text"
      },
      "source": [
        "## 【問題3】小麦の数の合計\n",
        "8×8マスのチェス盤の小麦の数の合計を求めてください。また、各列の平均を求め、それを棒グラフで可視化してください。"
      ]
    },
    {
      "cell_type": "code",
      "metadata": {
        "id": "16OKclLT7tLe",
        "colab_type": "code",
        "colab": {
          "base_uri": "https://localhost:8080/",
          "height": 294
        },
        "outputId": "eeb95f34-b688-4885-de04-d3e6b93197f5"
      },
      "source": [
        "small_board_shape = np.reshape(small_board_ndarray,(8,8)) #8列8行\n",
        "small_board_mean = np.mean(small_board_shape,axis=0) #列ごとに平均\n",
        "print(\"合計は{:.0f}粒\".format(np.sum(small_board_ndarray))) #合計\n",
        "\n",
        "\n",
        "%matplotlib inline\n",
        "left = np.arange(len(small_board_mean)) #グラフの横軸(X軸)\n",
        "height = small_board_mean #Y軸の高さ\n",
        "label = [\"1\",\"2\",\"3\",\"4\",\"5\",\"6\",\"7\",\"8\"]\n",
        "plt.bar(left,height,tick_label=label)\n",
        "plt.show()"
      ],
      "execution_count": null,
      "outputs": [
        {
          "output_type": "stream",
          "text": [
            "合計は18446744073709551616粒\n"
          ],
          "name": "stdout"
        },
        {
          "output_type": "display_data",
          "data": {
            "image/png": "[encoded data removed]",
            "text/plain": [
              "<Figure size 432x288 with 1 Axes>"
            ]
          },
          "metadata": {
            "tags": [],
            "needs_background": "light"
          }
        }
      ]
    },
    {
      "cell_type": "markdown",
      "metadata": {
        "id": "-nfh5c4O_909",
        "colab_type": "text"
      },
      "source": [
        "##【問題4】小麦の数のヒートマップ\n",
        "8×8マスのチェス盤の小麦の数をヒートマップとして可視化してください。"
      ]
    },
    {
      "cell_type": "code",
      "metadata": {
        "id": "ruBYkHi8AGyz",
        "colab_type": "code",
        "colab": {
          "base_uri": "https://localhost:8080/",
          "height": 295
        },
        "outputId": "6d3f45f7-6496-406c-c1a9-0a66af524954"
      },
      "source": [
        "height = small_board_ndarray  #np.array\n",
        "plt.xlabel(\"column\")\n",
        "plt.ylabel(\"row\")\n",
        "plt.title(\"heatmap\")\n",
        "plt.pcolor(height.reshape(8,8))\n",
        "plt.show() \n",
        "#値が小さいところが紫、大きいところが黄色\n",
        "#紫多すぎないか?"
      ],
      "execution_count": null,
      "outputs": [
        {
          "output_type": "display_data",
          "data": {
            "image/png": "[encoded data removed]",
            "text/plain": [
              "<Figure size 432x288 with 1 Axes>"
            ]
          },
          "metadata": {
            "tags": [],
            "needs_background": "light"
          }
        }
      ]
    },
    {
      "cell_type": "markdown",
      "metadata": {
        "id": "y8RclZcDCRW8",
        "colab_type": "text"
      },
      "source": [
        "##【問題5】後半は前半の何\n",
        "チェス盤の後半にある小麦の数は前半にある小麦の数の何倍かを求めてください。前半とは配列の0から3行目、後半は4から7行目です。"
      ]
    },
    {
      "cell_type": "code",
      "metadata": {
        "id": "cEuGIXVrCYfr",
        "colab_type": "code",
        "colab": {
          "base_uri": "https://localhost:8080/",
          "height": 35
        },
        "outputId": "b13439a4-2af1-4797-9e13-69ee13bc4c67"
      },
      "source": [
        "# all = np.sum(small_board_shape,axis=1) #小麦の行ごとの合計数\n",
        "first_half = np.sum(small_board_shape[:4],axis=1) #行ごとにある前半の小麦の合計\n",
        "second_half = np.sum(small_board_shape[4:],axis=1) #行ごとにある後半の小麦の合計\n",
        "\n",
        "first = np.sum(first_half) #前半の小麦の総合計\n",
        "second = np.sum(second_half) #後半の小麦の総合計\n",
        "what_times = second // first #何倍か\n",
        "print(\"後半にある小麦は前半の{:.0f}倍\".format(what_times))"
      ],
      "execution_count": null,
      "outputs": [
        {
          "output_type": "stream",
          "text": [
            "後半にある小麦は前半の4294967296倍\n"
          ],
          "name": "stdout"
        }
      ]
    },
    {
      "cell_type": "markdown",
      "metadata": {
        "id": "zr_e_OCnIJuT",
        "colab_type": "text"
      },
      "source": [
        "##【問題6】他の計算方法によるn×mマスへの拡張\n",
        "問題2と同様の「n×mマスのチェス盤の小麦の数を記したndarrayを返す関数」を、np.append()を使ったものと、ブロードキャストを使ったもので新たに作成してください。\n",
        "それらの関数を使い8×8マスのチェス盤の小麦の数を再び求めてください。\n",
        "\n"
      ]
    },
    {
      "cell_type": "markdown",
      "metadata": {
        "id": "1-apdSZGNNRi",
        "colab_type": "text"
      },
      "source": [
        "####np.append()の場合"
      ]
    },
    {
      "cell_type": "code",
      "metadata": {
        "id": "EdrfssOaINCB",
        "colab_type": "code",
        "colab": {
          "base_uri": "https://localhost:8080/",
          "height": 215
        },
        "outputId": "adc0645a-fbc2-4caf-defd-89c35dc936c2"
      },
      "source": [
        "n_squares = 64\n",
        "board = np.array([1]).astype(np.uint64)\n",
        "for _ in range(n_squares - 1):\n",
        "  board = np.append(board,2*board[-1])\n",
        "print(board)"
      ],
      "execution_count": null,
      "outputs": [
        {
          "output_type": "stream",
          "text": [
            "[1 2 4 8 16 32 64 128 256 512 1024 2048 4096 8192 16384 32768 65536 131072\n",
            " 262144 524288 1048576 2097152 4194304 8388608 16777216 33554432 67108864\n",
            " 134217728 268435456 536870912 1073741824 2147483648 4294967296 8589934592\n",
            " 17179869184 34359738368 68719476736 137438953472 274877906944\n",
            " 549755813888 1099511627776 2199023255552 4398046511104 8796093022208\n",
            " 17592186044416 35184372088832 70368744177664 140737488355328\n",
            " 281474976710656 562949953421312 1125899906842624 2251799813685248\n",
            " 4503599627370496 9007199254740992 18014398509481984 36028797018963968\n",
            " 72057594037927936 144115188075855872 288230376151711744\n",
            " 576460752303423488 1152921504606846976 2305843009213693952\n",
            " 4611686018427387904 9223372036854775808]\n"
          ],
          "name": "stdout"
        }
      ]
    },
    {
      "cell_type": "markdown",
      "metadata": {
        "id": "-w9gr1bpRjm7",
        "colab_type": "text"
      },
      "source": [
        "####ブロードキャストの場合"
      ]
    },
    {
      "cell_type": "code",
      "metadata": {
        "id": "oWlhS4JjRjOb",
        "colab_type": "code",
        "colab": {
          "base_uri": "https://localhost:8080/",
          "height": 413
        },
        "outputId": "9b421d71-3c60-416a-c40b-ee088c8b3d70"
      },
      "source": [
        "\n",
        "indices = np.arange(n_squares).astype(np.uint64)\n",
        "board = 2**indices\n",
        "print(board)"
      ],
      "execution_count": null,
      "outputs": [
        {
          "output_type": "stream",
          "text": [
            "[                  1                   2                   4\n",
            "                   8                  16                  32\n",
            "                  64                 128                 256\n",
            "                 512                1024                2048\n",
            "                4096                8192               16384\n",
            "               32768               65536              131072\n",
            "              262144              524288             1048576\n",
            "             2097152             4194304             8388608\n",
            "            16777216            33554432            67108864\n",
            "           134217728           268435456           536870912\n",
            "          1073741824          2147483648          4294967296\n",
            "          8589934592         17179869184         34359738368\n",
            "         68719476736        137438953472        274877906944\n",
            "        549755813888       1099511627776       2199023255552\n",
            "       4398046511104       8796093022208      17592186044416\n",
            "      35184372088832      70368744177664     140737488355328\n",
            "     281474976710656     562949953421312    1125899906842624\n",
            "    2251799813685248    4503599627370496    9007199254740992\n",
            "   18014398509481984   36028797018963968   72057594037927936\n",
            "  144115188075855872  288230376151711744  576460752303423488\n",
            " 1152921504606846976 2305843009213693952 4611686018427387904\n",
            " 9223372036854775808]\n"
          ],
          "name": "stdout"
        }
      ]
    },
    {
      "cell_type": "markdown",
      "metadata": {
        "id": "gIHLcy1LSOxQ",
        "colab_type": "text"
      },
      "source": [
        "##【問題7】計算時間の比較\n",
        "3種類の方法を見てきました。それぞれの計算時間をJupyter Notebookの%%timeitを用いて計測し、比較と考察を行ってください。\n",
        "%%timeitはセル内のコードを複数回実行し、その平均実行時間を出力する働きをします。"
      ]
    },
    {
      "cell_type": "markdown",
      "metadata": {
        "id": "SB3xSaitSa0v",
        "colab_type": "text"
      },
      "source": [
        "####np.array()の場合"
      ]
    },
    {
      "cell_type": "code",
      "metadata": {
        "id": "U7UviE1bSky9",
        "colab_type": "code",
        "colab": {
          "base_uri": "https://localhost:8080/",
          "height": 35
        },
        "outputId": "3e4dae58-49e2-490d-f2d1-fa88ff44bca2"
      },
      "source": [
        "%%timeit\n",
        "small_board_list = [1]\n",
        "for _ in range(n_squares - 1):\n",
        "    small_board_list.append(2*small_board_list[-1])\n",
        "small_board_ndarray = np.array(small_board_list)"
      ],
      "execution_count": null,
      "outputs": [
        {
          "output_type": "stream",
          "text": [
            "100000 loops, best of 3: 15.8 µs per loop\n"
          ],
          "name": "stdout"
        }
      ]
    },
    {
      "cell_type": "markdown",
      "metadata": {
        "id": "mR-5T-4HSjyn",
        "colab_type": "text"
      },
      "source": [
        "####np.append()の場合"
      ]
    },
    {
      "cell_type": "code",
      "metadata": {
        "id": "l_Ac4OEITaXY",
        "colab_type": "code",
        "colab": {
          "base_uri": "https://localhost:8080/",
          "height": 35
        },
        "outputId": "0c55e492-7875-4df1-e842-65256e3e24bf"
      },
      "source": [
        "%%timeit\n",
        "board = np.array([1]).astype(np.uint64)\n",
        "for _ in range(n_squares - 1):\n",
        "  board = np.append(board,2*board[-1])"
      ],
      "execution_count": null,
      "outputs": [
        {
          "output_type": "stream",
          "text": [
            "1000 loops, best of 3: 547 µs per loop\n"
          ],
          "name": "stdout"
        }
      ]
    },
    {
      "cell_type": "markdown",
      "metadata": {
        "id": "Fmmq1ZQqSjKn",
        "colab_type": "text"
      },
      "source": [
        "####ブロードキャストの場合"
      ]
    },
    {
      "cell_type": "code",
      "metadata": {
        "id": "XoMMDNQgT3bm",
        "colab_type": "code",
        "colab": {
          "base_uri": "https://localhost:8080/",
          "height": 53
        },
        "outputId": "7b257db7-5971-47c5-f62a-e32d59cd7c0a"
      },
      "source": [
        "%%timeit\n",
        "indices = np.arange(n_squares).astype(np.uint64)\n",
        "board = 2**indices"
      ],
      "execution_count": null,
      "outputs": [
        {
          "output_type": "stream",
          "text": [
            "The slowest run took 63.11 times longer than the fastest. This could mean that an intermediate result is being cached.\n",
            "100000 loops, best of 3: 4.9 µs per loop\n"
          ],
          "name": "stdout"
        }
      ]
    },
    {
      "cell_type": "markdown",
      "metadata": {
        "id": "D1nAypAJWvrW",
        "colab_type": "text"
      },
      "source": [
        "##考察\n",
        "一番早いのはブロードキャストで、一番遅いのはnp.append()であった。\n",
        "やっぱりfor文を使い配列を結合させ更新をしているせいで遅いのでは？\n"
      ]
    }
  ]
}