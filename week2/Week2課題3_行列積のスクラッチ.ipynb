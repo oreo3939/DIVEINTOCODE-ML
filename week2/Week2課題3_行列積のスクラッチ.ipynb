{
  "nbformat": 4,
  "nbformat_minor": 0,
  "metadata": {
    "colab": {
      "name": "Week2授業前課題3 行列積のスクラッチ.ipynb",
      "provenance": []
    },
    "kernelspec": {
      "name": "python3",
      "display_name": "Python 3"
    }
  },
  "cells": [
    {
      "cell_type": "code",
      "metadata": {
        "id": "uNSGKPdkbsx3",
        "colab_type": "code",
        "colab": {}
      },
      "source": [
        "import numpy as np\n",
        "\n",
        "a_ndarray = np.array([[-1, 2, 3], [4, -5, 6], [7, 8, -9]])\n",
        "b_ndarray = np.array([[0, 2, 1], [0, 2, -8], [2, 9, -1]])"
      ],
      "execution_count": 67,
      "outputs": []
    },
    {
      "cell_type": "markdown",
      "metadata": {
        "id": "Ik96uf-OIoOH",
        "colab_type": "text"
      },
      "source": [
        "##行列積\n",
        "以下のような行列A、Bを考えます。\n",
        "\n",
        "　　　　　　　　　　　　$% <![CDATA[\n",
        "A = \\left[\n",
        "\\begin{array}{ccc}\n",
        "  -1 & 2 & 3 \\\\\n",
        "  4 & -5 & 6 \\\\\u0018\u0018\n",
        "  7 & 8 & -9\n",
        "\\end{array}\n",
        "\\right],\n",
        "B = \\left[\n",
        "\\begin{array}{ccc}\n",
        "  0 & 2 & 1 \\\\\n",
        "  0 & 2 & -8 \\\\\n",
        "  2 & 9 & -1\n",
        "\\end{array}\n",
        "\\right] %]]>$\n",
        "\n",
        "NumPyで表すと次のようになります。\n",
        "\n",
        "\n",
        "\n"
      ]
    },
    {
      "cell_type": "markdown",
      "metadata": {
        "id": "BpwHHAJEK0wW",
        "colab_type": "text"
      },
      "source": [
        "Texコマンドを$$で囲むとTex表示"
      ]
    },
    {
      "cell_type": "markdown",
      "metadata": {
        "id": "hSbdrErALrzv",
        "colab_type": "text"
      },
      "source": [
        "##【問題1】行列積を手計算する\n",
        "AとBの行列積を手計算で解いてください。\n",
        "\n",
        "\n",
        "計算過程もマークダウンテキストを用いて説明してください。"
      ]
    },
    {
      "cell_type": "markdown",
      "metadata": {
        "id": "z_m1V716Lxgm",
        "colab_type": "text"
      },
      "source": [
        "　　　　　　　　　　　　$% <![CDATA[\n",
        "A = \\left[\n",
        "\\begin{array}{ccc}\n",
        "  -1 & 2 & 3 \\\\\n",
        "  4 & -5 & 6 \\\\\u0018\u0018\n",
        "  7 & 8 & -9\n",
        "\\end{array}\n",
        "\\right],\n",
        "B = \\left[\n",
        "\\begin{array}{ccc}\n",
        "  0 & 2 & 1 \\\\\n",
        "  0 & 2 & -8 \\\\\n",
        "  2 & 9 & -1\n",
        "\\end{array}\n",
        "\\right] %]]>$\n",
        "\n",
        "\n",
        "\n"
      ]
    },
    {
      "cell_type": "markdown",
      "metadata": {
        "id": "ajO5nSGZT2if",
        "colab_type": "text"
      },
      "source": [
        "##やり方\n",
        "1.   Aの1行目(-1,2,3)とBの1列目(0,0,2)計算\n",
        "2.   Aの1行目とBの2列目計算　\n",
        "3.   Aの1行目とBの3列目計算　\n",
        "4.   Aの2行目(4,-5,6)とBの1列目(0,0,2)計算\n",
        "\n",
        "\n",
        "9.   Aの3行目(7,8,-9)とBの3列目(1,-8,-1)計算\n",
        "\n",
        "##計算\n",
        "\n",
        "|  -1ｘ0 + 2ｘ0 + 3ｘ2　　-1ｘ2 + 2ｘ2 + 3ｘ9　  -1ｘ1 + 2ｘ-8 + 3ｘ-1　　|\n",
        "\n",
        "|  4ｘ0 + (-5)ｘ0 + 6ｘ2　4ｘ2 + (-5)ｘ2 + 6ｘ9　4ｘ1 + (-5)ｘ-8 + 6ｘ-1　|\n",
        "\n",
        "|  7ｘ0 + 8ｘ0 + (-9)ｘ2　7ｘ2 + 8ｘ2 + (-9)ｘ9　7ｘ1 + 8ｘ-8 + (-9)ｘ-1　|\n",
        "\n",
        "\n",
        "##答え\n",
        "\n",
        "|　6　　 29　　-20　  |\n",
        "\n",
        "|　12　　52　　-38　  |\n",
        "\n",
        "|　-18　　-51　　-48　|\n",
        "\n"
      ]
    },
    {
      "cell_type": "markdown",
      "metadata": {
        "id": "VtkxBlFQbTb-",
        "colab_type": "text"
      },
      "source": [
        "##【問題2】NumPyの関数による計算\n",
        "この行列積はNumPyのnp.matmul()やnp.dot()、または@演算子を使うことで簡単に計算できます。\n",
        "\n",
        "\n",
        "これらを使い行列積を計算してください\n",
        "\n",
        "《3種類の違い》\n",
        "\n",
        "\n",
        "np.matmul()とnp.dot()は3次元以上の配列で挙動が変わります。@演算子はnp.matmul()と同じ働きをします。\n",
        "\n",
        "\n",
        "今回のような2次元配列の行列積ではnp.matmul()や@演算子が公式に推奨されています。以下はnp.dot()の説明からの引用です。\n",
        "\n",
        "\n",
        "If both a and b are 2-D arrays, it is matrix multiplication, but using matmul or a @ b is preferred"
      ]
    },
    {
      "cell_type": "markdown",
      "metadata": {
        "id": "KdJlPH8cb9r2",
        "colab_type": "text"
      },
      "source": [
        "np.matmul()の場合"
      ]
    },
    {
      "cell_type": "code",
      "metadata": {
        "id": "42tVBt2ZbQ1f",
        "colab_type": "code",
        "colab": {
          "base_uri": "https://localhost:8080/",
          "height": 71
        },
        "outputId": "91cf8878-b103-454d-ae65-b1470ed0a024"
      },
      "source": [
        "np.matmul(a_ndarray, b_ndarray)"
      ],
      "execution_count": null,
      "outputs": [
        {
          "output_type": "execute_result",
          "data": {
            "text/plain": [
              "array([[  6,  29, -20],\n",
              "       [ 12,  52,  38],\n",
              "       [-18, -51, -48]])"
            ]
          },
          "metadata": {
            "tags": []
          },
          "execution_count": 7
        }
      ]
    },
    {
      "cell_type": "markdown",
      "metadata": {
        "id": "PXd-x0rOchjH",
        "colab_type": "text"
      },
      "source": [
        "np.dot()の場合"
      ]
    },
    {
      "cell_type": "code",
      "metadata": {
        "id": "39w87Pjgcj-3",
        "colab_type": "code",
        "colab": {
          "base_uri": "https://localhost:8080/",
          "height": 71
        },
        "outputId": "9d28b58f-06f6-42f8-ce53-ace3b50de1ef"
      },
      "source": [
        "np.dot(a_ndarray, b_ndarray)"
      ],
      "execution_count": null,
      "outputs": [
        {
          "output_type": "execute_result",
          "data": {
            "text/plain": [
              "array([[  6,  29, -20],\n",
              "       [ 12,  52,  38],\n",
              "       [-18, -51, -48]])"
            ]
          },
          "metadata": {
            "tags": []
          },
          "execution_count": 8
        }
      ]
    },
    {
      "cell_type": "markdown",
      "metadata": {
        "id": "Pdltdg0scoJ2",
        "colab_type": "text"
      },
      "source": [
        "@演算子の場合"
      ]
    },
    {
      "cell_type": "code",
      "metadata": {
        "id": "uCwVqInscs0F",
        "colab_type": "code",
        "colab": {
          "base_uri": "https://localhost:8080/",
          "height": 71
        },
        "outputId": "b41110cb-3930-445d-b820-940f2ecbbf1d"
      },
      "source": [
        "a_ndarray@b_ndarray"
      ],
      "execution_count": null,
      "outputs": [
        {
          "output_type": "execute_result",
          "data": {
            "text/plain": [
              "array([[  6,  29, -20],\n",
              "       [ 12,  52,  38],\n",
              "       [-18, -51, -48]])"
            ]
          },
          "metadata": {
            "tags": []
          },
          "execution_count": 9
        }
      ]
    },
    {
      "cell_type": "markdown",
      "metadata": {
        "id": "cIfEmB3EefoA",
        "colab_type": "text"
      },
      "source": [
        "np.matmul()やnp.dot()、または@演算子を使わずに、手計算で行った計算過程をNumPyによるスクラッチ実装で再現していきましょう。これにより、行列積の計算に対する理解を深めます。ここで考えるのは行列AとBのような次元が2の配列に限定します。"
      ]
    },
    {
      "cell_type": "markdown",
      "metadata": {
        "id": "znsz4v1ue1YF",
        "colab_type": "text"
      },
      "source": [
        "##【問題3】ある要素の計算を実装\n",
        "手計算をする際はまず行列Aの0行目と行列Bの0列目に注目し、以下の計算を行ったかと思います。\n",
        "\n",
        "1. 行列Aの(0,0)の要素 $a_{0, 0}$ と行列Bの(0,0)の要素 $b_{0, 0}$ を掛け合わせる\n",
        "2. 行列Aの(0,1)の要素 $a_{0, 1}$ と行列Bの(1,0)の要素 $b_{1, 0}$ を掛け合わせる\n",
        "3. 行列Aの(0,2)の要素 $a_{0, 2}$ と行列Bの(2,0)の要素 $b_{2, 0}$ を掛け合わせる\n",
        "4. それらの値を全て足し合わせる\n",
        "\n",
        "数式で表すと\n",
        "\n",
        "　　　　　　　$\\sum^{2}_{k=0}a_{0,k}b_{k,0}$\n",
        "\n",
        "\n",
        "です。\n",
        "\n",
        "\n",
        "この計算をnp.matmul()やnp.dot()、または@演算子を使わずに行うコードを書いてください。"
      ]
    },
    {
      "cell_type": "code",
      "metadata": {
        "id": "S66sIPdRfXAn",
        "colab_type": "code",
        "colab": {
          "base_uri": "https://localhost:8080/",
          "height": 35
        },
        "outputId": "d3f61b53-d7dc-4291-dbb7-612e5681bfba"
      },
      "source": [
        "n_ndarray = [a_ndarray[0][0]*b_ndarray[0][0] + a_ndarray[0][1]*b_ndarray[1][0] + a_ndarray[0][2]*b_ndarray[2][0]]\n",
        "n_ndarray"
      ],
      "execution_count": null,
      "outputs": [
        {
          "output_type": "execute_result",
          "data": {
            "text/plain": [
              "[6]"
            ]
          },
          "metadata": {
            "tags": []
          },
          "execution_count": 11
        }
      ]
    },
    {
      "cell_type": "markdown",
      "metadata": {
        "id": "go4NfsgxgZWI",
        "colab_type": "text"
      },
      "source": [
        "##【問題4】行列積を行う関数の作成\n",
        "問題3のコードを拡張し、行列積のスクラッチ実装を完成させてください。行列AとBを引数に受け取り、行列積を返す関数としてください。\n",
        "\n",
        "\n",
        "行列積を計算する場合は、問題3の計算を異なる行や列に対して繰り返していくことになります。\n",
        "\n",
        "\n",
        "計算結果である $3 \\times 3$ の行列Cの各要素 $c_{i, j}$ は数式で表すと次のようになります。\n",
        "\n",
        "$c_{i,j} = \\sum^{2}_{k=0}a_{i,k}b_{k,j}$\n",
        "\n",
        "for文を使い、ndarrayのインデックスを動かしていくことで、合計9つの要素が計算できます。インデックス $i$ や $j$ を1増やすと、次の行や列に移ることができます。\n",
        "\n",
        "\n",
        "![代替テキスト](https://t.gyazo.com/teams/diveintocode/129123df5242c9e768513f5e8b5ef24f.png)"
      ]
    },
    {
      "cell_type": "code",
      "metadata": {
        "id": "lbQEBnKFhsp-",
        "colab_type": "code",
        "colab": {
          "base_uri": "https://localhost:8080/",
          "height": 71
        },
        "outputId": "eda8999c-10c4-4121-8291-215a18679f18"
      },
      "source": [
        "def matrix_product(array_1,array_2):\n",
        "  array_3 = np.zeros((array_1.shape[0], array_2.shape[1])) #[0]で列 [1]で行\n",
        "  for i in range(array_1.shape[0]):\n",
        "    for j in range(array_2.shape[1]):\n",
        "      val = 0\n",
        "      for k in range(array_1.shape[1]):\n",
        "        val += array_1[i,k]*array_2[k,j]\n",
        "        array_3[i,j] = val\n",
        "  return array_3\n",
        "\n",
        "matrix_product(a_ndarray,b_ndarray)\n"
      ],
      "execution_count": 139,
      "outputs": [
        {
          "output_type": "execute_result",
          "data": {
            "text/plain": [
              "array([[  6.,  29., -20.],\n",
              "       [ 12.,  52.,  38.],\n",
              "       [-18., -51., -48.]])"
            ]
          },
          "metadata": {
            "tags": []
          },
          "execution_count": 139
        }
      ]
    },
    {
      "cell_type": "markdown",
      "metadata": {
        "id": "Ci6NKCYbo10e",
        "colab_type": "text"
      },
      "source": [
        "###行列積が定義されない組み合わせの行列\n",
        "次に以下のような例を考えます。\n",
        "\n",
        "　　　　　$% <![CDATA[\n",
        "D = \\left[\n",
        "    \\begin{array}{ccc}\n",
        "      -1 & 2 & 3 \\\\\n",
        "      4 & -5 & 6\n",
        "    \\end{array}\n",
        "  \\right],\n",
        "  E- = \\left[\n",
        "    \\begin{array}{ccc}\n",
        "       -9 & 8 & 7 \\\\\n",
        "      6 & -5 & 4\n",
        "    \\end{array}\n",
        "  \\right] %]]>$"
      ]
    },
    {
      "cell_type": "code",
      "metadata": {
        "id": "IRE4PQJ_pA6T",
        "colab_type": "code",
        "colab": {}
      },
      "source": [
        "d_ndarray = np.array([[-1, 2, 3], [4, -5, 6]])\n",
        "e_ndarray = np.array([[-9, 8, 7], [6, -5, 4]])"
      ],
      "execution_count": 43,
      "outputs": []
    },
    {
      "cell_type": "markdown",
      "metadata": {
        "id": "74P1u_gcpCnV",
        "colab_type": "text"
      },
      "source": [
        "行列積DEはDの列数とEの行数が等しい場合に定義されていますから、この例では計算ができません。"
      ]
    },
    {
      "cell_type": "markdown",
      "metadata": {
        "id": "5SVvnnyhGxbQ",
        "colab_type": "text"
      },
      "source": [
        "###行列積の定義\n",
        "行列の（一般的な）積：\n",
        "行列 $A=(a_{ij}),B=(b_{ij})$に対してその積 AB を\n",
        "$C=(c_{ij})$ ただし， $c_{ij}=\\displaystyle\\sum_{k=1}^na_{ik}b_{kj}$\n",
        "で定義する。ただし，A の列数と B の行数（=n とおく）が一致しているときのみ積AB は定義される。\n",
        "\n",
        "###結論\n",
        "行の個数と\n",
        "\n",
        "列の個数が等しいときに\n",
        "\n",
        "行と列の内積が定義されます。\n",
        "\n",
        "引用\n",
        "https://mathtrain.jp/matrixproduct"
      ]
    },
    {
      "cell_type": "markdown",
      "metadata": {
        "id": "SYs9hnO_EE9-",
        "colab_type": "text"
      },
      "source": [
        "##【問題5】計算が定義されない入力を判定する\n",
        "問題4で作成した関数は、実装方法によってはこのDとEの配列を入力しても動いてしまう可能性があります。この場合、不適切な計算が行われることになります。また、途中でエラーになる場合でも、なぜエラーになったかが直接的には分かりづらいメッセージが表示されます。\n",
        "\n",
        "\n",
        "if文などによってこれを防ぎ、入力される形に問題があることをprint()を使い表示するコードを書き加えてください。"
      ]
    },
    {
      "cell_type": "code",
      "metadata": {
        "id": "XP_um202E4GV",
        "colab_type": "code",
        "colab": {
          "base_uri": "https://localhost:8080/",
          "height": 53
        },
        "outputId": "e3831dcc-e337-4b45-bee5-9c0c0d4a0447"
      },
      "source": [
        "def matrix_product(array_1,array_2):\n",
        "  try:\n",
        "    \n",
        "    #行と列が等しいか判定\n",
        "    if array_1.shape[0] != array_2.shape[1]:\n",
        "      raise Exception\n",
        "\n",
        "      #行列積の計算\n",
        "    else:\n",
        "      array_3 = np.zeros((array_1.shape[0], array_2.shape[1])) #[0]で列 [1]で行\n",
        "      for i in range(array_1.shape[0]):\n",
        "        for j in range(array_2.shape[1]):\n",
        "          val = 0\n",
        "          for k in range(array_1.shape[1]):\n",
        "            val += array_1[i,k]*array_2[k,j]\n",
        "          array_3[i,j] = val\n",
        "      return array_3\n",
        "      \n",
        "  except Exception as e:\n",
        "    print(\"[ERROR]行の個数と列の個数が等しくないので積の計算はできません\")\n",
        "    print(type(e))\n",
        "\n",
        "matrix_product(d_ndarray,e_ndarray)"
      ],
      "execution_count": 136,
      "outputs": [
        {
          "output_type": "stream",
          "text": [
            "[ERROR]行の個数と列の個数が等しくないので積の計算はできません\n",
            "<class 'Exception'>\n"
          ],
          "name": "stdout"
        }
      ]
    },
    {
      "cell_type": "markdown",
      "metadata": {
        "id": "Hg1dDl0qObEe",
        "colab_type": "text"
      },
      "source": [
        "##【問題6】転置\n",
        "片方の行列を転置することで、行列積が計算できるようになります。\n",
        "\n",
        "\n",
        "np.transpose()や.Tアトリビュートを用いて転置し、行列積を計算してください。"
      ]
    },
    {
      "cell_type": "markdown",
      "metadata": {
        "id": "orKNXTwaQxRv",
        "colab_type": "text"
      },
      "source": [
        "np.transpose()の場合"
      ]
    },
    {
      "cell_type": "code",
      "metadata": {
        "id": "meowEVSzOj3a",
        "colab_type": "code",
        "colab": {
          "base_uri": "https://localhost:8080/",
          "height": 71
        },
        "outputId": "ae740cd3-ed35-460d-ba7c-0461260f740c"
      },
      "source": [
        "x = d_ndarray.transpose()\n",
        "\n",
        "matrix_product(x,e_ndarray)"
      ],
      "execution_count": 137,
      "outputs": [
        {
          "output_type": "execute_result",
          "data": {
            "text/plain": [
              "array([[ 33., -28.,   9.],\n",
              "       [-48.,  41.,  -6.],\n",
              "       [  9.,  -6.,  45.]])"
            ]
          },
          "metadata": {
            "tags": []
          },
          "execution_count": 137
        }
      ]
    },
    {
      "cell_type": "markdown",
      "metadata": {
        "id": "QCH6AWQaQ0QV",
        "colab_type": "text"
      },
      "source": [
        ".Tの場合"
      ]
    },
    {
      "cell_type": "code",
      "metadata": {
        "id": "7go4KS8QQ7tN",
        "colab_type": "code",
        "colab": {
          "base_uri": "https://localhost:8080/",
          "height": 53
        },
        "outputId": "5efe90a8-d7a1-4444-d8d2-8a64eab7119f"
      },
      "source": [
        "y = e_ndarray.T\n",
        "\n",
        "matrix_product(d_ndarray,y)"
      ],
      "execution_count": 138,
      "outputs": [
        {
          "output_type": "execute_result",
          "data": {
            "text/plain": [
              "array([[ 46.,  -4.],\n",
              "       [-34.,  73.]])"
            ]
          },
          "metadata": {
            "tags": []
          },
          "execution_count": 138
        }
      ]
    }
  ]
}