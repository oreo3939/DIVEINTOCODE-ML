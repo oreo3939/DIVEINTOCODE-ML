{
 "cells": [
  {
   "cell_type": "code",
   "execution_count": 1,
   "metadata": {},
   "outputs": [],
   "source": [
    "class ScratchSVMClassifier():\n",
    "    \"\"\"\n",
    "    SVM分類器のスクラッチ実装\n",
    "\n",
    "    Parameters\n",
    "    ----------\n",
    "    num_iter : int\n",
    "      イテレーション数\n",
    "    lr : float\n",
    "      学習率\n",
    "    kernel : str\n",
    "      カーネルの種類。線形カーネル（linear）か多項式カーネル（polly）\n",
    "    threshold : float\n",
    "      サポートベクターを選ぶための閾値\n",
    "    verbose : bool\n",
    "      学習過程を出力する場合はTrue\n",
    "\n",
    "    Attributes\n",
    "    ----------\n",
    "    self.n_support_vectors : int\n",
    "      サポートベクターの数\n",
    "    self.isv : 次の形のndarray, shape (n_support_vectors,)\n",
    "      サポートベクターのインデックス\n",
    "    self.X_sv :  次の形のndarray, shape(n_support_vectors, n_features)\n",
    "      サポートベクターの特徴量\n",
    "    self.lam_sv :  次の形のndarray, shape(n_support_vectors, 1)\n",
    "      サポートベクターの未定乗数\n",
    "    self.y_sv :  次の形のndarray, shape(n_support_vectors, 1)\n",
    "      サポートベクターのラベル\n",
    "\n",
    "    \"\"\"\n",
    "    def __init__(self, num_iter, lr, kernel='linear', threshold=1e-5, verbose=False, ganma=0.1):\n",
    "        # ハイパーパラメータを属性として記録\n",
    "        self.iter = num_iter\n",
    "        self.lr = lr\n",
    "        self.kernel = kernel\n",
    "        self.threshold = threshold\n",
    "        self.verbose = verbose\n",
    "        self.ganma = ganma\n",
    "        self.X_sv = []\n",
    "        self.y_sv = []\n",
    "        self.isv = []\n",
    "        \n",
    "    def fit(self, X, y, X_val=None, y_val=None):\n",
    "        \"\"\"\n",
    "        SVM分類器を学習する。検証データが入力された場合はそれに対する精度もイテレーションごとに計算する。\n",
    "\n",
    "        Parameters\n",
    "        ----------\n",
    "        X : 次の形のndarray, shape (n_samples, n_features)\n",
    "            訓練データの特徴量\n",
    "        y : 次の形のndarray, shape (n_samples, )\n",
    "            訓練データの正解値\n",
    "        X_val : 次の形のndarray, shape (n_samples, n_features)\n",
    "            検証データの特徴量\n",
    "        y_val : 次の形のndarray, shape (n_samples, )\n",
    "            検証データの正解値\n",
    "        \"\"\"\n",
    "        \n",
    "        \n",
    "        \n",
    "        \n",
    "        \n",
    "        \n",
    "        if self.verbose:\n",
    "            #verboseをTrueにした際は学習過程を出力\n",
    "            print()\n",
    "        pass\n",
    "    def predict(self, X):\n",
    "        \"\"\"\n",
    "        SVM分類器を使いラベルを推定する。\n",
    "\n",
    "        Parameters\n",
    "        ----------\n",
    "        X : 次の形のndarray, shape (n_samples, n_features)\n",
    "            サンプル\n",
    "\n",
    "        Returns\n",
    "        -------\n",
    "            次の形のndarray, shape (n_samples, 1)\n",
    "            SVM分類器による推定結果\n",
    "        \"\"\"\n",
    "        pass\n",
    "        return"
   ]
  },
  {
   "cell_type": "markdown",
   "metadata": {},
   "source": [
    "##【問題1】ラグランジュの未定乗数法による最急降下\n",
    "\n",
    "SVMの学習は、ラグランジュの未定乗数法を用います。サンプル数分のラグランジュ乗数 \n",
    "λ\n",
    " を用意して、以下の式により更新していきます。この計算を行うメソッドをScratchSVMClassifierクラスに実装してください。\n",
    "\n",
    "$$\n",
    "\\lambda_i^{new} = \\lambda_i + \\alpha(1 - \\sum_{j=1}^{n}{\\lambda_j y_i y_j k(x_i, x_j)})\n",
    "$$\n",
    "\n",
    "ここで \n",
    "$$\n",
    "k(x_i, x_j)\n",
    "$$\n",
    " はカーネル関数です。線形カーネルの場合は次のようになります。他のカーネル関数にも対応できるように、この部分は独立したメソッドとしておきましょう。\n",
    "\n",
    "$$\n",
    "k(x_i, x_j) = x_{i}^{T} x_j\n",
    "$$\n",
    "条件として、更新毎に \n",
    "$$\n",
    "\\lambda_i >= 0\n",
    "$$\n",
    "を満たす必要があります。満たさない場合は \n",
    "$$\n",
    "\\lambda_i = 0\n",
    "$$\n",
    "とします。\n",
    "\n",
    "\n",
    "i\n",
    ",\n",
    "j\n",
    " : サンプルのインデックス\n",
    "\n",
    "\n",
    "λ\n",
    "n\n",
    "e\n",
    "w\n",
    "i\n",
    " : 更新後のi番目のサンプルのラグランジュ乗数\n",
    "\n",
    "\n",
    "λ\n",
    "i\n",
    " : 更新前のi番目のサンプルのラグランジュ乗数\n",
    "\n",
    "\n",
    "α\n",
    " : 学習率\n",
    "\n",
    "\n",
    "λ\n",
    "j\n",
    " : j番目のサンプルのラグランジュ乗数\n",
    "\n",
    "\n",
    "y\n",
    "i\n",
    " : i番目のサンプルのラベル\n",
    "\n",
    "\n",
    "y\n",
    "j\n",
    " : j番目のサンプルのラベル\n",
    "\n",
    "\n",
    "x\n",
    "i\n",
    " : i番目のサンプルの特徴量ベクトル\n",
    "\n",
    "\n",
    "x\n",
    "j\n",
    " : j番目のサンプルの特徴量ベクトル\n",
    "\n",
    "\n",
    "あるサンプルに対しての全てのサンプルとの関係を計算していくことになります。"
   ]
  },
  {
   "cell_type": "code",
   "execution_count": 8,
   "metadata": {},
   "outputs": [],
   "source": [
    "import numpy as np"
   ]
  },
  {
   "cell_type": "code",
   "execution_count": null,
   "metadata": {},
   "outputs": [],
   "source": [
    "# lamda_new = lamda_i + a(1 - np.sum(lamda_j @ yi * yj * k(xi,xj)) "
   ]
  },
  {
   "cell_type": "code",
   "execution_count": 126,
   "metadata": {},
   "outputs": [],
   "source": [
    "# lamda_i = np.array([[4,9,2,1,5]])\n",
    "# a = 0.01\n",
    "# lamda_i + a\n"
   ]
  },
  {
   "cell_type": "code",
   "execution_count": 127,
   "metadata": {},
   "outputs": [],
   "source": [
    "# X = np.array([[1, 2],[3, 4], [5, 6], [7, 8], [9, 10]])\n",
    "# xi= X\n",
    "# xj = X\n",
    "# K = xi @ xj.T\n",
    "# K"
   ]
  },
  {
   "cell_type": "code",
   "execution_count": 128,
   "metadata": {},
   "outputs": [],
   "source": [
    "# y = np.array([1, -1, 1, -1, 1])\n",
    "# y = y.reshape(-1, 1)\n",
    "\n",
    "# yi = y\n",
    "# yj = y\n",
    "\n",
    "# Y = yi @ yj.T\n",
    "# Y"
   ]
  },
  {
   "cell_type": "code",
   "execution_count": 129,
   "metadata": {},
   "outputs": [],
   "source": [
    "# s = K * Y\n",
    "# s"
   ]
  },
  {
   "cell_type": "code",
   "execution_count": 130,
   "metadata": {},
   "outputs": [],
   "source": [
    "# lamda_j = np.array([[4,9,2,1,5]])\n",
    "# lamda_j = lamda_j @ s\n",
    "\n",
    "# print(lamda_j)\n",
    "# print(\"\\n\",np.sum(lamda_j))\n",
    "# print(\"\\n\",1 - np.sum(lamda_j))"
   ]
  },
  {
   "cell_type": "code",
   "execution_count": 131,
   "metadata": {},
   "outputs": [],
   "source": [
    "# lamda_i + a * (np.sum(lamda_j))"
   ]
  },
  {
   "cell_type": "code",
   "execution_count": null,
   "metadata": {},
   "outputs": [],
   "source": []
  },
  {
   "cell_type": "code",
   "execution_count": 2,
   "metadata": {},
   "outputs": [],
   "source": [
    "def lagrange(self, X, y):\n",
    "    for i in range(len(X)):\n",
    "        #初期化\n",
    "        lamda_sum = 0\n",
    "        for j in range(len(X)):\n",
    "            lamda_sum += self.lamda[j] * y[i] * y[j] * self.kernel(X[i], X[j])\n",
    "        self.lamda[i] += self.lr * (1 - lamda_sum)\n",
    "        \n",
    "        #0より小さい場合0とする\n",
    "        self.lamda[i] = np.where(self.lamda[i] <0 ,0, self.lamda[i])"
   ]
  },
  {
   "cell_type": "markdown",
   "metadata": {},
   "source": [
    "カーネル関数とは\n",
    "\n",
    "サンプル間の類似度を評価する関数である\n",
    "\n",
    "[引用](https://datachemeng.com/what_is_kernel/)\n",
    "\n",
    "\n",
    "多項式カーネル\n",
    "\n",
    "$$\n",
    "K(x_i, x_j) = (g\\space\\mathbf{x_i^T x_j+c})^d\n",
    "$$"
   ]
  },
  {
   "cell_type": "code",
   "execution_count": 4,
   "metadata": {},
   "outputs": [],
   "source": [
    "def kernel(self,Xi,Xj):\n",
    "    #線形カーネル\n",
    "    if self.kernel == \"linear\":\n",
    "        K = np.dot(Xi.T, Xj)\n",
    "        return L\n",
    "    #多項式カーネル\n",
    "    elif self.kernel == \"poly\":\n",
    "        c = 1\n",
    "        d = 2\n",
    "        K = (self.ganma*np.dot(Xi.T, Xj) + c)**d\n",
    "        return K\n",
    "    else:\n",
    "        print(\"kernelはlinearかpolyで\")"
   ]
  },
  {
   "cell_type": "code",
   "execution_count": null,
   "metadata": {},
   "outputs": [],
   "source": []
  },
  {
   "cell_type": "markdown",
   "metadata": {},
   "source": [
    "##【問題2】サポートベクターの決定\n",
    "\n",
    "計算したラグランジュ乗数 \n",
    "λ\n",
    " が設定した閾値より大きいサンプルをサポートベクターとして扱います。推定時にサポートベクターが必要になります。サポートベクターを決定し、インスタンス変数として保持しておくコードを書いてください。\n",
    "\n",
    "\n",
    "閾値はハイパーパラメータですが、1e-5程度からはじめると良いでしょう。サポートベクターの数を出力させられるようにしておくと学習がうまく行えているかを確認できます。"
   ]
  },
  {
   "cell_type": "code",
   "execution_count": 107,
   "metadata": {},
   "outputs": [],
   "source": [
    "def support_vec(self,X, y, lamda):\n",
    "#閾値より大きいlamdaがサポートベクトルになるのでindexを保持\n",
    "    ind = np.where(self.lamda > 0)[0]\n",
    "    self.isv = self.lamda[ind]\n",
    "    self.X_sv = X[ind]\n",
    "    self.y_sv = y[ind]"
   ]
  },
  {
   "cell_type": "markdown",
   "metadata": {},
   "source": [
    "fitに処理をいれるのもよいのでは？"
   ]
  },
  {
   "cell_type": "code",
   "execution_count": null,
   "metadata": {},
   "outputs": [],
   "source": []
  },
  {
   "cell_type": "markdown",
   "metadata": {},
   "source": [
    "##【問題3】推定\n",
    "\n",
    "推定時には、推定したいデータの特徴量とサポートベクターの特徴量をカーネル関数によって計算します。求めた \n",
    "f\n",
    "(\n",
    "x\n",
    ")\n",
    " の符号が分類結果です。\n",
    " \n",
    " $$\n",
    " f(x) = \\sum_{n=1}^{N}\\lambda_n y_{sv\\_n} k(x, s_n)\n",
    " $$\n",
    " \n",
    " x\n",
    " : 推定したいデータの特徴量ベクトル\n",
    "\n",
    "\n",
    "N\n",
    " : サポートベクターの数\n",
    "\n",
    "\n",
    "n\n",
    " : サポートベクターのインデックス\n",
    "\n",
    "\n",
    "λ\n",
    "n\n",
    " : \n",
    "n\n",
    "番目のサポートベクターのラグランジュ乗数\n",
    "\n",
    "\n",
    "y\n",
    "s\n",
    "v\n",
    "n\n",
    " : \n",
    "n\n",
    "番目のサポートベクターのラベル\n",
    "\n",
    "\n",
    "k\n",
    "(\n",
    ")\n",
    " : カーネル関数\n",
    "\n",
    "\n",
    "s\n",
    "n\n",
    " : \n",
    "n\n",
    "番目のサポートベクターの特徴量"
   ]
  },
  {
   "cell_type": "code",
   "execution_count": 109,
   "metadata": {},
   "outputs": [],
   "source": [
    "def predict(self,X):\n",
    "    f_x = 0\n",
    "    for i in range(len(self.isv)):\n",
    "        f_x += self.lamda[i] * self.y_sv[i] * self.kernel(X.T, self.X_sv[i].T)\n",
    "    return f_x \n",
    "    "
   ]
  },
  {
   "cell_type": "markdown",
   "metadata": {},
   "source": [
    "クラス化"
   ]
  },
  {
   "cell_type": "code",
   "execution_count": 488,
   "metadata": {},
   "outputs": [],
   "source": [
    "class ScratchSVMClassifier():\n",
    "    \"\"\"\n",
    "    SVM分類器のスクラッチ実装\n",
    "\n",
    "    Parameters\n",
    "    ----------\n",
    "    num_iter : int\n",
    "      イテレーション数\n",
    "    lr : float\n",
    "      学習率\n",
    "    kernel : str\n",
    "      カーネルの種類。線形カーネル（linear）か多項式カーネル（polly）\n",
    "    threshold : float\n",
    "      サポートベクターを選ぶための閾値\n",
    "    verbose : bool\n",
    "      学習過程を出力する場合はTrue\n",
    "\n",
    "    Attributes\n",
    "    ----------\n",
    "    self.n_support_vectors : int\n",
    "      サポートベクターの数\n",
    "    self.isv : 次の形のndarray, shape (n_support_vectors,)\n",
    "      サポートベクターのインデックス\n",
    "    self.X_sv :  次の形のndarray, shape(n_support_vectors, n_features)\n",
    "      サポートベクターの特徴量\n",
    "    self.lam_sv :  次の形のndarray, shape(n_support_vectors, 1)\n",
    "      サポートベクターの未定乗数\n",
    "    self.y_sv :  次の形のndarray, shape(n_support_vectors, 1)\n",
    "      サポートベクターのラベル\n",
    "\n",
    "    \"\"\"\n",
    "    def __init__(self, num_iter, lr, kernel, threshold=1e-5, verbose=False, p = {\"g\":1,\"theta\":1,\"d\":2}):\n",
    "        # ハイパーパラメータを属性として記録\n",
    "        self.iter = num_iter\n",
    "        self.lr = lr\n",
    "        self.kernel = kernel\n",
    "        self.threshold = threshold\n",
    "        self.verbose = verbose\n",
    "        self.X_sv = []\n",
    "        self.y_sv = []\n",
    "        self.lam_sv = []\n",
    "        #polyの時のパラメーター\n",
    "        if self.kernel == \"poly\":\n",
    "            self.theta = p[\"theta\"]\n",
    "            self.d = p[\"d\"]\n",
    "            self.ganma = p[\"g\"]\n",
    "        \n",
    "    def fit(self, X, y, X_val=None, y_val=None):\n",
    "        \"\"\"\n",
    "        SVM分類器を学習する。検証データが入力された場合はそれに対する精度もイテレーションごとに計算する。\n",
    "        \"\"\"\n",
    "        \n",
    "        self.lamda = np.random.rand(X.shape[0],1)\n",
    "        for i in range(self.iter):\n",
    "            self.lagrange(X, y)\n",
    "            \n",
    "        ind = np.where(self.lamda > self.threshold)[0]\n",
    "        self.X_sv = X[ind]\n",
    "        self.lam_sv = self.lamda[ind]\n",
    "        self.y_sv = y[ind]\n",
    "        \n",
    "        if self.verbose:\n",
    "            #verboseをTrueにした際は学習過程を出力\n",
    "            print()          \n",
    "            \n",
    "    def lagrange(self, X, y):\n",
    "        for i in range(len(X)):\n",
    "            #初期化\n",
    "            lamda_sum = 0\n",
    "            for j in range(len(X)):\n",
    "                lamda_sum += self.lamda[j] * y[i] * y[j] * self.kernel_func(X[i], X[j])\n",
    "            self.lamda[i] += self.lr * (1 - lamda_sum)\n",
    "            #0より小さい場合0とする\n",
    "#             self.lamda[i] = np.where(self.lamda[i] <0 ,0, self.lamda[i])\n",
    "            if self.lamda[i] < 0:\n",
    "                self.lamda[i] = 0\n",
    "                \n",
    "    def kernel_func(self,Xi,Xj):\n",
    "        #線形カーネル\n",
    "        if self.kernel == \"linear\":\n",
    "            K = Xi @ Xj.T\n",
    "            return K\n",
    "        #多項式カーネル\n",
    "        elif self.kernel == \"poly\":\n",
    "            K = (self.ganma * (Xi @ Xj.T) + self.theta)** self.d\n",
    "            return K\n",
    "        else:\n",
    "            print(\"kernelはlinearかpolyで\")           \n",
    "        \n",
    "    def predict(self,X):\n",
    "        fx = np.sum(self.lam_sv.T * self.y_sv.T * self.kernel_func(X, self.X_sv), axis=1)\n",
    "        # 値を1or-1に置換\n",
    "\n",
    "        return np.where(fx >= 0, 1, -1)"
   ]
  },
  {
   "cell_type": "markdown",
   "metadata": {},
   "source": [
    "##【問題4】学習と推定\n",
    "\n",
    "機械学習スクラッチ入門のSprintで用意したシンプルデータセット1の2値分類に対してスクラッチ実装の学習と推定を行なってください。\n",
    "\n",
    "\n",
    "scikit-learnによる実装と比べ、正しく動いているかを確認してください。\n",
    "\n",
    "\n",
    "AccuracyやPrecision、Recallなどの指標値はscikit-learnを使用してください。"
   ]
  },
  {
   "cell_type": "code",
   "execution_count": 329,
   "metadata": {},
   "outputs": [],
   "source": [
    "from sklearn.datasets import load_iris\n",
    "from sklearn.model_selection import train_test_split\n",
    "from sklearn.preprocessing import StandardScaler\n",
    "from sklearn.metrics import accuracy_score, precision_score, recall_score\n",
    "from sklearn.svm import SVC\n",
    "import pandas as pd\n",
    "import matplotlib.pyplot as plt"
   ]
  },
  {
   "cell_type": "code",
   "execution_count": 330,
   "metadata": {},
   "outputs": [],
   "source": [
    "def measurement(y_test,y_pred):\n",
    "    print(\"正解率:{}\".format(accuracy_score(y_test, y_pred)))\n",
    "    print(\"適合率:{}\".format(precision_score(y_test, y_pred)))\n",
    "    print(\"再現率:{}\".format(recall_score(y_test, y_pred)))"
   ]
  },
  {
   "cell_type": "code",
   "execution_count": 422,
   "metadata": {},
   "outputs": [],
   "source": [
    "#シンプルデータ1\n",
    "np.random.seed(seed=0)\n",
    "n_samples = 500\n",
    "f0 = [-1, 2]\n",
    "f1 = [2, -1]\n",
    "cov = [[1.0,0.8], [0.8, 1.0]]\n",
    "f0 = np.random.multivariate_normal(f0, cov, int(n_samples/2))\n",
    "f1 = np.random.multivariate_normal(f1, cov, int(n_samples/2))\n",
    "X = np.concatenate((f0, f1))\n",
    "y = np.concatenate((np.ones((int(n_samples/2))), np.ones((int(n_samples/2))) *(-1))).astype(np.int)\n",
    "random_index = np.random.permutation(np.arange(n_samples))\n",
    "X = X[random_index]\n",
    "y = y[random_index]"
   ]
  },
  {
   "cell_type": "markdown",
   "metadata": {},
   "source": [
    "###スクラッチ"
   ]
  },
  {
   "cell_type": "code",
   "execution_count": 423,
   "metadata": {
    "scrolled": true
   },
   "outputs": [],
   "source": [
    "X_train, X_test, y_train, y_test = train_test_split(X, y)\n",
    "#標準化\n",
    "scaler = StandardScaler()\n",
    "scaler.fit(X_train)\n",
    "X_train_scaled = scaler.transform(X_train)\n",
    "X_test_scaled = scaler.transform(X_test)"
   ]
  },
  {
   "cell_type": "code",
   "execution_count": 473,
   "metadata": {},
   "outputs": [],
   "source": [
    "#学習\n",
    "svm = ScratchSVMClassifier(num_iter=1000, lr=1e-3, kernel=\"linear\")\n",
    "svm.fit(X_train_scaled, y_train)\n",
    "#推定\n",
    "svm_pred = svm.predict(X_test_scaled)"
   ]
  },
  {
   "cell_type": "code",
   "execution_count": 474,
   "metadata": {},
   "outputs": [
    {
     "name": "stdout",
     "output_type": "stream",
     "text": [
      "[-1  1 -1  1 -1 -1 -1 -1  1 -1 -1 -1  1  1 -1 -1 -1  1 -1 -1 -1  1 -1 -1\n",
      " -1  1 -1  1  1  1  1  1 -1  1 -1  1 -1  1  1  1 -1 -1  1  1 -1  1 -1 -1\n",
      " -1 -1 -1  1  1  1 -1  1 -1  1  1 -1 -1 -1 -1  1 -1  1  1 -1 -1  1  1  1\n",
      "  1 -1  1  1  1  1 -1  1 -1 -1 -1 -1 -1 -1  1 -1  1 -1  1  1 -1 -1  1 -1\n",
      "  1 -1  1  1  1 -1  1  1  1 -1  1  1  1  1 -1 -1 -1 -1  1  1  1  1 -1 -1\n",
      "  1  1  1  1 -1]\n"
     ]
    }
   ],
   "source": [
    "print(svm_pred)"
   ]
  },
  {
   "cell_type": "code",
   "execution_count": 475,
   "metadata": {},
   "outputs": [
    {
     "name": "stdout",
     "output_type": "stream",
     "text": [
      "[-1  1 -1  1 -1 -1 -1 -1  1 -1 -1 -1  1  1 -1 -1 -1  1 -1 -1 -1  1 -1 -1\n",
      " -1  1 -1  1  1  1  1  1 -1  1 -1  1 -1  1  1  1 -1 -1  1  1 -1  1 -1 -1\n",
      " -1 -1 -1  1  1  1 -1  1 -1  1  1 -1 -1 -1 -1  1 -1  1  1 -1 -1  1  1  1\n",
      "  1 -1  1  1  1  1 -1  1 -1 -1 -1 -1 -1 -1  1 -1  1 -1  1  1 -1 -1  1 -1\n",
      "  1 -1  1  1  1 -1  1  1  1 -1  1  1  1  1 -1 -1 -1 -1  1  1  1  1 -1 -1\n",
      "  1  1  1  1 -1]\n"
     ]
    }
   ],
   "source": [
    "print(y_test)"
   ]
  },
  {
   "cell_type": "code",
   "execution_count": 476,
   "metadata": {},
   "outputs": [
    {
     "name": "stdout",
     "output_type": "stream",
     "text": [
      "正解率:1.0\n",
      "適合率:1.0\n",
      "再現率:1.0\n"
     ]
    }
   ],
   "source": [
    "measurement(y_test,svm_pred)"
   ]
  },
  {
   "cell_type": "markdown",
   "metadata": {},
   "source": [
    "###sklearn"
   ]
  },
  {
   "cell_type": "code",
   "execution_count": 478,
   "metadata": {},
   "outputs": [
    {
     "name": "stdout",
     "output_type": "stream",
     "text": [
      "正解率:1.0\n",
      "適合率:1.0\n",
      "再現率:1.0\n"
     ]
    }
   ],
   "source": [
    "#学習\n",
    "svc = SVC(gamma='auto')\n",
    "svc.fit(X_train_scaled, y_train)   \n",
    "#推定\n",
    "svc_pred = svc.predict(X_test_scaled)\n",
    "measurement(y_test,svc_pred)"
   ]
  },
  {
   "cell_type": "markdown",
   "metadata": {},
   "source": [
    "なんとか同じになった\n",
    "\n",
    "うまく動かなかった原因はpredictの数式をうまく落とし込めなかったこと"
   ]
  },
  {
   "cell_type": "code",
   "execution_count": null,
   "metadata": {},
   "outputs": [],
   "source": []
  },
  {
   "cell_type": "markdown",
   "metadata": {},
   "source": [
    "##【問題5】決定領域の可視化\n",
    "\n",
    "決定領域を可視化してください。\n",
    "\n",
    "\n",
    "以下の例のようにサポートベクターは異なる色で示してください。\n",
    "\n",
    "\n",
    "![代替テキスト](https://t.gyazo.com/teams/diveintocode/ee4a9ab721afe0b964aecf64b3058989.png)\n",
    "\n"
   ]
  },
  {
   "cell_type": "code",
   "execution_count": 479,
   "metadata": {},
   "outputs": [],
   "source": [
    "from matplotlib.colors import ListedColormap\n",
    "import matplotlib.patches as mpatches\n",
    "\n",
    "def decision_region(X, y, model, step=0.01, title='decision region',\n",
    "                    xlabel='sepal_length', ylabel='petal_length', target_names=['versicolor', 'virginica']):\n",
    "    \"\"\"\n",
    "    2値分類を2次元の特徴量で学習したモデルの決定領域を描く。\n",
    "    背景の色が学習したモデルによる推定値から描画される。\n",
    "    散布図の点は訓練データまたは検証データである。\n",
    "\n",
    "    Parameters\n",
    "    ----------------\n",
    "    X : ndarray, shape(n_samples, 2)\n",
    "        特徴量\n",
    "    y : ndarray, shape(n_samples,)\n",
    "        ラベル\n",
    "    model : object\n",
    "        学習したモデルのインスンタスを入れる\n",
    "    step : float, (default : 0.1)\n",
    "        推定値を計算する間隔を設定する\n",
    "    title : str\n",
    "        グラフのタイトルの文章を与える\n",
    "    xlabel, ylabel : str\n",
    "        軸ラベルの文章を与える\n",
    "    target_names= : list of str\n",
    "        凡例の一覧を与える\n",
    "    \"\"\"\n",
    "    # setting\n",
    "    scatter_color = ['red', 'blue']\n",
    "    contourf_color = ['pink', 'skyblue']\n",
    "    n_class = 2\n",
    "    # pred\n",
    "    mesh_f0, mesh_f1  = np.meshgrid(np.arange(np.min(X[:,0])-0.5,\n",
    "                                              np.max(X[:,0])+0.5, step),\n",
    "                                    np.arange(np.min(X[:,1])-0.5,\n",
    "                                              np.max(X[:,1])+0.5, step))\n",
    "\n",
    "    mesh = np.c_[np.ravel(mesh_f0),np.ravel(mesh_f1)]\n",
    "    y_pred = model.predict(mesh).reshape(mesh_f0.shape)\n",
    "    plt.title(title)\n",
    "    plt.xlabel(xlabel)\n",
    "    plt.ylabel(ylabel)\n",
    "    plt.contourf(mesh_f0, mesh_f1, y_pred, n_class-1, cmap=ListedColormap(contourf_color))\n",
    "    plt.contour(mesh_f0, mesh_f1, y_pred, n_class-1, colors='y', linewidths=3, alpha=0.5)\n",
    "    for i, target in enumerate(set(y)):\n",
    "        plt.scatter(X[y==target][:, 0], X[y==target][:, 1], s=80,\n",
    "                    color=scatter_color[i], label=target_names[i], marker='o')\n",
    "    patches = [mpatches.Patch(color=scatter_color[i], label=target_names[i]) for i in range(n_class)]\n",
    "    #サポートベクター追加\n",
    "    plt.scatter(model.X_sv[:, 0], model.X_sv[:, 1], s=80, \n",
    "                color='yellow', marker='*', alpha=.9, label= \"support_vec\")\n",
    "    plt.legend(handles=patches)\n",
    "    plt.legend()\n",
    "    plt.show()"
   ]
  },
  {
   "cell_type": "code",
   "execution_count": 484,
   "metadata": {},
   "outputs": [
    {
     "name": "stdout",
     "output_type": "stream",
     "text": [
      "[ 0.31369184 -0.50179779 -0.97854994 -1.02829008  0.67098941]\n",
      "\n",
      " [ 1.90748822  0.74466058  0.34188908  0.23898594 -0.58384118]\n"
     ]
    }
   ],
   "source": [
    "print(svm.X_sv[:,0])\n",
    "print(\"\\n\",svm.X_sv[:,1])"
   ]
  },
  {
   "cell_type": "code",
   "execution_count": 480,
   "metadata": {},
   "outputs": [
    {
     "data": {
      "image/png": "[encoded data removed]",
      "text/plain": [
       "<Figure size 432x288 with 1 Axes>"
      ]
     },
     "metadata": {
      "needs_background": "light"
     },
     "output_type": "display_data"
    }
   ],
   "source": [
    "decision_region(X_test_scaled, y_test, svm)"
   ]
  },
  {
   "cell_type": "markdown",
   "metadata": {},
   "source": [
    "サポートベクターが偏る\n",
    "\n",
    "なんでだ？"
   ]
  },
  {
   "cell_type": "code",
   "execution_count": null,
   "metadata": {},
   "outputs": [],
   "source": []
  },
  {
   "cell_type": "markdown",
   "metadata": {},
   "source": [
    "##【問題6】（アドバンス課題）多項式カーネル関数の作成\n",
    "\n",
    "最初に作成した実装では線形カーネルを使用していました。多項式カーネルにも切り替えられるようにしましょう。\n",
    "\n",
    "\n",
    "「線形カーネルの式」\n",
    "\n",
    "$$\n",
    "k(x_i, x_j) = x_{i}^{T} x_j\n",
    "$$\n",
    "\n",
    "「多項式カーネルの式」\n",
    "\n",
    "$$\n",
    "k(x_i, x_j) = ({\\gamma}x_{i}^{T} x_j + \\theta_0)^{d}\n",
    "$$\n",
    "\n",
    "$$\\gamma,\\theta_0,d$$\n",
    "\n",
    " はハイパーパラメータです。\n",
    "\n",
    "\n",
    "線形カーネルは \n",
    "$$\\gamma = 1, \\theta_0 = 0, d = 1$$ \n",
    "の場合の多項式カーネルと等しいと言えます。"
   ]
  },
  {
   "cell_type": "markdown",
   "metadata": {},
   "source": [
    "デフォルト \n",
    "\n",
    "$$\\gamma = 1, \\theta_0 = 1, d = 2$$ "
   ]
  },
  {
   "cell_type": "code",
   "execution_count": 496,
   "metadata": {},
   "outputs": [],
   "source": [
    "svc2 = ScratchSVMClassifier(num_iter=100, lr=1e-3, kernel= \"poly\")\n",
    "svc2.fit(X_train, y_train)\n",
    "#推定\n",
    "svc_pred2 = svc2.predict(X_test)"
   ]
  },
  {
   "cell_type": "code",
   "execution_count": 499,
   "metadata": {},
   "outputs": [
    {
     "name": "stdout",
     "output_type": "stream",
     "text": [
      "多項式カーネルのサポートベクター:[[ 0.31731679  2.22551981]\n",
      " [ 0.34098075 -4.07908535]\n",
      " [-0.51274884  1.43945252]\n",
      " [ 0.31369184  1.90748822]\n",
      " [ 0.17828141 -3.6307311 ]\n",
      " [-0.50179779  0.74466058]\n",
      " [ 0.66471083 -1.44205469]\n",
      " [ 0.9829958  -0.6091934 ]\n",
      " [-0.97854994  0.34188908]\n",
      " [-1.02829008  0.23898594]\n",
      " [ 0.46861035  2.21584467]\n",
      " [-2.85048086 -0.52089373]\n",
      " [ 0.14096048  1.74864676]\n",
      " [ 0.41275164 -2.09026238]\n",
      " [-1.76320579 -0.07237927]\n",
      " [ 0.31304912 -2.82240177]\n",
      " [-0.17684562  1.7631565 ]\n",
      " [ 2.23281686  0.05364661]\n",
      " [ 0.67098941 -0.58384118]\n",
      " [ 0.39434525  3.10241351]\n",
      " [-0.10904637  1.99482352]]\n",
      "線形カーネルのサポートベクター:[[ 0.31369184  1.90748822]\n",
      " [-0.50179779  0.74466058]\n",
      " [-0.97854994  0.34188908]\n",
      " [-1.02829008  0.23898594]\n",
      " [ 0.67098941 -0.58384118]]\n"
     ]
    }
   ],
   "source": [
    "print(\"多項式カーネルのサポートベクター:{}\".format(svc2.X_sv))\n",
    "print(\"線形カーネルのサポートベクター:{}\".format(svm.X_sv))"
   ]
  },
  {
   "cell_type": "markdown",
   "metadata": {},
   "source": [
    "サポートベクターの特徴量の数が大きく異なる"
   ]
  },
  {
   "cell_type": "code",
   "execution_count": 500,
   "metadata": {},
   "outputs": [
    {
     "name": "stdout",
     "output_type": "stream",
     "text": [
      "正解率:1.0\n",
      "適合率:1.0\n",
      "再現率:1.0\n"
     ]
    }
   ],
   "source": [
    "measurement(y_test,svc_pred2)"
   ]
  },
  {
   "cell_type": "code",
   "execution_count": 502,
   "metadata": {},
   "outputs": [
    {
     "data": {
      "image/png": "[encoded data removed]",
      "text/plain": [
       "<Figure size 432x288 with 1 Axes>"
      ]
     },
     "metadata": {
      "needs_background": "light"
     },
     "output_type": "display_data"
    },
    {
     "data": {
      "image/png": "[encoded data removed]",
      "text/plain": [
       "<Figure size 432x288 with 1 Axes>"
      ]
     },
     "metadata": {
      "needs_background": "light"
     },
     "output_type": "display_data"
    }
   ],
   "source": [
    "decision_region(X_train, y_train, svm)\n",
    "decision_region(X_train, y_train, svc2)"
   ]
  },
  {
   "cell_type": "markdown",
   "metadata": {},
   "source": [
    "デフォルトパラメータ変更"
   ]
  },
  {
   "cell_type": "code",
   "execution_count": 503,
   "metadata": {},
   "outputs": [],
   "source": [
    "svc3 = ScratchSVMClassifier(num_iter=100, lr=1e-3, kernel= \"poly\", p={\"g\":2,\"theta\":2,\"d\":3})\n",
    "svc3.fit(X_train, y_train)\n",
    "#推定\n",
    "svc_pred3 = svc3.predict(X_test)"
   ]
  },
  {
   "cell_type": "code",
   "execution_count": 504,
   "metadata": {},
   "outputs": [
    {
     "name": "stdout",
     "output_type": "stream",
     "text": [
      "多項式カーネルのサポートベクター(svc2):[[ 0.31731679  2.22551981]\n",
      " [ 0.34098075 -4.07908535]\n",
      " [-0.51274884  1.43945252]\n",
      " [ 0.31369184  1.90748822]\n",
      " [ 0.17828141 -3.6307311 ]\n",
      " [-0.50179779  0.74466058]\n",
      " [ 0.66471083 -1.44205469]\n",
      " [ 0.9829958  -0.6091934 ]\n",
      " [-0.97854994  0.34188908]\n",
      " [-1.02829008  0.23898594]\n",
      " [ 0.46861035  2.21584467]\n",
      " [-2.85048086 -0.52089373]\n",
      " [ 0.14096048  1.74864676]\n",
      " [ 0.41275164 -2.09026238]\n",
      " [-1.76320579 -0.07237927]\n",
      " [ 0.31304912 -2.82240177]\n",
      " [-0.17684562  1.7631565 ]\n",
      " [ 2.23281686  0.05364661]\n",
      " [ 0.67098941 -0.58384118]\n",
      " [ 0.39434525  3.10241351]\n",
      " [-0.10904637  1.99482352]]\n",
      "多項式カーネルのサポートベクター(svc3):[[-0.50179779  0.74466058]\n",
      " [-0.97854994  0.34188908]\n",
      " [-1.02829008  0.23898594]\n",
      " [ 0.67098941 -0.58384118]]\n"
     ]
    }
   ],
   "source": [
    "print(\"多項式カーネルのサポートベクター(svc2):{}\".format(svc2.X_sv))\n",
    "print(\"多項式カーネルのサポートベクター(svc3):{}\".format(svc3.X_sv))"
   ]
  },
  {
   "cell_type": "markdown",
   "metadata": {},
   "source": [
    "svc3のサポートベクターの数が想像より少ない"
   ]
  },
  {
   "cell_type": "code",
   "execution_count": 505,
   "metadata": {},
   "outputs": [
    {
     "name": "stdout",
     "output_type": "stream",
     "text": [
      "正解率:1.0\n",
      "適合率:1.0\n",
      "再現率:1.0\n"
     ]
    }
   ],
   "source": [
    "measurement(y_test,svc_pred3)"
   ]
  },
  {
   "cell_type": "code",
   "execution_count": 506,
   "metadata": {},
   "outputs": [
    {
     "data": {
      "image/png": "[encoded data removed]",
      "text/plain": [
       "<Figure size 432x288 with 1 Axes>"
      ]
     },
     "metadata": {
      "needs_background": "light"
     },
     "output_type": "display_data"
    },
    {
     "data": {
      "image/png": "[encoded data removed]",
      "text/plain": [
       "<Figure size 432x288 with 1 Axes>"
      ]
     },
     "metadata": {
      "needs_background": "light"
     },
     "output_type": "display_data"
    }
   ],
   "source": [
    "decision_region(X_train, y_train, svc2)\n",
    "decision_region(X_train, y_train, svc3)"
   ]
  },
  {
   "cell_type": "markdown",
   "metadata": {},
   "source": [
    "svc2のサポートベクターがきれいに分けられていると思う"
   ]
  }
 ],
 "metadata": {
  "kernelspec": {
   "display_name": "Python 3",
   "language": "python",
   "name": "python3"
  },
  "language_info": {
   "codemirror_mode": {
    "name": "ipython",
    "version": 3
   },
   "file_extension": ".py",
   "mimetype": "text/x-python",
   "name": "python",
   "nbconvert_exporter": "python",
   "pygments_lexer": "ipython3",
   "version": "3.7.6"
  },
  "toc": {
   "base_numbering": 1,
   "nav_menu": {},
   "number_sections": true,
   "sideBar": true,
   "skip_h1_title": false,
   "title_cell": "Table of Contents",
   "title_sidebar": "Contents",
   "toc_cell": false,
   "toc_position": {},
   "toc_section_display": true,
   "toc_window_display": true
  }
 },
 "nbformat": 4,
 "nbformat_minor": 4
}
