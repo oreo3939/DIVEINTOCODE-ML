{
 "cells": [
  {
   "cell_type": "markdown",
   "metadata": {
    "toc": true
   },
   "source": [
    "<h1>Table of Contents<span class=\"tocSkip\"></span></h1>\n",
    "<div class=\"toc\"><ul class=\"toc-item\"></ul></div>"
   ]
  },
  {
   "cell_type": "markdown",
   "metadata": {},
   "source": [
    "決定木学習は 決定木 と呼ばれる 木構造のグラフ を作る機械学習手法です。機械学習の分野では学習手法も単に「決定木」と呼ばれます。\n",
    "\n",
    "\n",
    "分類にも回帰にも使え、分類の場合3クラス以上の多値分類が可能です。ここでは基本となる分類のみを扱います。"
   ]
  },
  {
   "cell_type": "markdown",
   "metadata": {},
   "source": [
    "決定木とは\n",
    "\n",
    "決定木は、属性 と 値 の組｛属性1：値1，属性2：値2, 属性3：値3,…，属性n：値n｝によって表現されたデータを、条件分岐を繰り返すことであるクラスに割り当てることができる木構造のグラフです。\n",
    "\n",
    "\n",
    "以下の例は会場の気温という属性の値によって、開催と中止のクラスに割り当てるグラフです。「会場の気温という属性の値は35以上かどうか」という条件分岐1回による決定木による分類が行えます。例えば36度がこの決定木にインプットされれば、中止というアウトプット（判断）ができます。\n",
    "\n",
    "![](https://t.gyazo.com/teams/diveintocode/ca1760b9db2eff08bc82102db1bf7eea.png)\n",
    "\n",
    "なお、「属性と値」は機械学習の分野では「特徴量の名前と特徴量の値」のことです。これ以降は単に特徴量という呼びます。"
   ]
  },
  {
   "cell_type": "markdown",
   "metadata": {},
   "source": [
    "各種用語\n",
    "\n",
    "もう少し複雑な例で決定木で重要な用語を確認します。特徴量が「雨量」「屋内かどうか」「風の強さ」の3種類で、イベントの開催か中止かを分類する場合で考えてみます。訓練データを学習することで、以下のような決定木が作れます。\n",
    "\n",
    "![](https://t.gyazo.com/teams/diveintocode/c927a798dc2292cc05663301dde78632.png)\n",
    "\n",
    "丸で囲われたひとつひとつを ノード と呼びます。ノードには親子関係を考えることができ、例えば(0)のノードは(1)(2)(3)のノードの 親ノード と呼びます。逆に、(1)(2)(3)のノードは(0)のノードの 子ノード と呼びます。\n",
    "\n",
    "\n",
    "一番上の(0)は 根ノード 、 末端の(1)(4)(5)(7)(8)(9)のような分類結果を表すノードは 葉ノード と呼びます。\n",
    "\n",
    "\n",
    "条件分岐の矢印は エッジ と呼びます。あるノードから根ノードまでのエッジの数が 深さ です。(3)の深さは1、(6)の深さは2、(9)の深さは3という風になります。この決定木の最大の深さは3です。\n",
    "\n",
    "\n",
    "これは(0)に対して(1)(2)(3)の3つのノードが分かれている多岐分岐の決定木ですが、機械学習では2つにしか分かれないものが一般的です。学習時の複雑さを減らすためです。"
   ]
  },
  {
   "cell_type": "markdown",
   "metadata": {},
   "source": [
    "どう決定木を作るか\n",
    "\n",
    "決定木の学習には様々なやり方が存在しますが、その中のある方法についてスクラッチを行いながら見ていきます。\n",
    "\n",
    "\n",
    "学習方法やハイパーパラメータ、訓練データ次第で作られる決定木は異なってきます。"
   ]
  },
  {
   "cell_type": "markdown",
   "metadata": {},
   "source": [
    "推定を考える\n",
    "\n",
    "以下の場合、イベントは開催されるでしょうか。決定木を使って判断してください。\n",
    "\n",
    "\n",
    "雨量2.5mm     \t屋内かどうか 1（屋内）\t風の強さ[m/s]  5\n",
    "\n",
    "答えは「開催」です。以下の赤線の順でたどっていきます。\n",
    "\n",
    "![](https://t.gyazo.com/teams/diveintocode/3abf4302fd28b9c58e9c4f86e5878661.png)\n",
    "\n",
    "これが決定木による推定の操作になります。"
   ]
  },
  {
   "cell_type": "markdown",
   "metadata": {},
   "source": [
    "扱える特徴量\n",
    "\n",
    "決定木は理論上は量的変数だけでなく、カテゴリ変数も扱えます。しかし、scikit-learnの実装では量的変数のみに対応していますので、スクラッチ実装もそのように作成します。上記の例ですと「会場の種類」で「屋内と屋外」ですとカテゴリ変数ですが、「屋内かどうか」で「0と1」と量的変数にすることで扱えるようにしています。"
   ]
  },
  {
   "cell_type": "markdown",
   "metadata": {},
   "source": [
    "分類のための決定木のクラスをスクラッチで作成していきます。NumPyなど最低限のライブラリのみを使いアルゴリズムを実装していきます。\n",
    "\n",
    "\n",
    "決定木の学習には何回まで条件分岐を繰り返すかを表す （最大の）深さ というハイパーパラメータが登場しますが、深さ1の実装を必須課題とします。深さが2以上のものはアドバンス課題とします。\n",
    "\n",
    "\n",
    "学習の仕方には様々な方法がありますが、ここではscikit-learnでも使用されている CART法 をベースとした実装を行います。この方法では学習の複雑さを減らすために、 分岐は2つに分かれるのみ になります。\n",
    "\n",
    "\n",
    "以下に雛形を用意してあります。このScratchDecesionTreeClassifierDepth1クラスにコードを書き加えていってください"
   ]
  },
  {
   "cell_type": "code",
   "execution_count": 13,
   "metadata": {},
   "outputs": [],
   "source": [
    "class ScratchDecesionTreeClassifierDepth1():\n",
    "    \"\"\"\n",
    "    深さ1の決定木分類器のスクラッチ実装\n",
    "\n",
    "    Parameters\n",
    "    ----------\n",
    "    left : 左のノード\n",
    "    right : 右のノード\n",
    "    threshold　= 閾値\n",
    "    verbose : bool\n",
    "      学習過程を出力する場合はTrue\n",
    "    \"\"\"\n",
    "    def __init__(self, verbose=False):\n",
    "        # ハイパーパラメータを属性として記録\n",
    "        self.left = None\n",
    "        self.right = None\n",
    "        self.threshold = None\n",
    "        self.verbose = verbose\n",
    "    def fit(self, X, y):\n",
    "        \"\"\"\n",
    "        決定木分類器を学習する\n",
    "        Parameters\n",
    "        ----------\n",
    "        X : 次の形のndarray, shape (n_samples, n_features)\n",
    "            訓練データの特徴量\n",
    "        y : 次の形のndarray, shape (n_samples, )\n",
    "            訓練データの正解値\n",
    "        \"\"\"\n",
    "        if self.verbose:\n",
    "            #verboseをTrueにした際は学習過程を出力\n",
    "            print()\n",
    "        pass\n",
    "    def predict(self, X):\n",
    "        \"\"\"\n",
    "        決定木分類器を使いラベルを推定する\n",
    "        \"\"\"\n",
    "        pass\n",
    "        return"
   ]
  },
  {
   "cell_type": "markdown",
   "metadata": {},
   "source": [
    "分割の条件を学習で求める\n",
    "\n",
    "学習によって、ノードをどういった条件で分割すると、うまく分けられるかということを求めます。\n",
    "\n",
    "\n",
    "うまく分けられていることを判定するためにノードに対してジニ不純度と情報利得という値を計算します。"
   ]
  },
  {
   "cell_type": "code",
   "execution_count": 14,
   "metadata": {},
   "outputs": [],
   "source": [
    "import numpy as np"
   ]
  },
  {
   "cell_type": "markdown",
   "metadata": {},
   "source": [
    "##【問題1】不純度を求める関数\n",
    "\n",
    "ノード の ジニ不純度 を計算する関数を作成してください。ノード \n",
    "t\n",
    " に対するジニ不純度 \n",
    "I\n",
    "(\n",
    "t\n",
    ")\n",
    " は以下の数式で求まります。クラスが混じり合っているほどジニ不純度は高くなります。\n",
    " \n",
    " $$I(t) = 1-\\sum_{i=1}^{K}P^2(C_i|t) = 1-\\sum_{i=1}^{K}(\\frac{N_{t,i}}{N_{t,all}})^{2}$$\n",
    " \n",
    "t\n",
    " : ノードのインデックス\n",
    "\n",
    "\n",
    "i\n",
    " : クラスのインデックス\n",
    "\n",
    "\n",
    "K\n",
    " : クラスの数\n",
    "\n",
    "\n",
    "C\n",
    "i\n",
    " : i番目のクラス\n",
    "\n",
    "\n",
    "P\n",
    "(\n",
    "C\n",
    "i\n",
    "|\n",
    "t\n",
    ")\n",
    " :　t番目のノードにおける\n",
    "C\n",
    "i\n",
    "の割合\n",
    "\n",
    "\n",
    "N\n",
    "t\n",
    ",\n",
    "i\n",
    " : t番目のノードのi番目のクラスに属するサンプル数\n",
    "\n",
    "\n",
    "N\n",
    "t\n",
    ",\n",
    "a\n",
    "l\n",
    "l\n",
    " : t番目のノードのサンプルの総数\n",
    "\n",
    "\n",
    "まずは簡単な例を作り、手計算と関数の結果を比較してください。\n",
    "\n",
    "\n",
    "《例》\n",
    "\n",
    "・クラス1:サンプル数15, クラス2:サンプル数15 → ジニ不純度0.500\n",
    "\n",
    "・クラス1:サンプル数15, クラス2:サンプル数15, クラス3:サンプル数15 → ジニ不純度0.667\n",
    "\n",
    "・クラス1:サンプル数18, クラス2:サンプル数12 → ジニ不純度0.480\n",
    "\n",
    "・クラス1:サンプル数30, クラス2:サンプル数0 → ジニ不純度0.000"
   ]
  },
  {
   "cell_type": "code",
   "execution_count": 15,
   "metadata": {
    "code_folding": [
     1
    ]
   },
   "outputs": [],
   "source": [
    "#テスト関数\n",
    "def gini_sco(y):\n",
    "    \"\"\"\n",
    "    不純度を求める関数\n",
    "    \n",
    "    \"\"\"\n",
    "    _, sam = np.unique(y,return_counts = True)\n",
    "#     print(_, sam)\n",
    "    sam_sum = np.sum(sam)\n",
    "    I_t = 1 - np.sum((sam / sam_sum)**2)\n",
    "    return I_t"
   ]
  },
  {
   "cell_type": "code",
   "execution_count": 16,
   "metadata": {
    "code_folding": []
   },
   "outputs": [
    {
     "name": "stdout",
     "output_type": "stream",
     "text": [
      "0.5\n",
      "0.6666666666666667\n",
      "0.48\n",
      "0.0\n"
     ]
    }
   ],
   "source": [
    "sam1 = np.array([0 if i <15 else 1 for i in range(30)])\n",
    "print(gini_sco(sam1))\n",
    "\n",
    "sam2 = np.zeros(45)\n",
    "sam2[15:30] = 1\n",
    "sam2[30:] = 2\n",
    "print(gini_sco(sam2))\n",
    "\n",
    "sam3 = np.zeros(30)\n",
    "sam3[0:12]=0\n",
    "sam3[18:]=1\n",
    "print(gini_sco(sam3))\n",
    "\n",
    "sam4 = np.zeros(30)\n",
    "sam4[30:]=1\n",
    "print(gini_sco(sam4))"
   ]
  },
  {
   "cell_type": "markdown",
   "metadata": {},
   "source": [
    "例題とマッチ"
   ]
  },
  {
   "cell_type": "markdown",
   "metadata": {},
   "source": [
    "##【問題2】情報利得を求める関数\n",
    "\n",
    "次に、ノード間の 情報利得 を計算する関数を作成してください。問題1で作成したジニ不純度 \n",
    "I\n",
    "(\n",
    "t\n",
    ")\n",
    " を計算する関数を呼び出して使います。情報利得\n",
    "I\n",
    "G\n",
    "は以下の数式で求まります。うまく分けられている時ほど情報利得は大きくなります。\n",
    "\n",
    "\n",
    "ここで分岐は2つのみであるため、分岐先を「左側のノード・右側のノード」と呼びます。\n",
    "\n",
    "$$IG(p) = I(p)-\\frac{N_{left,all}}{N_{p,all}}I(left)-\\frac{N_{right,all}}{N_{p,all}}I(right)$$\n",
    "\n",
    "\n",
    "p\n",
    " : 親ノードを示すインデックス\n",
    "\n",
    "\n",
    "l\n",
    "e\n",
    "f\n",
    "t\n",
    " : 左側のノードを示すインデックス\n",
    "\n",
    "\n",
    "r\n",
    "i\n",
    "g\n",
    "h\n",
    "t\n",
    " : 右側のノードを示すインデックス\n",
    "\n",
    "\n",
    "まずは簡単な例を作り、手計算と関数の結果を比較してください。\n",
    "\n",
    "\n",
    "《例》\n",
    "\n",
    "\n",
    "左ノードクラス1:サンプル数10, 左ノードクラス2:サンプル数30, 右ノードクラス1:サンプル数20, 右ノードクラス2:サンプル数5 → 情報利得0.143"
   ]
  },
  {
   "cell_type": "code",
   "execution_count": 17,
   "metadata": {
    "code_folding": [
     1
    ]
   },
   "outputs": [],
   "source": [
    "#テスト関数\n",
    "def gini_info(y_l,y_r):\n",
    "    \n",
    "    \"\"\"\n",
    "    情報利得を求める関数\n",
    "    \n",
    "    \"\"\"\n",
    "    \n",
    "    left,right = len(y_l), len(y_r)\n",
    "    lr_sum = left + right\n",
    "    \n",
    "    num_left = left / lr_sum\n",
    "    num_right = right / lr_sum\n",
    "    \n",
    "    parent = np.concatenate([y_l, y_r])\n",
    "    \n",
    "    IG = gini_sco(parent) - (num_left * gini_sco(y_l) + num_right * gini_sco(y_r))\n",
    "    \n",
    "    return IG"
   ]
  },
  {
   "cell_type": "code",
   "execution_count": 18,
   "metadata": {},
   "outputs": [
    {
     "name": "stdout",
     "output_type": "stream",
     "text": [
      "gini_info : 0.14319526627218937\n"
     ]
    }
   ],
   "source": [
    "l = np.array([1 if i <10 else 2 for i in range(40)])\n",
    "r = np.array([1 if i <20 else 2 for i in range(25)])\n",
    "\n",
    "print(\"gini_info : {}\".format(gini_info(l,r)))"
   ]
  },
  {
   "cell_type": "code",
   "execution_count": 19,
   "metadata": {},
   "outputs": [],
   "source": [
    "def gini_score(X, y, f_index, threshold):\n",
    "    \"\"\"\n",
    "    ジニ不純度計算\n",
    "    \"\"\"\n",
    "    gini = 0\n",
    "    sample_num = len(y) #各ノードのサンプル数\n",
    "    \n",
    "    #yを閾値以上か未満で列を分割\n",
    "    spl_y = [y[X[:, f_index] >= threshold], y[X[:, f_index] < threshold]]\n",
    "    \n",
    "    #不純度計算\n",
    "    for group in spl_y:\n",
    "        score = 0\n",
    "        classes = np.unique(group)#ノードのクラス値\n",
    "        for clas in classes:\n",
    "            p = np.sum(group == clas)/len(group)\n",
    "            score += np.square(p)\n",
    "        gini += (1- score) * (len(group)/sample_num)\n",
    "    return gini"
   ]
  },
  {
   "cell_type": "markdown",
   "metadata": {},
   "source": [
    "##【問題3】学習\n",
    "\n",
    "空間の分割を行い、決定木のグラフを生成するコードを作成してください。今は深さ1の決定木なので、分割を1回だけ行います。ここでグラフを生成するとは、1回の分割の際の条件としてどの特徴量がいくつ以上の時とするかを求めるということです。\n",
    "\n",
    "\n",
    "訓練データに対して全ての組み合わせの分割を行い、その中でノード間の情報利得が最大となる分割をそのノードの分割基準として記録します。\n",
    "\n",
    "\n",
    "クラスが混ざらない不純度が0のノード、または指定された深さのノードが 葉ノード となります。葉ノードにはクラスを記録しておき、これを推定時に分類するクラスとします。クラスが混ざらない場合はそのままのクラスを記録し、混ざっている場合は多数決により決めます。\n",
    "\n",
    "\n",
    "《組み合わせの取り方》\n",
    "\n",
    "\n",
    "全ての組み合わせの取り方は、最も単純には各特徴量の値自体をしきい値にして分割を行う方法があります。片側の端は今回のスクラッチはこの方法で行なってください。\n",
    "\n",
    "\n",
    "他には中間の値をしきい値にする方法もあり、scikit-learnではこの方法が用いられています。\n",
    "\n",
    "\n",
    "《補足》\n",
    "\n",
    "\n",
    "問題2の情報利得を計算する関数はこの問題3で利用する上では、親ノードの不純度 \n",
    "I\n",
    "(\n",
    "p\n",
    ")\n",
    " は固定されるため、左右のノードの不純度の合計を計算するだけでも同じ結果が得られることになります。しかし、ここでは親ノードを考慮した情報利得を計算する実装を行なってください。"
   ]
  },
  {
   "cell_type": "code",
   "execution_count": 20,
   "metadata": {},
   "outputs": [],
   "source": [
    "def search_best_split(X, y):\n",
    "    \"\"\"\n",
    "    ノード分割の説明変数と閾値の選択\n",
    "    \"\"\"\n",
    "    features = X.shape[1]#0,1\n",
    "    threshold = 0.1 #テストのため0.1に　本来はNone\n",
    "    best_fea = None\n",
    "    gini_min = 1 #初期値に最大値１\n",
    "    \n",
    "    for f_index in range(features):\n",
    "        #Xを0クラスと1クラスに分割\n",
    "        values = X[:, f_index]\n",
    "        for val in values:\n",
    "            gini = gini_score(X, y, f_index, threshold)\n",
    "            if gini_min > gini:\n",
    "                gini = gini_min #不純度\n",
    "                feat_id = f_index #ノードクラス0,1\n",
    "                threshold = val #情報利得最大\n",
    "                \n",
    "                \n",
    "    return gini, feat_id, threshold"
   ]
  },
  {
   "cell_type": "code",
   "execution_count": 21,
   "metadata": {},
   "outputs": [
    {
     "data": {
      "text/plain": [
       "(1, 1, 5.4681)"
      ]
     },
     "execution_count": 21,
     "metadata": {},
     "output_type": "execute_result"
    }
   ],
   "source": [
    "X = X\n",
    "y = y\n",
    "\n",
    "search_best_split(X,y)"
   ]
  },
  {
   "cell_type": "markdown",
   "metadata": {},
   "source": [
    "##【問題4】推定\n",
    "\n",
    "推定する仕組みを実装してください。ScratchDecesionTreeClassifierDepth1クラスの雛形に含まれるpredictメソッドに書き加えてください。\n",
    "\n",
    "\n",
    "入力されたデータの値を学習した条件で判定していき、どの葉ノードに到達するかを見ます。葉ノードにはクラスが記録されているので、これが推定値となります。"
   ]
  },
  {
   "cell_type": "code",
   "execution_count": 22,
   "metadata": {},
   "outputs": [],
   "source": [
    "def predict(X):\n",
    "    #気の深さがMaxか不純度が0になったら終了\n",
    "    if gini_min == 0.0 or depth == max_depth:\n",
    "        #最も多いラベル返す\n",
    "        return label\n",
    "    else:\n",
    "        #特徴量が閾値以上なら左の子へ\n",
    "        if X[feature] > threshold:\n",
    "            return left.predict(data)\n",
    "        else:\n",
    "            return right.predict(data)"
   ]
  },
  {
   "cell_type": "markdown",
   "metadata": {},
   "source": [
    "##【問題5】学習と推定\n",
    "\n",
    "機械学習スクラッチ入門のSprintで用意したシンプルデータセット2の2値分類に対してスクラッチ実装の学習と推定を行なってください。\n",
    "\n",
    "\n",
    "scikit-learnによる実装と比べ、正しく動いているかを確認してください。\n",
    "\n",
    "\n",
    "AccuracyやPrecision、Recallなどの指標値はscikit-learnを使用してください。"
   ]
  },
  {
   "cell_type": "markdown",
   "metadata": {},
   "source": [
    "クラス化 問題7,8対応"
   ]
  },
  {
   "cell_type": "code",
   "execution_count": 23,
   "metadata": {},
   "outputs": [],
   "source": [
    "class ScratchDecesionTreeClassifierDepth1(object):\n",
    "    \"\"\"\n",
    "    決定木分類器のスクラッチ実装\n",
    "    \n",
    "    \"\"\"\n",
    "    def __init__(self, X, y, max_depth):\n",
    "        # ハイパーパラメータを属性として記録\n",
    "        self.left = None\n",
    "        self.right = None\n",
    "        self.max_depth = max_depth\n",
    "        self.depth = None\n",
    "        self.X = X\n",
    "        self.y = y\n",
    "        self.b_t = None\n",
    "        self.b_f = None\n",
    "        self.gini_min = None\n",
    "        self.label = np.argmax(np.bincount(y)) #最も多いラベル\n",
    "        self.classes = np.unique(y) # ノードのクラス値\n",
    "        self.features = X.shape[1] # ノードの列数\n",
    "        self.sample_num = len(y) # ノードのサンプル総数\n",
    "\n",
    "            \n",
    "    def __gini_score__(self,X, y, f_index, threshold):\n",
    "        \"\"\"\n",
    "        ジニ不純度計算\n",
    "        \"\"\"\n",
    "        gini = 0\n",
    "#         sample_num = len(y) #各ノードのサンプル数\n",
    "\n",
    "        #yを閾値以上か未満で列を分割\n",
    "        spl_y = [y[X[:, f_index] >= threshold], y[X[:, f_index] < threshold]]\n",
    "\n",
    "        #不純度計算\n",
    "        for group in spl_y:\n",
    "            score = 0\n",
    "#             classes = np.unique(group)#ノードのクラス値\n",
    "            for clas in self.classes:\n",
    "                p = np.sum(group == clas) / len(group)\n",
    "                score += np.square(p)\n",
    "            gini += (1- score) * (len(group) / self.sample_num)\n",
    "        return gini            \n",
    "\n",
    "    \n",
    "    def __search_best_split__(self, X, y):\n",
    "        \"\"\"\n",
    "        ノード分割の説明変数と閾値の選択\n",
    "        不純度最小を閾値に\n",
    "        \"\"\"\n",
    "#         features = X.shape[1]#0,1\n",
    "        b_t = None\n",
    "        b_f = None\n",
    "        gini = None\n",
    "        gini_min = 1 #初期値に最大値１\n",
    "\n",
    "        for f_index in range(self.features):\n",
    "            #Xを0クラスと1クラスに分割\n",
    "            values = X[:, f_index]\n",
    "            for val in values:\n",
    "                gini = self.__gini_score__(X, y, f_index, val)\n",
    "                if gini_min > gini:\n",
    "                    gini_min = gini #不純度\n",
    "                    b_f = f_index #ノードクラス0,1\n",
    "                    b_t = val #情報利得最大\n",
    "\n",
    "        return gini_min, b_t, b_f \n",
    "    \n",
    "    \n",
    "    def __split__(self, depth):\n",
    "        self.depth = depth # 深さ\n",
    "        self.gini_min, self.b_t, self.b_f = self.__search_best_split__(self.X, self.y)\n",
    "        print('Depth: {}, Sep at Feature: {},Threshold: {}, Label: {}'\n",
    "              .format(self.depth, self.b_f, self.b_t, self.label))\n",
    "\n",
    "        # 木の深さがmax or ジニ不純度0 = 処理を終了\n",
    "        if self.depth == self.max_depth or self.gini_min == 0:\n",
    "            return\n",
    "        \n",
    "        #  閾値以上左　閾値未満右\n",
    "        ind_left = self.X[:, self.b_f] >= self.b_t\n",
    "        ind_right = self.X[:, self.b_f] < self.b_t\n",
    "        \n",
    "        # 左右の子インスタンス\n",
    "        self.left = ScratchDecesionTreeClassifierDepth1(self.X[ind_left],  self.y[ind_left], self.max_depth)\n",
    "        self.right = ScratchDecesionTreeClassifierDepth1(self.X[ind_right], self.y[ind_right], self.max_depth)\n",
    "        \n",
    "        # 深さをプラス1、左右の子ノードのインスタンスでsplit関数を再帰\n",
    "        self.left.__split__(self.depth + 1)\n",
    "        self.right.__split__(self.depth + 1)\n",
    "\n",
    "            \n",
    "    def __predict__(self,Xn):\n",
    "        #気の深さがMaxか不純度が0になったら終了\n",
    "        if self.gini_min == 0.0 or self.depth == self.max_depth:\n",
    "            #最も多いラベル返す\n",
    "            return self.label\n",
    "        else:\n",
    "            #特徴量が閾値以上なら左の子へ\n",
    "            if Xn[self.b_f] >= self.b_t:\n",
    "                return self.left.__predict__(Xn)\n",
    "            else:\n",
    "                return self.right.__predict__(Xn)\n",
    "            \n",
    "            \n",
    "class ScratchDesicionTreeClassifier(object):\n",
    "    \"\"\"\n",
    "    決定木の深さ\n",
    "\n",
    "\n",
    "    \"\"\"\n",
    "    def __init__(self, max_depth):\n",
    "        self.max_depth = max_depth\n",
    "        self.tree = None\n",
    "        \n",
    "        \n",
    "    def fit(self, X, y):\n",
    "        \"\"\"\n",
    "        決定木分類器を学習する\n",
    "        ScratchDecesionTreeClassifierDepth1の子オブジェクトを再帰的に生成\n",
    "        \"\"\"\n",
    "        \n",
    "        initial_depth = 0\n",
    "        self.tree = ScratchDecesionTreeClassifierDepth1(X, y, self.max_depth)\n",
    "        self.tree.__split__(initial_depth)\n",
    "        \n",
    "    def predict(self, X):\n",
    "        \"\"\"\n",
    "        決定木分類器を使いラベルを推定する\n",
    "        \"\"\"\n",
    "        y_pred = []\n",
    "        for Xn in X:\n",
    "            y_pred.append(self.tree.__predict__(Xn))\n",
    "\n",
    "        return np.array(y_pred)"
   ]
  },
  {
   "cell_type": "code",
   "execution_count": 24,
   "metadata": {},
   "outputs": [],
   "source": [
    "X = np.array(\n",
    "    [[-0.44699 , -2.8073  ],[-1.4621  , -2.4586  ],\n",
    "       [ 0.10645 ,  1.9242  ],[-3.5944  , -4.0112  ],\n",
    "       [-0.9888  ,  4.5718  ],[-3.1625  , -3.9606  ],\n",
    "       [ 0.56421 ,  0.72888 ],[-0.60216 ,  8.4636  ],\n",
    "       [-0.61251 , -0.75345 ],[-0.73535 , -2.2718  ],\n",
    "       [-0.80647 , -2.2135  ],[ 0.86291 ,  2.3946  ],\n",
    "       [-3.1108  ,  0.15394 ],[-2.9362  ,  2.5462  ],\n",
    "       [-0.57242 , -2.9915  ],[ 1.4771  ,  3.4896  ],\n",
    "       [ 0.58619 ,  0.37158 ],[ 0.6017  ,  4.3439  ],\n",
    "       [-2.1086  ,  8.3428  ],[-4.1013  , -4.353   ],\n",
    "       [-1.9948  , -1.3927  ],[ 0.35084 , -0.031994],\n",
    "       [ 0.96765 ,  7.8929  ],[-1.281   , 15.6824  ],\n",
    "       [ 0.96765 , 10.083   ],[ 1.3763  ,  1.3347  ],\n",
    "       [-2.234   , -2.5323  ],[-2.9452  , -1.8219  ],\n",
    "       [ 0.14654 , -0.28733 ],[ 0.5461  ,  5.8245  ],\n",
    "       [-0.65259 ,  9.3444  ],[ 0.59912 ,  5.3524  ],\n",
    "       [ 0.50214 , -0.31818 ],[-3.0603  , -3.6461  ],\n",
    "       [-6.6797  ,  0.67661 ],[-2.353   , -0.72261 ],\n",
    "       [ 1.1319  ,  2.4023  ],[-0.12243 ,  9.0162  ],\n",
    "       [-2.5677  , 13.1779  ],[ 0.057313,  5.4681  ]])\n",
    "y = np.array([0, 0, 0, 0, 0, 0, 0, 0, 0, 0, 0, 0, 0, 0, 0, 0, 0, 0, 0, 0, 1, 1,\n",
    "       1, 1, 1, 1, 1, 1, 1, 1, 1, 1, 1, 1, 1, 1, 1, 1, 1, 1])"
   ]
  },
  {
   "cell_type": "code",
   "execution_count": 25,
   "metadata": {},
   "outputs": [
    {
     "name": "stdout",
     "output_type": "stream",
     "text": [
      "Depth: 0, Sep at Feature: 1,Threshold: 5.3524, Label: 0\n",
      "Depth: 1, Sep at Feature: 0,Threshold: -0.12243, Label: 1\n",
      "Depth: 1, Sep at Feature: 1,Threshold: 2.5462, Label: 0\n",
      "正解率:0.675\n",
      "適合率:0.675\n",
      "再現率:0.675\n"
     ]
    },
    {
     "name": "stderr",
     "output_type": "stream",
     "text": [
      "C:\\Anaconda3\\lib\\site-packages\\ipykernel_launcher.py:38: RuntimeWarning: invalid value encountered in long_scalars\n"
     ]
    }
   ],
   "source": [
    "from sklearn.metrics import accuracy_score, precision_score, recall_score\n",
    "\n",
    "model = ScratchDesicionTreeClassifier(max_depth=1)\n",
    "model.fit(X, y.ravel())\n",
    "y_pred = model.predict(X)\n",
    "y_pred\n",
    "print(\"正解率:{}\".format(accuracy_score(y, y_pred)))\n",
    "print(\"適合率:{}\".format(precision_score(y, y_pred,average=\"micro\")))\n",
    "print(\"再現率:{}\".format(recall_score(y, y_pred,average='micro')))"
   ]
  },
  {
   "cell_type": "markdown",
   "metadata": {},
   "source": [
    "sklearnの場合"
   ]
  },
  {
   "cell_type": "code",
   "execution_count": 28,
   "metadata": {},
   "outputs": [
    {
     "name": "stdout",
     "output_type": "stream",
     "text": [
      "正解率:0.675\n",
      "適合率:0.675\n",
      "再現率:0.675\n"
     ]
    }
   ],
   "source": [
    "from sklearn.tree import DecisionTreeClassifier\n",
    "\n",
    "s_model = DecisionTreeClassifier(max_depth=1)\n",
    "s_model.fit(X, y.ravel())\n",
    "pred = s_model.predict(X)\n",
    "pred\n",
    "print(\"正解率:{}\".format(accuracy_score(y, pred)))\n",
    "print(\"適合率:{}\".format(precision_score(y, pred,average=\"micro\")))\n",
    "print(\"再現率:{}\".format(recall_score(y, pred,average='micro')))"
   ]
  },
  {
   "cell_type": "markdown",
   "metadata": {},
   "source": [
    "一致"
   ]
  },
  {
   "cell_type": "markdown",
   "metadata": {},
   "source": [
    "##【問題6】決定領域の可視化\n",
    "\n",
    "決定領域を可視化してください。"
   ]
  },
  {
   "cell_type": "code",
   "execution_count": 29,
   "metadata": {},
   "outputs": [],
   "source": [
    "import matplotlib.pyplot as plt\n",
    "from matplotlib.colors import ListedColormap\n",
    "import matplotlib.patches as mpatches\n",
    "\n",
    "def decision_region(X, y, model, step=0.01, title='decision region',\n",
    "                    xlabel='sepal_length', ylabel='petal_length', target_names=['versicolor', 'virginica']):\n",
    "    \"\"\"\n",
    "    2値分類を2次元の特徴量で学習したモデルの決定領域を描く。\n",
    "    背景の色が学習したモデルによる推定値から描画される。\n",
    "    散布図の点は訓練データまたは検証データである。\n",
    "\n",
    "    Parameters\n",
    "    ----------------\n",
    "    X : ndarray, shape(n_samples, 2)\n",
    "        特徴量\n",
    "    y : ndarray, shape(n_samples,)\n",
    "        ラベル\n",
    "    model : object\n",
    "        学習したモデルのインスンタスを入れる\n",
    "    step : float, (default : 0.1)\n",
    "        推定値を計算する間隔を設定する\n",
    "    title : str\n",
    "        グラフのタイトルの文章を与える\n",
    "    xlabel, ylabel : str\n",
    "        軸ラベルの文章を与える\n",
    "    target_names= : list of str\n",
    "        凡例の一覧を与える\n",
    "    \"\"\"\n",
    "    # setting\n",
    "    scatter_color = ['red', 'blue']\n",
    "    contourf_color = ['pink', 'skyblue']\n",
    "    n_class = 2\n",
    "    # pred\n",
    "    mesh_f0, mesh_f1  = np.meshgrid(np.arange(np.min(X[:,0])-0.5,\n",
    "                                              np.max(X[:,0])+0.5, step),\n",
    "                                    np.arange(np.min(X[:,1])-0.5,\n",
    "                                              np.max(X[:,1])+0.5, step))\n",
    "\n",
    "    mesh = np.c_[np.ravel(mesh_f0),np.ravel(mesh_f1)]\n",
    "    y_pred = model.predict(mesh).reshape(mesh_f0.shape)\n",
    "    plt.title(title)\n",
    "    plt.xlabel(xlabel)\n",
    "    plt.ylabel(ylabel)\n",
    "    plt.contourf(mesh_f0, mesh_f1, y_pred, n_class-1, cmap=ListedColormap(contourf_color))\n",
    "    plt.contour(mesh_f0, mesh_f1, y_pred, n_class-1, colors='y', linewidths=3, alpha=0.5)\n",
    "    for i, target in enumerate(set(y)):\n",
    "        plt.scatter(X[y==target][:, 0], X[y==target][:, 1], s=80,\n",
    "                    color=scatter_color[i], label=target_names[i], marker='o')\n",
    "    patches = [mpatches.Patch(color=scatter_color[i], label=target_names[i]) for i in range(n_class)]\n",
    "#     #サポートベクター追加\n",
    "#     plt.scatter(model.X_sv[:, 0], model.X_sv[:, 1], s=80, \n",
    "#                 color='yellow', marker='*', alpha=.9, label= \"support_vec\")\n",
    "    plt.legend(handles=patches)\n",
    "    plt.legend()\n",
    "    plt.show()"
   ]
  },
  {
   "cell_type": "code",
   "execution_count": 30,
   "metadata": {},
   "outputs": [
    {
     "data": {
      "image/png": "[encoded data removed]",
      "text/plain": [
       "<Figure size 432x288 with 1 Axes>"
      ]
     },
     "metadata": {
      "needs_background": "light"
     },
     "output_type": "display_data"
    },
    {
     "data": {
      "image/png": "[encoded data removed]",
      "text/plain": [
       "<Figure size 432x288 with 1 Axes>"
      ]
     },
     "metadata": {
      "needs_background": "light"
     },
     "output_type": "display_data"
    }
   ],
   "source": [
    "decision_region(X, y_pred,model)\n",
    "decision_region(X, pred,s_model)"
   ]
  },
  {
   "cell_type": "markdown",
   "metadata": {},
   "source": [
    "少し異なるのはなんでだ？"
   ]
  },
  {
   "cell_type": "markdown",
   "metadata": {},
   "source": [
    "##【問題7】（アドバンス課題）深さ2の決定木分類器クラスの作成\n",
    "\n",
    "深さが2の決定木分類器のクラスScratchDecesionTreeClassifierDepth2を作成してください。\n",
    "\n",
    "\n",
    "深さ2とは空間の分割を2回行うことを指します。\n",
    "\n",
    "\n",
    "《ヒント》\n",
    "\n",
    "\n",
    "各ノードをインスタンスとして扱うと、任意の深さへの拡張が行いやすくなります。"
   ]
  },
  {
   "cell_type": "code",
   "execution_count": 31,
   "metadata": {},
   "outputs": [
    {
     "name": "stdout",
     "output_type": "stream",
     "text": [
      "Depth: 0, Sep at Feature: 1,Threshold: 5.3524, Label: 0\n",
      "Depth: 1, Sep at Feature: 0,Threshold: -0.12243, Label: 1\n",
      "Depth: 2, Sep at Feature: 0,Threshold: 0.96765, Label: 1\n",
      "Depth: 2, Sep at Feature: 1,Threshold: 9.3444, Label: 1\n",
      "Depth: 1, Sep at Feature: 1,Threshold: 2.5462, Label: 0\n",
      "Depth: 2, Sep at Feature: 0,Threshold: -0.9888, Label: 0\n",
      "Depth: 2, Sep at Feature: 1,Threshold: -1.8219, Label: 0\n",
      "正解率:0.675\n",
      "適合率:0.675\n",
      "再現率:0.675\n"
     ]
    },
    {
     "name": "stderr",
     "output_type": "stream",
     "text": [
      "C:\\Anaconda3\\lib\\site-packages\\ipykernel_launcher.py:38: RuntimeWarning: invalid value encountered in long_scalars\n"
     ]
    }
   ],
   "source": [
    "model = ScratchDesicionTreeClassifier(max_depth=2)\n",
    "model.fit(X, y.ravel())\n",
    "y_pred = model.predict(X)\n",
    "y_pred\n",
    "print(\"正解率:{}\".format(accuracy_score(y, y_pred)))\n",
    "print(\"適合率:{}\".format(precision_score(y, y_pred,average=\"micro\")))\n",
    "print(\"再現率:{}\".format(recall_score(y, y_pred,average='micro')))"
   ]
  },
  {
   "cell_type": "markdown",
   "metadata": {},
   "source": [
    "##【問題8】（アドバンス課題）深さに制限のない決定木分類器クラスの作成\n",
    "\n",
    "\n",
    "深さに制限のない決定木分類器のクラスScratchDecesionTreeClassifierDepthInfを作成してください。\n",
    "\n",
    "\n",
    "任意の深さを指定できるようにするとともに、指定しない場合は全ての葉ノードがジニ不純度0となるまで続けられるようにもしてください。\n"
   ]
  },
  {
   "cell_type": "code",
   "execution_count": 32,
   "metadata": {},
   "outputs": [
    {
     "name": "stdout",
     "output_type": "stream",
     "text": [
      "Depth: 0, Sep at Feature: 1,Threshold: 5.3524, Label: 0\n",
      "Depth: 1, Sep at Feature: 0,Threshold: -0.12243, Label: 1\n",
      "Depth: 2, Sep at Feature: 0,Threshold: 0.96765, Label: 1\n",
      "Depth: 2, Sep at Feature: 1,Threshold: 9.3444, Label: 1\n",
      "Depth: 1, Sep at Feature: 1,Threshold: 2.5462, Label: 0\n",
      "Depth: 2, Sep at Feature: 0,Threshold: -0.9888, Label: 0\n",
      "Depth: 2, Sep at Feature: 1,Threshold: -1.8219, Label: 0\n",
      "Depth: 3, Sep at Feature: 1,Threshold: 0.15394, Label: 1\n",
      "Depth: 3, Sep at Feature: 0,Threshold: -1.4621, Label: 0\n",
      "正解率:0.75\n",
      "適合率:0.75\n",
      "再現率:0.75\n"
     ]
    },
    {
     "name": "stderr",
     "output_type": "stream",
     "text": [
      "C:\\Anaconda3\\lib\\site-packages\\ipykernel_launcher.py:38: RuntimeWarning: invalid value encountered in long_scalars\n"
     ]
    }
   ],
   "source": [
    "model = ScratchDesicionTreeClassifier(max_depth=3)\n",
    "model.fit(X, y.ravel())\n",
    "y_pred = model.predict(X)\n",
    "y_pred\n",
    "print(\"正解率:{}\".format(accuracy_score(y, y_pred)))\n",
    "print(\"適合率:{}\".format(precision_score(y, y_pred,average=\"micro\")))\n",
    "print(\"再現率:{}\".format(recall_score(y, y_pred,average='micro')))"
   ]
  },
  {
   "cell_type": "code",
   "execution_count": 33,
   "metadata": {},
   "outputs": [
    {
     "name": "stdout",
     "output_type": "stream",
     "text": [
      "Depth: 0, Sep at Feature: 1,Threshold: 5.3524, Label: 0\n",
      "Depth: 1, Sep at Feature: 0,Threshold: -0.12243, Label: 1\n",
      "Depth: 2, Sep at Feature: 0,Threshold: 0.96765, Label: 1\n",
      "Depth: 2, Sep at Feature: 1,Threshold: 9.3444, Label: 1\n",
      "Depth: 1, Sep at Feature: 1,Threshold: 2.5462, Label: 0\n",
      "Depth: 2, Sep at Feature: 0,Threshold: -0.9888, Label: 0\n",
      "Depth: 2, Sep at Feature: 1,Threshold: -1.8219, Label: 0\n",
      "Depth: 3, Sep at Feature: 1,Threshold: 0.15394, Label: 1\n",
      "Depth: 4, Sep at Feature: 0,Threshold: 1.1319, Label: 0\n",
      "Depth: 4, Sep at Feature: 1,Threshold: -0.72261, Label: 1\n",
      "Depth: 3, Sep at Feature: 0,Threshold: -1.4621, Label: 0\n",
      "Depth: 4, Sep at Feature: 0,Threshold: -0.44699, Label: 0\n",
      "Depth: 4, Sep at Feature: 0,Threshold: -3.0603, Label: 0\n",
      "正解率:0.8\n",
      "適合率:0.8\n",
      "再現率:0.8\n"
     ]
    },
    {
     "name": "stderr",
     "output_type": "stream",
     "text": [
      "C:\\Anaconda3\\lib\\site-packages\\ipykernel_launcher.py:38: RuntimeWarning: invalid value encountered in long_scalars\n"
     ]
    }
   ],
   "source": [
    "model = ScratchDesicionTreeClassifier(max_depth=4)\n",
    "model.fit(X, y.ravel())\n",
    "y_pred = model.predict(X)\n",
    "y_pred\n",
    "print(\"正解率:{}\".format(accuracy_score(y, y_pred)))\n",
    "print(\"適合率:{}\".format(precision_score(y, y_pred,average=\"micro\")))\n",
    "print(\"再現率:{}\".format(recall_score(y, y_pred,average='micro')))"
   ]
  },
  {
   "cell_type": "code",
   "execution_count": 34,
   "metadata": {},
   "outputs": [
    {
     "name": "stdout",
     "output_type": "stream",
     "text": [
      "Depth: 0, Sep at Feature: 1,Threshold: 5.3524, Label: 0\n",
      "Depth: 1, Sep at Feature: 0,Threshold: -0.12243, Label: 1\n",
      "Depth: 2, Sep at Feature: 0,Threshold: 0.96765, Label: 1\n",
      "Depth: 2, Sep at Feature: 1,Threshold: 9.3444, Label: 1\n",
      "Depth: 1, Sep at Feature: 1,Threshold: 2.5462, Label: 0\n",
      "Depth: 2, Sep at Feature: 0,Threshold: -0.9888, Label: 0\n",
      "Depth: 2, Sep at Feature: 1,Threshold: -1.8219, Label: 0\n",
      "Depth: 3, Sep at Feature: 1,Threshold: 0.15394, Label: 1\n",
      "Depth: 4, Sep at Feature: 0,Threshold: 1.1319, Label: 0\n",
      "Depth: 5, Sep at Feature: 0,Threshold: 1.3763, Label: 1\n",
      "Depth: 5, Sep at Feature: 0,Threshold: -3.1108, Label: 0\n",
      "Depth: 4, Sep at Feature: 1,Threshold: -0.72261, Label: 1\n",
      "Depth: 5, Sep at Feature: 0,Threshold: 0.35084, Label: 1\n",
      "Depth: 5, Sep at Feature: 0,Threshold: -0.61251, Label: 1\n",
      "Depth: 3, Sep at Feature: 0,Threshold: -1.4621, Label: 0\n",
      "Depth: 4, Sep at Feature: 0,Threshold: -0.44699, Label: 0\n",
      "Depth: 4, Sep at Feature: 0,Threshold: -3.0603, Label: 0\n",
      "正解率:0.85\n",
      "適合率:0.85\n",
      "再現率:0.85\n"
     ]
    },
    {
     "name": "stderr",
     "output_type": "stream",
     "text": [
      "C:\\Anaconda3\\lib\\site-packages\\ipykernel_launcher.py:38: RuntimeWarning: invalid value encountered in long_scalars\n"
     ]
    }
   ],
   "source": [
    "model = ScratchDesicionTreeClassifier(max_depth=5)\n",
    "model.fit(X, y.ravel())\n",
    "y_pred = model.predict(X)\n",
    "y_pred\n",
    "print(\"正解率:{}\".format(accuracy_score(y, y_pred)))\n",
    "print(\"適合率:{}\".format(precision_score(y, y_pred,average=\"micro\")))\n",
    "print(\"再現率:{}\".format(recall_score(y, y_pred,average='micro')))"
   ]
  },
  {
   "cell_type": "code",
   "execution_count": 35,
   "metadata": {},
   "outputs": [
    {
     "name": "stdout",
     "output_type": "stream",
     "text": [
      "Depth: 0, Sep at Feature: 1,Threshold: 5.3524, Label: 0\n",
      "Depth: 1, Sep at Feature: 0,Threshold: -0.12243, Label: 1\n",
      "Depth: 2, Sep at Feature: 0,Threshold: 0.96765, Label: 1\n",
      "Depth: 2, Sep at Feature: 1,Threshold: 9.3444, Label: 1\n",
      "Depth: 1, Sep at Feature: 1,Threshold: 2.5462, Label: 0\n",
      "Depth: 2, Sep at Feature: 0,Threshold: -0.9888, Label: 0\n",
      "Depth: 2, Sep at Feature: 1,Threshold: -1.8219, Label: 0\n",
      "Depth: 3, Sep at Feature: 1,Threshold: 0.15394, Label: 1\n",
      "Depth: 4, Sep at Feature: 0,Threshold: 1.1319, Label: 0\n",
      "Depth: 5, Sep at Feature: 0,Threshold: 1.3763, Label: 1\n",
      "Depth: 5, Sep at Feature: 0,Threshold: -3.1108, Label: 0\n",
      "Depth: 4, Sep at Feature: 1,Threshold: -0.72261, Label: 1\n",
      "Depth: 5, Sep at Feature: 0,Threshold: 0.35084, Label: 1\n",
      "Depth: 5, Sep at Feature: 0,Threshold: -0.61251, Label: 1\n",
      "Depth: 3, Sep at Feature: 0,Threshold: -1.4621, Label: 0\n",
      "Depth: 4, Sep at Feature: 0,Threshold: -0.44699, Label: 0\n",
      "Depth: 4, Sep at Feature: 0,Threshold: -3.0603, Label: 0\n",
      "正解率:0.85\n",
      "適合率:0.85\n",
      "再現率:0.85\n"
     ]
    },
    {
     "name": "stderr",
     "output_type": "stream",
     "text": [
      "C:\\Anaconda3\\lib\\site-packages\\ipykernel_launcher.py:38: RuntimeWarning: invalid value encountered in long_scalars\n"
     ]
    }
   ],
   "source": [
    "model = ScratchDesicionTreeClassifier(max_depth=6)\n",
    "model.fit(X, y.ravel())\n",
    "y_pred = model.predict(X)\n",
    "y_pred\n",
    "print(\"正解率:{}\".format(accuracy_score(y, y_pred)))\n",
    "print(\"適合率:{}\".format(precision_score(y, y_pred,average=\"micro\")))\n",
    "print(\"再現率:{}\".format(recall_score(y, y_pred,average='micro')))"
   ]
  },
  {
   "cell_type": "code",
   "execution_count": null,
   "metadata": {},
   "outputs": [],
   "source": []
  }
 ],
 "metadata": {
  "kernelspec": {
   "display_name": "Python 3",
   "language": "python",
   "name": "python3"
  },
  "language_info": {
   "codemirror_mode": {
    "name": "ipython",
    "version": 3
   },
   "file_extension": ".py",
   "mimetype": "text/x-python",
   "name": "python",
   "nbconvert_exporter": "python",
   "pygments_lexer": "ipython3",
   "version": "3.7.6"
  },
  "toc": {
   "base_numbering": 1,
   "nav_menu": {},
   "number_sections": true,
   "sideBar": true,
   "skip_h1_title": true,
   "title_cell": "Table of Contents",
   "title_sidebar": "Contents",
   "toc_cell": true,
   "toc_position": {
    "height": "236px",
    "left": "1110px",
    "top": "92px",
    "width": "170px"
   },
   "toc_section_display": true,
   "toc_window_display": false
  }
 },
 "nbformat": 4,
 "nbformat_minor": 4
}
