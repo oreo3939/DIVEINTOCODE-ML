{
  "nbformat": 4,
  "nbformat_minor": 0,
  "metadata": {
    "kernelspec": {
      "display_name": "Python 3",
      "language": "python",
      "name": "python3"
    },
    "language_info": {
      "codemirror_mode": {
        "name": "ipython",
        "version": 3
      },
      "file_extension": ".py",
      "mimetype": "text/x-python",
      "name": "python",
      "nbconvert_exporter": "python",
      "pygments_lexer": "ipython3",
      "version": "3.7.6"
    },
    "colab": {
      "name": "Sprint 機械学習スクラッチ アンサンブル学習.ipynb",
      "provenance": [],
      "collapsed_sections": []
    }
  },
  "cells": [
    {
      "cell_type": "markdown",
      "metadata": {
        "id": "x2U0KqJ9yCqV",
        "colab_type": "text"
      },
      "source": [
        "3種類のアンサンブル学習をスクラッチ実装していきます。そして、それぞれの効果を小さめのデータセットで確認します。\n",
        "\n",
        "\n",
        "・ブレンディング\n",
        "\n",
        "・バギング\n",
        "\n",
        "・スタッキング"
      ]
    },
    {
      "cell_type": "markdown",
      "metadata": {
        "id": "4Fv9vWglyCqX",
        "colab_type": "text"
      },
      "source": [
        "小さなデータセットの用意\n",
        "\n",
        "以前も利用した回帰のデータセットを用意します。\n",
        "\n",
        "\n",
        "[House Prices: Advanced Regression Techniques](https://www.kaggle.com/c/house-prices-advanced-regression-techniques/data)\n",
        "\n",
        "\n",
        "この中のtrain.csvをダウンロードし、目的変数としてSalePrice、説明変数として、GrLivAreaとYearBuiltを使います。\n",
        "\n",
        "\n",
        "train.csvを学習用（train）8割、検証用（val）2割に分割してください。"
      ]
    },
    {
      "cell_type": "markdown",
      "metadata": {
        "id": "Nk9o-QX3yCqZ",
        "colab_type": "text"
      },
      "source": [
        "scikit-learn\n",
        "\n",
        "単一のモデルはスクラッチ実装ではなく、scikit-learnなどのライブラリの使用を推奨します。\n",
        "\n",
        "\n",
        "[sklearn.linear_model.LinearRegression — scikit-learn 0.21.3 documentation](https://scikit-learn.org/stable/modules/generated/sklearn.linear_model.LinearRegression.html)\n",
        "\n",
        "\n",
        "[sklearn.svm.SVR — scikit-learn 0.21.3 documentation](https://scikit-learn.org/stable/modules/generated/sklearn.svm.SVR.html)\n",
        "\n",
        "\n",
        "[sklearn.tree.DecisionTreeRegressor — scikit-learn 0.21.3 documentation](https://scikit-learn.org/stable/modules/generated/sklearn.tree.DecisionTreeRegressor.html)"
      ]
    },
    {
      "cell_type": "code",
      "metadata": {
        "id": "uOVk7glQyCqb",
        "colab_type": "code",
        "colab": {}
      },
      "source": [
        ""
      ],
      "execution_count": 474,
      "outputs": []
    },
    {
      "cell_type": "markdown",
      "metadata": {
        "id": "2jnICIpYyCqk",
        "colab_type": "text"
      },
      "source": [
        "#ブレンディング"
      ]
    },
    {
      "cell_type": "markdown",
      "metadata": {
        "id": "eHN75eSiyCql",
        "colab_type": "text"
      },
      "source": [
        "##ブレンディングとは\n",
        "\n",
        "ブレンディングとは、N個の多様なモデルを独立して学習させ、推定結果を重み付けした上で足し合わせる方法です。最も単純には平均をとります。多様なモデルとは、以下のような条件を変化させることで作り出すものです。\n",
        "\n",
        "\n",
        "・手法（例：線形回帰、SVM、決定木、ニューラルネットワークなど）\n",
        "\n",
        "・ハイパーパラメータ（例：SVMのカーネルの種類、重みの初期値など）\n",
        "\n",
        "・入力データの前処理の仕方（例：標準化、対数変換、PCAなど）\n",
        "\n",
        "重要なのはそれぞれのモデルが大きく異なることです。\n",
        "\n",
        "\n",
        "回帰問題でのブレンディングは非常に単純であるため、scikit-learnには用意されていません。\n",
        "\n",
        "\n",
        "《補足》\n",
        "\n",
        "\n",
        "分類問題の場合は、多数決を行います。回帰問題に比べると複雑なため、scikit-learnにはVotingClassifierが用意されています。\n",
        "\n",
        "\n",
        "[sklearn.ensemble.VotingClassifier — scikit-learn 0.21.3 documentation](https://scikit-learn.org/stable/modules/generated/sklearn.ensemble.VotingClassifier.html)\n",
        "\n"
      ]
    },
    {
      "cell_type": "code",
      "metadata": {
        "id": "KCYkB1zgyCqm",
        "colab_type": "code",
        "colab": {}
      },
      "source": [
        "import numpy as np\n",
        "import pandas as pd\n",
        "import matplotlib.pyplot as plt\n",
        "from sklearn.ensemble import RandomForestClassifier, VotingClassifier\n",
        "from sklearn.linear_model import LinearRegression\n",
        "from sklearn.metrics import mean_squared_error\n",
        "from sklearn.model_selection import train_test_split\n",
        "from sklearn.preprocessing import StandardScaler\n",
        "from sklearn.svm import SVR\n",
        "from sklearn.tree import DecisionTreeRegressor\n"
      ],
      "execution_count": 475,
      "outputs": []
    },
    {
      "cell_type": "code",
      "metadata": {
        "id": "N0-WMvSYyCqs",
        "colab_type": "code",
        "colab": {
          "base_uri": "https://localhost:8080/",
          "height": 35
        },
        "outputId": "21c7fba2-10fd-4297-f0a1-2d80b1d658d1"
      },
      "source": [
        "from google.colab import drive\n",
        "drive.mount('/content/drive')"
      ],
      "execution_count": 476,
      "outputs": [
        {
          "output_type": "stream",
          "text": [
            "Drive already mounted at /content/drive; to attempt to forcibly remount, call drive.mount(\"/content/drive\", force_remount=True).\n"
          ],
          "name": "stdout"
        }
      ]
    },
    {
      "cell_type": "code",
      "metadata": {
        "id": "4mAwMEnLyn3O",
        "colab_type": "code",
        "colab": {
          "base_uri": "https://localhost:8080/",
          "height": 435
        },
        "outputId": "2c2fc8ff-4fd5-4e3a-e338-f6f88ada25ce"
      },
      "source": [
        "data = pd.read_csv('/content/drive/My Drive/House Prices_train.csv')\n",
        "data"
      ],
      "execution_count": 477,
      "outputs": [
        {
          "output_type": "execute_result",
          "data": {
            "text/html": [
              "<div>\n",
              "<style scoped>\n",
              "    .dataframe tbody tr th:only-of-type {\n",
              "        vertical-align: middle;\n",
              "    }\n",
              "\n",
              "    .dataframe tbody tr th {\n",
              "        vertical-align: top;\n",
              "    }\n",
              "\n",
              "    .dataframe thead th {\n",
              "        text-align: right;\n",
              "    }\n",
              "</style>\n",
              "<table border=\"1\" class=\"dataframe\">\n",
              "  <thead>\n",
              "    <tr style=\"text-align: right;\">\n",
              "      <th></th>\n",
              "      <th>Id</th>\n",
              "      <th>MSSubClass</th>\n",
              "      <th>MSZoning</th>\n",
              "      <th>LotFrontage</th>\n",
              "      <th>LotArea</th>\n",
              "      <th>Street</th>\n",
              "      <th>Alley</th>\n",
              "      <th>LotShape</th>\n",
              "      <th>LandContour</th>\n",
              "      <th>Utilities</th>\n",
              "      <th>LotConfig</th>\n",
              "      <th>LandSlope</th>\n",
              "      <th>Neighborhood</th>\n",
              "      <th>Condition1</th>\n",
              "      <th>Condition2</th>\n",
              "      <th>BldgType</th>\n",
              "      <th>HouseStyle</th>\n",
              "      <th>OverallQual</th>\n",
              "      <th>OverallCond</th>\n",
              "      <th>YearBuilt</th>\n",
              "      <th>YearRemodAdd</th>\n",
              "      <th>RoofStyle</th>\n",
              "      <th>RoofMatl</th>\n",
              "      <th>Exterior1st</th>\n",
              "      <th>Exterior2nd</th>\n",
              "      <th>MasVnrType</th>\n",
              "      <th>MasVnrArea</th>\n",
              "      <th>ExterQual</th>\n",
              "      <th>ExterCond</th>\n",
              "      <th>Foundation</th>\n",
              "      <th>BsmtQual</th>\n",
              "      <th>BsmtCond</th>\n",
              "      <th>BsmtExposure</th>\n",
              "      <th>BsmtFinType1</th>\n",
              "      <th>BsmtFinSF1</th>\n",
              "      <th>BsmtFinType2</th>\n",
              "      <th>BsmtFinSF2</th>\n",
              "      <th>BsmtUnfSF</th>\n",
              "      <th>TotalBsmtSF</th>\n",
              "      <th>Heating</th>\n",
              "      <th>...</th>\n",
              "      <th>CentralAir</th>\n",
              "      <th>Electrical</th>\n",
              "      <th>1stFlrSF</th>\n",
              "      <th>2ndFlrSF</th>\n",
              "      <th>LowQualFinSF</th>\n",
              "      <th>GrLivArea</th>\n",
              "      <th>BsmtFullBath</th>\n",
              "      <th>BsmtHalfBath</th>\n",
              "      <th>FullBath</th>\n",
              "      <th>HalfBath</th>\n",
              "      <th>BedroomAbvGr</th>\n",
              "      <th>KitchenAbvGr</th>\n",
              "      <th>KitchenQual</th>\n",
              "      <th>TotRmsAbvGrd</th>\n",
              "      <th>Functional</th>\n",
              "      <th>Fireplaces</th>\n",
              "      <th>FireplaceQu</th>\n",
              "      <th>GarageType</th>\n",
              "      <th>GarageYrBlt</th>\n",
              "      <th>GarageFinish</th>\n",
              "      <th>GarageCars</th>\n",
              "      <th>GarageArea</th>\n",
              "      <th>GarageQual</th>\n",
              "      <th>GarageCond</th>\n",
              "      <th>PavedDrive</th>\n",
              "      <th>WoodDeckSF</th>\n",
              "      <th>OpenPorchSF</th>\n",
              "      <th>EnclosedPorch</th>\n",
              "      <th>3SsnPorch</th>\n",
              "      <th>ScreenPorch</th>\n",
              "      <th>PoolArea</th>\n",
              "      <th>PoolQC</th>\n",
              "      <th>Fence</th>\n",
              "      <th>MiscFeature</th>\n",
              "      <th>MiscVal</th>\n",
              "      <th>MoSold</th>\n",
              "      <th>YrSold</th>\n",
              "      <th>SaleType</th>\n",
              "      <th>SaleCondition</th>\n",
              "      <th>SalePrice</th>\n",
              "    </tr>\n",
              "  </thead>\n",
              "  <tbody>\n",
              "    <tr>\n",
              "      <th>0</th>\n",
              "      <td>1</td>\n",
              "      <td>60</td>\n",
              "      <td>RL</td>\n",
              "      <td>65.0</td>\n",
              "      <td>8450</td>\n",
              "      <td>Pave</td>\n",
              "      <td>NaN</td>\n",
              "      <td>Reg</td>\n",
              "      <td>Lvl</td>\n",
              "      <td>AllPub</td>\n",
              "      <td>Inside</td>\n",
              "      <td>Gtl</td>\n",
              "      <td>CollgCr</td>\n",
              "      <td>Norm</td>\n",
              "      <td>Norm</td>\n",
              "      <td>1Fam</td>\n",
              "      <td>2Story</td>\n",
              "      <td>7</td>\n",
              "      <td>5</td>\n",
              "      <td>2003</td>\n",
              "      <td>2003</td>\n",
              "      <td>Gable</td>\n",
              "      <td>CompShg</td>\n",
              "      <td>VinylSd</td>\n",
              "      <td>VinylSd</td>\n",
              "      <td>BrkFace</td>\n",
              "      <td>196.0</td>\n",
              "      <td>Gd</td>\n",
              "      <td>TA</td>\n",
              "      <td>PConc</td>\n",
              "      <td>Gd</td>\n",
              "      <td>TA</td>\n",
              "      <td>No</td>\n",
              "      <td>GLQ</td>\n",
              "      <td>706</td>\n",
              "      <td>Unf</td>\n",
              "      <td>0</td>\n",
              "      <td>150</td>\n",
              "      <td>856</td>\n",
              "      <td>GasA</td>\n",
              "      <td>...</td>\n",
              "      <td>Y</td>\n",
              "      <td>SBrkr</td>\n",
              "      <td>856</td>\n",
              "      <td>854</td>\n",
              "      <td>0</td>\n",
              "      <td>1710</td>\n",
              "      <td>1</td>\n",
              "      <td>0</td>\n",
              "      <td>2</td>\n",
              "      <td>1</td>\n",
              "      <td>3</td>\n",
              "      <td>1</td>\n",
              "      <td>Gd</td>\n",
              "      <td>8</td>\n",
              "      <td>Typ</td>\n",
              "      <td>0</td>\n",
              "      <td>NaN</td>\n",
              "      <td>Attchd</td>\n",
              "      <td>2003.0</td>\n",
              "      <td>RFn</td>\n",
              "      <td>2</td>\n",
              "      <td>548</td>\n",
              "      <td>TA</td>\n",
              "      <td>TA</td>\n",
              "      <td>Y</td>\n",
              "      <td>0</td>\n",
              "      <td>61</td>\n",
              "      <td>0</td>\n",
              "      <td>0</td>\n",
              "      <td>0</td>\n",
              "      <td>0</td>\n",
              "      <td>NaN</td>\n",
              "      <td>NaN</td>\n",
              "      <td>NaN</td>\n",
              "      <td>0</td>\n",
              "      <td>2</td>\n",
              "      <td>2008</td>\n",
              "      <td>WD</td>\n",
              "      <td>Normal</td>\n",
              "      <td>208500</td>\n",
              "    </tr>\n",
              "    <tr>\n",
              "      <th>1</th>\n",
              "      <td>2</td>\n",
              "      <td>20</td>\n",
              "      <td>RL</td>\n",
              "      <td>80.0</td>\n",
              "      <td>9600</td>\n",
              "      <td>Pave</td>\n",
              "      <td>NaN</td>\n",
              "      <td>Reg</td>\n",
              "      <td>Lvl</td>\n",
              "      <td>AllPub</td>\n",
              "      <td>FR2</td>\n",
              "      <td>Gtl</td>\n",
              "      <td>Veenker</td>\n",
              "      <td>Feedr</td>\n",
              "      <td>Norm</td>\n",
              "      <td>1Fam</td>\n",
              "      <td>1Story</td>\n",
              "      <td>6</td>\n",
              "      <td>8</td>\n",
              "      <td>1976</td>\n",
              "      <td>1976</td>\n",
              "      <td>Gable</td>\n",
              "      <td>CompShg</td>\n",
              "      <td>MetalSd</td>\n",
              "      <td>MetalSd</td>\n",
              "      <td>None</td>\n",
              "      <td>0.0</td>\n",
              "      <td>TA</td>\n",
              "      <td>TA</td>\n",
              "      <td>CBlock</td>\n",
              "      <td>Gd</td>\n",
              "      <td>TA</td>\n",
              "      <td>Gd</td>\n",
              "      <td>ALQ</td>\n",
              "      <td>978</td>\n",
              "      <td>Unf</td>\n",
              "      <td>0</td>\n",
              "      <td>284</td>\n",
              "      <td>1262</td>\n",
              "      <td>GasA</td>\n",
              "      <td>...</td>\n",
              "      <td>Y</td>\n",
              "      <td>SBrkr</td>\n",
              "      <td>1262</td>\n",
              "      <td>0</td>\n",
              "      <td>0</td>\n",
              "      <td>1262</td>\n",
              "      <td>0</td>\n",
              "      <td>1</td>\n",
              "      <td>2</td>\n",
              "      <td>0</td>\n",
              "      <td>3</td>\n",
              "      <td>1</td>\n",
              "      <td>TA</td>\n",
              "      <td>6</td>\n",
              "      <td>Typ</td>\n",
              "      <td>1</td>\n",
              "      <td>TA</td>\n",
              "      <td>Attchd</td>\n",
              "      <td>1976.0</td>\n",
              "      <td>RFn</td>\n",
              "      <td>2</td>\n",
              "      <td>460</td>\n",
              "      <td>TA</td>\n",
              "      <td>TA</td>\n",
              "      <td>Y</td>\n",
              "      <td>298</td>\n",
              "      <td>0</td>\n",
              "      <td>0</td>\n",
              "      <td>0</td>\n",
              "      <td>0</td>\n",
              "      <td>0</td>\n",
              "      <td>NaN</td>\n",
              "      <td>NaN</td>\n",
              "      <td>NaN</td>\n",
              "      <td>0</td>\n",
              "      <td>5</td>\n",
              "      <td>2007</td>\n",
              "      <td>WD</td>\n",
              "      <td>Normal</td>\n",
              "      <td>181500</td>\n",
              "    </tr>\n",
              "    <tr>\n",
              "      <th>2</th>\n",
              "      <td>3</td>\n",
              "      <td>60</td>\n",
              "      <td>RL</td>\n",
              "      <td>68.0</td>\n",
              "      <td>11250</td>\n",
              "      <td>Pave</td>\n",
              "      <td>NaN</td>\n",
              "      <td>IR1</td>\n",
              "      <td>Lvl</td>\n",
              "      <td>AllPub</td>\n",
              "      <td>Inside</td>\n",
              "      <td>Gtl</td>\n",
              "      <td>CollgCr</td>\n",
              "      <td>Norm</td>\n",
              "      <td>Norm</td>\n",
              "      <td>1Fam</td>\n",
              "      <td>2Story</td>\n",
              "      <td>7</td>\n",
              "      <td>5</td>\n",
              "      <td>2001</td>\n",
              "      <td>2002</td>\n",
              "      <td>Gable</td>\n",
              "      <td>CompShg</td>\n",
              "      <td>VinylSd</td>\n",
              "      <td>VinylSd</td>\n",
              "      <td>BrkFace</td>\n",
              "      <td>162.0</td>\n",
              "      <td>Gd</td>\n",
              "      <td>TA</td>\n",
              "      <td>PConc</td>\n",
              "      <td>Gd</td>\n",
              "      <td>TA</td>\n",
              "      <td>Mn</td>\n",
              "      <td>GLQ</td>\n",
              "      <td>486</td>\n",
              "      <td>Unf</td>\n",
              "      <td>0</td>\n",
              "      <td>434</td>\n",
              "      <td>920</td>\n",
              "      <td>GasA</td>\n",
              "      <td>...</td>\n",
              "      <td>Y</td>\n",
              "      <td>SBrkr</td>\n",
              "      <td>920</td>\n",
              "      <td>866</td>\n",
              "      <td>0</td>\n",
              "      <td>1786</td>\n",
              "      <td>1</td>\n",
              "      <td>0</td>\n",
              "      <td>2</td>\n",
              "      <td>1</td>\n",
              "      <td>3</td>\n",
              "      <td>1</td>\n",
              "      <td>Gd</td>\n",
              "      <td>6</td>\n",
              "      <td>Typ</td>\n",
              "      <td>1</td>\n",
              "      <td>TA</td>\n",
              "      <td>Attchd</td>\n",
              "      <td>2001.0</td>\n",
              "      <td>RFn</td>\n",
              "      <td>2</td>\n",
              "      <td>608</td>\n",
              "      <td>TA</td>\n",
              "      <td>TA</td>\n",
              "      <td>Y</td>\n",
              "      <td>0</td>\n",
              "      <td>42</td>\n",
              "      <td>0</td>\n",
              "      <td>0</td>\n",
              "      <td>0</td>\n",
              "      <td>0</td>\n",
              "      <td>NaN</td>\n",
              "      <td>NaN</td>\n",
              "      <td>NaN</td>\n",
              "      <td>0</td>\n",
              "      <td>9</td>\n",
              "      <td>2008</td>\n",
              "      <td>WD</td>\n",
              "      <td>Normal</td>\n",
              "      <td>223500</td>\n",
              "    </tr>\n",
              "    <tr>\n",
              "      <th>3</th>\n",
              "      <td>4</td>\n",
              "      <td>70</td>\n",
              "      <td>RL</td>\n",
              "      <td>60.0</td>\n",
              "      <td>9550</td>\n",
              "      <td>Pave</td>\n",
              "      <td>NaN</td>\n",
              "      <td>IR1</td>\n",
              "      <td>Lvl</td>\n",
              "      <td>AllPub</td>\n",
              "      <td>Corner</td>\n",
              "      <td>Gtl</td>\n",
              "      <td>Crawfor</td>\n",
              "      <td>Norm</td>\n",
              "      <td>Norm</td>\n",
              "      <td>1Fam</td>\n",
              "      <td>2Story</td>\n",
              "      <td>7</td>\n",
              "      <td>5</td>\n",
              "      <td>1915</td>\n",
              "      <td>1970</td>\n",
              "      <td>Gable</td>\n",
              "      <td>CompShg</td>\n",
              "      <td>Wd Sdng</td>\n",
              "      <td>Wd Shng</td>\n",
              "      <td>None</td>\n",
              "      <td>0.0</td>\n",
              "      <td>TA</td>\n",
              "      <td>TA</td>\n",
              "      <td>BrkTil</td>\n",
              "      <td>TA</td>\n",
              "      <td>Gd</td>\n",
              "      <td>No</td>\n",
              "      <td>ALQ</td>\n",
              "      <td>216</td>\n",
              "      <td>Unf</td>\n",
              "      <td>0</td>\n",
              "      <td>540</td>\n",
              "      <td>756</td>\n",
              "      <td>GasA</td>\n",
              "      <td>...</td>\n",
              "      <td>Y</td>\n",
              "      <td>SBrkr</td>\n",
              "      <td>961</td>\n",
              "      <td>756</td>\n",
              "      <td>0</td>\n",
              "      <td>1717</td>\n",
              "      <td>1</td>\n",
              "      <td>0</td>\n",
              "      <td>1</td>\n",
              "      <td>0</td>\n",
              "      <td>3</td>\n",
              "      <td>1</td>\n",
              "      <td>Gd</td>\n",
              "      <td>7</td>\n",
              "      <td>Typ</td>\n",
              "      <td>1</td>\n",
              "      <td>Gd</td>\n",
              "      <td>Detchd</td>\n",
              "      <td>1998.0</td>\n",
              "      <td>Unf</td>\n",
              "      <td>3</td>\n",
              "      <td>642</td>\n",
              "      <td>TA</td>\n",
              "      <td>TA</td>\n",
              "      <td>Y</td>\n",
              "      <td>0</td>\n",
              "      <td>35</td>\n",
              "      <td>272</td>\n",
              "      <td>0</td>\n",
              "      <td>0</td>\n",
              "      <td>0</td>\n",
              "      <td>NaN</td>\n",
              "      <td>NaN</td>\n",
              "      <td>NaN</td>\n",
              "      <td>0</td>\n",
              "      <td>2</td>\n",
              "      <td>2006</td>\n",
              "      <td>WD</td>\n",
              "      <td>Abnorml</td>\n",
              "      <td>140000</td>\n",
              "    </tr>\n",
              "    <tr>\n",
              "      <th>4</th>\n",
              "      <td>5</td>\n",
              "      <td>60</td>\n",
              "      <td>RL</td>\n",
              "      <td>84.0</td>\n",
              "      <td>14260</td>\n",
              "      <td>Pave</td>\n",
              "      <td>NaN</td>\n",
              "      <td>IR1</td>\n",
              "      <td>Lvl</td>\n",
              "      <td>AllPub</td>\n",
              "      <td>FR2</td>\n",
              "      <td>Gtl</td>\n",
              "      <td>NoRidge</td>\n",
              "      <td>Norm</td>\n",
              "      <td>Norm</td>\n",
              "      <td>1Fam</td>\n",
              "      <td>2Story</td>\n",
              "      <td>8</td>\n",
              "      <td>5</td>\n",
              "      <td>2000</td>\n",
              "      <td>2000</td>\n",
              "      <td>Gable</td>\n",
              "      <td>CompShg</td>\n",
              "      <td>VinylSd</td>\n",
              "      <td>VinylSd</td>\n",
              "      <td>BrkFace</td>\n",
              "      <td>350.0</td>\n",
              "      <td>Gd</td>\n",
              "      <td>TA</td>\n",
              "      <td>PConc</td>\n",
              "      <td>Gd</td>\n",
              "      <td>TA</td>\n",
              "      <td>Av</td>\n",
              "      <td>GLQ</td>\n",
              "      <td>655</td>\n",
              "      <td>Unf</td>\n",
              "      <td>0</td>\n",
              "      <td>490</td>\n",
              "      <td>1145</td>\n",
              "      <td>GasA</td>\n",
              "      <td>...</td>\n",
              "      <td>Y</td>\n",
              "      <td>SBrkr</td>\n",
              "      <td>1145</td>\n",
              "      <td>1053</td>\n",
              "      <td>0</td>\n",
              "      <td>2198</td>\n",
              "      <td>1</td>\n",
              "      <td>0</td>\n",
              "      <td>2</td>\n",
              "      <td>1</td>\n",
              "      <td>4</td>\n",
              "      <td>1</td>\n",
              "      <td>Gd</td>\n",
              "      <td>9</td>\n",
              "      <td>Typ</td>\n",
              "      <td>1</td>\n",
              "      <td>TA</td>\n",
              "      <td>Attchd</td>\n",
              "      <td>2000.0</td>\n",
              "      <td>RFn</td>\n",
              "      <td>3</td>\n",
              "      <td>836</td>\n",
              "      <td>TA</td>\n",
              "      <td>TA</td>\n",
              "      <td>Y</td>\n",
              "      <td>192</td>\n",
              "      <td>84</td>\n",
              "      <td>0</td>\n",
              "      <td>0</td>\n",
              "      <td>0</td>\n",
              "      <td>0</td>\n",
              "      <td>NaN</td>\n",
              "      <td>NaN</td>\n",
              "      <td>NaN</td>\n",
              "      <td>0</td>\n",
              "      <td>12</td>\n",
              "      <td>2008</td>\n",
              "      <td>WD</td>\n",
              "      <td>Normal</td>\n",
              "      <td>250000</td>\n",
              "    </tr>\n",
              "    <tr>\n",
              "      <th>...</th>\n",
              "      <td>...</td>\n",
              "      <td>...</td>\n",
              "      <td>...</td>\n",
              "      <td>...</td>\n",
              "      <td>...</td>\n",
              "      <td>...</td>\n",
              "      <td>...</td>\n",
              "      <td>...</td>\n",
              "      <td>...</td>\n",
              "      <td>...</td>\n",
              "      <td>...</td>\n",
              "      <td>...</td>\n",
              "      <td>...</td>\n",
              "      <td>...</td>\n",
              "      <td>...</td>\n",
              "      <td>...</td>\n",
              "      <td>...</td>\n",
              "      <td>...</td>\n",
              "      <td>...</td>\n",
              "      <td>...</td>\n",
              "      <td>...</td>\n",
              "      <td>...</td>\n",
              "      <td>...</td>\n",
              "      <td>...</td>\n",
              "      <td>...</td>\n",
              "      <td>...</td>\n",
              "      <td>...</td>\n",
              "      <td>...</td>\n",
              "      <td>...</td>\n",
              "      <td>...</td>\n",
              "      <td>...</td>\n",
              "      <td>...</td>\n",
              "      <td>...</td>\n",
              "      <td>...</td>\n",
              "      <td>...</td>\n",
              "      <td>...</td>\n",
              "      <td>...</td>\n",
              "      <td>...</td>\n",
              "      <td>...</td>\n",
              "      <td>...</td>\n",
              "      <td>...</td>\n",
              "      <td>...</td>\n",
              "      <td>...</td>\n",
              "      <td>...</td>\n",
              "      <td>...</td>\n",
              "      <td>...</td>\n",
              "      <td>...</td>\n",
              "      <td>...</td>\n",
              "      <td>...</td>\n",
              "      <td>...</td>\n",
              "      <td>...</td>\n",
              "      <td>...</td>\n",
              "      <td>...</td>\n",
              "      <td>...</td>\n",
              "      <td>...</td>\n",
              "      <td>...</td>\n",
              "      <td>...</td>\n",
              "      <td>...</td>\n",
              "      <td>...</td>\n",
              "      <td>...</td>\n",
              "      <td>...</td>\n",
              "      <td>...</td>\n",
              "      <td>...</td>\n",
              "      <td>...</td>\n",
              "      <td>...</td>\n",
              "      <td>...</td>\n",
              "      <td>...</td>\n",
              "      <td>...</td>\n",
              "      <td>...</td>\n",
              "      <td>...</td>\n",
              "      <td>...</td>\n",
              "      <td>...</td>\n",
              "      <td>...</td>\n",
              "      <td>...</td>\n",
              "      <td>...</td>\n",
              "      <td>...</td>\n",
              "      <td>...</td>\n",
              "      <td>...</td>\n",
              "      <td>...</td>\n",
              "      <td>...</td>\n",
              "      <td>...</td>\n",
              "    </tr>\n",
              "    <tr>\n",
              "      <th>1455</th>\n",
              "      <td>1456</td>\n",
              "      <td>60</td>\n",
              "      <td>RL</td>\n",
              "      <td>62.0</td>\n",
              "      <td>7917</td>\n",
              "      <td>Pave</td>\n",
              "      <td>NaN</td>\n",
              "      <td>Reg</td>\n",
              "      <td>Lvl</td>\n",
              "      <td>AllPub</td>\n",
              "      <td>Inside</td>\n",
              "      <td>Gtl</td>\n",
              "      <td>Gilbert</td>\n",
              "      <td>Norm</td>\n",
              "      <td>Norm</td>\n",
              "      <td>1Fam</td>\n",
              "      <td>2Story</td>\n",
              "      <td>6</td>\n",
              "      <td>5</td>\n",
              "      <td>1999</td>\n",
              "      <td>2000</td>\n",
              "      <td>Gable</td>\n",
              "      <td>CompShg</td>\n",
              "      <td>VinylSd</td>\n",
              "      <td>VinylSd</td>\n",
              "      <td>None</td>\n",
              "      <td>0.0</td>\n",
              "      <td>TA</td>\n",
              "      <td>TA</td>\n",
              "      <td>PConc</td>\n",
              "      <td>Gd</td>\n",
              "      <td>TA</td>\n",
              "      <td>No</td>\n",
              "      <td>Unf</td>\n",
              "      <td>0</td>\n",
              "      <td>Unf</td>\n",
              "      <td>0</td>\n",
              "      <td>953</td>\n",
              "      <td>953</td>\n",
              "      <td>GasA</td>\n",
              "      <td>...</td>\n",
              "      <td>Y</td>\n",
              "      <td>SBrkr</td>\n",
              "      <td>953</td>\n",
              "      <td>694</td>\n",
              "      <td>0</td>\n",
              "      <td>1647</td>\n",
              "      <td>0</td>\n",
              "      <td>0</td>\n",
              "      <td>2</td>\n",
              "      <td>1</td>\n",
              "      <td>3</td>\n",
              "      <td>1</td>\n",
              "      <td>TA</td>\n",
              "      <td>7</td>\n",
              "      <td>Typ</td>\n",
              "      <td>1</td>\n",
              "      <td>TA</td>\n",
              "      <td>Attchd</td>\n",
              "      <td>1999.0</td>\n",
              "      <td>RFn</td>\n",
              "      <td>2</td>\n",
              "      <td>460</td>\n",
              "      <td>TA</td>\n",
              "      <td>TA</td>\n",
              "      <td>Y</td>\n",
              "      <td>0</td>\n",
              "      <td>40</td>\n",
              "      <td>0</td>\n",
              "      <td>0</td>\n",
              "      <td>0</td>\n",
              "      <td>0</td>\n",
              "      <td>NaN</td>\n",
              "      <td>NaN</td>\n",
              "      <td>NaN</td>\n",
              "      <td>0</td>\n",
              "      <td>8</td>\n",
              "      <td>2007</td>\n",
              "      <td>WD</td>\n",
              "      <td>Normal</td>\n",
              "      <td>175000</td>\n",
              "    </tr>\n",
              "    <tr>\n",
              "      <th>1456</th>\n",
              "      <td>1457</td>\n",
              "      <td>20</td>\n",
              "      <td>RL</td>\n",
              "      <td>85.0</td>\n",
              "      <td>13175</td>\n",
              "      <td>Pave</td>\n",
              "      <td>NaN</td>\n",
              "      <td>Reg</td>\n",
              "      <td>Lvl</td>\n",
              "      <td>AllPub</td>\n",
              "      <td>Inside</td>\n",
              "      <td>Gtl</td>\n",
              "      <td>NWAmes</td>\n",
              "      <td>Norm</td>\n",
              "      <td>Norm</td>\n",
              "      <td>1Fam</td>\n",
              "      <td>1Story</td>\n",
              "      <td>6</td>\n",
              "      <td>6</td>\n",
              "      <td>1978</td>\n",
              "      <td>1988</td>\n",
              "      <td>Gable</td>\n",
              "      <td>CompShg</td>\n",
              "      <td>Plywood</td>\n",
              "      <td>Plywood</td>\n",
              "      <td>Stone</td>\n",
              "      <td>119.0</td>\n",
              "      <td>TA</td>\n",
              "      <td>TA</td>\n",
              "      <td>CBlock</td>\n",
              "      <td>Gd</td>\n",
              "      <td>TA</td>\n",
              "      <td>No</td>\n",
              "      <td>ALQ</td>\n",
              "      <td>790</td>\n",
              "      <td>Rec</td>\n",
              "      <td>163</td>\n",
              "      <td>589</td>\n",
              "      <td>1542</td>\n",
              "      <td>GasA</td>\n",
              "      <td>...</td>\n",
              "      <td>Y</td>\n",
              "      <td>SBrkr</td>\n",
              "      <td>2073</td>\n",
              "      <td>0</td>\n",
              "      <td>0</td>\n",
              "      <td>2073</td>\n",
              "      <td>1</td>\n",
              "      <td>0</td>\n",
              "      <td>2</td>\n",
              "      <td>0</td>\n",
              "      <td>3</td>\n",
              "      <td>1</td>\n",
              "      <td>TA</td>\n",
              "      <td>7</td>\n",
              "      <td>Min1</td>\n",
              "      <td>2</td>\n",
              "      <td>TA</td>\n",
              "      <td>Attchd</td>\n",
              "      <td>1978.0</td>\n",
              "      <td>Unf</td>\n",
              "      <td>2</td>\n",
              "      <td>500</td>\n",
              "      <td>TA</td>\n",
              "      <td>TA</td>\n",
              "      <td>Y</td>\n",
              "      <td>349</td>\n",
              "      <td>0</td>\n",
              "      <td>0</td>\n",
              "      <td>0</td>\n",
              "      <td>0</td>\n",
              "      <td>0</td>\n",
              "      <td>NaN</td>\n",
              "      <td>MnPrv</td>\n",
              "      <td>NaN</td>\n",
              "      <td>0</td>\n",
              "      <td>2</td>\n",
              "      <td>2010</td>\n",
              "      <td>WD</td>\n",
              "      <td>Normal</td>\n",
              "      <td>210000</td>\n",
              "    </tr>\n",
              "    <tr>\n",
              "      <th>1457</th>\n",
              "      <td>1458</td>\n",
              "      <td>70</td>\n",
              "      <td>RL</td>\n",
              "      <td>66.0</td>\n",
              "      <td>9042</td>\n",
              "      <td>Pave</td>\n",
              "      <td>NaN</td>\n",
              "      <td>Reg</td>\n",
              "      <td>Lvl</td>\n",
              "      <td>AllPub</td>\n",
              "      <td>Inside</td>\n",
              "      <td>Gtl</td>\n",
              "      <td>Crawfor</td>\n",
              "      <td>Norm</td>\n",
              "      <td>Norm</td>\n",
              "      <td>1Fam</td>\n",
              "      <td>2Story</td>\n",
              "      <td>7</td>\n",
              "      <td>9</td>\n",
              "      <td>1941</td>\n",
              "      <td>2006</td>\n",
              "      <td>Gable</td>\n",
              "      <td>CompShg</td>\n",
              "      <td>CemntBd</td>\n",
              "      <td>CmentBd</td>\n",
              "      <td>None</td>\n",
              "      <td>0.0</td>\n",
              "      <td>Ex</td>\n",
              "      <td>Gd</td>\n",
              "      <td>Stone</td>\n",
              "      <td>TA</td>\n",
              "      <td>Gd</td>\n",
              "      <td>No</td>\n",
              "      <td>GLQ</td>\n",
              "      <td>275</td>\n",
              "      <td>Unf</td>\n",
              "      <td>0</td>\n",
              "      <td>877</td>\n",
              "      <td>1152</td>\n",
              "      <td>GasA</td>\n",
              "      <td>...</td>\n",
              "      <td>Y</td>\n",
              "      <td>SBrkr</td>\n",
              "      <td>1188</td>\n",
              "      <td>1152</td>\n",
              "      <td>0</td>\n",
              "      <td>2340</td>\n",
              "      <td>0</td>\n",
              "      <td>0</td>\n",
              "      <td>2</td>\n",
              "      <td>0</td>\n",
              "      <td>4</td>\n",
              "      <td>1</td>\n",
              "      <td>Gd</td>\n",
              "      <td>9</td>\n",
              "      <td>Typ</td>\n",
              "      <td>2</td>\n",
              "      <td>Gd</td>\n",
              "      <td>Attchd</td>\n",
              "      <td>1941.0</td>\n",
              "      <td>RFn</td>\n",
              "      <td>1</td>\n",
              "      <td>252</td>\n",
              "      <td>TA</td>\n",
              "      <td>TA</td>\n",
              "      <td>Y</td>\n",
              "      <td>0</td>\n",
              "      <td>60</td>\n",
              "      <td>0</td>\n",
              "      <td>0</td>\n",
              "      <td>0</td>\n",
              "      <td>0</td>\n",
              "      <td>NaN</td>\n",
              "      <td>GdPrv</td>\n",
              "      <td>Shed</td>\n",
              "      <td>2500</td>\n",
              "      <td>5</td>\n",
              "      <td>2010</td>\n",
              "      <td>WD</td>\n",
              "      <td>Normal</td>\n",
              "      <td>266500</td>\n",
              "    </tr>\n",
              "    <tr>\n",
              "      <th>1458</th>\n",
              "      <td>1459</td>\n",
              "      <td>20</td>\n",
              "      <td>RL</td>\n",
              "      <td>68.0</td>\n",
              "      <td>9717</td>\n",
              "      <td>Pave</td>\n",
              "      <td>NaN</td>\n",
              "      <td>Reg</td>\n",
              "      <td>Lvl</td>\n",
              "      <td>AllPub</td>\n",
              "      <td>Inside</td>\n",
              "      <td>Gtl</td>\n",
              "      <td>NAmes</td>\n",
              "      <td>Norm</td>\n",
              "      <td>Norm</td>\n",
              "      <td>1Fam</td>\n",
              "      <td>1Story</td>\n",
              "      <td>5</td>\n",
              "      <td>6</td>\n",
              "      <td>1950</td>\n",
              "      <td>1996</td>\n",
              "      <td>Hip</td>\n",
              "      <td>CompShg</td>\n",
              "      <td>MetalSd</td>\n",
              "      <td>MetalSd</td>\n",
              "      <td>None</td>\n",
              "      <td>0.0</td>\n",
              "      <td>TA</td>\n",
              "      <td>TA</td>\n",
              "      <td>CBlock</td>\n",
              "      <td>TA</td>\n",
              "      <td>TA</td>\n",
              "      <td>Mn</td>\n",
              "      <td>GLQ</td>\n",
              "      <td>49</td>\n",
              "      <td>Rec</td>\n",
              "      <td>1029</td>\n",
              "      <td>0</td>\n",
              "      <td>1078</td>\n",
              "      <td>GasA</td>\n",
              "      <td>...</td>\n",
              "      <td>Y</td>\n",
              "      <td>FuseA</td>\n",
              "      <td>1078</td>\n",
              "      <td>0</td>\n",
              "      <td>0</td>\n",
              "      <td>1078</td>\n",
              "      <td>1</td>\n",
              "      <td>0</td>\n",
              "      <td>1</td>\n",
              "      <td>0</td>\n",
              "      <td>2</td>\n",
              "      <td>1</td>\n",
              "      <td>Gd</td>\n",
              "      <td>5</td>\n",
              "      <td>Typ</td>\n",
              "      <td>0</td>\n",
              "      <td>NaN</td>\n",
              "      <td>Attchd</td>\n",
              "      <td>1950.0</td>\n",
              "      <td>Unf</td>\n",
              "      <td>1</td>\n",
              "      <td>240</td>\n",
              "      <td>TA</td>\n",
              "      <td>TA</td>\n",
              "      <td>Y</td>\n",
              "      <td>366</td>\n",
              "      <td>0</td>\n",
              "      <td>112</td>\n",
              "      <td>0</td>\n",
              "      <td>0</td>\n",
              "      <td>0</td>\n",
              "      <td>NaN</td>\n",
              "      <td>NaN</td>\n",
              "      <td>NaN</td>\n",
              "      <td>0</td>\n",
              "      <td>4</td>\n",
              "      <td>2010</td>\n",
              "      <td>WD</td>\n",
              "      <td>Normal</td>\n",
              "      <td>142125</td>\n",
              "    </tr>\n",
              "    <tr>\n",
              "      <th>1459</th>\n",
              "      <td>1460</td>\n",
              "      <td>20</td>\n",
              "      <td>RL</td>\n",
              "      <td>75.0</td>\n",
              "      <td>9937</td>\n",
              "      <td>Pave</td>\n",
              "      <td>NaN</td>\n",
              "      <td>Reg</td>\n",
              "      <td>Lvl</td>\n",
              "      <td>AllPub</td>\n",
              "      <td>Inside</td>\n",
              "      <td>Gtl</td>\n",
              "      <td>Edwards</td>\n",
              "      <td>Norm</td>\n",
              "      <td>Norm</td>\n",
              "      <td>1Fam</td>\n",
              "      <td>1Story</td>\n",
              "      <td>5</td>\n",
              "      <td>6</td>\n",
              "      <td>1965</td>\n",
              "      <td>1965</td>\n",
              "      <td>Gable</td>\n",
              "      <td>CompShg</td>\n",
              "      <td>HdBoard</td>\n",
              "      <td>HdBoard</td>\n",
              "      <td>None</td>\n",
              "      <td>0.0</td>\n",
              "      <td>Gd</td>\n",
              "      <td>TA</td>\n",
              "      <td>CBlock</td>\n",
              "      <td>TA</td>\n",
              "      <td>TA</td>\n",
              "      <td>No</td>\n",
              "      <td>BLQ</td>\n",
              "      <td>830</td>\n",
              "      <td>LwQ</td>\n",
              "      <td>290</td>\n",
              "      <td>136</td>\n",
              "      <td>1256</td>\n",
              "      <td>GasA</td>\n",
              "      <td>...</td>\n",
              "      <td>Y</td>\n",
              "      <td>SBrkr</td>\n",
              "      <td>1256</td>\n",
              "      <td>0</td>\n",
              "      <td>0</td>\n",
              "      <td>1256</td>\n",
              "      <td>1</td>\n",
              "      <td>0</td>\n",
              "      <td>1</td>\n",
              "      <td>1</td>\n",
              "      <td>3</td>\n",
              "      <td>1</td>\n",
              "      <td>TA</td>\n",
              "      <td>6</td>\n",
              "      <td>Typ</td>\n",
              "      <td>0</td>\n",
              "      <td>NaN</td>\n",
              "      <td>Attchd</td>\n",
              "      <td>1965.0</td>\n",
              "      <td>Fin</td>\n",
              "      <td>1</td>\n",
              "      <td>276</td>\n",
              "      <td>TA</td>\n",
              "      <td>TA</td>\n",
              "      <td>Y</td>\n",
              "      <td>736</td>\n",
              "      <td>68</td>\n",
              "      <td>0</td>\n",
              "      <td>0</td>\n",
              "      <td>0</td>\n",
              "      <td>0</td>\n",
              "      <td>NaN</td>\n",
              "      <td>NaN</td>\n",
              "      <td>NaN</td>\n",
              "      <td>0</td>\n",
              "      <td>6</td>\n",
              "      <td>2008</td>\n",
              "      <td>WD</td>\n",
              "      <td>Normal</td>\n",
              "      <td>147500</td>\n",
              "    </tr>\n",
              "  </tbody>\n",
              "</table>\n",
              "<p>1460 rows × 81 columns</p>\n",
              "</div>"
            ],
            "text/plain": [
              "        Id  MSSubClass MSZoning  ...  SaleType  SaleCondition SalePrice\n",
              "0        1          60       RL  ...        WD         Normal    208500\n",
              "1        2          20       RL  ...        WD         Normal    181500\n",
              "2        3          60       RL  ...        WD         Normal    223500\n",
              "3        4          70       RL  ...        WD        Abnorml    140000\n",
              "4        5          60       RL  ...        WD         Normal    250000\n",
              "...    ...         ...      ...  ...       ...            ...       ...\n",
              "1455  1456          60       RL  ...        WD         Normal    175000\n",
              "1456  1457          20       RL  ...        WD         Normal    210000\n",
              "1457  1458          70       RL  ...        WD         Normal    266500\n",
              "1458  1459          20       RL  ...        WD         Normal    142125\n",
              "1459  1460          20       RL  ...        WD         Normal    147500\n",
              "\n",
              "[1460 rows x 81 columns]"
            ]
          },
          "metadata": {
            "tags": []
          },
          "execution_count": 477
        }
      ]
    },
    {
      "cell_type": "code",
      "metadata": {
        "id": "ySSLjhxEyCqz",
        "colab_type": "code",
        "colab": {}
      },
      "source": [
        "X = np.array(data[[\"GrLivArea\",\"YearBuilt\"]])\n",
        "y = np.array(data['SalePrice']).reshape(-1,)"
      ],
      "execution_count": 478,
      "outputs": []
    },
    {
      "cell_type": "markdown",
      "metadata": {
        "id": "10wzaRHoyCq5",
        "colab_type": "text"
      },
      "source": [
        "##【問題1】ブレンディングのスクラッチ実装\n",
        "\n",
        "ブレンディング をスクラッチ実装し、単一モデルより精度があがる例を 最低3つ 示してください。精度があがるとは、検証用データに対する平均二乗誤差（MSE）が小さくなることを指します。\n"
      ]
    },
    {
      "cell_type": "code",
      "metadata": {
        "id": "jRKFVSjiyCq6",
        "colab_type": "code",
        "colab": {}
      },
      "source": [
        "lr = LinearRegression()\n",
        "svr = SVR()\n",
        "dtr = DecisionTreeRegressor()"
      ],
      "execution_count": 479,
      "outputs": []
    },
    {
      "cell_type": "markdown",
      "metadata": {
        "id": "6LDbBAigyCrA",
        "colab_type": "text"
      },
      "source": [
        "単一モデルの場合(SVR使用)"
      ]
    },
    {
      "cell_type": "code",
      "metadata": {
        "id": "PlTYDsgayCrB",
        "colab_type": "code",
        "colab": {
          "base_uri": "https://localhost:8080/",
          "height": 89
        },
        "outputId": "9e7d19ea-170c-4f40-c345-4a9f1c31db84"
      },
      "source": [
        "X_train, X_val, y_train, y_val = train_test_split(X, y, test_size=0.2, random_state=100)\n",
        "print(X_train.shape)\n",
        "print(X_val.shape)\n",
        "print(y_train.shape)\n",
        "print(y_val.shape)"
      ],
      "execution_count": 480,
      "outputs": [
        {
          "output_type": "stream",
          "text": [
            "(1168, 2)\n",
            "(292, 2)\n",
            "(1168,)\n",
            "(292,)\n"
          ],
          "name": "stdout"
        }
      ]
    },
    {
      "cell_type": "code",
      "metadata": {
        "code_folding": [
          0
        ],
        "id": "GN4hPh1HyCrU",
        "colab_type": "code",
        "colab": {}
      },
      "source": [
        "#標準化、対数変換\n",
        "ss = StandardScaler()\n",
        "ss.fit(X_train)\n",
        "X_train = ss.transform(X_train)\n",
        "ss.fit(X_val)\n",
        "X_val = ss.transform(X_val)"
      ],
      "execution_count": 481,
      "outputs": []
    },
    {
      "cell_type": "code",
      "metadata": {
        "id": "wdtLh5HiyCrZ",
        "colab_type": "code",
        "colab": {
          "base_uri": "https://localhost:8080/",
          "height": 35
        },
        "outputId": "578d4b86-2408-42b1-d6a5-a41ee3dfc4cb"
      },
      "source": [
        "lr = LinearRegression()\n",
        "lr.fit(X_train, y_train)\n",
        "y_pred1 = lr.predict(X_val)\n",
        "print (\"線形回帰のMSE: {:.4f}\".format(np.log(mean_squared_error(y_val, y_pred1))))"
      ],
      "execution_count": 482,
      "outputs": [
        {
          "output_type": "stream",
          "text": [
            "線形回帰のMSE: 21.3863\n"
          ],
          "name": "stdout"
        }
      ]
    },
    {
      "cell_type": "code",
      "metadata": {
        "id": "Mg23kbkJyCrg",
        "colab_type": "code",
        "colab": {
          "base_uri": "https://localhost:8080/",
          "height": 35
        },
        "outputId": "b3dc31fb-3ae9-4aee-9380-d425a3eaadd3"
      },
      "source": [
        "svr = SVR()\n",
        "svr.fit(X_train, y_train)\n",
        "y_pred2 = svr.predict(X_val)\n",
        "print (\"SVRのMSE: {:.4f}\".format(np.log(mean_squared_error(y_val, y_pred2))))"
      ],
      "execution_count": 483,
      "outputs": [
        {
          "output_type": "stream",
          "text": [
            "SVRのMSE: 22.6466\n"
          ],
          "name": "stdout"
        }
      ]
    },
    {
      "cell_type": "code",
      "metadata": {
        "id": "eAqCl5DayCrl",
        "colab_type": "code",
        "colab": {
          "base_uri": "https://localhost:8080/",
          "height": 35
        },
        "outputId": "20be241e-d244-4d04-e913-a2bc3766ca14"
      },
      "source": [
        "dtr = DecisionTreeRegressor()\n",
        "dtr.fit(X_train,y_train)\n",
        "y_pred3 = dtr.predict(X_val)\n",
        "print (\"決定木のMSE: {:.4f}\".format(np.log(mean_squared_error(y_val, y_pred3))))"
      ],
      "execution_count": 484,
      "outputs": [
        {
          "output_type": "stream",
          "text": [
            "決定木のMSE: 21.6699\n"
          ],
          "name": "stdout"
        }
      ]
    },
    {
      "cell_type": "code",
      "metadata": {
        "code_folding": [
          0
        ],
        "id": "JuUkJ4yNyCrO",
        "colab_type": "code",
        "colab": {}
      },
      "source": [
        "def blending(y_val, pred1, pred2, pred3):\n",
        "    pred_all = (pred1 + pred2 + pred3) / 3\n",
        "    return print(\"ブレンディングのMSE: {:.4f}\".format(np.log(mean_squared_error(y_val, pred_all))))"
      ],
      "execution_count": 485,
      "outputs": []
    },
    {
      "cell_type": "code",
      "metadata": {
        "id": "_LT5EncXyCrr",
        "colab_type": "code",
        "colab": {
          "base_uri": "https://localhost:8080/",
          "height": 35
        },
        "outputId": "16bd368d-ab8b-499b-8723-af90ff3261fa"
      },
      "source": [
        "blending(y_val, y_pred1, y_pred2, y_pred3)"
      ],
      "execution_count": 486,
      "outputs": [
        {
          "output_type": "stream",
          "text": [
            "ブレンディングのMSE: 21.5369\n"
          ],
          "name": "stdout"
        }
      ]
    },
    {
      "cell_type": "markdown",
      "metadata": {
        "id": "W8PFIoytyCrN",
        "colab_type": "text"
      },
      "source": [
        "ブレンディングの場合"
      ]
    },
    {
      "cell_type": "markdown",
      "metadata": {
        "id": "Ih87NlT_-Qp0",
        "colab_type": "text"
      },
      "source": [
        "・決定木パラメーター調整"
      ]
    },
    {
      "cell_type": "code",
      "metadata": {
        "id": "JSKMNwF3-RRP",
        "colab_type": "code",
        "colab": {
          "base_uri": "https://localhost:8080/",
          "height": 35
        },
        "outputId": "eb2a9bbb-2b33-427b-b57c-b96b81e2ea0a"
      },
      "source": [
        "dtrt = DecisionTreeRegressor(max_depth=6)# max_depth=6がベスト\n",
        "dtrt.fit(X_train,y_train)\n",
        "yn_pred3 = dtrt.predict(X_val)\n",
        "print (\"決定木のMSE: {:.4f}\".format(np.log(mean_squared_error(y_val, yn_pred3))))"
      ],
      "execution_count": 487,
      "outputs": [
        {
          "output_type": "stream",
          "text": [
            "決定木のMSE: 21.2897\n"
          ],
          "name": "stdout"
        }
      ]
    },
    {
      "cell_type": "markdown",
      "metadata": {
        "id": "ZlauVYCHAXeV",
        "colab_type": "text"
      },
      "source": [
        "精度向上"
      ]
    },
    {
      "cell_type": "markdown",
      "metadata": {
        "id": "BweUsKUazH6Q",
        "colab_type": "text"
      },
      "source": [
        "・sklearnのPipelineとGridSearchCVを使用し、PCAのパラメーターとSVRのパラメーターをいっぺんにグリッドサーチしてみよう\n",
        "\n"
      ]
    },
    {
      "cell_type": "code",
      "metadata": {
        "id": "4LeL98AizHQC",
        "colab_type": "code",
        "colab": {}
      },
      "source": [
        "from sklearn.decomposition import PCA\n",
        "from sklearn.pipeline import Pipeline\n",
        "\n",
        "pl1 = Pipeline([['pca', PCA(random_state=826)],\n",
        "                ['svr', SVR(kernel='linear')]])"
      ],
      "execution_count": 488,
      "outputs": []
    },
    {
      "cell_type": "code",
      "metadata": {
        "id": "v9xqUTPX5M87",
        "colab_type": "code",
        "colab": {}
      },
      "source": [
        "prms1 = {'pca__n_components': [0,0.1, 0.5, 0.9],\n",
        "         'svr__C': [0,0.1, 0.5, 1.],\n",
        "         'svr__epsilon': [0,0.05, 0.10, 0.20]}"
      ],
      "execution_count": 489,
      "outputs": []
    },
    {
      "cell_type": "code",
      "metadata": {
        "id": "eL_5RHpF5M_b",
        "colab_type": "code",
        "colab": {
          "base_uri": "https://localhost:8080/",
          "height": 719
        },
        "outputId": "9f7e86b0-42c5-424e-a521-9474a9f9904c"
      },
      "source": [
        "from sklearn.model_selection import GridSearchCV\n",
        "gs1 = GridSearchCV(pl1, prms1, n_jobs=-1, return_train_score=True, cv=5, verbose=10)\n",
        "gs1.fit(X_train, y_train)\n"
      ],
      "execution_count": 490,
      "outputs": [
        {
          "output_type": "stream",
          "text": [
            "Fitting 5 folds for each of 64 candidates, totalling 320 fits\n"
          ],
          "name": "stdout"
        },
        {
          "output_type": "stream",
          "text": [
            "[Parallel(n_jobs=-1)]: Using backend LokyBackend with 2 concurrent workers.\n",
            "[Parallel(n_jobs=-1)]: Batch computation too fast (0.0062s.) Setting batch_size=2.\n",
            "[Parallel(n_jobs=-1)]: Batch computation too fast (0.0062s.) Setting batch_size=4.\n",
            "[Parallel(n_jobs=-1)]: Done   2 tasks      | elapsed:    0.0s\n",
            "[Parallel(n_jobs=-1)]: Done   8 tasks      | elapsed:    0.1s\n",
            "[Parallel(n_jobs=-1)]: Batch computation too fast (0.0230s.) Setting batch_size=8.\n",
            "[Parallel(n_jobs=-1)]: Batch computation too fast (0.0400s.) Setting batch_size=16.\n",
            "[Parallel(n_jobs=-1)]: Done  36 tasks      | elapsed:    0.2s\n",
            "[Parallel(n_jobs=-1)]: Batch computation too fast (0.0786s.) Setting batch_size=32.\n",
            "[Parallel(n_jobs=-1)]: Done 100 tasks      | elapsed:    0.4s\n",
            "[Parallel(n_jobs=-1)]: Batch computation too slow (2.3423s.) Setting batch_size=4.\n",
            "[Parallel(n_jobs=-1)]: Batch computation too slow (2.1967s.) Setting batch_size=1.\n",
            "[Parallel(n_jobs=-1)]: Done 221 tasks      | elapsed:    5.4s\n",
            "[Parallel(n_jobs=-1)]: Batch computation too fast (0.0194s.) Setting batch_size=2.\n",
            "[Parallel(n_jobs=-1)]: Batch computation too fast (0.0146s.) Setting batch_size=4.\n",
            "[Parallel(n_jobs=-1)]: Done 270 tasks      | elapsed:    6.0s\n",
            "[Parallel(n_jobs=-1)]: Done 306 tasks      | elapsed:    7.6s\n",
            "[Parallel(n_jobs=-1)]: Done 320 out of 320 | elapsed:    8.0s finished\n"
          ],
          "name": "stderr"
        },
        {
          "output_type": "execute_result",
          "data": {
            "text/plain": [
              "GridSearchCV(cv=5, error_score=nan,\n",
              "             estimator=Pipeline(memory=None,\n",
              "                                steps=[['pca',\n",
              "                                        PCA(copy=True, iterated_power='auto',\n",
              "                                            n_components=None, random_state=826,\n",
              "                                            svd_solver='auto', tol=0.0,\n",
              "                                            whiten=False)],\n",
              "                                       ['svr',\n",
              "                                        SVR(C=1.0, cache_size=200, coef0=0.0,\n",
              "                                            degree=3, epsilon=0.1,\n",
              "                                            gamma='scale', kernel='linear',\n",
              "                                            max_iter=-1, shrinking=True,\n",
              "                                            tol=0.001, verbose=False)]],\n",
              "                                verbose=False),\n",
              "             iid='deprecated', n_jobs=-1,\n",
              "             param_grid={'pca__n_components': [0, 0.1, 0.5, 0.9],\n",
              "                         'svr__C': [0, 0.1, 0.5, 1.0],\n",
              "                         'svr__epsilon': [0, 0.05, 0.1, 0.2]},\n",
              "             pre_dispatch='2*n_jobs', refit=True, return_train_score=True,\n",
              "             scoring=None, verbose=10)"
            ]
          },
          "metadata": {
            "tags": []
          },
          "execution_count": 490
        }
      ]
    },
    {
      "cell_type": "code",
      "metadata": {
        "id": "cuaTnff65NF1",
        "colab_type": "code",
        "colab": {
          "base_uri": "https://localhost:8080/",
          "height": 35
        },
        "outputId": "74d5d84b-6abd-49f8-e006-d70434793a75"
      },
      "source": [
        "print (\"SVRのMSE: {:.4f}\".format(np.log(mean_squared_error(gs1.predict(X_val),y_val))))"
      ],
      "execution_count": 491,
      "outputs": [
        {
          "output_type": "stream",
          "text": [
            "SVRのMSE: 22.6286\n"
          ],
          "name": "stdout"
        }
      ]
    },
    {
      "cell_type": "markdown",
      "metadata": {
        "id": "gdZlWxN06LAs",
        "colab_type": "text"
      },
      "source": [
        "0.2下がったがほとんど差がない\n",
        "\n",
        "PCA使用しないSVRは？"
      ]
    },
    {
      "cell_type": "code",
      "metadata": {
        "id": "LQ75vmLT5NEK",
        "colab_type": "code",
        "colab": {
          "base_uri": "https://localhost:8080/",
          "height": 377
        },
        "outputId": "1a22b84e-1437-4138-a5d9-115972c7763f"
      },
      "source": [
        "prms2 = {'C': [0,0.1, 0.5, 1.],\n",
        "        'epsilon': [0,0.05, 0.10, 0.20]}\n",
        "gs2 = GridSearchCV(SVR(kernel='linear'), prms2, n_jobs=-1, return_train_score=True, cv=5, verbose=10)\n",
        "gs2.fit(X_train, y_train)"
      ],
      "execution_count": 492,
      "outputs": [
        {
          "output_type": "stream",
          "text": [
            "[Parallel(n_jobs=-1)]: Using backend LokyBackend with 2 concurrent workers.\n",
            "[Parallel(n_jobs=-1)]: Done   1 tasks      | elapsed:    0.0s\n",
            "[Parallel(n_jobs=-1)]: Batch computation too fast (0.0050s.) Setting batch_size=2.\n",
            "[Parallel(n_jobs=-1)]: Done   4 tasks      | elapsed:    0.0s\n",
            "[Parallel(n_jobs=-1)]: Batch computation too fast (0.0108s.) Setting batch_size=4.\n",
            "[Parallel(n_jobs=-1)]: Done  16 tasks      | elapsed:    0.0s\n",
            "[Parallel(n_jobs=-1)]: Batch computation too fast (0.0131s.) Setting batch_size=8.\n"
          ],
          "name": "stderr"
        },
        {
          "output_type": "stream",
          "text": [
            "Fitting 5 folds for each of 16 candidates, totalling 80 fits\n"
          ],
          "name": "stdout"
        },
        {
          "output_type": "stream",
          "text": [
            "[Parallel(n_jobs=-1)]: Done  44 tasks      | elapsed:    1.0s\n",
            "[Parallel(n_jobs=-1)]: Done  80 out of  80 | elapsed:    2.5s finished\n"
          ],
          "name": "stderr"
        },
        {
          "output_type": "execute_result",
          "data": {
            "text/plain": [
              "GridSearchCV(cv=5, error_score=nan,\n",
              "             estimator=SVR(C=1.0, cache_size=200, coef0=0.0, degree=3,\n",
              "                           epsilon=0.1, gamma='scale', kernel='linear',\n",
              "                           max_iter=-1, shrinking=True, tol=0.001,\n",
              "                           verbose=False),\n",
              "             iid='deprecated', n_jobs=-1,\n",
              "             param_grid={'C': [0, 0.1, 0.5, 1.0],\n",
              "                         'epsilon': [0, 0.05, 0.1, 0.2]},\n",
              "             pre_dispatch='2*n_jobs', refit=True, return_train_score=True,\n",
              "             scoring=None, verbose=10)"
            ]
          },
          "metadata": {
            "tags": []
          },
          "execution_count": 492
        }
      ]
    },
    {
      "cell_type": "code",
      "metadata": {
        "id": "EgLSYKMv5NCa",
        "colab_type": "code",
        "colab": {
          "base_uri": "https://localhost:8080/",
          "height": 35
        },
        "outputId": "39fa6f2b-24b9-4823-830c-a7d2ec0ad893"
      },
      "source": [
        "print (\"SVRのMSE: {:.4f}\".format(np.log(mean_squared_error(gs2.predict(X_val),y_val))))"
      ],
      "execution_count": 493,
      "outputs": [
        {
          "output_type": "stream",
          "text": [
            "SVRのMSE: 22.6286\n"
          ],
          "name": "stdout"
        }
      ]
    },
    {
      "cell_type": "markdown",
      "metadata": {
        "id": "HnZd4NVq7dDS",
        "colab_type": "text"
      },
      "source": [
        "PCAの有無での差はないが、グリッドサーチを使用すると多少数値が良くなる\n",
        "\n"
      ]
    },
    {
      "cell_type": "code",
      "metadata": {
        "id": "3Vo6i6Q_7cro",
        "colab_type": "code",
        "colab": {}
      },
      "source": [
        "#モデルにfor文で重みを調整する\n",
        "\n",
        "def blend(pred1,pred2,pred3,y_val):\n",
        "\n",
        "    y3= 100\n",
        "    best_param={}\n",
        "    #重み計算\n",
        "    for x1 in np.arange(0.1, 2.0, 0.2):\n",
        "        for x2 in np.arange(0.1, 2.0, 0.2):\n",
        "            for x3 in np.arange(0.1, 2.0, 0.2):\n",
        "                #モデルに重みかける\n",
        "                y_pred_all = (y_pred1 * x1 + y_pred2 * x2 + y_pred3 * x3) / 3\n",
        "                # MSE\n",
        "                mse = (np.log(mean_squared_error(y_val, y_pred_all)))\n",
        "                best_param[mse] = [x1, x2, x3]\n",
        "                y3 = min(y3, mse)\n",
        "\n",
        "    print(\"重み調整のブレンディングのMSE: {:.4f}\".format(y3)) # MSE\n",
        "    print(\"ベストパラメーター: {}\".format(best_param[y3])) #もっとも値の良い重みを出している"
      ],
      "execution_count": 494,
      "outputs": []
    },
    {
      "cell_type": "code",
      "metadata": {
        "id": "jQxSsDOYBRAr",
        "colab_type": "code",
        "colab": {
          "base_uri": "https://localhost:8080/",
          "height": 53
        },
        "outputId": "897b72df-6927-4e9d-a848-2d4d2fe6f919"
      },
      "source": [
        "blend(y_pred1,y_pred2,y_pred3,y_val)"
      ],
      "execution_count": 495,
      "outputs": [
        {
          "output_type": "stream",
          "text": [
            "重み調整のブレンディングのMSE: 21.2799\n",
            "ベストパラメーター: [1.9000000000000004, 0.1, 1.1000000000000003]\n"
          ],
          "name": "stdout"
        }
      ]
    },
    {
      "cell_type": "code",
      "metadata": {
        "id": "WMy3DQDSC9pn",
        "colab_type": "code",
        "colab": {
          "base_uri": "https://localhost:8080/",
          "height": 71
        },
        "outputId": "e1cb7cf0-9228-4061-c04a-e370356b6aa1"
      },
      "source": [
        "blending(y_val, y_pred1, y_pred2, y_pred3)\n",
        "blend(y_pred1, y_pred2, yn_pred3, y_val)"
      ],
      "execution_count": 496,
      "outputs": [
        {
          "output_type": "stream",
          "text": [
            "ブレンディングのMSE: 21.5369\n",
            "重み調整のブレンディングのMSE: 21.2799\n",
            "ベストパラメーター: [1.9000000000000004, 0.1, 1.1000000000000003]\n"
          ],
          "name": "stdout"
        }
      ]
    },
    {
      "cell_type": "markdown",
      "metadata": {
        "id": "mPzBe8C8CvFa",
        "colab_type": "text"
      },
      "source": [
        "精度向上　大・中・小\n",
        "\n",
        "1.決定木パラメーター調整　大\n",
        "\n",
        "2.グリッドサーチ&PCA　小\n",
        "\n",
        "3.重み調整　大"
      ]
    },
    {
      "cell_type": "markdown",
      "metadata": {
        "id": "stTaLbdeyCrw",
        "colab_type": "text"
      },
      "source": [
        "##バギングとは\n",
        "\n",
        "バギングは入力データの選び方を多様化する方法です。学習データから重複を許した上でランダムに抜き出すことで、N種類のサブセット（ ブートストラップサンプル ）を作り出します。それらによってモデルをN個学習し、推定結果の平均をとります。ブレンディングと異なり、それぞれの重み付けを変えることはありません。\n",
        "\n",
        "\n",
        "[sklearn.model_selection.train_test_split — scikit-learn 0.21.3 documentation](https://scikit-learn.org/stable/modules/generated/sklearn.model_selection.train_test_split.html)\n",
        "\n",
        "\n",
        "scikit-learnのtrain_test_splitを、shuffleパラメータをTrueにして使うことで、ランダムにデータを分割することができます。これによりブートストラップサンプルが手に入ります。\n",
        "\n",
        "\n",
        "推定結果の平均をとる部分はブースティングと同様の実装になります。"
      ]
    },
    {
      "cell_type": "markdown",
      "metadata": {
        "id": "tt0dbPz-yCrx",
        "colab_type": "text"
      },
      "source": [
        "##【問題2】バギングのスクラッチ実装\n",
        "\n",
        "バギング をスクラッチ実装し、単一モデルより精度があがる例を 最低1つ 示してください。"
      ]
    },
    {
      "cell_type": "markdown",
      "metadata": {
        "id": "OfcktHPwKYvh",
        "colab_type": "text"
      },
      "source": [
        "単一の場合"
      ]
    },
    {
      "cell_type": "code",
      "metadata": {
        "id": "8s-JW3ZgyCry",
        "colab_type": "code",
        "colab": {
          "base_uri": "https://localhost:8080/",
          "height": 89
        },
        "outputId": "fe66b9be-2db8-4f9b-a9b3-dd32a89106bb"
      },
      "source": [
        "X_train1, X_val1, y_train1, y_val1 = train_test_split(X, y, test_size=0.2, random_state = 0)\n",
        "print(X_train1.shape)\n",
        "print(X_val1.shape)\n",
        "print(y_train1.shape)\n",
        "print(y_val1.shape)"
      ],
      "execution_count": 497,
      "outputs": [
        {
          "output_type": "stream",
          "text": [
            "(1168, 2)\n",
            "(292, 2)\n",
            "(1168,)\n",
            "(292,)\n"
          ],
          "name": "stdout"
        }
      ]
    },
    {
      "cell_type": "code",
      "metadata": {
        "id": "jODpVB6PKbdi",
        "colab_type": "code",
        "colab": {
          "base_uri": "https://localhost:8080/",
          "height": 35
        },
        "outputId": "b0910149-aa14-4aa4-8759-20bd081e8683"
      },
      "source": [
        "lr2 = LinearRegression()\n",
        "lr2.fit(X_train1,y_train1)\n",
        "yb_pred1 = lr2.predict(X_val1)\n",
        "mse = (np.log(mean_squared_error(y_val1, yb_pred1)))\n",
        "print(\"線形回帰のMSE :{:.2f}\".format(mse))"
      ],
      "execution_count": 498,
      "outputs": [
        {
          "output_type": "stream",
          "text": [
            "線形回帰のMSE :21.80\n"
          ],
          "name": "stdout"
        }
      ]
    },
    {
      "cell_type": "code",
      "metadata": {
        "id": "pd37Ew2NKanK",
        "colab_type": "code",
        "colab": {
          "base_uri": "https://localhost:8080/",
          "height": 35
        },
        "outputId": "a11a7a99-f16f-4dc4-b96d-6777b1e2fd86"
      },
      "source": [
        "svr2 = SVR()\n",
        "svr2.fit(X_train1,y_train1)\n",
        "yb_pred2 = svr2.predict(X_val1)\n",
        "mse = (np.log(mean_squared_error(y_val1, yb_pred2)))\n",
        "print(\"SVRのMSE :{:.2f}\".format(mse))"
      ],
      "execution_count": 499,
      "outputs": [
        {
          "output_type": "stream",
          "text": [
            "SVRのMSE :22.70\n"
          ],
          "name": "stdout"
        }
      ]
    },
    {
      "cell_type": "code",
      "metadata": {
        "id": "_sfo23tmXzQi",
        "colab_type": "code",
        "colab": {
          "base_uri": "https://localhost:8080/",
          "height": 35
        },
        "outputId": "584c8a73-89fd-4951-dc81-4fdd7dea0164"
      },
      "source": [
        "dtr2 = DecisionTreeRegressor()\n",
        "dtr2.fit(X_train1,y_train1)\n",
        "yb_pred3 = dtr2.predict(X_val1)\n",
        "mse = (np.log(mean_squared_error(y_val1, yb_pred3)))\n",
        "print(\"決定木のMSE :{:.2f}\".format(mse))"
      ],
      "execution_count": 500,
      "outputs": [
        {
          "output_type": "stream",
          "text": [
            "決定木のMSE :21.91\n"
          ],
          "name": "stdout"
        }
      ]
    },
    {
      "cell_type": "markdown",
      "metadata": {
        "id": "s9PiahubMrKQ",
        "colab_type": "text"
      },
      "source": [
        "バギングのスクラッチ"
      ]
    },
    {
      "cell_type": "code",
      "metadata": {
        "id": "nVHvCuHA2s_X",
        "colab_type": "code",
        "colab": {}
      },
      "source": [
        "def bagging(X, y, model, k):\n",
        "\n",
        "    np.random.seed(0)\n",
        "    # model判別\n",
        "    if model == \"LinearRegression\":\n",
        "        model = LinearRegression()\n",
        "    elif model == \"SVR\":\n",
        "        model = SVR()\n",
        "    elif model == \"DecisionTreeRegressor\":\n",
        "        model = DecisionTreeRegressor(random_state=0)\n",
        "    \n",
        "    for i in range(k):\n",
        "        #ブートストラップサンプル\n",
        "        X_train2, X_val2, y_train2, y_val2 = train_test_split(X, y, shuffle=True, test_size=0.5, random_state = None)\n",
        "        model.fit(X_train2, y_train2)\n",
        "        pred = model.predict(X_val2)\n",
        "    mse = (np.log(mean_squared_error(y_val2, pred)))\n",
        "    return print(\"MSE :{:.2f}\".format(mse))"
      ],
      "execution_count": 501,
      "outputs": []
    },
    {
      "cell_type": "code",
      "metadata": {
        "id": "j7l7mmsrHoSP",
        "colab_type": "code",
        "colab": {
          "base_uri": "https://localhost:8080/",
          "height": 71
        },
        "outputId": "89d8fc9c-e150-4c45-e690-cd983c85c68d"
      },
      "source": [
        "#lr\n",
        "bagging(X,y,\"LinearRegression\",3)\n",
        "#svr\n",
        "bagging(X,y,\"SVR\",3)\n",
        "#dtr\n",
        "bagging(X,y,\"DecisionTreeRegressor\",3)"
      ],
      "execution_count": 502,
      "outputs": [
        {
          "output_type": "stream",
          "text": [
            "MSE :21.54\n",
            "MSE :22.48\n",
            "MSE :21.63\n"
          ],
          "name": "stdout"
        }
      ]
    },
    {
      "cell_type": "markdown",
      "metadata": {
        "id": "BwFhcyeQnllC",
        "colab_type": "text"
      },
      "source": [
        "MSE向上"
      ]
    },
    {
      "cell_type": "markdown",
      "metadata": {
        "id": "3RLbfjDmDnG1",
        "colab_type": "text"
      },
      "source": [
        "##スタッキングとは\n",
        "\n",
        "スタッキングの手順は以下の通りです。最低限ステージ0とステージ1があればスタッキングは成立するため、それを実装してください。まずは $K_0=3, M_0=2$ 程度にします。\n",
        "\n",
        "\n",
        "《学習時》\n",
        "\n",
        "\n",
        "（ステージ $0$ ）\n",
        "\n",
        "\n",
        "・学習データを $K_0$ 個に分割する。\n",
        "\n",
        "・分割した内の $(K_0 - 1)$ 個をまとめて学習用データ、残り $1$ 個を推定用データとする組み合わせが $K_0$ 個作れる。\n",
        "\n",
        "・あるモデルのインスタンスを $K_0$ 個用意し、異なる学習用データを使い学習する。\n",
        "・それぞれの学習済みモデルに対して、使っていない残り $1$ 個の推定用データを入力し、推定値を得る。（これをブレンドデータと呼ぶ）\n",
        "\n",
        "・さらに、異なるモデルのインスタンスも $K_0$ 個用意し、同様のことを行う。モデルが $M_0$ 個あれば、 $M_0$ 個のブレンドデータが得られる。\n",
        "\n",
        "（ステージ $n$ ）\n",
        "\n",
        "\n",
        "・ステージ $n-1$ のブレンドデータを$M_{n-1}$ 次元の特徴量を持つ学習用データと考え、 $K_n$ 個に分割する。以下同様である。\n",
        "\n",
        "（ステージ $N$ ）＊最後のステージ\n",
        "\n",
        "\n",
        "・ステージ $N-1$ の $M_{N-1}$ 個のブレンドデータを$M_{N-1}$ 次元の特徴量の入力として、1種類のモデルの学習を行う。これが最終的な推定を行うモデルとなる。\n",
        "\n",
        "《推定時》\n",
        "\n",
        "\n",
        "（ステージ $0$ ）\n",
        "\n",
        "\n",
        "・テストデータを $K_0×M_0$ 個の学習済みモデルに入力し、$K_0×M_0$ 個の推定値を得る。これを $K_0$ の軸で平均値を求め $M_0$ 次元の特徴量を持つデータを得る。（ブレンドテストと呼ぶ）\n",
        "\n",
        "（ステージ $n$ ）\n",
        "\n",
        "\n",
        "・ステージ $n-1$ で得たブレンドテストを $K_n×M_n$ 個の学習済みモデルに入力し、$K_n×M_n$ 個の推定値を得る。これを $K_n$ の軸で平均値を求め $M_0$ 次元の特徴量を持つデータを得る。（ブレンドテストと呼ぶ）\n",
        "\n",
        "（ステージ $N$ ）＊最後のステージ\n",
        "\n",
        "\n",
        "・ステージ $N-1$ で得たブレンドテストを学習済みモデルに入力し、推定値を得る。"
      ]
    },
    {
      "cell_type": "markdown",
      "metadata": {
        "id": "DgLkEKRFELcf",
        "colab_type": "text"
      },
      "source": [
        "##【問題3】スタッキングのスクラッチ実装\n",
        "\n",
        "スタッキング をスクラッチ実装し、単一モデルより精度があがる例を 最低1つ 示してください。"
      ]
    },
    {
      "cell_type": "markdown",
      "metadata": {
        "id": "EDO566ITmiOx",
        "colab_type": "text"
      },
      "source": [
        "[参考](https://rin-effort.com/2020/02/09/learn-stacking/#toc2)"
      ]
    },
    {
      "cell_type": "code",
      "metadata": {
        "id": "ZhmNn9B5gaup",
        "colab_type": "code",
        "colab": {
          "base_uri": "https://localhost:8080/",
          "height": 89
        },
        "outputId": "7db03ef7-d682-47ef-cb17-33e65f01cb61"
      },
      "source": [
        "X_train3, X_val3, y_train3, y_val3 = train_test_split(X, y, test_size=0.2, random_state = 0)\n",
        "print(X_train3.shape)\n",
        "print(X_val3.shape)\n",
        "print(y_train3.shape)\n",
        "print(y_val3.shape)"
      ],
      "execution_count": 503,
      "outputs": [
        {
          "output_type": "stream",
          "text": [
            "(1168, 2)\n",
            "(292, 2)\n",
            "(1168,)\n",
            "(292,)\n"
          ],
          "name": "stdout"
        }
      ]
    },
    {
      "cell_type": "markdown",
      "metadata": {
        "id": "DwI2fZ15hAS1",
        "colab_type": "text"
      },
      "source": [
        "単一の場合"
      ]
    },
    {
      "cell_type": "code",
      "metadata": {
        "id": "1uxn61QXEGcq",
        "colab_type": "code",
        "colab": {
          "base_uri": "https://localhost:8080/",
          "height": 35
        },
        "outputId": "dad70ef5-cdff-4917-a960-dc9a915a4891"
      },
      "source": [
        "lr3 = LinearRegression()\n",
        "lr3.fit(X_train3,y_train3)\n",
        "t_pred1 = lr3.predict(X_val3)\n",
        "mse = (np.log(mean_squared_error(y_val3, t_pred1)))\n",
        "print(\"決定木のMSE :{:.2f}\".format(mse))"
      ],
      "execution_count": 504,
      "outputs": [
        {
          "output_type": "stream",
          "text": [
            "決定木のMSE :21.80\n"
          ],
          "name": "stdout"
        }
      ]
    },
    {
      "cell_type": "code",
      "metadata": {
        "id": "pQA_rDE9gm5y",
        "colab_type": "code",
        "colab": {
          "base_uri": "https://localhost:8080/",
          "height": 35
        },
        "outputId": "618522f7-5cdb-4771-98f2-8dd1f2e1d26d"
      },
      "source": [
        "svr3 =SVR()\n",
        "svr3.fit(X_train3,y_train3)\n",
        "t_pred2 = svr3.predict(X_val3)\n",
        "mse = (np.log(mean_squared_error(y_val3, t_pred2)))\n",
        "print(\"決定木のMSE :{:.2f}\".format(mse))"
      ],
      "execution_count": 505,
      "outputs": [
        {
          "output_type": "stream",
          "text": [
            "決定木のMSE :22.70\n"
          ],
          "name": "stdout"
        }
      ]
    },
    {
      "cell_type": "code",
      "metadata": {
        "id": "9L0ZEhTogmsw",
        "colab_type": "code",
        "colab": {
          "base_uri": "https://localhost:8080/",
          "height": 35
        },
        "outputId": "c927fc59-9cf0-4325-e27f-49ea100b8c3e"
      },
      "source": [
        "dtr3 = DecisionTreeRegressor()\n",
        "dtr3.fit(X_train3,y_train3)\n",
        "t_pred3 = dtr3.predict(X_val3)\n",
        "mse = (np.log(mean_squared_error(y_val3, t_pred3)))\n",
        "print(\"決定木のMSE :{:.2f}\".format(mse))"
      ],
      "execution_count": 506,
      "outputs": [
        {
          "output_type": "stream",
          "text": [
            "決定木のMSE :21.90\n"
          ],
          "name": "stdout"
        }
      ]
    },
    {
      "cell_type": "code",
      "metadata": {
        "id": "vR74X8360Kmw",
        "colab_type": "code",
        "colab": {
          "base_uri": "https://localhost:8080/",
          "height": 35
        },
        "outputId": "a2d00081-6273-4e80-da05-eed94c86c0ab"
      },
      "source": [
        "def test(y_val, pred1, pred2, pred3):\n",
        "    pred_all = (pred1 + pred2 + pred3) / 3\n",
        "    return print(\"スタッキングのMSE: {:.4f}\".format(np.log(mean_squared_error(y_val, pred_all))))\n",
        "\n",
        "test(y_val3, t_pred1, t_pred2, t_pred3)"
      ],
      "execution_count": 507,
      "outputs": [
        {
          "output_type": "stream",
          "text": [
            "スタッキングのMSE: 21.7483\n"
          ],
          "name": "stdout"
        }
      ]
    },
    {
      "cell_type": "markdown",
      "metadata": {
        "id": "81cbd62ahC4u",
        "colab_type": "text"
      },
      "source": [
        "スタッキングの場合"
      ]
    },
    {
      "cell_type": "markdown",
      "metadata": {
        "id": "MJ_IKHHgnWIW",
        "colab_type": "text"
      },
      "source": [
        "[参考](http://segafreder.hatenablog.com/entry/2016/05/24/235822)"
      ]
    },
    {
      "cell_type": "code",
      "metadata": {
        "id": "-BIfo7ogqiFx",
        "colab_type": "code",
        "colab": {}
      },
      "source": [
        "X_train = data[[\"GrLivArea\",\"YearBuilt\"]]\n",
        "y_train = data[\"SalePrice\"]\n",
        "X_val = data[[\"GrLivArea\",\"YearBuilt\"]]"
      ],
      "execution_count": 508,
      "outputs": []
    },
    {
      "cell_type": "code",
      "metadata": {
        "id": "62uZaDC2LiCD",
        "colab_type": "code",
        "colab": {}
      },
      "source": [
        "from sklearn.model_selection import KFold"
      ],
      "execution_count": 509,
      "outputs": []
    },
    {
      "cell_type": "code",
      "metadata": {
        "id": "QeRZZ0k8mzfg",
        "colab_type": "code",
        "colab": {}
      },
      "source": [
        "def stacking(model, train_x, train_y, test_x):\n",
        "    preds = []\n",
        "    preds_test = []\n",
        "    va_idxes = []\n",
        "\n",
        "    kf = KFold(n_splits=4, shuffle=True, random_state=71)\n",
        "\n",
        "    # クロスバリデーションで学習,予測し、予測値とインデックスを保存する\n",
        "    for i, (tr_idx, va_idx) in enumerate(kf.split(train_x)):\n",
        "        tr_x, va_x = train_x.iloc[tr_idx], train_x.iloc[va_idx]\n",
        "        tr_y, va_y = train_y.iloc[tr_idx], train_y.iloc[va_idx]\n",
        "        model.fit(tr_x, tr_y, va_x, va_y)\n",
        "        pred = model.predict(va_x)\n",
        "        preds.append(pred)\n",
        "        pred_test = model.predict(test_x)\n",
        "        preds_test.append(pred_test)\n",
        "        va_idxes.append(va_idx)\n",
        "\n",
        "    # バリデーションデータに対する予測値を連結し、その後元の順序に並べ直す\n",
        "    va_idxes = np.concatenate(va_idxes)\n",
        "    preds = np.concatenate(preds, axis=0)\n",
        "    #配列のインデックス返す\n",
        "    order = np.argsort(va_idxes)\n",
        "    #print(order)\n",
        "    pred_train = preds[order]\n",
        "\n",
        "    # テストデータに対する予測値の平均をとる\n",
        "    preds_test = np.mean(preds_test, axis=0)\n",
        "\n",
        "    return pred_train, preds_test\n"
      ],
      "execution_count": 510,
      "outputs": []
    },
    {
      "cell_type": "markdown",
      "metadata": {
        "id": "LggQJeDKrx_8",
        "colab_type": "text"
      },
      "source": [
        "学習する時 fit,予測するときはpredictが統一できるので便利"
      ]
    },
    {
      "cell_type": "code",
      "metadata": {
        "id": "W6vN2tR7sjSy",
        "colab_type": "code",
        "colab": {}
      },
      "source": [
        "#lr\n",
        "class Model1LR:\n",
        "    def __init__(self):\n",
        "        self.model = None\n",
        "        self.scaler = None\n",
        "\n",
        "    def fit(self, tr_x, tr_y, va_x, va_y):\n",
        "        self.scaler = StandardScaler()\n",
        "        self.scaler.fit(tr_x)\n",
        "        tr_x = self.scaler.transform(tr_x)\n",
        "        self.model = LinearRegression()\n",
        "        self.model.fit(tr_x, tr_y)\n",
        "\n",
        "    def predict(self, x):\n",
        "        x = self.scaler.transform(x)\n",
        "        pred = self.model.predict(x)\n",
        "        return pred"
      ],
      "execution_count": 511,
      "outputs": []
    },
    {
      "cell_type": "code",
      "metadata": {
        "id": "jJ8bpmq1sn2Z",
        "colab_type": "code",
        "colab": {}
      },
      "source": [
        "#SVR\n",
        "class Model1SVR:\n",
        "    def __init__(self):\n",
        "        self.model = None\n",
        "        self.scaler = None\n",
        "\n",
        "    def fit(self, tr_x, tr_y, va_x, va_y):\n",
        "        self.scaler = StandardScaler()\n",
        "        self.scaler.fit(tr_x)\n",
        "        tr_x = self.scaler.transform(tr_x)\n",
        "        self.model =SVR()\n",
        "        self.model.fit(tr_x, tr_y)\n",
        "\n",
        "    def predict(self, x):\n",
        "        x = self.scaler.transform(x)\n",
        "        pred = self.model.predict(x)\n",
        "        return pred"
      ],
      "execution_count": 512,
      "outputs": []
    },
    {
      "cell_type": "code",
      "metadata": {
        "id": "UFiyumWCqSzZ",
        "colab_type": "code",
        "colab": {}
      },
      "source": [
        "#TDR\n",
        "class Model1DTR:\n",
        "    def __init__(self):\n",
        "        self.model = None\n",
        "\n",
        "    def fit(self, tr_x, tr_y, va_x, va_y):\n",
        "        self.scaler = StandardScaler()\n",
        "        self.scaler.fit(tr_x)\n",
        "        tr_x = self.scaler.transform(tr_x)\n",
        "        self.model = DecisionTreeRegressor(\n",
        "            max_depth=5,\n",
        "            random_state=10,\n",
        "        )\n",
        "        self.model.fit(tr_x,tr_y)\n",
        "\n",
        "    def predict(self,x):\n",
        "        x = self.scaler.transform(x)\n",
        "        pred = self.model.predict(x)\n",
        "        return pred"
      ],
      "execution_count": 513,
      "outputs": []
    },
    {
      "cell_type": "markdown",
      "metadata": {
        "id": "MmcWSrn5scKI",
        "colab_type": "text"
      },
      "source": [
        "2層目は線形回帰で設定"
      ]
    },
    {
      "cell_type": "code",
      "metadata": {
        "id": "JJ34XX5smzh1",
        "colab_type": "code",
        "colab": {}
      },
      "source": [
        "class Model2LR:\n",
        "    def __init__(self):\n",
        "        self.model = None\n",
        "        self.scaler = None\n",
        "\n",
        "    def fit(self, tr_x, tr_y, va_x, va_y):\n",
        "        self.scaler = StandardScaler()\n",
        "        self.scaler.fit(tr_x)\n",
        "        tr_x = self.scaler.transform(tr_x)\n",
        "        self.model = LinearRegression()\n",
        "        self.model.fit(tr_x, tr_y)\n",
        "\n",
        "    def predict(self, x):\n",
        "        x = self.scaler.transform(x)\n",
        "        pred = self.model.predict(x)\n",
        "        return pred"
      ],
      "execution_count": 514,
      "outputs": []
    },
    {
      "cell_type": "markdown",
      "metadata": {
        "id": "ArH8G6rMsJcM",
        "colab_type": "text"
      },
      "source": [
        "1層目のモデル"
      ]
    },
    {
      "cell_type": "code",
      "metadata": {
        "id": "1GQZZviqqSCh",
        "colab_type": "code",
        "colab": {}
      },
      "source": [
        "model1_lr = Model1LR()\n",
        "pred_train_lr, pred_test_lr = stacking(model1_lr, X_train , y_train, X_val)\n",
        "\n",
        "model1_svr = Model1SVR()\n",
        "pred_train_svr, pred_test_svr = stacking(model1_svr, X_train , y_train, X_val)\n",
        "\n",
        "model1_TDR = Model1DTR()\n",
        "pred_train_dtr, pred_test_dtr = stacking(model1_TDR, X_train , y_train, X_val)"
      ],
      "execution_count": 515,
      "outputs": []
    },
    {
      "cell_type": "markdown",
      "metadata": {
        "id": "1QXDe182sGQH",
        "colab_type": "text"
      },
      "source": [
        "1層目のモデルの評価"
      ]
    },
    {
      "cell_type": "code",
      "metadata": {
        "id": "s5tinpaNsEAt",
        "colab_type": "code",
        "colab": {
          "base_uri": "https://localhost:8080/",
          "height": 71
        },
        "outputId": "68086950-f3a0-4ffe-d913-47896692e7da"
      },
      "source": [
        "print (\"lrのMSE: {:.2f}\".format(np.log(mean_squared_error(y_train, pred_train_lr))))\n",
        "print (\"SVRのMSE: {:.2f}\".format(np.log(mean_squared_error(y_train, pred_train_svr))))\n",
        "print (\"決定木のMSE: {:.2f}\".format(np.log(mean_squared_error(y_train, pred_train_dtr))))"
      ],
      "execution_count": 516,
      "outputs": [
        {
          "output_type": "stream",
          "text": [
            "lrのMSE: 21.51\n",
            "SVRのMSE: 22.61\n",
            "決定木のMSE: 21.42\n"
          ],
          "name": "stdout"
        }
      ]
    },
    {
      "cell_type": "markdown",
      "metadata": {
        "id": "ZloUaNrB6jHC",
        "colab_type": "text"
      },
      "source": [
        "この段階でMSE向上"
      ]
    },
    {
      "cell_type": "markdown",
      "metadata": {
        "id": "8gznVaawtxkj",
        "colab_type": "text"
      },
      "source": [
        "予測値を特徴量としてデータフレームを作成"
      ]
    },
    {
      "cell_type": "code",
      "metadata": {
        "id": "BL-E4AWxmzdB",
        "colab_type": "code",
        "colab": {
          "base_uri": "https://localhost:8080/",
          "height": 141
        },
        "outputId": "288bf845-492c-4624-ba13-afa549df8288"
      },
      "source": [
        "X_train2 = pd.DataFrame({'pred_train_lr': pred_train_lr, 'pred_train_svr': pred_train_svr, 'pred_train_dtr': pred_train_dtr})\n",
        "X_val2 = pd.DataFrame({'pred_test_lr': pred_test_lr, 'pred_test_svr': pred_test_svr, 'pred_test_dtr': pred_test_dtr})\n",
        "\n",
        "X_train2.head(3)"
      ],
      "execution_count": 517,
      "outputs": [
        {
          "output_type": "execute_result",
          "data": {
            "text/html": [
              "<div>\n",
              "<style scoped>\n",
              "    .dataframe tbody tr th:only-of-type {\n",
              "        vertical-align: middle;\n",
              "    }\n",
              "\n",
              "    .dataframe tbody tr th {\n",
              "        vertical-align: top;\n",
              "    }\n",
              "\n",
              "    .dataframe thead th {\n",
              "        text-align: right;\n",
              "    }\n",
              "</style>\n",
              "<table border=\"1\" class=\"dataframe\">\n",
              "  <thead>\n",
              "    <tr style=\"text-align: right;\">\n",
              "      <th></th>\n",
              "      <th>pred_train_lr</th>\n",
              "      <th>pred_train_svr</th>\n",
              "      <th>pred_train_dtr</th>\n",
              "    </tr>\n",
              "  </thead>\n",
              "  <tbody>\n",
              "    <tr>\n",
              "      <th>0</th>\n",
              "      <td>230761.760789</td>\n",
              "      <td>163284.856978</td>\n",
              "      <td>211789.552239</td>\n",
              "    </tr>\n",
              "    <tr>\n",
              "      <th>1</th>\n",
              "      <td>161713.259950</td>\n",
              "      <td>164048.515408</td>\n",
              "      <td>150220.306452</td>\n",
              "    </tr>\n",
              "    <tr>\n",
              "      <th>2</th>\n",
              "      <td>235811.138074</td>\n",
              "      <td>163292.783025</td>\n",
              "      <td>211789.552239</td>\n",
              "    </tr>\n",
              "  </tbody>\n",
              "</table>\n",
              "</div>"
            ],
            "text/plain": [
              "   pred_train_lr  pred_train_svr  pred_train_dtr\n",
              "0  230761.760789   163284.856978   211789.552239\n",
              "1  161713.259950   164048.515408   150220.306452\n",
              "2  235811.138074   163292.783025   211789.552239"
            ]
          },
          "metadata": {
            "tags": []
          },
          "execution_count": 517
        }
      ]
    },
    {
      "cell_type": "code",
      "metadata": {
        "id": "m2PgVDzyuogp",
        "colab_type": "code",
        "colab": {
          "base_uri": "https://localhost:8080/",
          "height": 141
        },
        "outputId": "5d339605-bc01-4b1c-815f-c6827eff8149"
      },
      "source": [
        "X_val2.head(3)"
      ],
      "execution_count": 518,
      "outputs": [
        {
          "output_type": "execute_result",
          "data": {
            "text/html": [
              "<div>\n",
              "<style scoped>\n",
              "    .dataframe tbody tr th:only-of-type {\n",
              "        vertical-align: middle;\n",
              "    }\n",
              "\n",
              "    .dataframe tbody tr th {\n",
              "        vertical-align: top;\n",
              "    }\n",
              "\n",
              "    .dataframe thead th {\n",
              "        text-align: right;\n",
              "    }\n",
              "</style>\n",
              "<table border=\"1\" class=\"dataframe\">\n",
              "  <thead>\n",
              "    <tr style=\"text-align: right;\">\n",
              "      <th></th>\n",
              "      <th>pred_test_lr</th>\n",
              "      <th>pred_test_svr</th>\n",
              "      <th>pred_test_dtr</th>\n",
              "    </tr>\n",
              "  </thead>\n",
              "  <tbody>\n",
              "    <tr>\n",
              "      <th>0</th>\n",
              "      <td>232640.963887</td>\n",
              "      <td>163365.780077</td>\n",
              "      <td>209969.462957</td>\n",
              "    </tr>\n",
              "    <tr>\n",
              "      <th>1</th>\n",
              "      <td>161727.632251</td>\n",
              "      <td>163051.483418</td>\n",
              "      <td>143901.877139</td>\n",
              "    </tr>\n",
              "    <tr>\n",
              "      <th>2</th>\n",
              "      <td>237794.373398</td>\n",
              "      <td>163372.937236</td>\n",
              "      <td>228304.962890</td>\n",
              "    </tr>\n",
              "  </tbody>\n",
              "</table>\n",
              "</div>"
            ],
            "text/plain": [
              "    pred_test_lr  pred_test_svr  pred_test_dtr\n",
              "0  232640.963887  163365.780077  209969.462957\n",
              "1  161727.632251  163051.483418  143901.877139\n",
              "2  237794.373398  163372.937236  228304.962890"
            ]
          },
          "metadata": {
            "tags": []
          },
          "execution_count": 518
        }
      ]
    },
    {
      "cell_type": "code",
      "metadata": {
        "id": "BzZ_ncSbvxwQ",
        "colab_type": "code",
        "colab": {
          "base_uri": "https://localhost:8080/",
          "height": 35
        },
        "outputId": "43f1b480-a00e-4e26-c1dd-5a9bd8864292"
      },
      "source": [
        "model2 = Model2Linear()\n",
        "pred_train_2, pred_val_2 = stacking(model2, X_train2, y_train, X_val2)\n",
        "print (\"MSE: {:.2f}\".format(np.log(mean_squared_error(y_train, pred_train_2))))"
      ],
      "execution_count": 519,
      "outputs": [
        {
          "output_type": "stream",
          "text": [
            "MSE: 21.37\n"
          ],
          "name": "stdout"
        }
      ]
    },
    {
      "cell_type": "markdown",
      "metadata": {
        "id": "F7iNkG88wpOy",
        "colab_type": "text"
      },
      "source": [
        "課題\n",
        "\n",
        "・xgboostやLightGBMを使用したらもう少し精度が上がるのでは？\n",
        "\n",
        "・パラメーター調整するともう少し精度が良くなるのでは？"
      ]
    }
  ]
}