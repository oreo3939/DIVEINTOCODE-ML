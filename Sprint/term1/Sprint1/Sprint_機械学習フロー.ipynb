{
 "cells": [
  {
   "cell_type": "markdown",
   "metadata": {
    "colab_type": "text",
    "id": "7fkn28RW_nAI"
   },
   "source": [
    "【問題1】クロスバリデーション\n",
    "\n",
    "事前学習期間では検証データをはじめに分割しておき、それに対して指標値を計算することで検証を行っていました。（ホールドアウト法）しかし、分割の仕方により精度は変化します。実践的には クロスバリデーション（交差検証） を行います。分割を複数回行い、それぞれに対して学習と検証を行う方法です。複数回の分割のためにscikit-learnにはKFoldクラスが用意されています。\n",
    "\n",
    "\n",
    "事前学習期間の課題で作成したベースラインモデルに対してKFoldクラスによるクロスバリデーションを行うコードを作成し実行してください。\n",
    "\n",
    "\n",
    "sklearn.model_selection.KFold — scikit-learn 0.21.3 documentation"
   ]
  },
  {
   "cell_type": "code",
   "execution_count": 2,
   "metadata": {
    "colab": {
     "base_uri": "https://localhost:8080/",
     "height": 73
    },
    "colab_type": "code",
    "id": "ATryDBz3_nAJ",
    "outputId": "169950ad-5d39-4e67-8967-469654606db0"
   },
   "outputs": [
    {
     "name": "stderr",
     "output_type": "stream",
     "text": [
      "/usr/local/lib/python3.6/dist-packages/statsmodels/tools/_testing.py:19: FutureWarning: pandas.util.testing is deprecated. Use the functions in the public API at pandas.testing instead.\n",
      "  import pandas.util.testing as tm\n"
     ]
    }
   ],
   "source": [
    "import numpy as np\n",
    "import pandas as pd\n",
    "import seaborn as sns\n",
    "import matplotlib.pyplot as plt\n",
    "from sklearn.datasets import load_iris\n",
    "from sklearn.model_selection import train_test_split\n",
    "from sklearn.linear_model import LogisticRegression\n",
    "from sklearn.model_selection import cross_val_score\n",
    "from sklearn.ensemble import RandomForestClassifier\n",
    "%matplotlib inline"
   ]
  },
  {
   "cell_type": "code",
   "execution_count": 3,
   "metadata": {
    "colab": {
     "base_uri": "https://localhost:8080/",
     "height": 127
    },
    "colab_type": "code",
    "id": "EAxmrH1hAONv",
    "outputId": "a19414d2-cd99-4f2e-dc52-0aa29e7df39d"
   },
   "outputs": [
    {
     "name": "stdout",
     "output_type": "stream",
     "text": [
      "Go to this URL in a browser: https://accounts.google.com/o/oauth2/auth?client_id=947318989803-6bn6qk8qdgf4n4g3pfee6491hc0brc4i.apps.googleusercontent.com&redirect_uri=urn%3aietf%3awg%3aoauth%3a2.0%3aoob&response_type=code&scope=email%20https%3a%2f%2fwww.googleapis.com%2fauth%2fdocs.test%20https%3a%2f%2fwww.googleapis.com%2fauth%2fdrive%20https%3a%2f%2fwww.googleapis.com%2fauth%2fdrive.photos.readonly%20https%3a%2f%2fwww.googleapis.com%2fauth%2fpeopleapi.readonly\n",
      "\n",
      "Enter your authorization code:\n",
      "··········\n",
      "Mounted at /content/drive\n"
     ]
    }
   ],
   "source": [
    "from google.colab import drive\n",
    "drive.mount('/content/drive')"
   ]
  },
  {
   "cell_type": "code",
   "execution_count": 4,
   "metadata": {
    "colab": {
     "base_uri": "https://localhost:8080/",
     "height": 574
    },
    "colab_type": "code",
    "id": "joz8lUSjAdL_",
    "outputId": "c328c79d-29bf-4a20-962f-0a6d9e759d01"
   },
   "outputs": [
    {
     "data": {
      "text/html": [
       "<div>\n",
       "<style scoped>\n",
       "    .dataframe tbody tr th:only-of-type {\n",
       "        vertical-align: middle;\n",
       "    }\n",
       "\n",
       "    .dataframe tbody tr th {\n",
       "        vertical-align: top;\n",
       "    }\n",
       "\n",
       "    .dataframe thead th {\n",
       "        text-align: right;\n",
       "    }\n",
       "</style>\n",
       "<table border=\"1\" class=\"dataframe\">\n",
       "  <thead>\n",
       "    <tr style=\"text-align: right;\">\n",
       "      <th></th>\n",
       "      <th>SK_ID_CURR</th>\n",
       "      <th>TARGET</th>\n",
       "      <th>NAME_CONTRACT_TYPE</th>\n",
       "      <th>CODE_GENDER</th>\n",
       "      <th>FLAG_OWN_CAR</th>\n",
       "      <th>FLAG_OWN_REALTY</th>\n",
       "      <th>CNT_CHILDREN</th>\n",
       "      <th>AMT_INCOME_TOTAL</th>\n",
       "      <th>AMT_CREDIT</th>\n",
       "      <th>AMT_ANNUITY</th>\n",
       "      <th>AMT_GOODS_PRICE</th>\n",
       "      <th>NAME_TYPE_SUITE</th>\n",
       "      <th>NAME_INCOME_TYPE</th>\n",
       "      <th>NAME_EDUCATION_TYPE</th>\n",
       "      <th>NAME_FAMILY_STATUS</th>\n",
       "      <th>NAME_HOUSING_TYPE</th>\n",
       "      <th>REGION_POPULATION_RELATIVE</th>\n",
       "      <th>DAYS_BIRTH</th>\n",
       "      <th>DAYS_EMPLOYED</th>\n",
       "      <th>DAYS_REGISTRATION</th>\n",
       "      <th>DAYS_ID_PUBLISH</th>\n",
       "      <th>OWN_CAR_AGE</th>\n",
       "      <th>FLAG_MOBIL</th>\n",
       "      <th>FLAG_EMP_PHONE</th>\n",
       "      <th>FLAG_WORK_PHONE</th>\n",
       "      <th>FLAG_CONT_MOBILE</th>\n",
       "      <th>FLAG_PHONE</th>\n",
       "      <th>FLAG_EMAIL</th>\n",
       "      <th>OCCUPATION_TYPE</th>\n",
       "      <th>CNT_FAM_MEMBERS</th>\n",
       "      <th>REGION_RATING_CLIENT</th>\n",
       "      <th>REGION_RATING_CLIENT_W_CITY</th>\n",
       "      <th>WEEKDAY_APPR_PROCESS_START</th>\n",
       "      <th>HOUR_APPR_PROCESS_START</th>\n",
       "      <th>REG_REGION_NOT_LIVE_REGION</th>\n",
       "      <th>REG_REGION_NOT_WORK_REGION</th>\n",
       "      <th>LIVE_REGION_NOT_WORK_REGION</th>\n",
       "      <th>REG_CITY_NOT_LIVE_CITY</th>\n",
       "      <th>REG_CITY_NOT_WORK_CITY</th>\n",
       "      <th>LIVE_CITY_NOT_WORK_CITY</th>\n",
       "      <th>...</th>\n",
       "      <th>LIVINGAPARTMENTS_MEDI</th>\n",
       "      <th>LIVINGAREA_MEDI</th>\n",
       "      <th>NONLIVINGAPARTMENTS_MEDI</th>\n",
       "      <th>NONLIVINGAREA_MEDI</th>\n",
       "      <th>FONDKAPREMONT_MODE</th>\n",
       "      <th>HOUSETYPE_MODE</th>\n",
       "      <th>TOTALAREA_MODE</th>\n",
       "      <th>WALLSMATERIAL_MODE</th>\n",
       "      <th>EMERGENCYSTATE_MODE</th>\n",
       "      <th>OBS_30_CNT_SOCIAL_CIRCLE</th>\n",
       "      <th>DEF_30_CNT_SOCIAL_CIRCLE</th>\n",
       "      <th>OBS_60_CNT_SOCIAL_CIRCLE</th>\n",
       "      <th>DEF_60_CNT_SOCIAL_CIRCLE</th>\n",
       "      <th>DAYS_LAST_PHONE_CHANGE</th>\n",
       "      <th>FLAG_DOCUMENT_2</th>\n",
       "      <th>FLAG_DOCUMENT_3</th>\n",
       "      <th>FLAG_DOCUMENT_4</th>\n",
       "      <th>FLAG_DOCUMENT_5</th>\n",
       "      <th>FLAG_DOCUMENT_6</th>\n",
       "      <th>FLAG_DOCUMENT_7</th>\n",
       "      <th>FLAG_DOCUMENT_8</th>\n",
       "      <th>FLAG_DOCUMENT_9</th>\n",
       "      <th>FLAG_DOCUMENT_10</th>\n",
       "      <th>FLAG_DOCUMENT_11</th>\n",
       "      <th>FLAG_DOCUMENT_12</th>\n",
       "      <th>FLAG_DOCUMENT_13</th>\n",
       "      <th>FLAG_DOCUMENT_14</th>\n",
       "      <th>FLAG_DOCUMENT_15</th>\n",
       "      <th>FLAG_DOCUMENT_16</th>\n",
       "      <th>FLAG_DOCUMENT_17</th>\n",
       "      <th>FLAG_DOCUMENT_18</th>\n",
       "      <th>FLAG_DOCUMENT_19</th>\n",
       "      <th>FLAG_DOCUMENT_20</th>\n",
       "      <th>FLAG_DOCUMENT_21</th>\n",
       "      <th>AMT_REQ_CREDIT_BUREAU_HOUR</th>\n",
       "      <th>AMT_REQ_CREDIT_BUREAU_DAY</th>\n",
       "      <th>AMT_REQ_CREDIT_BUREAU_WEEK</th>\n",
       "      <th>AMT_REQ_CREDIT_BUREAU_MON</th>\n",
       "      <th>AMT_REQ_CREDIT_BUREAU_QRT</th>\n",
       "      <th>AMT_REQ_CREDIT_BUREAU_YEAR</th>\n",
       "    </tr>\n",
       "  </thead>\n",
       "  <tbody>\n",
       "    <tr>\n",
       "      <th>0</th>\n",
       "      <td>100002</td>\n",
       "      <td>1</td>\n",
       "      <td>Cash loans</td>\n",
       "      <td>M</td>\n",
       "      <td>N</td>\n",
       "      <td>Y</td>\n",
       "      <td>0</td>\n",
       "      <td>202500.0</td>\n",
       "      <td>406597.5</td>\n",
       "      <td>24700.5</td>\n",
       "      <td>351000.0</td>\n",
       "      <td>Unaccompanied</td>\n",
       "      <td>Working</td>\n",
       "      <td>Secondary / secondary special</td>\n",
       "      <td>Single / not married</td>\n",
       "      <td>House / apartment</td>\n",
       "      <td>0.018801</td>\n",
       "      <td>-9461</td>\n",
       "      <td>-637</td>\n",
       "      <td>-3648.0</td>\n",
       "      <td>-2120</td>\n",
       "      <td>NaN</td>\n",
       "      <td>1</td>\n",
       "      <td>1</td>\n",
       "      <td>0</td>\n",
       "      <td>1</td>\n",
       "      <td>1</td>\n",
       "      <td>0</td>\n",
       "      <td>Laborers</td>\n",
       "      <td>1.0</td>\n",
       "      <td>2</td>\n",
       "      <td>2</td>\n",
       "      <td>WEDNESDAY</td>\n",
       "      <td>10</td>\n",
       "      <td>0</td>\n",
       "      <td>0</td>\n",
       "      <td>0</td>\n",
       "      <td>0</td>\n",
       "      <td>0</td>\n",
       "      <td>0</td>\n",
       "      <td>...</td>\n",
       "      <td>0.0205</td>\n",
       "      <td>0.0193</td>\n",
       "      <td>0.0000</td>\n",
       "      <td>0.0000</td>\n",
       "      <td>reg oper account</td>\n",
       "      <td>block of flats</td>\n",
       "      <td>0.0149</td>\n",
       "      <td>Stone, brick</td>\n",
       "      <td>No</td>\n",
       "      <td>2.0</td>\n",
       "      <td>2.0</td>\n",
       "      <td>2.0</td>\n",
       "      <td>2.0</td>\n",
       "      <td>-1134.0</td>\n",
       "      <td>0</td>\n",
       "      <td>1</td>\n",
       "      <td>0</td>\n",
       "      <td>0</td>\n",
       "      <td>0</td>\n",
       "      <td>0</td>\n",
       "      <td>0</td>\n",
       "      <td>0</td>\n",
       "      <td>0</td>\n",
       "      <td>0</td>\n",
       "      <td>0</td>\n",
       "      <td>0</td>\n",
       "      <td>0</td>\n",
       "      <td>0</td>\n",
       "      <td>0</td>\n",
       "      <td>0</td>\n",
       "      <td>0</td>\n",
       "      <td>0</td>\n",
       "      <td>0</td>\n",
       "      <td>0</td>\n",
       "      <td>0.0</td>\n",
       "      <td>0.0</td>\n",
       "      <td>0.0</td>\n",
       "      <td>0.0</td>\n",
       "      <td>0.0</td>\n",
       "      <td>1.0</td>\n",
       "    </tr>\n",
       "    <tr>\n",
       "      <th>1</th>\n",
       "      <td>100003</td>\n",
       "      <td>0</td>\n",
       "      <td>Cash loans</td>\n",
       "      <td>F</td>\n",
       "      <td>N</td>\n",
       "      <td>N</td>\n",
       "      <td>0</td>\n",
       "      <td>270000.0</td>\n",
       "      <td>1293502.5</td>\n",
       "      <td>35698.5</td>\n",
       "      <td>1129500.0</td>\n",
       "      <td>Family</td>\n",
       "      <td>State servant</td>\n",
       "      <td>Higher education</td>\n",
       "      <td>Married</td>\n",
       "      <td>House / apartment</td>\n",
       "      <td>0.003541</td>\n",
       "      <td>-16765</td>\n",
       "      <td>-1188</td>\n",
       "      <td>-1186.0</td>\n",
       "      <td>-291</td>\n",
       "      <td>NaN</td>\n",
       "      <td>1</td>\n",
       "      <td>1</td>\n",
       "      <td>0</td>\n",
       "      <td>1</td>\n",
       "      <td>1</td>\n",
       "      <td>0</td>\n",
       "      <td>Core staff</td>\n",
       "      <td>2.0</td>\n",
       "      <td>1</td>\n",
       "      <td>1</td>\n",
       "      <td>MONDAY</td>\n",
       "      <td>11</td>\n",
       "      <td>0</td>\n",
       "      <td>0</td>\n",
       "      <td>0</td>\n",
       "      <td>0</td>\n",
       "      <td>0</td>\n",
       "      <td>0</td>\n",
       "      <td>...</td>\n",
       "      <td>0.0787</td>\n",
       "      <td>0.0558</td>\n",
       "      <td>0.0039</td>\n",
       "      <td>0.0100</td>\n",
       "      <td>reg oper account</td>\n",
       "      <td>block of flats</td>\n",
       "      <td>0.0714</td>\n",
       "      <td>Block</td>\n",
       "      <td>No</td>\n",
       "      <td>1.0</td>\n",
       "      <td>0.0</td>\n",
       "      <td>1.0</td>\n",
       "      <td>0.0</td>\n",
       "      <td>-828.0</td>\n",
       "      <td>0</td>\n",
       "      <td>1</td>\n",
       "      <td>0</td>\n",
       "      <td>0</td>\n",
       "      <td>0</td>\n",
       "      <td>0</td>\n",
       "      <td>0</td>\n",
       "      <td>0</td>\n",
       "      <td>0</td>\n",
       "      <td>0</td>\n",
       "      <td>0</td>\n",
       "      <td>0</td>\n",
       "      <td>0</td>\n",
       "      <td>0</td>\n",
       "      <td>0</td>\n",
       "      <td>0</td>\n",
       "      <td>0</td>\n",
       "      <td>0</td>\n",
       "      <td>0</td>\n",
       "      <td>0</td>\n",
       "      <td>0.0</td>\n",
       "      <td>0.0</td>\n",
       "      <td>0.0</td>\n",
       "      <td>0.0</td>\n",
       "      <td>0.0</td>\n",
       "      <td>0.0</td>\n",
       "    </tr>\n",
       "    <tr>\n",
       "      <th>2</th>\n",
       "      <td>100004</td>\n",
       "      <td>0</td>\n",
       "      <td>Revolving loans</td>\n",
       "      <td>M</td>\n",
       "      <td>Y</td>\n",
       "      <td>Y</td>\n",
       "      <td>0</td>\n",
       "      <td>67500.0</td>\n",
       "      <td>135000.0</td>\n",
       "      <td>6750.0</td>\n",
       "      <td>135000.0</td>\n",
       "      <td>Unaccompanied</td>\n",
       "      <td>Working</td>\n",
       "      <td>Secondary / secondary special</td>\n",
       "      <td>Single / not married</td>\n",
       "      <td>House / apartment</td>\n",
       "      <td>0.010032</td>\n",
       "      <td>-19046</td>\n",
       "      <td>-225</td>\n",
       "      <td>-4260.0</td>\n",
       "      <td>-2531</td>\n",
       "      <td>26.0</td>\n",
       "      <td>1</td>\n",
       "      <td>1</td>\n",
       "      <td>1</td>\n",
       "      <td>1</td>\n",
       "      <td>1</td>\n",
       "      <td>0</td>\n",
       "      <td>Laborers</td>\n",
       "      <td>1.0</td>\n",
       "      <td>2</td>\n",
       "      <td>2</td>\n",
       "      <td>MONDAY</td>\n",
       "      <td>9</td>\n",
       "      <td>0</td>\n",
       "      <td>0</td>\n",
       "      <td>0</td>\n",
       "      <td>0</td>\n",
       "      <td>0</td>\n",
       "      <td>0</td>\n",
       "      <td>...</td>\n",
       "      <td>NaN</td>\n",
       "      <td>NaN</td>\n",
       "      <td>NaN</td>\n",
       "      <td>NaN</td>\n",
       "      <td>NaN</td>\n",
       "      <td>NaN</td>\n",
       "      <td>NaN</td>\n",
       "      <td>NaN</td>\n",
       "      <td>NaN</td>\n",
       "      <td>0.0</td>\n",
       "      <td>0.0</td>\n",
       "      <td>0.0</td>\n",
       "      <td>0.0</td>\n",
       "      <td>-815.0</td>\n",
       "      <td>0</td>\n",
       "      <td>0</td>\n",
       "      <td>0</td>\n",
       "      <td>0</td>\n",
       "      <td>0</td>\n",
       "      <td>0</td>\n",
       "      <td>0</td>\n",
       "      <td>0</td>\n",
       "      <td>0</td>\n",
       "      <td>0</td>\n",
       "      <td>0</td>\n",
       "      <td>0</td>\n",
       "      <td>0</td>\n",
       "      <td>0</td>\n",
       "      <td>0</td>\n",
       "      <td>0</td>\n",
       "      <td>0</td>\n",
       "      <td>0</td>\n",
       "      <td>0</td>\n",
       "      <td>0</td>\n",
       "      <td>0.0</td>\n",
       "      <td>0.0</td>\n",
       "      <td>0.0</td>\n",
       "      <td>0.0</td>\n",
       "      <td>0.0</td>\n",
       "      <td>0.0</td>\n",
       "    </tr>\n",
       "    <tr>\n",
       "      <th>3</th>\n",
       "      <td>100006</td>\n",
       "      <td>0</td>\n",
       "      <td>Cash loans</td>\n",
       "      <td>F</td>\n",
       "      <td>N</td>\n",
       "      <td>Y</td>\n",
       "      <td>0</td>\n",
       "      <td>135000.0</td>\n",
       "      <td>312682.5</td>\n",
       "      <td>29686.5</td>\n",
       "      <td>297000.0</td>\n",
       "      <td>Unaccompanied</td>\n",
       "      <td>Working</td>\n",
       "      <td>Secondary / secondary special</td>\n",
       "      <td>Civil marriage</td>\n",
       "      <td>House / apartment</td>\n",
       "      <td>0.008019</td>\n",
       "      <td>-19005</td>\n",
       "      <td>-3039</td>\n",
       "      <td>-9833.0</td>\n",
       "      <td>-2437</td>\n",
       "      <td>NaN</td>\n",
       "      <td>1</td>\n",
       "      <td>1</td>\n",
       "      <td>0</td>\n",
       "      <td>1</td>\n",
       "      <td>0</td>\n",
       "      <td>0</td>\n",
       "      <td>Laborers</td>\n",
       "      <td>2.0</td>\n",
       "      <td>2</td>\n",
       "      <td>2</td>\n",
       "      <td>WEDNESDAY</td>\n",
       "      <td>17</td>\n",
       "      <td>0</td>\n",
       "      <td>0</td>\n",
       "      <td>0</td>\n",
       "      <td>0</td>\n",
       "      <td>0</td>\n",
       "      <td>0</td>\n",
       "      <td>...</td>\n",
       "      <td>NaN</td>\n",
       "      <td>NaN</td>\n",
       "      <td>NaN</td>\n",
       "      <td>NaN</td>\n",
       "      <td>NaN</td>\n",
       "      <td>NaN</td>\n",
       "      <td>NaN</td>\n",
       "      <td>NaN</td>\n",
       "      <td>NaN</td>\n",
       "      <td>2.0</td>\n",
       "      <td>0.0</td>\n",
       "      <td>2.0</td>\n",
       "      <td>0.0</td>\n",
       "      <td>-617.0</td>\n",
       "      <td>0</td>\n",
       "      <td>1</td>\n",
       "      <td>0</td>\n",
       "      <td>0</td>\n",
       "      <td>0</td>\n",
       "      <td>0</td>\n",
       "      <td>0</td>\n",
       "      <td>0</td>\n",
       "      <td>0</td>\n",
       "      <td>0</td>\n",
       "      <td>0</td>\n",
       "      <td>0</td>\n",
       "      <td>0</td>\n",
       "      <td>0</td>\n",
       "      <td>0</td>\n",
       "      <td>0</td>\n",
       "      <td>0</td>\n",
       "      <td>0</td>\n",
       "      <td>0</td>\n",
       "      <td>0</td>\n",
       "      <td>NaN</td>\n",
       "      <td>NaN</td>\n",
       "      <td>NaN</td>\n",
       "      <td>NaN</td>\n",
       "      <td>NaN</td>\n",
       "      <td>NaN</td>\n",
       "    </tr>\n",
       "    <tr>\n",
       "      <th>4</th>\n",
       "      <td>100007</td>\n",
       "      <td>0</td>\n",
       "      <td>Cash loans</td>\n",
       "      <td>M</td>\n",
       "      <td>N</td>\n",
       "      <td>Y</td>\n",
       "      <td>0</td>\n",
       "      <td>121500.0</td>\n",
       "      <td>513000.0</td>\n",
       "      <td>21865.5</td>\n",
       "      <td>513000.0</td>\n",
       "      <td>Unaccompanied</td>\n",
       "      <td>Working</td>\n",
       "      <td>Secondary / secondary special</td>\n",
       "      <td>Single / not married</td>\n",
       "      <td>House / apartment</td>\n",
       "      <td>0.028663</td>\n",
       "      <td>-19932</td>\n",
       "      <td>-3038</td>\n",
       "      <td>-4311.0</td>\n",
       "      <td>-3458</td>\n",
       "      <td>NaN</td>\n",
       "      <td>1</td>\n",
       "      <td>1</td>\n",
       "      <td>0</td>\n",
       "      <td>1</td>\n",
       "      <td>0</td>\n",
       "      <td>0</td>\n",
       "      <td>Core staff</td>\n",
       "      <td>1.0</td>\n",
       "      <td>2</td>\n",
       "      <td>2</td>\n",
       "      <td>THURSDAY</td>\n",
       "      <td>11</td>\n",
       "      <td>0</td>\n",
       "      <td>0</td>\n",
       "      <td>0</td>\n",
       "      <td>0</td>\n",
       "      <td>1</td>\n",
       "      <td>1</td>\n",
       "      <td>...</td>\n",
       "      <td>NaN</td>\n",
       "      <td>NaN</td>\n",
       "      <td>NaN</td>\n",
       "      <td>NaN</td>\n",
       "      <td>NaN</td>\n",
       "      <td>NaN</td>\n",
       "      <td>NaN</td>\n",
       "      <td>NaN</td>\n",
       "      <td>NaN</td>\n",
       "      <td>0.0</td>\n",
       "      <td>0.0</td>\n",
       "      <td>0.0</td>\n",
       "      <td>0.0</td>\n",
       "      <td>-1106.0</td>\n",
       "      <td>0</td>\n",
       "      <td>0</td>\n",
       "      <td>0</td>\n",
       "      <td>0</td>\n",
       "      <td>0</td>\n",
       "      <td>0</td>\n",
       "      <td>1</td>\n",
       "      <td>0</td>\n",
       "      <td>0</td>\n",
       "      <td>0</td>\n",
       "      <td>0</td>\n",
       "      <td>0</td>\n",
       "      <td>0</td>\n",
       "      <td>0</td>\n",
       "      <td>0</td>\n",
       "      <td>0</td>\n",
       "      <td>0</td>\n",
       "      <td>0</td>\n",
       "      <td>0</td>\n",
       "      <td>0</td>\n",
       "      <td>0.0</td>\n",
       "      <td>0.0</td>\n",
       "      <td>0.0</td>\n",
       "      <td>0.0</td>\n",
       "      <td>0.0</td>\n",
       "      <td>0.0</td>\n",
       "    </tr>\n",
       "    <tr>\n",
       "      <th>...</th>\n",
       "      <td>...</td>\n",
       "      <td>...</td>\n",
       "      <td>...</td>\n",
       "      <td>...</td>\n",
       "      <td>...</td>\n",
       "      <td>...</td>\n",
       "      <td>...</td>\n",
       "      <td>...</td>\n",
       "      <td>...</td>\n",
       "      <td>...</td>\n",
       "      <td>...</td>\n",
       "      <td>...</td>\n",
       "      <td>...</td>\n",
       "      <td>...</td>\n",
       "      <td>...</td>\n",
       "      <td>...</td>\n",
       "      <td>...</td>\n",
       "      <td>...</td>\n",
       "      <td>...</td>\n",
       "      <td>...</td>\n",
       "      <td>...</td>\n",
       "      <td>...</td>\n",
       "      <td>...</td>\n",
       "      <td>...</td>\n",
       "      <td>...</td>\n",
       "      <td>...</td>\n",
       "      <td>...</td>\n",
       "      <td>...</td>\n",
       "      <td>...</td>\n",
       "      <td>...</td>\n",
       "      <td>...</td>\n",
       "      <td>...</td>\n",
       "      <td>...</td>\n",
       "      <td>...</td>\n",
       "      <td>...</td>\n",
       "      <td>...</td>\n",
       "      <td>...</td>\n",
       "      <td>...</td>\n",
       "      <td>...</td>\n",
       "      <td>...</td>\n",
       "      <td>...</td>\n",
       "      <td>...</td>\n",
       "      <td>...</td>\n",
       "      <td>...</td>\n",
       "      <td>...</td>\n",
       "      <td>...</td>\n",
       "      <td>...</td>\n",
       "      <td>...</td>\n",
       "      <td>...</td>\n",
       "      <td>...</td>\n",
       "      <td>...</td>\n",
       "      <td>...</td>\n",
       "      <td>...</td>\n",
       "      <td>...</td>\n",
       "      <td>...</td>\n",
       "      <td>...</td>\n",
       "      <td>...</td>\n",
       "      <td>...</td>\n",
       "      <td>...</td>\n",
       "      <td>...</td>\n",
       "      <td>...</td>\n",
       "      <td>...</td>\n",
       "      <td>...</td>\n",
       "      <td>...</td>\n",
       "      <td>...</td>\n",
       "      <td>...</td>\n",
       "      <td>...</td>\n",
       "      <td>...</td>\n",
       "      <td>...</td>\n",
       "      <td>...</td>\n",
       "      <td>...</td>\n",
       "      <td>...</td>\n",
       "      <td>...</td>\n",
       "      <td>...</td>\n",
       "      <td>...</td>\n",
       "      <td>...</td>\n",
       "      <td>...</td>\n",
       "      <td>...</td>\n",
       "      <td>...</td>\n",
       "      <td>...</td>\n",
       "      <td>...</td>\n",
       "    </tr>\n",
       "    <tr>\n",
       "      <th>307506</th>\n",
       "      <td>456251</td>\n",
       "      <td>0</td>\n",
       "      <td>Cash loans</td>\n",
       "      <td>M</td>\n",
       "      <td>N</td>\n",
       "      <td>N</td>\n",
       "      <td>0</td>\n",
       "      <td>157500.0</td>\n",
       "      <td>254700.0</td>\n",
       "      <td>27558.0</td>\n",
       "      <td>225000.0</td>\n",
       "      <td>Unaccompanied</td>\n",
       "      <td>Working</td>\n",
       "      <td>Secondary / secondary special</td>\n",
       "      <td>Separated</td>\n",
       "      <td>With parents</td>\n",
       "      <td>0.032561</td>\n",
       "      <td>-9327</td>\n",
       "      <td>-236</td>\n",
       "      <td>-8456.0</td>\n",
       "      <td>-1982</td>\n",
       "      <td>NaN</td>\n",
       "      <td>1</td>\n",
       "      <td>1</td>\n",
       "      <td>0</td>\n",
       "      <td>1</td>\n",
       "      <td>0</td>\n",
       "      <td>0</td>\n",
       "      <td>Sales staff</td>\n",
       "      <td>1.0</td>\n",
       "      <td>1</td>\n",
       "      <td>1</td>\n",
       "      <td>THURSDAY</td>\n",
       "      <td>15</td>\n",
       "      <td>0</td>\n",
       "      <td>0</td>\n",
       "      <td>0</td>\n",
       "      <td>0</td>\n",
       "      <td>0</td>\n",
       "      <td>0</td>\n",
       "      <td>...</td>\n",
       "      <td>0.1509</td>\n",
       "      <td>0.2001</td>\n",
       "      <td>0.0757</td>\n",
       "      <td>0.1118</td>\n",
       "      <td>reg oper account</td>\n",
       "      <td>block of flats</td>\n",
       "      <td>0.2898</td>\n",
       "      <td>Stone, brick</td>\n",
       "      <td>No</td>\n",
       "      <td>0.0</td>\n",
       "      <td>0.0</td>\n",
       "      <td>0.0</td>\n",
       "      <td>0.0</td>\n",
       "      <td>-273.0</td>\n",
       "      <td>0</td>\n",
       "      <td>0</td>\n",
       "      <td>0</td>\n",
       "      <td>0</td>\n",
       "      <td>0</td>\n",
       "      <td>0</td>\n",
       "      <td>1</td>\n",
       "      <td>0</td>\n",
       "      <td>0</td>\n",
       "      <td>0</td>\n",
       "      <td>0</td>\n",
       "      <td>0</td>\n",
       "      <td>0</td>\n",
       "      <td>0</td>\n",
       "      <td>0</td>\n",
       "      <td>0</td>\n",
       "      <td>0</td>\n",
       "      <td>0</td>\n",
       "      <td>0</td>\n",
       "      <td>0</td>\n",
       "      <td>NaN</td>\n",
       "      <td>NaN</td>\n",
       "      <td>NaN</td>\n",
       "      <td>NaN</td>\n",
       "      <td>NaN</td>\n",
       "      <td>NaN</td>\n",
       "    </tr>\n",
       "    <tr>\n",
       "      <th>307507</th>\n",
       "      <td>456252</td>\n",
       "      <td>0</td>\n",
       "      <td>Cash loans</td>\n",
       "      <td>F</td>\n",
       "      <td>N</td>\n",
       "      <td>Y</td>\n",
       "      <td>0</td>\n",
       "      <td>72000.0</td>\n",
       "      <td>269550.0</td>\n",
       "      <td>12001.5</td>\n",
       "      <td>225000.0</td>\n",
       "      <td>Unaccompanied</td>\n",
       "      <td>Pensioner</td>\n",
       "      <td>Secondary / secondary special</td>\n",
       "      <td>Widow</td>\n",
       "      <td>House / apartment</td>\n",
       "      <td>0.025164</td>\n",
       "      <td>-20775</td>\n",
       "      <td>365243</td>\n",
       "      <td>-4388.0</td>\n",
       "      <td>-4090</td>\n",
       "      <td>NaN</td>\n",
       "      <td>1</td>\n",
       "      <td>0</td>\n",
       "      <td>0</td>\n",
       "      <td>1</td>\n",
       "      <td>1</td>\n",
       "      <td>0</td>\n",
       "      <td>NaN</td>\n",
       "      <td>1.0</td>\n",
       "      <td>2</td>\n",
       "      <td>2</td>\n",
       "      <td>MONDAY</td>\n",
       "      <td>8</td>\n",
       "      <td>0</td>\n",
       "      <td>0</td>\n",
       "      <td>0</td>\n",
       "      <td>0</td>\n",
       "      <td>0</td>\n",
       "      <td>0</td>\n",
       "      <td>...</td>\n",
       "      <td>0.0205</td>\n",
       "      <td>0.0261</td>\n",
       "      <td>0.0000</td>\n",
       "      <td>0.0000</td>\n",
       "      <td>reg oper account</td>\n",
       "      <td>block of flats</td>\n",
       "      <td>0.0214</td>\n",
       "      <td>Stone, brick</td>\n",
       "      <td>No</td>\n",
       "      <td>0.0</td>\n",
       "      <td>0.0</td>\n",
       "      <td>0.0</td>\n",
       "      <td>0.0</td>\n",
       "      <td>0.0</td>\n",
       "      <td>0</td>\n",
       "      <td>1</td>\n",
       "      <td>0</td>\n",
       "      <td>0</td>\n",
       "      <td>0</td>\n",
       "      <td>0</td>\n",
       "      <td>0</td>\n",
       "      <td>0</td>\n",
       "      <td>0</td>\n",
       "      <td>0</td>\n",
       "      <td>0</td>\n",
       "      <td>0</td>\n",
       "      <td>0</td>\n",
       "      <td>0</td>\n",
       "      <td>0</td>\n",
       "      <td>0</td>\n",
       "      <td>0</td>\n",
       "      <td>0</td>\n",
       "      <td>0</td>\n",
       "      <td>0</td>\n",
       "      <td>NaN</td>\n",
       "      <td>NaN</td>\n",
       "      <td>NaN</td>\n",
       "      <td>NaN</td>\n",
       "      <td>NaN</td>\n",
       "      <td>NaN</td>\n",
       "    </tr>\n",
       "    <tr>\n",
       "      <th>307508</th>\n",
       "      <td>456253</td>\n",
       "      <td>0</td>\n",
       "      <td>Cash loans</td>\n",
       "      <td>F</td>\n",
       "      <td>N</td>\n",
       "      <td>Y</td>\n",
       "      <td>0</td>\n",
       "      <td>153000.0</td>\n",
       "      <td>677664.0</td>\n",
       "      <td>29979.0</td>\n",
       "      <td>585000.0</td>\n",
       "      <td>Unaccompanied</td>\n",
       "      <td>Working</td>\n",
       "      <td>Higher education</td>\n",
       "      <td>Separated</td>\n",
       "      <td>House / apartment</td>\n",
       "      <td>0.005002</td>\n",
       "      <td>-14966</td>\n",
       "      <td>-7921</td>\n",
       "      <td>-6737.0</td>\n",
       "      <td>-5150</td>\n",
       "      <td>NaN</td>\n",
       "      <td>1</td>\n",
       "      <td>1</td>\n",
       "      <td>0</td>\n",
       "      <td>1</td>\n",
       "      <td>0</td>\n",
       "      <td>1</td>\n",
       "      <td>Managers</td>\n",
       "      <td>1.0</td>\n",
       "      <td>3</td>\n",
       "      <td>3</td>\n",
       "      <td>THURSDAY</td>\n",
       "      <td>9</td>\n",
       "      <td>0</td>\n",
       "      <td>0</td>\n",
       "      <td>0</td>\n",
       "      <td>0</td>\n",
       "      <td>1</td>\n",
       "      <td>1</td>\n",
       "      <td>...</td>\n",
       "      <td>0.0855</td>\n",
       "      <td>0.9445</td>\n",
       "      <td>0.0000</td>\n",
       "      <td>0.0000</td>\n",
       "      <td>reg oper account</td>\n",
       "      <td>block of flats</td>\n",
       "      <td>0.7970</td>\n",
       "      <td>Panel</td>\n",
       "      <td>No</td>\n",
       "      <td>6.0</td>\n",
       "      <td>0.0</td>\n",
       "      <td>6.0</td>\n",
       "      <td>0.0</td>\n",
       "      <td>-1909.0</td>\n",
       "      <td>0</td>\n",
       "      <td>1</td>\n",
       "      <td>0</td>\n",
       "      <td>0</td>\n",
       "      <td>0</td>\n",
       "      <td>0</td>\n",
       "      <td>0</td>\n",
       "      <td>0</td>\n",
       "      <td>0</td>\n",
       "      <td>0</td>\n",
       "      <td>0</td>\n",
       "      <td>0</td>\n",
       "      <td>0</td>\n",
       "      <td>0</td>\n",
       "      <td>0</td>\n",
       "      <td>0</td>\n",
       "      <td>0</td>\n",
       "      <td>0</td>\n",
       "      <td>0</td>\n",
       "      <td>0</td>\n",
       "      <td>1.0</td>\n",
       "      <td>0.0</td>\n",
       "      <td>0.0</td>\n",
       "      <td>1.0</td>\n",
       "      <td>0.0</td>\n",
       "      <td>1.0</td>\n",
       "    </tr>\n",
       "    <tr>\n",
       "      <th>307509</th>\n",
       "      <td>456254</td>\n",
       "      <td>1</td>\n",
       "      <td>Cash loans</td>\n",
       "      <td>F</td>\n",
       "      <td>N</td>\n",
       "      <td>Y</td>\n",
       "      <td>0</td>\n",
       "      <td>171000.0</td>\n",
       "      <td>370107.0</td>\n",
       "      <td>20205.0</td>\n",
       "      <td>319500.0</td>\n",
       "      <td>Unaccompanied</td>\n",
       "      <td>Commercial associate</td>\n",
       "      <td>Secondary / secondary special</td>\n",
       "      <td>Married</td>\n",
       "      <td>House / apartment</td>\n",
       "      <td>0.005313</td>\n",
       "      <td>-11961</td>\n",
       "      <td>-4786</td>\n",
       "      <td>-2562.0</td>\n",
       "      <td>-931</td>\n",
       "      <td>NaN</td>\n",
       "      <td>1</td>\n",
       "      <td>1</td>\n",
       "      <td>0</td>\n",
       "      <td>1</td>\n",
       "      <td>0</td>\n",
       "      <td>0</td>\n",
       "      <td>Laborers</td>\n",
       "      <td>2.0</td>\n",
       "      <td>2</td>\n",
       "      <td>2</td>\n",
       "      <td>WEDNESDAY</td>\n",
       "      <td>9</td>\n",
       "      <td>0</td>\n",
       "      <td>0</td>\n",
       "      <td>0</td>\n",
       "      <td>1</td>\n",
       "      <td>1</td>\n",
       "      <td>0</td>\n",
       "      <td>...</td>\n",
       "      <td>NaN</td>\n",
       "      <td>0.0062</td>\n",
       "      <td>NaN</td>\n",
       "      <td>NaN</td>\n",
       "      <td>NaN</td>\n",
       "      <td>block of flats</td>\n",
       "      <td>0.0086</td>\n",
       "      <td>Stone, brick</td>\n",
       "      <td>No</td>\n",
       "      <td>0.0</td>\n",
       "      <td>0.0</td>\n",
       "      <td>0.0</td>\n",
       "      <td>0.0</td>\n",
       "      <td>-322.0</td>\n",
       "      <td>0</td>\n",
       "      <td>1</td>\n",
       "      <td>0</td>\n",
       "      <td>0</td>\n",
       "      <td>0</td>\n",
       "      <td>0</td>\n",
       "      <td>0</td>\n",
       "      <td>0</td>\n",
       "      <td>0</td>\n",
       "      <td>0</td>\n",
       "      <td>0</td>\n",
       "      <td>0</td>\n",
       "      <td>0</td>\n",
       "      <td>0</td>\n",
       "      <td>0</td>\n",
       "      <td>0</td>\n",
       "      <td>0</td>\n",
       "      <td>0</td>\n",
       "      <td>0</td>\n",
       "      <td>0</td>\n",
       "      <td>0.0</td>\n",
       "      <td>0.0</td>\n",
       "      <td>0.0</td>\n",
       "      <td>0.0</td>\n",
       "      <td>0.0</td>\n",
       "      <td>0.0</td>\n",
       "    </tr>\n",
       "    <tr>\n",
       "      <th>307510</th>\n",
       "      <td>456255</td>\n",
       "      <td>0</td>\n",
       "      <td>Cash loans</td>\n",
       "      <td>F</td>\n",
       "      <td>N</td>\n",
       "      <td>N</td>\n",
       "      <td>0</td>\n",
       "      <td>157500.0</td>\n",
       "      <td>675000.0</td>\n",
       "      <td>49117.5</td>\n",
       "      <td>675000.0</td>\n",
       "      <td>Unaccompanied</td>\n",
       "      <td>Commercial associate</td>\n",
       "      <td>Higher education</td>\n",
       "      <td>Married</td>\n",
       "      <td>House / apartment</td>\n",
       "      <td>0.046220</td>\n",
       "      <td>-16856</td>\n",
       "      <td>-1262</td>\n",
       "      <td>-5128.0</td>\n",
       "      <td>-410</td>\n",
       "      <td>NaN</td>\n",
       "      <td>1</td>\n",
       "      <td>1</td>\n",
       "      <td>1</td>\n",
       "      <td>1</td>\n",
       "      <td>1</td>\n",
       "      <td>0</td>\n",
       "      <td>Laborers</td>\n",
       "      <td>2.0</td>\n",
       "      <td>1</td>\n",
       "      <td>1</td>\n",
       "      <td>THURSDAY</td>\n",
       "      <td>20</td>\n",
       "      <td>0</td>\n",
       "      <td>0</td>\n",
       "      <td>0</td>\n",
       "      <td>0</td>\n",
       "      <td>1</td>\n",
       "      <td>1</td>\n",
       "      <td>...</td>\n",
       "      <td>NaN</td>\n",
       "      <td>0.0805</td>\n",
       "      <td>NaN</td>\n",
       "      <td>0.0000</td>\n",
       "      <td>NaN</td>\n",
       "      <td>block of flats</td>\n",
       "      <td>0.0718</td>\n",
       "      <td>Panel</td>\n",
       "      <td>No</td>\n",
       "      <td>0.0</td>\n",
       "      <td>0.0</td>\n",
       "      <td>0.0</td>\n",
       "      <td>0.0</td>\n",
       "      <td>-787.0</td>\n",
       "      <td>0</td>\n",
       "      <td>1</td>\n",
       "      <td>0</td>\n",
       "      <td>0</td>\n",
       "      <td>0</td>\n",
       "      <td>0</td>\n",
       "      <td>0</td>\n",
       "      <td>0</td>\n",
       "      <td>0</td>\n",
       "      <td>0</td>\n",
       "      <td>0</td>\n",
       "      <td>0</td>\n",
       "      <td>0</td>\n",
       "      <td>0</td>\n",
       "      <td>0</td>\n",
       "      <td>0</td>\n",
       "      <td>0</td>\n",
       "      <td>0</td>\n",
       "      <td>0</td>\n",
       "      <td>0</td>\n",
       "      <td>0.0</td>\n",
       "      <td>0.0</td>\n",
       "      <td>0.0</td>\n",
       "      <td>2.0</td>\n",
       "      <td>0.0</td>\n",
       "      <td>1.0</td>\n",
       "    </tr>\n",
       "  </tbody>\n",
       "</table>\n",
       "<p>307511 rows × 122 columns</p>\n",
       "</div>"
      ],
      "text/plain": [
       "        SK_ID_CURR  ...  AMT_REQ_CREDIT_BUREAU_YEAR\n",
       "0           100002  ...                         1.0\n",
       "1           100003  ...                         0.0\n",
       "2           100004  ...                         0.0\n",
       "3           100006  ...                         NaN\n",
       "4           100007  ...                         0.0\n",
       "...            ...  ...                         ...\n",
       "307506      456251  ...                         NaN\n",
       "307507      456252  ...                         NaN\n",
       "307508      456253  ...                         1.0\n",
       "307509      456254  ...                         0.0\n",
       "307510      456255  ...                         1.0\n",
       "\n",
       "[307511 rows x 122 columns]"
      ]
     },
     "execution_count": 4,
     "metadata": {
      "tags": []
     },
     "output_type": "execute_result"
    }
   ],
   "source": [
    "import csv\n",
    "\n",
    "df = pd.read_csv('/content/drive/My Drive/application_train.csv')\n",
    "df"
   ]
  },
  {
   "cell_type": "code",
   "execution_count": 5,
   "metadata": {
    "colab": {},
    "colab_type": "code",
    "id": "MJ3YgRyo_nAT"
   },
   "outputs": [],
   "source": [
    "df['EXT_SOURCE_3'].fillna(df['EXT_SOURCE_3'].mean(), inplace=True)\n",
    "df['EXT_SOURCE_2'].fillna(df['EXT_SOURCE_2'].mean(), inplace=True)\n",
    "df['EXT_SOURCE_1'].fillna(df['EXT_SOURCE_1'].mean(), inplace=True)"
   ]
  },
  {
   "cell_type": "code",
   "execution_count": 6,
   "metadata": {
    "colab": {},
    "colab_type": "code",
    "id": "QDewXCGe_nAQ"
   },
   "outputs": [],
   "source": [
    "X = np.array(df[[\"DAYS_BIRTH\",\"REGION_RATING_CLIENT_W_CITY\",\"REGION_RATING_CLIENT\",\"DAYS_ID_PUBLISH\",\n",
    "                 \"EXT_SOURCE_1\",\"EXT_SOURCE_2\",\"EXT_SOURCE_3\"]])\n",
    "y = np.array(df[\"TARGET\"])\n",
    "\n",
    "X_train, X_test, y_train, y_test = train_test_split(X, y, test_size=0.3, random_state=0)"
   ]
  },
  {
   "cell_type": "code",
   "execution_count": 9,
   "metadata": {
    "colab": {
     "base_uri": "https://localhost:8080/",
     "height": 35
    },
    "colab_type": "code",
    "id": "WM7guQ09_nAV",
    "outputId": "ea7f5ff0-8f36-493b-f307-1cfab9f8aed7"
   },
   "outputs": [
    {
     "name": "stdout",
     "output_type": "stream",
     "text": [
      "Test set score: 0.9190387408676046\n"
     ]
    }
   ],
   "source": [
    "rand = RandomForestClassifier().fit(X_train, y_train)\n",
    "score = rand.score(X_test, y_test)\n",
    "print('Test set score: {}'.format(score))"
   ]
  },
  {
   "cell_type": "code",
   "execution_count": 7,
   "metadata": {
    "colab": {},
    "colab_type": "code",
    "id": "fFkG58qv_nAY"
   },
   "outputs": [],
   "source": [
    "from sklearn.model_selection import KFold"
   ]
  },
  {
   "cell_type": "code",
   "execution_count": 11,
   "metadata": {
    "colab": {
     "base_uri": "https://localhost:8080/",
     "height": 107
    },
    "colab_type": "code",
    "id": "i8StGp6n_nAc",
    "outputId": "cd331334-7fbe-49a7-9625-f123f496852f"
   },
   "outputs": [
    {
     "name": "stdout",
     "output_type": "stream",
     "text": [
      "TRAIN: [ 61503  61504  61505 ... 307508 307509 307510] TEST: [    0     1     2 ... 61500 61501 61502]\n",
      "TRAIN: [     0      1      2 ... 307508 307509 307510] TEST: [ 61503  61504  61505 ... 123002 123003 123004]\n",
      "TRAIN: [     0      1      2 ... 307508 307509 307510] TEST: [123005 123006 123007 ... 184504 184505 184506]\n",
      "TRAIN: [     0      1      2 ... 307508 307509 307510] TEST: [184507 184508 184509 ... 246006 246007 246008]\n",
      "TRAIN: [     0      1      2 ... 246006 246007 246008] TEST: [246009 246010 246011 ... 307508 307509 307510]\n"
     ]
    }
   ],
   "source": [
    "#5つに分割\n",
    "# kf = KFold(n_splits=5, random_state=None, shuffle=False)\n",
    "\n",
    "def cross_val2(X, y, k,):\n",
    "    kf =  KFold(n_splits=k)\n",
    "    for train_index, test_index in kf.split(X,y):\n",
    "        print(\"TRAIN:\", train_index, \"TEST:\", test_index)\n",
    "        X_train, X_test = X[train_index], X[test_index]\n",
    "        y_train, y_test = y[train_index], y[test_index]\n",
    "        \n",
    "cross_val2(X,y,5)    "
   ]
  },
  {
   "cell_type": "code",
   "execution_count": 12,
   "metadata": {
    "colab": {},
    "colab_type": "code",
    "id": "gV-ePl51_nAg"
   },
   "outputs": [],
   "source": [
    "# classifierと、トレーニング用データ、テスト用データを指定してその精度を割り出せる\n",
    "# scores = cross_val_score(\n",
    "#     estimator=rand,  # 分類器を指定(ランダムフォレスト選択)\n",
    "#     X=X_train,  # トレーニング用のデータの指定\n",
    "#     y=y_train,  # テスト用のデータの指定\n",
    "#     cv=5  # データを何分割にして検証するか指定\n",
    "# )\n",
    "\n",
    "# print(scores)"
   ]
  },
  {
   "cell_type": "code",
   "execution_count": 13,
   "metadata": {
    "colab": {
     "base_uri": "https://localhost:8080/",
     "height": 35
    },
    "colab_type": "code",
    "id": "tSvQ0rgb_nAj",
    "outputId": "6179347b-21b6-4480-c6fb-c3311ddc9ea4"
   },
   "outputs": [
    {
     "name": "stdout",
     "output_type": "stream",
     "text": [
      "[0.68253805 0.69041901 0.68493145 0.68449668 0.68860878]\n"
     ]
    }
   ],
   "source": [
    "scores = cross_val_score(rand, X, y, cv = 5,scoring='roc_auc')\n",
    "print(scores)"
   ]
  },
  {
   "cell_type": "markdown",
   "metadata": {
    "colab_type": "text",
    "id": "3DFTY2Vu_nAm"
   },
   "source": [
    "【問題2】グリッドサーチ\n",
    "\n",
    "これまで分類器のパラメータには触れず、デフォルトの設定を使用していました。パラメータの詳細は今後のSprintで学んでいくことになります。機械学習の前提として、パラメータは状況に応じて最適なものを選ぶ必要があります。最適なパラメータを探していくことを パラメータチューニング と呼びます。パラメータチューニングをある程度自動化する単純な方法としては グリッドサーチ があります。\n",
    "\n",
    "\n",
    "scikit-learnのGridSearchCVを使い、グリッドサーチを行うコードを作成してください。そして、ベースラインモデルに対して何らかしらのパラメータチューニングを行なってください。どのパラメータをチューニングするかは、使用した手法の公式ドキュメントを参考にしてください。\n",
    "\n",
    "\n",
    "sklearn.model_selection.GridSearchCV — scikit-learn 0.21.3 documentation\n",
    "\n",
    "\n",
    "GridSearchCVクラスには引数としてモデル、探索範囲、さらにクロスバリデーションを何分割で行うかを与えます。クロスバリデーションの機能も含まれているため、これを使用する場合はKFoldクラスを利用する必要はありません。"
   ]
  },
  {
   "cell_type": "markdown",
   "metadata": {
    "colab_type": "text",
    "id": "_UCC-yFo_nAm"
   },
   "source": [
    "グリッドサーチとは\n",
    "\n",
    "モデルの精度を向上させるために用いられる手法で、全てのパラメータの組み合わせを試してみる方法のこと"
   ]
  },
  {
   "cell_type": "code",
   "execution_count": 8,
   "metadata": {
    "colab": {},
    "colab_type": "code",
    "id": "eGKvcgZr_nAn"
   },
   "outputs": [],
   "source": [
    "from sklearn.model_selection import GridSearchCV\n",
    "from sklearn.metrics import roc_auc_score"
   ]
  },
  {
   "cell_type": "code",
   "execution_count": 9,
   "metadata": {
    "colab": {},
    "colab_type": "code",
    "id": "wbzxg7gA_nAq"
   },
   "outputs": [],
   "source": [
    "X2 = np.array(df[[\"DAYS_BIRTH\",\"REGION_RATING_CLIENT_W_CITY\",\"REGION_RATING_CLIENT\",\"DAYS_ID_PUBLISH\",\n",
    "                 \"EXT_SOURCE_1\",\"EXT_SOURCE_2\",\"EXT_SOURCE_3\"]])\n",
    "y2 = np.array(df[\"TARGET\"])\n",
    "\n",
    "X_train2, X_test2, y_train2, y_test2 = train_test_split(X2, y2, test_size=0.3, random_state=0)"
   ]
  },
  {
   "cell_type": "code",
   "execution_count": 16,
   "metadata": {
    "colab": {
     "base_uri": "https://localhost:8080/",
     "height": 53
    },
    "colab_type": "code",
    "id": "pZG8_1Yq_nAt",
    "outputId": "4785e0db-7939-4d23-de3c-d0ea4b513f72"
   },
   "outputs": [
    {
     "name": "stdout",
     "output_type": "stream",
     "text": [
      "best  score: 0.728\n",
      "{'max_depth': 10, 'min_samples_leaf': 5}\n"
     ]
    }
   ],
   "source": [
    "\"\"\"\n",
    "max_depth = 深さを調整するパラメータ\n",
    "min_samples_leaf = 分岐条件を作成する条件として、分岐先へのデータ数として、最低限必要な数を指定するものです。\n",
    "よって、このパラメータ値以上のデータ数を持たない分岐先は、作られないこととなります。\n",
    "\"\"\"\n",
    "\n",
    "param = {'max_depth': [5,8,10,15,20],\n",
    "         'min_samples_leaf':[1,2,3,5,7]}\n",
    "\n",
    "rand = RandomForestClassifier(random_state=0)\n",
    "grid_search = GridSearchCV(rand, param, scoring = 'roc_auc', cv = 3).fit(X_train2, y_train2)\n",
    "\n",
    "\n",
    "print('best  score: {:0.3f}'.format(grid_search.score(X_test2, y_test2)))\n",
    "print(grid_search.best_params_)"
   ]
  },
  {
   "cell_type": "markdown",
   "metadata": {
    "colab_type": "text",
    "id": "04tTbndD_nAx"
   },
   "source": [
    "精度向上"
   ]
  },
  {
   "cell_type": "markdown",
   "metadata": {
    "colab_type": "text",
    "id": "mV7Ctn9-_nAy"
   },
   "source": [
    "##【問題3】Kaggle Notebooksからの調査\n",
    "\n",
    "KaggleのNotebooksから様々なアイデアを見つけ出して、列挙してください。"
   ]
  },
  {
   "cell_type": "markdown",
   "metadata": {
    "colab_type": "text",
    "id": "RhnPZsSxpi7v"
   },
   "source": []
  },
  {
   "cell_type": "markdown",
   "metadata": {
    "colab_type": "text",
    "id": "tyr-tEQlIQ2u"
   },
   "source": [
    "LightGBM"
   ]
  },
  {
   "cell_type": "markdown",
   "metadata": {
    "colab_type": "text",
    "id": "uJwbDuFsIZwi"
   },
   "source": [
    "LightGBMをOptunaでパラメータチューニング"
   ]
  },
  {
   "cell_type": "markdown",
   "metadata": {
    "colab_type": "text",
    "id": "dlQ-MQzi4H6r"
   },
   "source": [
    "LightGBMとXGBoostではLightGBMの方が訓練時間が短い傾向にあるので使用\n",
    "\n",
    "[引用](https://www.codexa.net/lightgbm-beginner/)"
   ]
  },
  {
   "cell_type": "markdown",
   "metadata": {
    "colab_type": "text",
    "id": "o2O_ZkC__nA6"
   },
   "source": [
    "##問題4】高い汎化性能のモデル作成\n",
    "\n",
    "問題3で見つけたアイデアと、独自のアイデアを組み合わせ高い汎化性能のモデル作りを進めてください。\n",
    "\n",
    "\n",
    "その過程として、何を行うことで、クロスバリデーションの結果がどの程度変化したかを表にまとめてください。\n",
    "\n"
   ]
  },
  {
   "cell_type": "markdown",
   "metadata": {
    "colab_type": "text",
    "id": "s9PDAwXi-j5W"
   },
   "source": [
    "LightGBMとは決定木アルゴリズムに基づいた勾配ブースティング"
   ]
  },
  {
   "cell_type": "markdown",
   "metadata": {
    "colab_type": "text",
    "id": "1Nc4C1UkNite"
   },
   "source": [
    "LightGBM使用"
   ]
  },
  {
   "cell_type": "code",
   "execution_count": 305,
   "metadata": {
    "colab": {},
    "colab_type": "code",
    "id": "wNm3S5oY_nA6"
   },
   "outputs": [],
   "source": [
    "from sklearn import datasets\n",
    "import lightgbm as lgb"
   ]
  },
  {
   "cell_type": "code",
   "execution_count": 306,
   "metadata": {
    "colab": {
     "base_uri": "https://localhost:8080/",
     "height": 125
    },
    "colab_type": "code",
    "id": "7kx8zhWW_nA-",
    "outputId": "54086d3b-2ec2-4f91-8b40-5c3575161551"
   },
   "outputs": [
    {
     "name": "stdout",
     "output_type": "stream",
     "text": [
      "(307511, 7)\n",
      "(307511,)\n",
      "(215257, 7)\n",
      "(92254, 7)\n",
      "(215257,)\n",
      "(215257,)\n"
     ]
    }
   ],
   "source": [
    "X3 = df[[\"DAYS_BIRTH\",\"REGION_RATING_CLIENT_W_CITY\",\"REGION_RATING_CLIENT\",\"DAYS_ID_PUBLISH\",\n",
    "                 \"EXT_SOURCE_1\",\"EXT_SOURCE_2\",\"EXT_SOURCE_3\"]]\n",
    "y3 = df[\"TARGET\"]\n",
    "\n",
    "\n",
    "print(X3.shape)\n",
    "print(y3.shape)\n",
    "\n",
    "\n",
    "X_train3, X_test3, y_train3, y_test3 = train_test_split(X3, y3, test_size=0.3, random_state=0)\n",
    "\n",
    "print(X_train3.shape)\n",
    "print(X_test3.shape)\n",
    "print(y_train3.shape)\n",
    "print(y_train3.shape)"
   ]
  },
  {
   "cell_type": "code",
   "execution_count": 307,
   "metadata": {
    "colab": {
     "base_uri": "https://localhost:8080/",
     "height": 53
    },
    "colab_type": "code",
    "id": "vcSypZgVOirC",
    "outputId": "35e7115a-7541-41cb-fa52-60d6be1e8a6c"
   },
   "outputs": [
    {
     "name": "stdout",
     "output_type": "stream",
     "text": [
      "(215257,)\n",
      "(215257,)\n"
     ]
    }
   ],
   "source": [
    "#LightGBMにデータセットを登録する\n",
    "print(y3_train.shape)\n",
    "print(y3_test.shape)\n",
    "\n",
    "lgb_train = lgb.Dataset(data=X_train3, label=y_train3)\n",
    "lgb_eval = lgb.Dataset(data=X_test3, label=y_test3)"
   ]
  },
  {
   "cell_type": "code",
   "execution_count": 308,
   "metadata": {
    "colab": {},
    "colab_type": "code",
    "id": "xi_YTMil1gjX"
   },
   "outputs": [],
   "source": [
    "# LightGBMのハイパーパラメータを設定\n",
    "params = {'task': 'train',              # タスクを訓練に設定\n",
    "          'boosting_type': 'gbdt',      # GBDTを指定\n",
    "          'objective': 'binary',        # 二値分類を指定\n",
    "          'metric': 'auc',              # 二値分類の損失（誤差）\n",
    "          'learning_rate': 0.01,        # 学習率\n",
    "          'num_leaves': 48,             # ノードの数\n",
    "          'num_iteration': 5000,        # 予測器(決定木)の数:イタレーション\n",
    "          'verbose': 0 ,                # 指定された回数に一度コンソールに eval_metric を表示します\n",
    "          'colsample_bytree':.8,        # 過学習している場合はこの値を下げる。\n",
    "          'subsample':.9,               # 使用するオブジェクトの割合を制御するパラメータ\n",
    "          'max_depth':7,                # 深さ,深さ増やすと学習率が上がるが、学習に時間がかかる。\n",
    "          'reg_alpha':.1,               # L1 正則化に相当するものです。デフォルトでは 0.1 ぐらいを使う\n",
    "          'reg_lambda':.1,              # L2 正則化に相当するものです。デフォルトでは L1 と同様に 0.1 ぐらいを指定\n",
    "          'min_split_gain':.01,         # スプリットを実行するための最小値\n",
    "          'min_child_weight':1}         # 過最小値である0に設定すると、モデルの制約が緩和され、学習しやすくなる。増加することで過学習を減らす"
   ]
  },
  {
   "cell_type": "markdown",
   "metadata": {
    "colab_type": "text",
    "id": "bhGqIRCQ9D_W"
   },
   "source": [
    "L1,L2とはモデルが過学習しないようにしている\n",
    "\n",
    "多くの場面でL1正則化は余分な説明変数を省くことを目的とした手法です。余分な説明変数を省くことを次元圧縮と呼びますが、L1正則化は次元圧縮のために用いられます。\n",
    "\n",
    "一方でL2正則化はモデルの過学習を防ぐことで精度を高めるために用いられます。結果としてL1正則化を使ったモデルよりも予測精度が高い傾向にあります。\n",
    "\n",
    "[引用](https://ai-trend.jp/basic-study/neural-network/regularization/)"
   ]
  },
  {
   "cell_type": "code",
   "execution_count": 309,
   "metadata": {
    "colab": {
     "base_uri": "https://localhost:8080/",
     "height": 53
    },
    "colab_type": "code",
    "id": "AAjGrvn92oJr",
    "outputId": "9136b3e5-8195-4d03-b7c3-398ed9c91991"
   },
   "outputs": [
    {
     "name": "stdout",
     "output_type": "stream",
     "text": [
      "Early stopping, best iteration is:\n",
      "[642]\tvalid_0's auc: 0.731524\n"
     ]
    }
   ],
   "source": [
    "model1 = lgb.train(params,                       # ハイパーパラメータをセット\n",
    "                  lgb_train,                    # 訓練データを訓練用にセット\n",
    "                  valid_sets=lgb_eval,          # 訓練データとテストデータをセット\n",
    "                  early_stopping_rounds=150,    # アーリーストッピング設定\n",
    "                  verbose_eval=200)             # コンソールから確認できる"
   ]
  },
  {
   "cell_type": "code",
   "execution_count": 310,
   "metadata": {
    "colab": {
     "base_uri": "https://localhost:8080/",
     "height": 966
    },
    "colab_type": "code",
    "id": "L58EwyzP4iVY",
    "outputId": "737ac323-ea4d-4f10-c5f8-e9e160ad108a"
   },
   "outputs": [
    {
     "data": {
      "text/plain": [
       "<matplotlib.axes._subplots.AxesSubplot at 0x7fa0bd88c048>"
      ]
     },
     "execution_count": 310,
     "metadata": {
      "tags": []
     },
     "output_type": "execute_result"
    },
    {
     "data": {
      "image/png": "[encoded data removed]",
      "text/plain": [
       "<Figure size 576x1152 with 1 Axes>"
      ]
     },
     "metadata": {
      "needs_background": "light",
      "tags": []
     },
     "output_type": "display_data"
    }
   ],
   "source": [
    "#特徴量の重要度を表示\n",
    "lgb.plot_importance(model1, height=0.5, figsize=(8,16))"
   ]
  },
  {
   "cell_type": "markdown",
   "metadata": {
    "colab_type": "text",
    "id": "cHzNJ20e4utV"
   },
   "source": [
    "REGION_RATING_CLIENT_W_CITYとREGION_RATING_CLIENTはあまり重要度が高くない"
   ]
  },
  {
   "cell_type": "code",
   "execution_count": 311,
   "metadata": {
    "colab": {},
    "colab_type": "code",
    "id": "VCP69RxM7fCH"
   },
   "outputs": [],
   "source": [
    "# テストデータを予測する\n",
    "y_pred = model1.predict(X_test3, num_iteration = model1.best_iteration)"
   ]
  },
  {
   "cell_type": "code",
   "execution_count": 313,
   "metadata": {
    "colab": {
     "base_uri": "https://localhost:8080/",
     "height": 35
    },
    "colab_type": "code",
    "id": "_wG0OkdN7hWn",
    "outputId": "101bc09b-4733-4994-8939-1c920d4e0952"
   },
   "outputs": [
    {
     "name": "stdout",
     "output_type": "stream",
     "text": [
      "0.7315244871249443\n"
     ]
    }
   ],
   "source": [
    "# AUCを計算する\n",
    "import sklearn.metrics as metrics\n",
    "\n",
    "fpr, tpr, thresholds = metrics.roc_curve(y_test3, y_pred)\n",
    "auc = metrics.auc(fpr, tpr)\n",
    "print(auc)"
   ]
  },
  {
   "cell_type": "code",
   "execution_count": 314,
   "metadata": {
    "colab": {
     "base_uri": "https://localhost:8080/",
     "height": 295
    },
    "colab_type": "code",
    "id": "mHjIj_MU9bJk",
    "outputId": "4559d300-7745-49f4-d360-6a472c0e5a29"
   },
   "outputs": [
    {
     "data": {
      "image/png": "[encoded data removed]",
      "text/plain": [
       "<Figure size 432x288 with 1 Axes>"
      ]
     },
     "metadata": {
      "needs_background": "light",
      "tags": []
     },
     "output_type": "display_data"
    }
   ],
   "source": [
    "# ROC曲線をプロット\n",
    "plt.plot(fpr, tpr, label='ROC curve (area = %.2f)'%auc)\n",
    "plt.legend()\n",
    "plt.title('ROC curve')\n",
    "plt.xlabel('False Positive Rate')\n",
    "plt.ylabel('True Positive Rate')\n",
    "plt.grid(True)"
   ]
  },
  {
   "cell_type": "markdown",
   "metadata": {
    "colab_type": "text",
    "id": "JBFW8Ngj8KDj"
   },
   "source": [
    "精度向上"
   ]
  },
  {
   "cell_type": "markdown",
   "metadata": {
    "colab_type": "text",
    "id": "yeXjEhVKAI_d"
   },
   "source": [
    "Optunaとは\n",
    "\n",
    "ハイパーパラメータ自動最適化フレームワーク"
   ]
  },
  {
   "cell_type": "markdown",
   "metadata": {
    "colab_type": "text",
    "id": "wWMBm1c3AIPv"
   },
   "source": [
    "LightGBMをOptunaでパラメータチューニング"
   ]
  },
  {
   "cell_type": "code",
   "execution_count": null,
   "metadata": {
    "colab": {},
    "colab_type": "code",
    "id": "SSNVEqW2VSPC"
   },
   "outputs": [],
   "source": [
    "# !pip install optuna"
   ]
  },
  {
   "cell_type": "code",
   "execution_count": 315,
   "metadata": {
    "colab": {},
    "colab_type": "code",
    "id": "6ZC0uj9ZKD8M"
   },
   "outputs": [],
   "source": [
    "import optuna.integration.lightgbm as lgbo"
   ]
  },
  {
   "cell_type": "code",
   "execution_count": 316,
   "metadata": {
    "colab": {
     "base_uri": "https://localhost:8080/",
     "height": 125
    },
    "colab_type": "code",
    "id": "ZNiC6ZYPKEDm",
    "outputId": "50560524-87e2-4987-d031-395c59d9a68a"
   },
   "outputs": [
    {
     "name": "stdout",
     "output_type": "stream",
     "text": [
      "(307511, 7)\n",
      "(307511,)\n",
      "(215257, 7)\n",
      "(92254, 7)\n",
      "(215257,)\n",
      "(215257,)\n"
     ]
    }
   ],
   "source": [
    "X4 = df[[\"DAYS_BIRTH\",\"REGION_RATING_CLIENT_W_CITY\",\"REGION_RATING_CLIENT\",\"DAYS_ID_PUBLISH\",\n",
    "                 \"EXT_SOURCE_1\",\"EXT_SOURCE_2\",\"EXT_SOURCE_3\"]]\n",
    "y4 = df[\"TARGET\"]\n",
    "\n",
    "\n",
    "print(X4.shape)\n",
    "print(y4.shape)\n",
    "\n",
    "\n",
    "X_train4, X_test4, y_train4, y_test4 = train_test_split(X4, y4, test_size=0.3, random_state=0)\n",
    "\n",
    "print(X_train4.shape)\n",
    "print(X_test4.shape)\n",
    "print(y_train4.shape)\n",
    "print(y_train4.shape)"
   ]
  },
  {
   "cell_type": "code",
   "execution_count": 317,
   "metadata": {
    "colab": {
     "base_uri": "https://localhost:8080/",
     "height": 53
    },
    "colab_type": "code",
    "id": "yYi3pY31KEJu",
    "outputId": "437bef55-8c74-459d-f3c6-544797da1f8b"
   },
   "outputs": [
    {
     "name": "stdout",
     "output_type": "stream",
     "text": [
      "(215257,)\n",
      "(215257,)\n"
     ]
    }
   ],
   "source": [
    "#LightGBMにデータセットを登録する\n",
    "print(y3_train.shape)\n",
    "print(y3_test.shape)\n",
    "\n",
    "lgb_train = lgb.Dataset(data=X_train3, label=y_train3)\n",
    "lgb_eval = lgb.Dataset(data=X_test3, label=y_test3)"
   ]
  },
  {
   "cell_type": "code",
   "execution_count": 292,
   "metadata": {
    "colab": {},
    "colab_type": "code",
    "id": "zXsb6RDnKEID"
   },
   "outputs": [],
   "source": [
    "params = {'objective': 'binary',\n",
    "          'metric': 'auc',\n",
    "          'random_seed':0} "
   ]
  },
  {
   "cell_type": "code",
   "execution_count": 293,
   "metadata": {
    "colab": {
     "base_uri": "https://localhost:8080/",
     "height": 1000
    },
    "colab_type": "code",
    "id": "ufED7vJaKD5Q",
    "outputId": "eb51d812-5efa-4958-b094-740310c3f65f"
   },
   "outputs": [
    {
     "name": "stderr",
     "output_type": "stream",
     "text": [
      "\n",
      "\n",
      "\n",
      "  0%|          | 0/7 [00:00<?, ?it/s]\n",
      "\n",
      "\n",
      "feature_fraction, val_score: -inf:   0%|          | 0/7 [00:00<?, ?it/s]"
     ]
    },
    {
     "name": "stdout",
     "output_type": "stream",
     "text": [
      "Training until validation scores don't improve for 150 rounds.\n",
      "[200]\tvalid_0's auc: 0.728116\n",
      "Early stopping, best iteration is:\n",
      "[104]\tvalid_0's auc: 0.729979\n"
     ]
    },
    {
     "name": "stderr",
     "output_type": "stream",
     "text": [
      "\n",
      "\n",
      "\n",
      "feature_fraction, val_score: 0.729979:   0%|          | 0/7 [00:06<?, ?it/s]\n",
      "\n",
      "\n",
      "feature_fraction, val_score: 0.729979:  14%|#4        | 1/7 [00:06<00:37,  6.30s/it][I 2020-08-05 06:47:30,442] Trial 0 finished with value: 0.729979227580731 and parameters: {'feature_fraction': 0.4}. Best is trial 0 with value: 0.729979227580731.\n",
      "\n",
      "\n",
      "\n",
      "feature_fraction, val_score: 0.729979:  14%|#4        | 1/7 [00:06<00:37,  6.30s/it]"
     ]
    },
    {
     "name": "stdout",
     "output_type": "stream",
     "text": [
      "Training until validation scores don't improve for 150 rounds.\n",
      "[200]\tvalid_0's auc: 0.729232\n",
      "Early stopping, best iteration is:\n",
      "[57]\tvalid_0's auc: 0.731328\n"
     ]
    },
    {
     "name": "stderr",
     "output_type": "stream",
     "text": [
      "\n",
      "\n",
      "\n",
      "feature_fraction, val_score: 0.731328:  14%|#4        | 1/7 [00:11<00:37,  6.30s/it]\n",
      "\n",
      "\n",
      "feature_fraction, val_score: 0.731328:  29%|##8       | 2/7 [00:11<00:29,  5.90s/it][I 2020-08-05 06:47:35,436] Trial 1 finished with value: 0.7313280293400234 and parameters: {'feature_fraction': 0.6}. Best is trial 1 with value: 0.7313280293400234.\n",
      "\n",
      "\n",
      "\n",
      "feature_fraction, val_score: 0.731328:  29%|##8       | 2/7 [00:11<00:29,  5.90s/it]"
     ]
    },
    {
     "name": "stdout",
     "output_type": "stream",
     "text": [
      "Training until validation scores don't improve for 150 rounds.\n",
      "[200]\tvalid_0's auc: 0.729232\n",
      "Early stopping, best iteration is:\n",
      "[57]\tvalid_0's auc: 0.731328\n"
     ]
    },
    {
     "name": "stderr",
     "output_type": "stream",
     "text": [
      "\n",
      "\n",
      "\n",
      "feature_fraction, val_score: 0.731328:  29%|##8       | 2/7 [00:16<00:29,  5.90s/it]\n",
      "\n",
      "\n",
      "feature_fraction, val_score: 0.731328:  43%|####2     | 3/7 [00:16<00:22,  5.62s/it][I 2020-08-05 06:47:40,407] Trial 2 finished with value: 0.7313280293400234 and parameters: {'feature_fraction': 0.7}. Best is trial 1 with value: 0.7313280293400234.\n",
      "\n",
      "\n",
      "\n",
      "feature_fraction, val_score: 0.731328:  43%|####2     | 3/7 [00:16<00:22,  5.62s/it]"
     ]
    },
    {
     "name": "stdout",
     "output_type": "stream",
     "text": [
      "Training until validation scores don't improve for 150 rounds.\n",
      "Early stopping, best iteration is:\n",
      "[43]\tvalid_0's auc: 0.730937\n"
     ]
    },
    {
     "name": "stderr",
     "output_type": "stream",
     "text": [
      "\n",
      "\n",
      "\n",
      "feature_fraction, val_score: 0.731328:  43%|####2     | 3/7 [00:21<00:22,  5.62s/it]\n",
      "\n",
      "\n",
      "feature_fraction, val_score: 0.731328:  57%|#####7    | 4/7 [00:21<00:16,  5.43s/it][I 2020-08-05 06:47:45,372] Trial 3 finished with value: 0.7309370607633214 and parameters: {'feature_fraction': 0.8999999999999999}. Best is trial 1 with value: 0.7313280293400234.\n",
      "\n",
      "\n",
      "\n",
      "feature_fraction, val_score: 0.731328:  57%|#####7    | 4/7 [00:21<00:16,  5.43s/it]"
     ]
    },
    {
     "name": "stdout",
     "output_type": "stream",
     "text": [
      "Training until validation scores don't improve for 150 rounds.\n",
      "[200]\tvalid_0's auc: 0.729486\n",
      "Early stopping, best iteration is:\n",
      "[81]\tvalid_0's auc: 0.731394\n"
     ]
    },
    {
     "name": "stderr",
     "output_type": "stream",
     "text": [
      "\n",
      "\n",
      "\n",
      "feature_fraction, val_score: 0.731394:  57%|#####7    | 4/7 [00:26<00:16,  5.43s/it]\n",
      "\n",
      "\n",
      "feature_fraction, val_score: 0.731394:  71%|#######1  | 5/7 [00:26<00:11,  5.51s/it][I 2020-08-05 06:47:51,065] Trial 4 finished with value: 0.7313942343267774 and parameters: {'feature_fraction': 0.8}. Best is trial 4 with value: 0.7313942343267774.\n",
      "\n",
      "\n",
      "\n",
      "feature_fraction, val_score: 0.731394:  71%|#######1  | 5/7 [00:26<00:11,  5.51s/it]"
     ]
    },
    {
     "name": "stdout",
     "output_type": "stream",
     "text": [
      "Training until validation scores don't improve for 150 rounds.\n",
      "[200]\tvalid_0's auc: 0.729346\n",
      "Early stopping, best iteration is:\n",
      "[69]\tvalid_0's auc: 0.730976\n"
     ]
    },
    {
     "name": "stderr",
     "output_type": "stream",
     "text": [
      "\n",
      "\n",
      "\n",
      "feature_fraction, val_score: 0.731394:  71%|#######1  | 5/7 [00:32<00:11,  5.51s/it]\n",
      "\n",
      "\n",
      "feature_fraction, val_score: 0.731394:  86%|########5 | 6/7 [00:32<00:05,  5.55s/it][I 2020-08-05 06:47:56,727] Trial 5 finished with value: 0.7309757110239249 and parameters: {'feature_fraction': 1.0}. Best is trial 4 with value: 0.7313942343267774.\n",
      "\n",
      "\n",
      "\n",
      "feature_fraction, val_score: 0.731394:  86%|########5 | 6/7 [00:32<00:05,  5.55s/it]"
     ]
    },
    {
     "name": "stdout",
     "output_type": "stream",
     "text": [
      "Training until validation scores don't improve for 150 rounds.\n",
      "[200]\tvalid_0's auc: 0.730019\n",
      "Early stopping, best iteration is:\n",
      "[99]\tvalid_0's auc: 0.73083\n"
     ]
    },
    {
     "name": "stderr",
     "output_type": "stream",
     "text": [
      "\n",
      "\n",
      "\n",
      "feature_fraction, val_score: 0.731394:  86%|########5 | 6/7 [00:38<00:05,  5.55s/it]\n",
      "\n",
      "\n",
      "feature_fraction, val_score: 0.731394: 100%|##########| 7/7 [00:38<00:00,  5.69s/it][I 2020-08-05 06:48:02,733] Trial 6 finished with value: 0.730829554171783 and parameters: {'feature_fraction': 0.5}. Best is trial 4 with value: 0.7313942343267774.\n",
      "feature_fraction, val_score: 0.731394: 100%|##########| 7/7 [00:38<00:00,  5.51s/it]\n",
      "\n",
      "\n",
      "\n",
      "  0%|          | 0/20 [00:00<?, ?it/s]\n",
      "\n",
      "\n",
      "num_leaves, val_score: 0.731394:   0%|          | 0/20 [00:00<?, ?it/s]"
     ]
    },
    {
     "name": "stdout",
     "output_type": "stream",
     "text": [
      "Training until validation scores don't improve for 150 rounds.\n",
      "Early stopping, best iteration is:\n",
      "[20]\tvalid_0's auc: 0.727367\n"
     ]
    },
    {
     "name": "stderr",
     "output_type": "stream",
     "text": [
      "\n",
      "\n",
      "\n",
      "num_leaves, val_score: 0.731394:   0%|          | 0/20 [00:06<?, ?it/s]\n",
      "\n",
      "\n",
      "num_leaves, val_score: 0.731394:   5%|5         | 1/20 [00:06<01:54,  6.02s/it][I 2020-08-05 06:48:08,769] Trial 7 finished with value: 0.7273668024047925 and parameters: {'num_leaves': 236}. Best is trial 7 with value: 0.7273668024047925.\n",
      "\n",
      "\n",
      "\n",
      "num_leaves, val_score: 0.731394:   5%|5         | 1/20 [00:06<01:54,  6.02s/it]"
     ]
    },
    {
     "name": "stdout",
     "output_type": "stream",
     "text": [
      "Training until validation scores don't improve for 150 rounds.\n",
      "Early stopping, best iteration is:\n",
      "[19]\tvalid_0's auc: 0.728771\n"
     ]
    },
    {
     "name": "stderr",
     "output_type": "stream",
     "text": [
      "\n",
      "\n",
      "\n",
      "num_leaves, val_score: 0.731394:   5%|5         | 1/20 [00:11<01:54,  6.02s/it]\n",
      "\n",
      "\n",
      "num_leaves, val_score: 0.731394:  10%|#         | 2/20 [00:11<01:44,  5.80s/it][I 2020-08-05 06:48:14,051] Trial 8 finished with value: 0.728770545149736 and parameters: {'num_leaves': 145}. Best is trial 8 with value: 0.728770545149736.\n",
      "\n",
      "\n",
      "\n",
      "num_leaves, val_score: 0.731394:  10%|#         | 2/20 [00:11<01:44,  5.80s/it]"
     ]
    },
    {
     "name": "stdout",
     "output_type": "stream",
     "text": [
      "Training until validation scores don't improve for 150 rounds.\n",
      "Early stopping, best iteration is:\n",
      "[18]\tvalid_0's auc: 0.728304\n"
     ]
    },
    {
     "name": "stderr",
     "output_type": "stream",
     "text": [
      "\n",
      "\n",
      "\n",
      "num_leaves, val_score: 0.731394:  10%|#         | 2/20 [00:16<01:44,  5.80s/it]\n",
      "\n",
      "\n",
      "num_leaves, val_score: 0.731394:  15%|#5        | 3/20 [00:16<01:37,  5.74s/it][I 2020-08-05 06:48:19,674] Trial 9 finished with value: 0.7283040353249857 and parameters: {'num_leaves': 185}. Best is trial 8 with value: 0.728770545149736.\n",
      "\n",
      "\n",
      "\n",
      "num_leaves, val_score: 0.731394:  15%|#5        | 3/20 [00:16<01:37,  5.74s/it]"
     ]
    },
    {
     "name": "stdout",
     "output_type": "stream",
     "text": [
      "Training until validation scores don't improve for 150 rounds.\n",
      "[200]\tvalid_0's auc: 0.731297\n",
      "Early stopping, best iteration is:\n",
      "[247]\tvalid_0's auc: 0.731459\n"
     ]
    },
    {
     "name": "stderr",
     "output_type": "stream",
     "text": [
      "\n",
      "\n",
      "\n",
      "num_leaves, val_score: 0.731459:  15%|#5        | 3/20 [00:25<01:37,  5.74s/it]\n",
      "\n",
      "\n",
      "num_leaves, val_score: 0.731459:  20%|##        | 4/20 [00:25<01:45,  6.61s/it][I 2020-08-05 06:48:28,291] Trial 10 finished with value: 0.7314591790225455 and parameters: {'num_leaves': 9}. Best is trial 10 with value: 0.7314591790225455.\n",
      "\n",
      "\n",
      "\n",
      "num_leaves, val_score: 0.731459:  20%|##        | 4/20 [00:25<01:45,  6.61s/it]"
     ]
    },
    {
     "name": "stdout",
     "output_type": "stream",
     "text": [
      "Training until validation scores don't improve for 150 rounds.\n",
      "[200]\tvalid_0's auc: 0.731408\n",
      "Early stopping, best iteration is:\n",
      "[80]\tvalid_0's auc: 0.732013\n"
     ]
    },
    {
     "name": "stderr",
     "output_type": "stream",
     "text": [
      "\n",
      "\n",
      "\n",
      "num_leaves, val_score: 0.732013:  20%|##        | 4/20 [00:30<01:45,  6.61s/it]\n",
      "\n",
      "\n",
      "num_leaves, val_score: 0.732013:  25%|##5       | 5/20 [00:30<01:33,  6.25s/it][I 2020-08-05 06:48:33,709] Trial 11 finished with value: 0.7320131711719355 and parameters: {'num_leaves': 19}. Best is trial 11 with value: 0.7320131711719355.\n",
      "\n",
      "\n",
      "\n",
      "num_leaves, val_score: 0.732013:  25%|##5       | 5/20 [00:30<01:33,  6.25s/it]"
     ]
    },
    {
     "name": "stdout",
     "output_type": "stream",
     "text": [
      "Training until validation scores don't improve for 150 rounds.\n",
      "[200]\tvalid_0's auc: 0.730309\n",
      "[400]\tvalid_0's auc: 0.731817\n",
      "[600]\tvalid_0's auc: 0.732185\n",
      "Early stopping, best iteration is:\n",
      "[535]\tvalid_0's auc: 0.732205\n"
     ]
    },
    {
     "name": "stderr",
     "output_type": "stream",
     "text": [
      "\n",
      "\n",
      "\n",
      "num_leaves, val_score: 0.732205:  25%|##5       | 5/20 [00:44<01:33,  6.25s/it]\n",
      "\n",
      "\n",
      "num_leaves, val_score: 0.732205:  30%|###       | 6/20 [00:44<02:00,  8.57s/it][I 2020-08-05 06:48:47,705] Trial 12 finished with value: 0.7322052801106219 and parameters: {'num_leaves': 4}. Best is trial 12 with value: 0.7322052801106219.\n",
      "\n",
      "\n",
      "\n",
      "num_leaves, val_score: 0.732205:  30%|###       | 6/20 [00:44<02:00,  8.57s/it]"
     ]
    },
    {
     "name": "stdout",
     "output_type": "stream",
     "text": [
      "Training until validation scores don't improve for 150 rounds.\n",
      "[200]\tvalid_0's auc: 0.726597\n",
      "[400]\tvalid_0's auc: 0.727474\n",
      "[600]\tvalid_0's auc: 0.72796\n",
      "[800]\tvalid_0's auc: 0.728188\n",
      "[1000]\tvalid_0's auc: 0.728352\n",
      "Did not meet early stopping. Best iteration is:\n",
      "[999]\tvalid_0's auc: 0.728353\n"
     ]
    },
    {
     "name": "stderr",
     "output_type": "stream",
     "text": [
      "\n",
      "\n",
      "\n",
      "num_leaves, val_score: 0.732205:  30%|###       | 6/20 [01:03<02:00,  8.57s/it]\n",
      "\n",
      "\n",
      "num_leaves, val_score: 0.732205:  35%|###5      | 7/20 [01:03<02:30, 11.61s/it][I 2020-08-05 06:49:06,395] Trial 13 finished with value: 0.7283531858712123 and parameters: {'num_leaves': 2}. Best is trial 12 with value: 0.7322052801106219.\n",
      "\n",
      "\n",
      "\n",
      "num_leaves, val_score: 0.732205:  35%|###5      | 7/20 [01:03<02:30, 11.61s/it]"
     ]
    },
    {
     "name": "stdout",
     "output_type": "stream",
     "text": [
      "Training until validation scores don't improve for 150 rounds.\n",
      "Early stopping, best iteration is:\n",
      "[46]\tvalid_0's auc: 0.731035\n"
     ]
    },
    {
     "name": "stderr",
     "output_type": "stream",
     "text": [
      "\n",
      "\n",
      "\n",
      "num_leaves, val_score: 0.732205:  35%|###5      | 7/20 [01:08<02:30, 11.61s/it]\n",
      "\n",
      "\n",
      "num_leaves, val_score: 0.732205:  40%|####      | 8/20 [01:08<01:56,  9.69s/it][I 2020-08-05 06:49:11,610] Trial 14 finished with value: 0.7310346735491764 and parameters: {'num_leaves': 58}. Best is trial 12 with value: 0.7322052801106219.\n",
      "\n",
      "\n",
      "\n",
      "num_leaves, val_score: 0.732205:  40%|####      | 8/20 [01:08<01:56,  9.69s/it]"
     ]
    },
    {
     "name": "stdout",
     "output_type": "stream",
     "text": [
      "Training until validation scores don't improve for 150 rounds.\n",
      "Early stopping, best iteration is:\n",
      "[46]\tvalid_0's auc: 0.731035\n"
     ]
    },
    {
     "name": "stderr",
     "output_type": "stream",
     "text": [
      "\n",
      "\n",
      "\n",
      "num_leaves, val_score: 0.732205:  40%|####      | 8/20 [01:14<01:56,  9.69s/it]\n",
      "\n",
      "\n",
      "num_leaves, val_score: 0.732205:  45%|####5     | 9/20 [01:14<01:31,  8.35s/it][I 2020-08-05 06:49:16,816] Trial 15 finished with value: 0.7310346735491764 and parameters: {'num_leaves': 58}. Best is trial 12 with value: 0.7322052801106219.\n",
      "\n",
      "\n",
      "\n",
      "num_leaves, val_score: 0.732205:  45%|####5     | 9/20 [01:14<01:31,  8.35s/it]"
     ]
    },
    {
     "name": "stdout",
     "output_type": "stream",
     "text": [
      "Training until validation scores don't improve for 150 rounds.\n",
      "Early stopping, best iteration is:\n",
      "[47]\tvalid_0's auc: 0.730602\n"
     ]
    },
    {
     "name": "stderr",
     "output_type": "stream",
     "text": [
      "\n",
      "\n",
      "\n",
      "num_leaves, val_score: 0.732205:  45%|####5     | 9/20 [01:19<01:31,  8.35s/it]\n",
      "\n",
      "\n",
      "num_leaves, val_score: 0.732205:  50%|#####     | 10/20 [01:19<01:14,  7.43s/it][I 2020-08-05 06:49:22,111] Trial 16 finished with value: 0.730601676554429 and parameters: {'num_leaves': 60}. Best is trial 12 with value: 0.7322052801106219.\n",
      "\n",
      "\n",
      "\n",
      "num_leaves, val_score: 0.732205:  50%|#####     | 10/20 [01:19<01:14,  7.43s/it]"
     ]
    },
    {
     "name": "stdout",
     "output_type": "stream",
     "text": [
      "Training until validation scores don't improve for 150 rounds.\n",
      "[200]\tvalid_0's auc: 0.731184\n",
      "Early stopping, best iteration is:\n",
      "[131]\tvalid_0's auc: 0.731323\n"
     ]
    },
    {
     "name": "stderr",
     "output_type": "stream",
     "text": [
      "\n",
      "\n",
      "\n",
      "num_leaves, val_score: 0.732205:  50%|#####     | 10/20 [01:25<01:14,  7.43s/it]\n",
      "\n",
      "\n",
      "num_leaves, val_score: 0.732205:  55%|#####5    | 11/20 [01:25<01:04,  7.11s/it][I 2020-08-05 06:49:28,481] Trial 17 finished with value: 0.7313225758338987 and parameters: {'num_leaves': 12}. Best is trial 12 with value: 0.7322052801106219.\n",
      "\n",
      "\n",
      "\n",
      "num_leaves, val_score: 0.732205:  55%|#####5    | 11/20 [01:25<01:04,  7.11s/it]"
     ]
    },
    {
     "name": "stdout",
     "output_type": "stream",
     "text": [
      "Training until validation scores don't improve for 150 rounds.\n",
      "Early stopping, best iteration is:\n",
      "[46]\tvalid_0's auc: 0.729721\n"
     ]
    },
    {
     "name": "stderr",
     "output_type": "stream",
     "text": [
      "\n",
      "\n",
      "\n",
      "num_leaves, val_score: 0.732205:  55%|#####5    | 11/20 [01:31<01:04,  7.11s/it]\n",
      "\n",
      "\n",
      "num_leaves, val_score: 0.732205:  60%|######    | 12/20 [01:31<00:53,  6.68s/it][I 2020-08-05 06:49:34,144] Trial 18 finished with value: 0.7297209168641791 and parameters: {'num_leaves': 96}. Best is trial 12 with value: 0.7322052801106219.\n",
      "\n",
      "\n",
      "\n",
      "num_leaves, val_score: 0.732205:  60%|######    | 12/20 [01:31<00:53,  6.68s/it]"
     ]
    },
    {
     "name": "stdout",
     "output_type": "stream",
     "text": [
      "Training until validation scores don't improve for 150 rounds.\n",
      "[200]\tvalid_0's auc: 0.73103\n",
      "[400]\tvalid_0's auc: 0.731917\n",
      "[600]\tvalid_0's auc: 0.731862\n",
      "Early stopping, best iteration is:\n",
      "[539]\tvalid_0's auc: 0.732082\n"
     ]
    },
    {
     "name": "stderr",
     "output_type": "stream",
     "text": [
      "\n",
      "\n",
      "\n",
      "num_leaves, val_score: 0.732205:  60%|######    | 12/20 [01:45<00:53,  6.68s/it]\n",
      "\n",
      "\n",
      "num_leaves, val_score: 0.732205:  65%|######5   | 13/20 [01:45<01:02,  8.99s/it][I 2020-08-05 06:49:48,539] Trial 19 finished with value: 0.7320821470339698 and parameters: {'num_leaves': 5}. Best is trial 12 with value: 0.7322052801106219.\n",
      "\n",
      "\n",
      "\n",
      "num_leaves, val_score: 0.732205:  65%|######5   | 13/20 [01:45<01:02,  8.99s/it]"
     ]
    },
    {
     "name": "stdout",
     "output_type": "stream",
     "text": [
      "Training until validation scores don't improve for 150 rounds.\n",
      "Early stopping, best iteration is:\n",
      "[21]\tvalid_0's auc: 0.729377\n"
     ]
    },
    {
     "name": "stderr",
     "output_type": "stream",
     "text": [
      "\n",
      "\n",
      "\n",
      "num_leaves, val_score: 0.732205:  65%|######5   | 13/20 [01:50<01:02,  8.99s/it]\n",
      "\n",
      "\n",
      "num_leaves, val_score: 0.732205:  70%|#######   | 14/20 [01:50<00:46,  7.83s/it][I 2020-08-05 06:49:53,650] Trial 20 finished with value: 0.7293773644294317 and parameters: {'num_leaves': 107}. Best is trial 12 with value: 0.7322052801106219.\n",
      "\n",
      "\n",
      "\n",
      "num_leaves, val_score: 0.732205:  70%|#######   | 14/20 [01:50<00:46,  7.83s/it]"
     ]
    },
    {
     "name": "stdout",
     "output_type": "stream",
     "text": [
      "Training until validation scores don't improve for 150 rounds.\n",
      "[200]\tvalid_0's auc: 0.726597\n",
      "[400]\tvalid_0's auc: 0.727474\n",
      "[600]\tvalid_0's auc: 0.72796\n",
      "[800]\tvalid_0's auc: 0.728188\n",
      "[1000]\tvalid_0's auc: 0.728352\n",
      "Did not meet early stopping. Best iteration is:\n",
      "[999]\tvalid_0's auc: 0.728353\n"
     ]
    },
    {
     "name": "stderr",
     "output_type": "stream",
     "text": [
      "\n",
      "\n",
      "\n",
      "num_leaves, val_score: 0.732205:  70%|#######   | 14/20 [02:09<00:46,  7.83s/it]\n",
      "\n",
      "\n",
      "num_leaves, val_score: 0.732205:  75%|#######5  | 15/20 [02:09<00:55, 11.13s/it][I 2020-08-05 06:50:12,485] Trial 21 finished with value: 0.7283531858712123 and parameters: {'num_leaves': 2}. Best is trial 12 with value: 0.7322052801106219.\n",
      "\n",
      "\n",
      "\n",
      "num_leaves, val_score: 0.732205:  75%|#######5  | 15/20 [02:09<00:55, 11.13s/it]"
     ]
    },
    {
     "name": "stdout",
     "output_type": "stream",
     "text": [
      "Training until validation scores don't improve for 150 rounds.\n",
      "Early stopping, best iteration is:\n",
      "[47]\tvalid_0's auc: 0.731241\n"
     ]
    },
    {
     "name": "stderr",
     "output_type": "stream",
     "text": [
      "\n",
      "\n",
      "\n",
      "num_leaves, val_score: 0.732205:  75%|#######5  | 15/20 [02:14<00:55, 11.13s/it]\n",
      "\n",
      "\n",
      "num_leaves, val_score: 0.732205:  80%|########  | 16/20 [02:14<00:37,  9.31s/it][I 2020-08-05 06:50:17,550] Trial 22 finished with value: 0.7312409713908973 and parameters: {'num_leaves': 37}. Best is trial 12 with value: 0.7322052801106219.\n",
      "\n",
      "\n",
      "\n",
      "num_leaves, val_score: 0.732205:  80%|########  | 16/20 [02:14<00:37,  9.31s/it]"
     ]
    },
    {
     "name": "stdout",
     "output_type": "stream",
     "text": [
      "Training until validation scores don't improve for 150 rounds.\n",
      "[200]\tvalid_0's auc: 0.730524\n",
      "Early stopping, best iteration is:\n",
      "[52]\tvalid_0's auc: 0.731507\n"
     ]
    },
    {
     "name": "stderr",
     "output_type": "stream",
     "text": [
      "\n",
      "\n",
      "\n",
      "num_leaves, val_score: 0.732205:  80%|########  | 16/20 [02:19<00:37,  9.31s/it]\n",
      "\n",
      "\n",
      "num_leaves, val_score: 0.732205:  85%|########5 | 17/20 [02:19<00:24,  8.04s/it][I 2020-08-05 06:50:22,635] Trial 23 finished with value: 0.7315071230266699 and parameters: {'num_leaves': 29}. Best is trial 12 with value: 0.7322052801106219.\n",
      "\n",
      "\n",
      "\n",
      "num_leaves, val_score: 0.732205:  85%|########5 | 17/20 [02:19<00:24,  8.04s/it]"
     ]
    },
    {
     "name": "stdout",
     "output_type": "stream",
     "text": [
      "Training until validation scores don't improve for 150 rounds.\n",
      "Early stopping, best iteration is:\n",
      "[48]\tvalid_0's auc: 0.731139\n"
     ]
    },
    {
     "name": "stderr",
     "output_type": "stream",
     "text": [
      "\n",
      "\n",
      "\n",
      "num_leaves, val_score: 0.732205:  85%|########5 | 17/20 [02:24<00:24,  8.04s/it]\n",
      "\n",
      "\n",
      "num_leaves, val_score: 0.732205:  90%|######### | 18/20 [02:24<00:14,  7.13s/it][I 2020-08-05 06:50:27,649] Trial 24 finished with value: 0.7311388966454857 and parameters: {'num_leaves': 33}. Best is trial 12 with value: 0.7322052801106219.\n",
      "\n",
      "\n",
      "\n",
      "num_leaves, val_score: 0.732205:  90%|######### | 18/20 [02:24<00:14,  7.13s/it]"
     ]
    },
    {
     "name": "stdout",
     "output_type": "stream",
     "text": [
      "Training until validation scores don't improve for 150 rounds.\n",
      "[200]\tvalid_0's auc: 0.73103\n",
      "[400]\tvalid_0's auc: 0.731917\n",
      "[600]\tvalid_0's auc: 0.731862\n",
      "Early stopping, best iteration is:\n",
      "[539]\tvalid_0's auc: 0.732082\n"
     ]
    },
    {
     "name": "stderr",
     "output_type": "stream",
     "text": [
      "\n",
      "\n",
      "\n",
      "num_leaves, val_score: 0.732205:  90%|######### | 18/20 [02:39<00:14,  7.13s/it]\n",
      "\n",
      "\n",
      "num_leaves, val_score: 0.732205:  95%|#########5| 19/20 [02:39<00:09,  9.25s/it][I 2020-08-05 06:50:41,851] Trial 25 finished with value: 0.7320821470339698 and parameters: {'num_leaves': 5}. Best is trial 12 with value: 0.7322052801106219.\n",
      "\n",
      "\n",
      "\n",
      "num_leaves, val_score: 0.732205:  95%|#########5| 19/20 [02:39<00:09,  9.25s/it]"
     ]
    },
    {
     "name": "stdout",
     "output_type": "stream",
     "text": [
      "Training until validation scores don't improve for 150 rounds.\n",
      "Early stopping, best iteration is:\n",
      "[42]\tvalid_0's auc: 0.729679\n"
     ]
    },
    {
     "name": "stderr",
     "output_type": "stream",
     "text": [
      "\n",
      "\n",
      "\n",
      "num_leaves, val_score: 0.732205:  95%|#########5| 19/20 [02:44<00:09,  9.25s/it]\n",
      "\n",
      "\n",
      "num_leaves, val_score: 0.732205: 100%|##########| 20/20 [02:44<00:00,  8.12s/it][I 2020-08-05 06:50:47,314] Trial 26 finished with value: 0.7296794387705233 and parameters: {'num_leaves': 87}. Best is trial 12 with value: 0.7322052801106219.\n",
      "num_leaves, val_score: 0.732205: 100%|##########| 20/20 [02:44<00:00,  8.23s/it]\n",
      "\n",
      "\n",
      "\n",
      "  0%|          | 0/10 [00:00<?, ?it/s]\n",
      "\n",
      "\n",
      "bagging, val_score: 0.732205:   0%|          | 0/10 [00:00<?, ?it/s]"
     ]
    },
    {
     "name": "stdout",
     "output_type": "stream",
     "text": [
      "Training until validation scores don't improve for 150 rounds.\n",
      "[200]\tvalid_0's auc: 0.730209\n",
      "[400]\tvalid_0's auc: 0.731202\n",
      "[600]\tvalid_0's auc: 0.731162\n",
      "Early stopping, best iteration is:\n",
      "[516]\tvalid_0's auc: 0.731393\n"
     ]
    },
    {
     "name": "stderr",
     "output_type": "stream",
     "text": [
      "\n",
      "\n",
      "\n",
      "bagging, val_score: 0.732205:   0%|          | 0/10 [00:14<?, ?it/s]\n",
      "\n",
      "\n",
      "bagging, val_score: 0.732205:  10%|#         | 1/10 [00:14<02:09, 14.41s/it][I 2020-08-05 06:51:01,733] Trial 27 finished with value: 0.7313933743446407 and parameters: {'bagging_fraction': 0.4655676734146482, 'bagging_freq': 6}. Best is trial 27 with value: 0.7313933743446407.\n",
      "\n",
      "\n",
      "\n",
      "bagging, val_score: 0.732205:  10%|#         | 1/10 [00:14<02:09, 14.41s/it]"
     ]
    },
    {
     "name": "stdout",
     "output_type": "stream",
     "text": [
      "Training until validation scores don't improve for 150 rounds.\n",
      "[200]\tvalid_0's auc: 0.73053\n",
      "[400]\tvalid_0's auc: 0.732025\n",
      "[600]\tvalid_0's auc: 0.732189\n",
      "[800]\tvalid_0's auc: 0.73212\n",
      "Early stopping, best iteration is:\n",
      "[707]\tvalid_0's auc: 0.732336\n"
     ]
    },
    {
     "name": "stderr",
     "output_type": "stream",
     "text": [
      "\n",
      "\n",
      "\n",
      "bagging, val_score: 0.732336:  10%|#         | 1/10 [00:39<02:09, 14.41s/it]\n",
      "\n",
      "\n",
      "bagging, val_score: 0.732336:  20%|##        | 2/10 [00:39<02:21, 17.69s/it][I 2020-08-05 06:51:27,099] Trial 28 finished with value: 0.732335556975453 and parameters: {'bagging_fraction': 0.9867722845513585, 'bagging_freq': 1}. Best is trial 28 with value: 0.732335556975453.\n",
      "\n",
      "\n",
      "\n",
      "bagging, val_score: 0.732336:  20%|##        | 2/10 [00:39<02:21, 17.69s/it]"
     ]
    },
    {
     "name": "stdout",
     "output_type": "stream",
     "text": [
      "Training until validation scores don't improve for 150 rounds.\n",
      "[200]\tvalid_0's auc: 0.731083\n",
      "[400]\tvalid_0's auc: 0.732283\n",
      "[600]\tvalid_0's auc: 0.732471\n",
      "Early stopping, best iteration is:\n",
      "[637]\tvalid_0's auc: 0.732504\n"
     ]
    },
    {
     "name": "stderr",
     "output_type": "stream",
     "text": [
      "\n",
      "\n",
      "\n",
      "bagging, val_score: 0.732504:  20%|##        | 2/10 [00:57<02:21, 17.69s/it]\n",
      "\n",
      "\n",
      "bagging, val_score: 0.732504:  30%|###       | 3/10 [00:57<02:03, 17.60s/it][I 2020-08-05 06:51:44,484] Trial 29 finished with value: 0.7325043557453449 and parameters: {'bagging_fraction': 0.9784660429644758, 'bagging_freq': 1}. Best is trial 29 with value: 0.7325043557453449.\n",
      "\n",
      "\n",
      "\n",
      "bagging, val_score: 0.732504:  30%|###       | 3/10 [00:57<02:03, 17.60s/it]"
     ]
    },
    {
     "name": "stdout",
     "output_type": "stream",
     "text": [
      "Training until validation scores don't improve for 150 rounds.\n",
      "[200]\tvalid_0's auc: 0.730238\n",
      "[400]\tvalid_0's auc: 0.731739\n",
      "[600]\tvalid_0's auc: 0.732209\n",
      "Early stopping, best iteration is:\n",
      "[601]\tvalid_0's auc: 0.732249\n"
     ]
    },
    {
     "name": "stderr",
     "output_type": "stream",
     "text": [
      "\n",
      "\n",
      "\n",
      "bagging, val_score: 0.732504:  30%|###       | 3/10 [01:13<02:03, 17.60s/it]\n",
      "\n",
      "\n",
      "bagging, val_score: 0.732504:  40%|####      | 4/10 [01:13<01:43, 17.29s/it][I 2020-08-05 06:52:01,057] Trial 30 finished with value: 0.7322494288017901 and parameters: {'bagging_fraction': 0.9996772939522809, 'bagging_freq': 1}. Best is trial 29 with value: 0.7325043557453449.\n",
      "\n",
      "\n",
      "\n",
      "bagging, val_score: 0.732504:  40%|####      | 4/10 [01:13<01:43, 17.29s/it]"
     ]
    },
    {
     "name": "stdout",
     "output_type": "stream",
     "text": [
      "Training until validation scores don't improve for 150 rounds.\n",
      "[200]\tvalid_0's auc: 0.730473\n",
      "[400]\tvalid_0's auc: 0.731887\n",
      "[600]\tvalid_0's auc: 0.732125\n",
      "Early stopping, best iteration is:\n",
      "[627]\tvalid_0's auc: 0.732174\n"
     ]
    },
    {
     "name": "stderr",
     "output_type": "stream",
     "text": [
      "\n",
      "\n",
      "\n",
      "bagging, val_score: 0.732504:  40%|####      | 4/10 [01:30<01:43, 17.29s/it]\n",
      "\n",
      "\n",
      "bagging, val_score: 0.732504:  50%|#####     | 5/10 [01:30<01:25, 17.20s/it][I 2020-08-05 06:52:18,037] Trial 31 finished with value: 0.7321738843448531 and parameters: {'bagging_fraction': 0.9937012332648082, 'bagging_freq': 1}. Best is trial 29 with value: 0.7325043557453449.\n",
      "\n",
      "\n",
      "\n",
      "bagging, val_score: 0.732504:  50%|#####     | 5/10 [01:30<01:25, 17.20s/it]"
     ]
    },
    {
     "name": "stdout",
     "output_type": "stream",
     "text": [
      "Training until validation scores don't improve for 150 rounds.\n",
      "[200]\tvalid_0's auc: 0.730684\n",
      "[400]\tvalid_0's auc: 0.731827\n",
      "[600]\tvalid_0's auc: 0.73199\n",
      "Early stopping, best iteration is:\n",
      "[629]\tvalid_0's auc: 0.73207\n"
     ]
    },
    {
     "name": "stderr",
     "output_type": "stream",
     "text": [
      "\n",
      "\n",
      "\n",
      "bagging, val_score: 0.732504:  50%|#####     | 5/10 [01:47<01:25, 17.20s/it]\n",
      "\n",
      "\n",
      "bagging, val_score: 0.732504:  60%|######    | 6/10 [01:47<01:08, 17.13s/it][I 2020-08-05 06:52:35,000] Trial 32 finished with value: 0.7320699171574073 and parameters: {'bagging_fraction': 0.998033823217017, 'bagging_freq': 1}. Best is trial 29 with value: 0.7325043557453449.\n",
      "\n",
      "\n",
      "\n",
      "bagging, val_score: 0.732504:  60%|######    | 6/10 [01:47<01:08, 17.13s/it]"
     ]
    },
    {
     "name": "stdout",
     "output_type": "stream",
     "text": [
      "Training until validation scores don't improve for 150 rounds.\n",
      "[200]\tvalid_0's auc: 0.730348\n",
      "[400]\tvalid_0's auc: 0.731901\n",
      "[600]\tvalid_0's auc: 0.732141\n",
      "[800]\tvalid_0's auc: 0.732135\n",
      "Early stopping, best iteration is:\n",
      "[657]\tvalid_0's auc: 0.732291\n"
     ]
    },
    {
     "name": "stderr",
     "output_type": "stream",
     "text": [
      "\n",
      "\n",
      "\n",
      "bagging, val_score: 0.732504:  60%|######    | 6/10 [02:05<01:08, 17.13s/it]\n",
      "\n",
      "\n",
      "bagging, val_score: 0.732504:  70%|#######   | 7/10 [02:05<00:52, 17.34s/it][I 2020-08-05 06:52:52,820] Trial 33 finished with value: 0.7322906830754681 and parameters: {'bagging_fraction': 0.995246745505673, 'bagging_freq': 1}. Best is trial 29 with value: 0.7325043557453449.\n",
      "\n",
      "\n",
      "\n",
      "bagging, val_score: 0.732504:  70%|#######   | 7/10 [02:05<00:52, 17.34s/it]"
     ]
    },
    {
     "name": "stdout",
     "output_type": "stream",
     "text": [
      "Training until validation scores don't improve for 150 rounds.\n",
      "[200]\tvalid_0's auc: 0.730602\n",
      "[400]\tvalid_0's auc: 0.731974\n",
      "[600]\tvalid_0's auc: 0.731968\n",
      "Early stopping, best iteration is:\n",
      "[577]\tvalid_0's auc: 0.732112\n"
     ]
    },
    {
     "name": "stderr",
     "output_type": "stream",
     "text": [
      "\n",
      "\n",
      "\n",
      "bagging, val_score: 0.732504:  70%|#######   | 7/10 [02:21<00:52, 17.34s/it]\n",
      "\n",
      "\n",
      "bagging, val_score: 0.732504:  80%|########  | 8/10 [02:21<00:33, 16.95s/it][I 2020-08-05 06:53:08,874] Trial 34 finished with value: 0.7321117273710301 and parameters: {'bagging_fraction': 0.9697503084386558, 'bagging_freq': 1}. Best is trial 29 with value: 0.7325043557453449.\n",
      "\n",
      "\n",
      "\n",
      "bagging, val_score: 0.732504:  80%|########  | 8/10 [02:21<00:33, 16.95s/it]"
     ]
    },
    {
     "name": "stdout",
     "output_type": "stream",
     "text": [
      "Training until validation scores don't improve for 150 rounds.\n",
      "[200]\tvalid_0's auc: 0.730709\n",
      "[400]\tvalid_0's auc: 0.732136\n",
      "[600]\tvalid_0's auc: 0.732245\n",
      "Early stopping, best iteration is:\n",
      "[631]\tvalid_0's auc: 0.732332\n"
     ]
    },
    {
     "name": "stderr",
     "output_type": "stream",
     "text": [
      "\n",
      "\n",
      "\n",
      "bagging, val_score: 0.732504:  80%|########  | 8/10 [02:38<00:33, 16.95s/it]\n",
      "\n",
      "\n",
      "bagging, val_score: 0.732504:  90%|######### | 9/10 [02:38<00:17, 17.02s/it][I 2020-08-05 06:53:26,059] Trial 35 finished with value: 0.732332302360221 and parameters: {'bagging_fraction': 0.996376512666657, 'bagging_freq': 1}. Best is trial 29 with value: 0.7325043557453449.\n",
      "\n",
      "\n",
      "\n",
      "bagging, val_score: 0.732504:  90%|######### | 9/10 [02:38<00:17, 17.02s/it]"
     ]
    },
    {
     "name": "stdout",
     "output_type": "stream",
     "text": [
      "Training until validation scores don't improve for 150 rounds.\n",
      "[200]\tvalid_0's auc: 0.730953\n",
      "[400]\tvalid_0's auc: 0.732401\n",
      "Early stopping, best iteration is:\n",
      "[371]\tvalid_0's auc: 0.73251\n"
     ]
    },
    {
     "name": "stderr",
     "output_type": "stream",
     "text": [
      "\n",
      "\n",
      "\n",
      "bagging, val_score: 0.732510:  90%|######### | 9/10 [02:50<00:17, 17.02s/it]\n",
      "\n",
      "\n",
      "bagging, val_score: 0.732510: 100%|##########| 10/10 [02:50<00:00, 15.52s/it][I 2020-08-05 06:53:38,060] Trial 36 finished with value: 0.7325099817292302 and parameters: {'bagging_fraction': 0.8371490095374469, 'bagging_freq': 3}. Best is trial 36 with value: 0.7325099817292302.\n",
      "bagging, val_score: 0.732510: 100%|##########| 10/10 [02:50<00:00, 17.07s/it]\n",
      "\n",
      "\n",
      "\n",
      "  0%|          | 0/6 [00:00<?, ?it/s]\n",
      "\n",
      "\n",
      "feature_fraction_stage2, val_score: 0.732510:   0%|          | 0/6 [00:00<?, ?it/s]"
     ]
    },
    {
     "name": "stdout",
     "output_type": "stream",
     "text": [
      "Training until validation scores don't improve for 150 rounds.\n",
      "[200]\tvalid_0's auc: 0.730843\n",
      "[400]\tvalid_0's auc: 0.732081\n",
      "Early stopping, best iteration is:\n",
      "[371]\tvalid_0's auc: 0.732156\n"
     ]
    },
    {
     "name": "stderr",
     "output_type": "stream",
     "text": [
      "\n",
      "\n",
      "\n",
      "feature_fraction_stage2, val_score: 0.732510:   0%|          | 0/6 [00:12<?, ?it/s]\n",
      "\n",
      "\n",
      "feature_fraction_stage2, val_score: 0.732510:  17%|#6        | 1/6 [00:12<01:01, 12.23s/it][I 2020-08-05 06:53:50,307] Trial 37 finished with value: 0.7321556538466648 and parameters: {'feature_fraction': 0.88}. Best is trial 37 with value: 0.7321556538466648.\n",
      "\n",
      "\n",
      "\n",
      "feature_fraction_stage2, val_score: 0.732510:  17%|#6        | 1/6 [00:12<01:01, 12.23s/it]"
     ]
    },
    {
     "name": "stdout",
     "output_type": "stream",
     "text": [
      "Training until validation scores don't improve for 150 rounds.\n",
      "[200]\tvalid_0's auc: 0.730953\n",
      "[400]\tvalid_0's auc: 0.732401\n",
      "Early stopping, best iteration is:\n",
      "[371]\tvalid_0's auc: 0.73251\n"
     ]
    },
    {
     "name": "stderr",
     "output_type": "stream",
     "text": [
      "\n",
      "\n",
      "\n",
      "feature_fraction_stage2, val_score: 0.732510:  17%|#6        | 1/6 [00:24<01:01, 12.23s/it]\n",
      "\n",
      "\n",
      "feature_fraction_stage2, val_score: 0.732510:  33%|###3      | 2/6 [00:24<00:48, 12.16s/it][I 2020-08-05 06:54:02,307] Trial 38 finished with value: 0.7325099817292302 and parameters: {'feature_fraction': 0.7200000000000001}. Best is trial 38 with value: 0.7325099817292302.\n",
      "\n",
      "\n",
      "\n",
      "feature_fraction_stage2, val_score: 0.732510:  33%|###3      | 2/6 [00:24<00:48, 12.16s/it]"
     ]
    },
    {
     "name": "stdout",
     "output_type": "stream",
     "text": [
      "Training until validation scores don't improve for 150 rounds.\n",
      "[200]\tvalid_0's auc: 0.730953\n",
      "[400]\tvalid_0's auc: 0.732401\n",
      "Early stopping, best iteration is:\n",
      "[371]\tvalid_0's auc: 0.73251\n"
     ]
    },
    {
     "name": "stderr",
     "output_type": "stream",
     "text": [
      "\n",
      "\n",
      "\n",
      "feature_fraction_stage2, val_score: 0.732510:  33%|###3      | 2/6 [00:36<00:48, 12.16s/it]\n",
      "\n",
      "\n",
      "feature_fraction_stage2, val_score: 0.732510:  50%|#####     | 3/6 [00:36<00:36, 12.13s/it][I 2020-08-05 06:54:14,367] Trial 39 finished with value: 0.7325099817292302 and parameters: {'feature_fraction': 0.7520000000000001}. Best is trial 38 with value: 0.7325099817292302.\n",
      "\n",
      "\n",
      "\n",
      "feature_fraction_stage2, val_score: 0.732510:  50%|#####     | 3/6 [00:36<00:36, 12.13s/it]"
     ]
    },
    {
     "name": "stdout",
     "output_type": "stream",
     "text": [
      "Training until validation scores don't improve for 150 rounds.\n",
      "[200]\tvalid_0's auc: 0.730953\n",
      "[400]\tvalid_0's auc: 0.732401\n",
      "Early stopping, best iteration is:\n",
      "[371]\tvalid_0's auc: 0.73251\n"
     ]
    },
    {
     "name": "stderr",
     "output_type": "stream",
     "text": [
      "\n",
      "\n",
      "\n",
      "feature_fraction_stage2, val_score: 0.732510:  50%|#####     | 3/6 [00:48<00:36, 12.13s/it]\n",
      "\n",
      "\n",
      "feature_fraction_stage2, val_score: 0.732510:  67%|######6   | 4/6 [00:48<00:24, 12.13s/it][I 2020-08-05 06:54:26,505] Trial 40 finished with value: 0.7325099817292302 and parameters: {'feature_fraction': 0.8480000000000001}. Best is trial 38 with value: 0.7325099817292302.\n",
      "\n",
      "\n",
      "\n",
      "feature_fraction_stage2, val_score: 0.732510:  67%|######6   | 4/6 [00:48<00:24, 12.13s/it]"
     ]
    },
    {
     "name": "stdout",
     "output_type": "stream",
     "text": [
      "Training until validation scores don't improve for 150 rounds.\n",
      "[200]\tvalid_0's auc: 0.730953\n",
      "[400]\tvalid_0's auc: 0.732401\n",
      "Early stopping, best iteration is:\n",
      "[371]\tvalid_0's auc: 0.73251\n"
     ]
    },
    {
     "name": "stderr",
     "output_type": "stream",
     "text": [
      "\n",
      "\n",
      "\n",
      "feature_fraction_stage2, val_score: 0.732510:  67%|######6   | 4/6 [01:00<00:24, 12.13s/it]\n",
      "\n",
      "\n",
      "feature_fraction_stage2, val_score: 0.732510:  83%|########3 | 5/6 [01:00<00:12, 12.17s/it][I 2020-08-05 06:54:38,756] Trial 41 finished with value: 0.7325099817292302 and parameters: {'feature_fraction': 0.784}. Best is trial 38 with value: 0.7325099817292302.\n",
      "\n",
      "\n",
      "\n",
      "feature_fraction_stage2, val_score: 0.732510:  83%|########3 | 5/6 [01:00<00:12, 12.17s/it]"
     ]
    },
    {
     "name": "stdout",
     "output_type": "stream",
     "text": [
      "Training until validation scores don't improve for 150 rounds.\n",
      "[200]\tvalid_0's auc: 0.730953\n",
      "[400]\tvalid_0's auc: 0.732401\n",
      "Early stopping, best iteration is:\n",
      "[371]\tvalid_0's auc: 0.73251\n"
     ]
    },
    {
     "name": "stderr",
     "output_type": "stream",
     "text": [
      "\n",
      "\n",
      "\n",
      "feature_fraction_stage2, val_score: 0.732510:  83%|########3 | 5/6 [01:12<00:12, 12.17s/it]\n",
      "\n",
      "\n",
      "feature_fraction_stage2, val_score: 0.732510: 100%|##########| 6/6 [01:12<00:00, 12.15s/it][I 2020-08-05 06:54:50,854] Trial 42 finished with value: 0.7325099817292302 and parameters: {'feature_fraction': 0.8160000000000001}. Best is trial 38 with value: 0.7325099817292302.\n",
      "feature_fraction_stage2, val_score: 0.732510: 100%|##########| 6/6 [01:12<00:00, 12.13s/it]\n",
      "\n",
      "\n",
      "\n",
      "  0%|          | 0/20 [00:00<?, ?it/s]\n",
      "\n",
      "\n",
      "regularization_factors, val_score: 0.732510:   0%|          | 0/20 [00:00<?, ?it/s]"
     ]
    },
    {
     "name": "stdout",
     "output_type": "stream",
     "text": [
      "Training until validation scores don't improve for 150 rounds.\n",
      "[200]\tvalid_0's auc: 0.731171\n",
      "[400]\tvalid_0's auc: 0.732463\n",
      "Early stopping, best iteration is:\n",
      "[374]\tvalid_0's auc: 0.732536\n"
     ]
    },
    {
     "name": "stderr",
     "output_type": "stream",
     "text": [
      "\n",
      "\n",
      "\n",
      "regularization_factors, val_score: 0.732536:   0%|          | 0/20 [00:12<?, ?it/s]\n",
      "\n",
      "\n",
      "regularization_factors, val_score: 0.732536:   5%|5         | 1/20 [00:12<03:51, 12.19s/it][I 2020-08-05 06:55:03,066] Trial 43 finished with value: 0.7325363732332743 and parameters: {'lambda_l1': 0.8513937096908145, 'lambda_l2': 3.9149547711948643e-08}. Best is trial 43 with value: 0.7325363732332743.\n",
      "\n",
      "\n",
      "\n",
      "regularization_factors, val_score: 0.732536:   5%|5         | 1/20 [00:12<03:51, 12.19s/it]"
     ]
    },
    {
     "name": "stdout",
     "output_type": "stream",
     "text": [
      "Training until validation scores don't improve for 150 rounds.\n",
      "[200]\tvalid_0's auc: 0.730767\n",
      "[400]\tvalid_0's auc: 0.732406\n",
      "[600]\tvalid_0's auc: 0.732585\n",
      "[800]\tvalid_0's auc: 0.732776\n",
      "Early stopping, best iteration is:\n",
      "[783]\tvalid_0's auc: 0.732866\n"
     ]
    },
    {
     "name": "stderr",
     "output_type": "stream",
     "text": [
      "\n",
      "\n",
      "\n",
      "regularization_factors, val_score: 0.732866:   5%|5         | 1/20 [00:34<03:51, 12.19s/it]\n",
      "\n",
      "\n",
      "regularization_factors, val_score: 0.732866:  10%|#         | 2/20 [00:34<04:32, 15.14s/it][I 2020-08-05 06:55:25,084] Trial 44 finished with value: 0.7328664611715819 and parameters: {'lambda_l1': 6.036723179740786, 'lambda_l2': 4.8460528143515374e-08}. Best is trial 44 with value: 0.7328664611715819.\n",
      "\n",
      "\n",
      "\n",
      "regularization_factors, val_score: 0.732866:  10%|#         | 2/20 [00:34<04:32, 15.14s/it]"
     ]
    },
    {
     "name": "stdout",
     "output_type": "stream",
     "text": [
      "Training until validation scores don't improve for 150 rounds.\n",
      "[200]\tvalid_0's auc: 0.731282\n",
      "[400]\tvalid_0's auc: 0.732892\n",
      "[600]\tvalid_0's auc: 0.733107\n",
      "[800]\tvalid_0's auc: 0.733149\n",
      "Early stopping, best iteration is:\n",
      "[705]\tvalid_0's auc: 0.733312\n"
     ]
    },
    {
     "name": "stderr",
     "output_type": "stream",
     "text": [
      "\n",
      "\n",
      "\n",
      "regularization_factors, val_score: 0.733312:  10%|#         | 2/20 [00:54<04:32, 15.14s/it]\n",
      "\n",
      "\n",
      "regularization_factors, val_score: 0.733312:  15%|#5        | 3/20 [00:54<04:44, 16.73s/it][I 2020-08-05 06:55:45,550] Trial 45 finished with value: 0.7333121894317308 and parameters: {'lambda_l1': 8.704022927006767, 'lambda_l2': 1.6392166425930377e-08}. Best is trial 45 with value: 0.7333121894317308.\n",
      "\n",
      "\n",
      "\n",
      "regularization_factors, val_score: 0.733312:  15%|#5        | 3/20 [00:54<04:44, 16.73s/it]"
     ]
    },
    {
     "name": "stdout",
     "output_type": "stream",
     "text": [
      "Training until validation scores don't improve for 150 rounds.\n",
      "[200]\tvalid_0's auc: 0.73092\n",
      "[400]\tvalid_0's auc: 0.732668\n",
      "[600]\tvalid_0's auc: 0.732943\n",
      "Early stopping, best iteration is:\n",
      "[491]\tvalid_0's auc: 0.733031\n"
     ]
    },
    {
     "name": "stderr",
     "output_type": "stream",
     "text": [
      "\n",
      "\n",
      "\n",
      "regularization_factors, val_score: 0.733312:  15%|#5        | 3/20 [01:10<04:44, 16.73s/it]\n",
      "\n",
      "\n",
      "regularization_factors, val_score: 0.733312:  20%|##        | 4/20 [01:10<04:22, 16.38s/it][I 2020-08-05 06:56:01,093] Trial 46 finished with value: 0.7330311653996584 and parameters: {'lambda_l1': 9.04484571243081, 'lambda_l2': 1.630472355054122e-08}. Best is trial 45 with value: 0.7333121894317308.\n",
      "\n",
      "\n",
      "\n",
      "regularization_factors, val_score: 0.733312:  20%|##        | 4/20 [01:10<04:22, 16.38s/it]"
     ]
    },
    {
     "name": "stdout",
     "output_type": "stream",
     "text": [
      "Training until validation scores don't improve for 150 rounds.\n",
      "[200]\tvalid_0's auc: 0.730915\n",
      "[400]\tvalid_0's auc: 0.732436\n",
      "[600]\tvalid_0's auc: 0.732543\n",
      "[800]\tvalid_0's auc: 0.732486\n",
      "Early stopping, best iteration is:\n",
      "[706]\tvalid_0's auc: 0.732764\n"
     ]
    },
    {
     "name": "stderr",
     "output_type": "stream",
     "text": [
      "\n",
      "\n",
      "\n",
      "regularization_factors, val_score: 0.733312:  20%|##        | 4/20 [01:30<04:22, 16.38s/it]\n",
      "\n",
      "\n",
      "regularization_factors, val_score: 0.733312:  25%|##5       | 5/20 [01:30<04:24, 17.60s/it][I 2020-08-05 06:56:21,563] Trial 47 finished with value: 0.7327644658461624 and parameters: {'lambda_l1': 6.287365241224709, 'lambda_l2': 1.7422095296098898e-08}. Best is trial 45 with value: 0.7333121894317308.\n",
      "\n",
      "\n",
      "\n",
      "regularization_factors, val_score: 0.733312:  25%|##5       | 5/20 [01:30<04:24, 17.60s/it]"
     ]
    },
    {
     "name": "stdout",
     "output_type": "stream",
     "text": [
      "Training until validation scores don't improve for 150 rounds.\n",
      "[200]\tvalid_0's auc: 0.730768\n",
      "[400]\tvalid_0's auc: 0.732766\n",
      "[600]\tvalid_0's auc: 0.733151\n",
      "[800]\tvalid_0's auc: 0.733171\n",
      "Early stopping, best iteration is:\n",
      "[700]\tvalid_0's auc: 0.733367\n"
     ]
    },
    {
     "name": "stderr",
     "output_type": "stream",
     "text": [
      "\n",
      "\n",
      "\n",
      "regularization_factors, val_score: 0.733367:  25%|##5       | 5/20 [01:51<04:24, 17.60s/it]\n",
      "\n",
      "\n",
      "regularization_factors, val_score: 0.733367:  30%|###       | 6/20 [01:51<04:18, 18.44s/it][I 2020-08-05 06:56:41,959] Trial 48 finished with value: 0.7333674079862433 and parameters: {'lambda_l1': 9.177596209554949, 'lambda_l2': 1.7933014216572835e-08}. Best is trial 48 with value: 0.7333674079862433.\n",
      "\n",
      "\n",
      "\n",
      "regularization_factors, val_score: 0.733367:  30%|###       | 6/20 [01:51<04:18, 18.44s/it]"
     ]
    },
    {
     "name": "stdout",
     "output_type": "stream",
     "text": [
      "Training until validation scores don't improve for 150 rounds.\n",
      "[200]\tvalid_0's auc: 0.731083\n",
      "[400]\tvalid_0's auc: 0.732713\n",
      "[600]\tvalid_0's auc: 0.732985\n",
      "[800]\tvalid_0's auc: 0.732925\n",
      "Early stopping, best iteration is:\n",
      "[702]\tvalid_0's auc: 0.733137\n"
     ]
    },
    {
     "name": "stderr",
     "output_type": "stream",
     "text": [
      "\n",
      "\n",
      "\n",
      "regularization_factors, val_score: 0.733367:  30%|###       | 6/20 [02:11<04:18, 18.44s/it]\n",
      "\n",
      "\n",
      "regularization_factors, val_score: 0.733367:  35%|###5      | 7/20 [02:11<04:07, 19.07s/it][I 2020-08-05 06:57:02,498] Trial 49 finished with value: 0.7331366993269485 and parameters: {'lambda_l1': 9.8371988452662, 'lambda_l2': 1.4706450088142891e-08}. Best is trial 48 with value: 0.7333674079862433.\n",
      "\n",
      "\n",
      "\n",
      "regularization_factors, val_score: 0.733367:  35%|###5      | 7/20 [02:11<04:07, 19.07s/it]"
     ]
    },
    {
     "name": "stdout",
     "output_type": "stream",
     "text": [
      "Training until validation scores don't improve for 150 rounds.\n",
      "[200]\tvalid_0's auc: 0.731094\n",
      "[400]\tvalid_0's auc: 0.732648\n",
      "[600]\tvalid_0's auc: 0.73283\n",
      "[800]\tvalid_0's auc: 0.732766\n",
      "Early stopping, best iteration is:\n",
      "[703]\tvalid_0's auc: 0.733\n"
     ]
    },
    {
     "name": "stderr",
     "output_type": "stream",
     "text": [
      "\n",
      "\n",
      "\n",
      "regularization_factors, val_score: 0.733367:  35%|###5      | 7/20 [02:31<04:07, 19.07s/it]\n",
      "\n",
      "\n",
      "regularization_factors, val_score: 0.733367:  40%|####      | 8/20 [02:31<03:52, 19.41s/it][I 2020-08-05 06:57:22,690] Trial 50 finished with value: 0.73300025658273 and parameters: {'lambda_l1': 7.164453891388604, 'lambda_l2': 1.1228678685517347e-08}. Best is trial 48 with value: 0.7333674079862433.\n",
      "\n",
      "\n",
      "\n",
      "regularization_factors, val_score: 0.733367:  40%|####      | 8/20 [02:31<03:52, 19.41s/it]"
     ]
    },
    {
     "name": "stdout",
     "output_type": "stream",
     "text": [
      "Training until validation scores don't improve for 150 rounds.\n",
      "[200]\tvalid_0's auc: 0.730731\n",
      "[400]\tvalid_0's auc: 0.732572\n",
      "[600]\tvalid_0's auc: 0.732842\n",
      "[800]\tvalid_0's auc: 0.732871\n",
      "Early stopping, best iteration is:\n",
      "[703]\tvalid_0's auc: 0.73305\n"
     ]
    },
    {
     "name": "stderr",
     "output_type": "stream",
     "text": [
      "\n",
      "\n",
      "\n",
      "regularization_factors, val_score: 0.733367:  40%|####      | 8/20 [02:52<03:52, 19.41s/it]\n",
      "\n",
      "\n",
      "regularization_factors, val_score: 0.733367:  45%|####5     | 9/20 [02:52<03:36, 19.67s/it][I 2020-08-05 06:57:42,960] Trial 51 finished with value: 0.7330499614644571 and parameters: {'lambda_l1': 7.3879517163808615, 'lambda_l2': 1.4313935868857761e-08}. Best is trial 48 with value: 0.7333674079862433.\n",
      "\n",
      "\n",
      "\n",
      "regularization_factors, val_score: 0.733367:  45%|####5     | 9/20 [02:52<03:36, 19.67s/it]"
     ]
    },
    {
     "name": "stdout",
     "output_type": "stream",
     "text": [
      "Training until validation scores don't improve for 150 rounds.\n",
      "[200]\tvalid_0's auc: 0.731027\n",
      "[400]\tvalid_0's auc: 0.732751\n",
      "[600]\tvalid_0's auc: 0.733011\n",
      "[800]\tvalid_0's auc: 0.733019\n",
      "Early stopping, best iteration is:\n",
      "[716]\tvalid_0's auc: 0.733215\n"
     ]
    },
    {
     "name": "stderr",
     "output_type": "stream",
     "text": [
      "\n",
      "\n",
      "\n",
      "regularization_factors, val_score: 0.733367:  45%|####5     | 9/20 [03:12<03:36, 19.67s/it]\n",
      "\n",
      "\n",
      "regularization_factors, val_score: 0.733367:  50%|#####     | 10/20 [03:12<03:19, 19.96s/it][I 2020-08-05 06:58:03,610] Trial 52 finished with value: 0.7332153130858027 and parameters: {'lambda_l1': 8.57174915756555, 'lambda_l2': 1.1144330039568406e-08}. Best is trial 48 with value: 0.7333674079862433.\n",
      "\n",
      "\n",
      "\n",
      "regularization_factors, val_score: 0.733367:  50%|#####     | 10/20 [03:12<03:19, 19.96s/it]"
     ]
    },
    {
     "name": "stdout",
     "output_type": "stream",
     "text": [
      "Training until validation scores don't improve for 150 rounds.\n",
      "[200]\tvalid_0's auc: 0.730825\n",
      "[400]\tvalid_0's auc: 0.732673\n",
      "[600]\tvalid_0's auc: 0.732936\n",
      "[800]\tvalid_0's auc: 0.732937\n",
      "Early stopping, best iteration is:\n",
      "[705]\tvalid_0's auc: 0.7331\n"
     ]
    },
    {
     "name": "stderr",
     "output_type": "stream",
     "text": [
      "\n",
      "\n",
      "\n",
      "regularization_factors, val_score: 0.733367:  50%|#####     | 10/20 [03:33<03:19, 19.96s/it]\n",
      "\n",
      "\n",
      "regularization_factors, val_score: 0.733367:  55%|#####5    | 11/20 [03:33<03:01, 20.20s/it][I 2020-08-05 06:58:24,379] Trial 53 finished with value: 0.7330997955039492 and parameters: {'lambda_l1': 9.809650217092326, 'lambda_l2': 1.4056037926553137e-08}. Best is trial 48 with value: 0.7333674079862433.\n",
      "\n",
      "\n",
      "\n",
      "regularization_factors, val_score: 0.733367:  55%|#####5    | 11/20 [03:33<03:01, 20.20s/it]"
     ]
    },
    {
     "name": "stdout",
     "output_type": "stream",
     "text": [
      "Training until validation scores don't improve for 150 rounds.\n",
      "[200]\tvalid_0's auc: 0.730935\n",
      "[400]\tvalid_0's auc: 0.732741\n",
      "[600]\tvalid_0's auc: 0.732992\n",
      "[800]\tvalid_0's auc: 0.733138\n",
      "Early stopping, best iteration is:\n",
      "[706]\tvalid_0's auc: 0.733245\n"
     ]
    },
    {
     "name": "stderr",
     "output_type": "stream",
     "text": [
      "\n",
      "\n",
      "\n",
      "regularization_factors, val_score: 0.733367:  55%|#####5    | 11/20 [03:53<03:01, 20.20s/it]\n",
      "\n",
      "\n",
      "regularization_factors, val_score: 0.733367:  60%|######    | 12/20 [03:53<02:42, 20.26s/it][I 2020-08-05 06:58:44,779] Trial 54 finished with value: 0.7332448204206481 and parameters: {'lambda_l1': 8.790387596575032, 'lambda_l2': 1.055330890384974e-08}. Best is trial 48 with value: 0.7333674079862433.\n",
      "\n",
      "\n",
      "\n",
      "regularization_factors, val_score: 0.733367:  60%|######    | 12/20 [03:53<02:42, 20.26s/it]"
     ]
    },
    {
     "name": "stdout",
     "output_type": "stream",
     "text": [
      "Training until validation scores don't improve for 150 rounds.\n",
      "[200]\tvalid_0's auc: 0.730953\n",
      "[400]\tvalid_0's auc: 0.732401\n",
      "Early stopping, best iteration is:\n",
      "[371]\tvalid_0's auc: 0.73251\n"
     ]
    },
    {
     "name": "stderr",
     "output_type": "stream",
     "text": [
      "\n",
      "\n",
      "\n",
      "regularization_factors, val_score: 0.733367:  60%|######    | 12/20 [04:05<02:42, 20.26s/it]\n",
      "\n",
      "\n",
      "regularization_factors, val_score: 0.733367:  65%|######5   | 13/20 [04:05<02:04, 17.80s/it][I 2020-08-05 06:58:56,822] Trial 55 finished with value: 0.7325099817292302 and parameters: {'lambda_l1': 1.9218021402086845e-08, 'lambda_l2': 1.0376342680951668e-08}. Best is trial 48 with value: 0.7333674079862433.\n",
      "\n",
      "\n",
      "\n",
      "regularization_factors, val_score: 0.733367:  65%|######5   | 13/20 [04:05<02:04, 17.80s/it]"
     ]
    },
    {
     "name": "stdout",
     "output_type": "stream",
     "text": [
      "Training until validation scores don't improve for 150 rounds.\n",
      "[200]\tvalid_0's auc: 0.730923\n",
      "[400]\tvalid_0's auc: 0.732286\n",
      "Early stopping, best iteration is:\n",
      "[370]\tvalid_0's auc: 0.732387\n"
     ]
    },
    {
     "name": "stderr",
     "output_type": "stream",
     "text": [
      "\n",
      "\n",
      "\n",
      "regularization_factors, val_score: 0.733367:  65%|######5   | 13/20 [04:18<02:04, 17.80s/it]\n",
      "\n",
      "\n",
      "regularization_factors, val_score: 0.733367:  70%|#######   | 14/20 [04:18<01:36, 16.10s/it][I 2020-08-05 06:59:08,948] Trial 56 finished with value: 0.7323868919725738 and parameters: {'lambda_l1': 0.08485032012806412, 'lambda_l2': 1.792830505814062e-05}. Best is trial 48 with value: 0.7333674079862433.\n",
      "\n",
      "\n",
      "\n",
      "regularization_factors, val_score: 0.733367:  70%|#######   | 14/20 [04:18<01:36, 16.10s/it]"
     ]
    },
    {
     "name": "stdout",
     "output_type": "stream",
     "text": [
      "Training until validation scores don't improve for 150 rounds.\n",
      "[200]\tvalid_0's auc: 0.730929\n",
      "[400]\tvalid_0's auc: 0.732596\n",
      "[600]\tvalid_0's auc: 0.732846\n",
      "[800]\tvalid_0's auc: 0.732956\n",
      "Early stopping, best iteration is:\n",
      "[783]\tvalid_0's auc: 0.733077\n"
     ]
    },
    {
     "name": "stderr",
     "output_type": "stream",
     "text": [
      "\n",
      "\n",
      "\n",
      "regularization_factors, val_score: 0.733367:  70%|#######   | 14/20 [04:40<01:36, 16.10s/it]\n",
      "\n",
      "\n",
      "regularization_factors, val_score: 0.733367:  75%|#######5  | 15/20 [04:40<01:30, 18.02s/it][I 2020-08-05 06:59:31,453] Trial 57 finished with value: 0.7330765751840346 and parameters: {'lambda_l1': 8.185805246015297, 'lambda_l2': 8.467226812331294e-07}. Best is trial 48 with value: 0.7333674079862433.\n",
      "\n",
      "\n",
      "\n",
      "regularization_factors, val_score: 0.733367:  75%|#######5  | 15/20 [04:40<01:30, 18.02s/it]"
     ]
    },
    {
     "name": "stdout",
     "output_type": "stream",
     "text": [
      "Training until validation scores don't improve for 150 rounds.\n",
      "[200]\tvalid_0's auc: 0.730891\n",
      "[400]\tvalid_0's auc: 0.732278\n",
      "Early stopping, best iteration is:\n",
      "[370]\tvalid_0's auc: 0.732347\n"
     ]
    },
    {
     "name": "stderr",
     "output_type": "stream",
     "text": [
      "\n",
      "\n",
      "\n",
      "regularization_factors, val_score: 0.733367:  75%|#######5  | 15/20 [04:52<01:30, 18.02s/it]\n",
      "\n",
      "\n",
      "regularization_factors, val_score: 0.733367:  80%|########  | 16/20 [04:52<01:04, 16.19s/it][I 2020-08-05 06:59:43,379] Trial 58 finished with value: 0.7323467937010031 and parameters: {'lambda_l1': 0.13408669969605216, 'lambda_l2': 0.0064717407089082985}. Best is trial 48 with value: 0.7333674079862433.\n",
      "\n",
      "\n",
      "\n",
      "regularization_factors, val_score: 0.733367:  80%|########  | 16/20 [04:52<01:04, 16.19s/it]"
     ]
    },
    {
     "name": "stdout",
     "output_type": "stream",
     "text": [
      "Training until validation scores don't improve for 150 rounds.\n",
      "[200]\tvalid_0's auc: 0.730856\n",
      "[400]\tvalid_0's auc: 0.732939\n",
      "[600]\tvalid_0's auc: 0.733087\n",
      "[800]\tvalid_0's auc: 0.733086\n",
      "Early stopping, best iteration is:\n",
      "[716]\tvalid_0's auc: 0.733193\n"
     ]
    },
    {
     "name": "stderr",
     "output_type": "stream",
     "text": [
      "\n",
      "\n",
      "\n",
      "regularization_factors, val_score: 0.733367:  80%|########  | 16/20 [05:13<01:04, 16.19s/it]\n",
      "\n",
      "\n",
      "regularization_factors, val_score: 0.733367:  85%|########5 | 17/20 [05:13<00:52, 17.59s/it][I 2020-08-05 07:00:04,222] Trial 59 finished with value: 0.7331934517301975 and parameters: {'lambda_l1': 8.022519987692336, 'lambda_l2': 4.469599464928057}. Best is trial 48 with value: 0.7333674079862433.\n",
      "\n",
      "\n",
      "\n",
      "regularization_factors, val_score: 0.733367:  85%|########5 | 17/20 [05:13<00:52, 17.59s/it]"
     ]
    },
    {
     "name": "stdout",
     "output_type": "stream",
     "text": [
      "Training until validation scores don't improve for 150 rounds.\n",
      "[200]\tvalid_0's auc: 0.730786\n",
      "[400]\tvalid_0's auc: 0.732259\n",
      "Early stopping, best iteration is:\n",
      "[416]\tvalid_0's auc: 0.732331\n"
     ]
    },
    {
     "name": "stderr",
     "output_type": "stream",
     "text": [
      "\n",
      "\n",
      "\n",
      "regularization_factors, val_score: 0.733367:  85%|########5 | 17/20 [05:26<00:52, 17.59s/it]\n",
      "\n",
      "\n",
      "regularization_factors, val_score: 0.733367:  90%|######### | 18/20 [05:26<00:32, 16.36s/it][I 2020-08-05 07:00:17,707] Trial 60 finished with value: 0.7323307011248246 and parameters: {'lambda_l1': 0.41452438731863106, 'lambda_l2': 5.070784525132216}. Best is trial 48 with value: 0.7333674079862433.\n",
      "\n",
      "\n",
      "\n",
      "regularization_factors, val_score: 0.733367:  90%|######### | 18/20 [05:26<00:32, 16.36s/it]"
     ]
    },
    {
     "name": "stdout",
     "output_type": "stream",
     "text": [
      "Training until validation scores don't improve for 150 rounds.\n",
      "[200]\tvalid_0's auc: 0.731089\n",
      "[400]\tvalid_0's auc: 0.732699\n",
      "[600]\tvalid_0's auc: 0.733002\n",
      "[800]\tvalid_0's auc: 0.732951\n",
      "Early stopping, best iteration is:\n",
      "[690]\tvalid_0's auc: 0.733191\n"
     ]
    },
    {
     "name": "stderr",
     "output_type": "stream",
     "text": [
      "\n",
      "\n",
      "\n",
      "regularization_factors, val_score: 0.733367:  90%|######### | 18/20 [05:46<00:32, 16.36s/it]\n",
      "\n",
      "\n",
      "regularization_factors, val_score: 0.733367:  95%|#########5| 19/20 [05:46<00:17, 17.47s/it][I 2020-08-05 07:00:37,776] Trial 61 finished with value: 0.7331905324438208 and parameters: {'lambda_l1': 8.476401032168514, 'lambda_l2': 3.176064033366733e-07}. Best is trial 48 with value: 0.7333674079862433.\n",
      "\n",
      "\n",
      "\n",
      "regularization_factors, val_score: 0.733367:  95%|#########5| 19/20 [05:46<00:17, 17.47s/it]"
     ]
    },
    {
     "name": "stdout",
     "output_type": "stream",
     "text": [
      "Training until validation scores don't improve for 150 rounds.\n",
      "[200]\tvalid_0's auc: 0.730921\n",
      "[400]\tvalid_0's auc: 0.732743\n",
      "[600]\tvalid_0's auc: 0.733041\n",
      "[800]\tvalid_0's auc: 0.733114\n",
      "Early stopping, best iteration is:\n",
      "[708]\tvalid_0's auc: 0.73323\n"
     ]
    },
    {
     "name": "stderr",
     "output_type": "stream",
     "text": [
      "\n",
      "\n",
      "\n",
      "regularization_factors, val_score: 0.733367:  95%|#########5| 19/20 [06:07<00:17, 17.47s/it]\n",
      "\n",
      "\n",
      "regularization_factors, val_score: 0.733367: 100%|##########| 20/20 [06:07<00:00, 18.37s/it][I 2020-08-05 07:00:58,247] Trial 62 finished with value: 0.7332303050132016 and parameters: {'lambda_l1': 8.982095270886235, 'lambda_l2': 3.351461227752126e-07}. Best is trial 48 with value: 0.7333674079862433.\n",
      "regularization_factors, val_score: 0.733367: 100%|##########| 20/20 [06:07<00:00, 18.37s/it]\n",
      "\n",
      "\n",
      "\n",
      "  0%|          | 0/5 [00:00<?, ?it/s]\n",
      "\n",
      "\n",
      "min_data_in_leaf, val_score: 0.733367:   0%|          | 0/5 [00:00<?, ?it/s]"
     ]
    },
    {
     "name": "stdout",
     "output_type": "stream",
     "text": [
      "Training until validation scores don't improve for 150 rounds.\n",
      "[200]\tvalid_0's auc: 0.730769\n",
      "[400]\tvalid_0's auc: 0.732778\n",
      "[600]\tvalid_0's auc: 0.733084\n",
      "[800]\tvalid_0's auc: 0.733178\n",
      "Early stopping, best iteration is:\n",
      "[702]\tvalid_0's auc: 0.733344\n"
     ]
    },
    {
     "name": "stderr",
     "output_type": "stream",
     "text": [
      "\n",
      "\n",
      "\n",
      "min_data_in_leaf, val_score: 0.733367:   0%|          | 0/5 [00:20<?, ?it/s]\n",
      "\n",
      "\n",
      "min_data_in_leaf, val_score: 0.733367:  20%|##        | 1/5 [00:20<01:22, 20.55s/it][I 2020-08-05 07:01:18,815] Trial 63 finished with value: 0.7333439678574617 and parameters: {'min_child_samples': 50}. Best is trial 63 with value: 0.7333439678574617.\n",
      "\n",
      "\n",
      "\n",
      "min_data_in_leaf, val_score: 0.733367:  20%|##        | 1/5 [00:20<01:22, 20.55s/it]"
     ]
    },
    {
     "name": "stdout",
     "output_type": "stream",
     "text": [
      "Training until validation scores don't improve for 150 rounds.\n",
      "[200]\tvalid_0's auc: 0.730768\n",
      "[400]\tvalid_0's auc: 0.732766\n",
      "[600]\tvalid_0's auc: 0.73312\n",
      "[800]\tvalid_0's auc: 0.733214\n",
      "Early stopping, best iteration is:\n",
      "[703]\tvalid_0's auc: 0.733337\n"
     ]
    },
    {
     "name": "stderr",
     "output_type": "stream",
     "text": [
      "\n",
      "\n",
      "\n",
      "min_data_in_leaf, val_score: 0.733367:  20%|##        | 1/5 [00:47<01:22, 20.55s/it]\n",
      "\n",
      "\n",
      "min_data_in_leaf, val_score: 0.733367:  40%|####      | 2/5 [00:47<01:07, 22.41s/it][I 2020-08-05 07:01:45,560] Trial 64 finished with value: 0.7333371393425847 and parameters: {'min_child_samples': 5}. Best is trial 63 with value: 0.7333439678574617.\n",
      "\n",
      "\n",
      "\n",
      "min_data_in_leaf, val_score: 0.733367:  40%|####      | 2/5 [00:47<01:07, 22.41s/it]"
     ]
    },
    {
     "name": "stdout",
     "output_type": "stream",
     "text": [
      "Training until validation scores don't improve for 150 rounds.\n",
      "[200]\tvalid_0's auc: 0.730768\n",
      "[400]\tvalid_0's auc: 0.732766\n",
      "[600]\tvalid_0's auc: 0.73312\n",
      "[800]\tvalid_0's auc: 0.733214\n",
      "Early stopping, best iteration is:\n",
      "[703]\tvalid_0's auc: 0.733337\n"
     ]
    },
    {
     "name": "stderr",
     "output_type": "stream",
     "text": [
      "\n",
      "\n",
      "\n",
      "min_data_in_leaf, val_score: 0.733367:  40%|####      | 2/5 [01:07<01:07, 22.41s/it]\n",
      "\n",
      "\n",
      "min_data_in_leaf, val_score: 0.733367:  60%|######    | 3/5 [01:07<00:43, 21.81s/it][I 2020-08-05 07:02:05,988] Trial 65 finished with value: 0.7333371393425847 and parameters: {'min_child_samples': 10}. Best is trial 63 with value: 0.7333439678574617.\n",
      "\n",
      "\n",
      "\n",
      "min_data_in_leaf, val_score: 0.733367:  60%|######    | 3/5 [01:07<00:43, 21.81s/it]"
     ]
    },
    {
     "name": "stdout",
     "output_type": "stream",
     "text": [
      "Training until validation scores don't improve for 150 rounds.\n",
      "[200]\tvalid_0's auc: 0.730861\n",
      "[400]\tvalid_0's auc: 0.732769\n",
      "[600]\tvalid_0's auc: 0.732986\n",
      "[800]\tvalid_0's auc: 0.733068\n",
      "Early stopping, best iteration is:\n",
      "[722]\tvalid_0's auc: 0.7332\n"
     ]
    },
    {
     "name": "stderr",
     "output_type": "stream",
     "text": [
      "\n",
      "\n",
      "\n",
      "min_data_in_leaf, val_score: 0.733367:  60%|######    | 3/5 [01:28<00:43, 21.81s/it]\n",
      "\n",
      "\n",
      "min_data_in_leaf, val_score: 0.733367:  80%|########  | 4/5 [01:28<00:21, 21.56s/it][I 2020-08-05 07:02:26,944] Trial 66 finished with value: 0.7332003572584 and parameters: {'min_child_samples': 100}. Best is trial 63 with value: 0.7333439678574617.\n",
      "\n",
      "\n",
      "\n",
      "min_data_in_leaf, val_score: 0.733367:  80%|########  | 4/5 [01:28<00:21, 21.56s/it]"
     ]
    },
    {
     "name": "stdout",
     "output_type": "stream",
     "text": [
      "Training until validation scores don't improve for 150 rounds.\n",
      "[200]\tvalid_0's auc: 0.730768\n",
      "[400]\tvalid_0's auc: 0.732766\n",
      "[600]\tvalid_0's auc: 0.73301\n",
      "[800]\tvalid_0's auc: 0.732943\n",
      "Early stopping, best iteration is:\n",
      "[681]\tvalid_0's auc: 0.733165\n"
     ]
    },
    {
     "name": "stderr",
     "output_type": "stream",
     "text": [
      "\n",
      "\n",
      "\n",
      "min_data_in_leaf, val_score: 0.733367:  80%|########  | 4/5 [01:48<00:21, 21.56s/it]\n",
      "\n",
      "\n",
      "min_data_in_leaf, val_score: 0.733367: 100%|##########| 5/5 [01:48<00:00, 21.04s/it][I 2020-08-05 07:02:46,787] Trial 67 finished with value: 0.7331651405085665 and parameters: {'min_child_samples': 25}. Best is trial 63 with value: 0.7333439678574617.\n",
      "min_data_in_leaf, val_score: 0.733367: 100%|##########| 5/5 [01:48<00:00, 21.71s/it]\n"
     ]
    }
   ],
   "source": [
    "model = lgbo.train(params,                       # ハイパーパラメータをセット\n",
    "                  lgb_train,                    # 訓練データを訓練用にセット\n",
    "                  valid_sets=lgb_eval,          # 訓練データとテストデータをセット\n",
    "                  early_stopping_rounds=150,    # アーリーストッピング設定\n",
    "                  verbose_eval=200)             # コンソールから確認できる"
   ]
  },
  {
   "cell_type": "code",
   "execution_count": 300,
   "metadata": {
    "colab": {
     "base_uri": "https://localhost:8080/",
     "height": 215
    },
    "colab_type": "code",
    "id": "eKctOnK1b82S",
    "outputId": "b88e5a34-5cb7-4919-c07b-a0b2c505ea01"
   },
   "outputs": [
    {
     "name": "stdout",
     "output_type": "stream",
     "text": [
      "  Params: \n",
      "    objective: binary\n",
      "    metric: auc\n",
      "    random_seed: 0\n",
      "    lambda_l1: 9.177596209554949\n",
      "    lambda_l2: 1.7933014216572835e-08\n",
      "    num_leaves: 4\n",
      "    feature_fraction: 0.8\n",
      "    bagging_fraction: 0.8371490095374469\n",
      "    bagging_freq: 3\n",
      "    min_child_samples: 20\n"
     ]
    }
   ],
   "source": [
    "# ベストパラメータの取得\n",
    "best_params = model.params\n",
    "print(\"  Params: \")\n",
    "for key, value in best_params.items():\n",
    "    print(\"    {}: {}\".format(key, value))"
   ]
  },
  {
   "cell_type": "code",
   "execution_count": 324,
   "metadata": {
    "colab": {},
    "colab_type": "code",
    "id": "KlDcQn_LdSFt"
   },
   "outputs": [],
   "source": [
    "# テストデータを予測する\n",
    "y_pred2 = model.predict(X_test4, num_iteration = model.best_iteration)"
   ]
  },
  {
   "cell_type": "code",
   "execution_count": 325,
   "metadata": {
    "colab": {
     "base_uri": "https://localhost:8080/",
     "height": 35
    },
    "colab_type": "code",
    "id": "_sunycTjb9Hj",
    "outputId": "66f836f8-45a4-44d1-a2a4-351ade4690b0"
   },
   "outputs": [
    {
     "name": "stdout",
     "output_type": "stream",
     "text": [
      "0.7333674079862433\n"
     ]
    }
   ],
   "source": [
    "# AUCを計算する\n",
    "\n",
    "fpr, tpr, thresholds = metrics.roc_curve(y_test4, y_pred2)\n",
    "auc = metrics.auc(fpr, tpr)\n",
    "print(auc)"
   ]
  },
  {
   "cell_type": "markdown",
   "metadata": {
    "colab_type": "text",
    "id": "7-D72414fG4m"
   },
   "source": [
    "LightGBMのみ: 0.7315244871249443\n",
    "\n",
    "\n",
    "Optuna      : 0.7333674079862433\n",
    "\n",
    "若干精度向上"
   ]
  },
  {
   "cell_type": "markdown",
   "metadata": {
    "colab_type": "text",
    "id": "1-YoDC1E_nBA"
   },
   "source": [
    "##【問題5】最終的なモデルの選定\n",
    "\n",
    "最終的にこれは良いというモデルを選び、推定した結果をKaggleに提出してスコアを確認してください。どういったアイデアを取り入れ、どの程度のスコアになったかを記載してください。"
   ]
  },
  {
   "cell_type": "code",
   "execution_count": 321,
   "metadata": {
    "colab": {
     "base_uri": "https://localhost:8080/",
     "height": 574
    },
    "colab_type": "code",
    "id": "MLdVu_db_nBB",
    "outputId": "fa536770-e7d4-4304-e29a-0415d65489d5"
   },
   "outputs": [
    {
     "data": {
      "text/html": [
       "<div>\n",
       "<style scoped>\n",
       "    .dataframe tbody tr th:only-of-type {\n",
       "        vertical-align: middle;\n",
       "    }\n",
       "\n",
       "    .dataframe tbody tr th {\n",
       "        vertical-align: top;\n",
       "    }\n",
       "\n",
       "    .dataframe thead th {\n",
       "        text-align: right;\n",
       "    }\n",
       "</style>\n",
       "<table border=\"1\" class=\"dataframe\">\n",
       "  <thead>\n",
       "    <tr style=\"text-align: right;\">\n",
       "      <th></th>\n",
       "      <th>SK_ID_CURR</th>\n",
       "      <th>TARGET</th>\n",
       "      <th>NAME_CONTRACT_TYPE</th>\n",
       "      <th>CODE_GENDER</th>\n",
       "      <th>FLAG_OWN_CAR</th>\n",
       "      <th>FLAG_OWN_REALTY</th>\n",
       "      <th>CNT_CHILDREN</th>\n",
       "      <th>AMT_INCOME_TOTAL</th>\n",
       "      <th>AMT_CREDIT</th>\n",
       "      <th>AMT_ANNUITY</th>\n",
       "      <th>AMT_GOODS_PRICE</th>\n",
       "      <th>NAME_TYPE_SUITE</th>\n",
       "      <th>NAME_INCOME_TYPE</th>\n",
       "      <th>NAME_EDUCATION_TYPE</th>\n",
       "      <th>NAME_FAMILY_STATUS</th>\n",
       "      <th>NAME_HOUSING_TYPE</th>\n",
       "      <th>REGION_POPULATION_RELATIVE</th>\n",
       "      <th>DAYS_BIRTH</th>\n",
       "      <th>DAYS_EMPLOYED</th>\n",
       "      <th>DAYS_REGISTRATION</th>\n",
       "      <th>DAYS_ID_PUBLISH</th>\n",
       "      <th>OWN_CAR_AGE</th>\n",
       "      <th>FLAG_MOBIL</th>\n",
       "      <th>FLAG_EMP_PHONE</th>\n",
       "      <th>FLAG_WORK_PHONE</th>\n",
       "      <th>FLAG_CONT_MOBILE</th>\n",
       "      <th>FLAG_PHONE</th>\n",
       "      <th>FLAG_EMAIL</th>\n",
       "      <th>OCCUPATION_TYPE</th>\n",
       "      <th>CNT_FAM_MEMBERS</th>\n",
       "      <th>REGION_RATING_CLIENT</th>\n",
       "      <th>REGION_RATING_CLIENT_W_CITY</th>\n",
       "      <th>WEEKDAY_APPR_PROCESS_START</th>\n",
       "      <th>HOUR_APPR_PROCESS_START</th>\n",
       "      <th>REG_REGION_NOT_LIVE_REGION</th>\n",
       "      <th>REG_REGION_NOT_WORK_REGION</th>\n",
       "      <th>LIVE_REGION_NOT_WORK_REGION</th>\n",
       "      <th>REG_CITY_NOT_LIVE_CITY</th>\n",
       "      <th>REG_CITY_NOT_WORK_CITY</th>\n",
       "      <th>LIVE_CITY_NOT_WORK_CITY</th>\n",
       "      <th>...</th>\n",
       "      <th>LIVINGAPARTMENTS_MEDI</th>\n",
       "      <th>LIVINGAREA_MEDI</th>\n",
       "      <th>NONLIVINGAPARTMENTS_MEDI</th>\n",
       "      <th>NONLIVINGAREA_MEDI</th>\n",
       "      <th>FONDKAPREMONT_MODE</th>\n",
       "      <th>HOUSETYPE_MODE</th>\n",
       "      <th>TOTALAREA_MODE</th>\n",
       "      <th>WALLSMATERIAL_MODE</th>\n",
       "      <th>EMERGENCYSTATE_MODE</th>\n",
       "      <th>OBS_30_CNT_SOCIAL_CIRCLE</th>\n",
       "      <th>DEF_30_CNT_SOCIAL_CIRCLE</th>\n",
       "      <th>OBS_60_CNT_SOCIAL_CIRCLE</th>\n",
       "      <th>DEF_60_CNT_SOCIAL_CIRCLE</th>\n",
       "      <th>DAYS_LAST_PHONE_CHANGE</th>\n",
       "      <th>FLAG_DOCUMENT_2</th>\n",
       "      <th>FLAG_DOCUMENT_3</th>\n",
       "      <th>FLAG_DOCUMENT_4</th>\n",
       "      <th>FLAG_DOCUMENT_5</th>\n",
       "      <th>FLAG_DOCUMENT_6</th>\n",
       "      <th>FLAG_DOCUMENT_7</th>\n",
       "      <th>FLAG_DOCUMENT_8</th>\n",
       "      <th>FLAG_DOCUMENT_9</th>\n",
       "      <th>FLAG_DOCUMENT_10</th>\n",
       "      <th>FLAG_DOCUMENT_11</th>\n",
       "      <th>FLAG_DOCUMENT_12</th>\n",
       "      <th>FLAG_DOCUMENT_13</th>\n",
       "      <th>FLAG_DOCUMENT_14</th>\n",
       "      <th>FLAG_DOCUMENT_15</th>\n",
       "      <th>FLAG_DOCUMENT_16</th>\n",
       "      <th>FLAG_DOCUMENT_17</th>\n",
       "      <th>FLAG_DOCUMENT_18</th>\n",
       "      <th>FLAG_DOCUMENT_19</th>\n",
       "      <th>FLAG_DOCUMENT_20</th>\n",
       "      <th>FLAG_DOCUMENT_21</th>\n",
       "      <th>AMT_REQ_CREDIT_BUREAU_HOUR</th>\n",
       "      <th>AMT_REQ_CREDIT_BUREAU_DAY</th>\n",
       "      <th>AMT_REQ_CREDIT_BUREAU_WEEK</th>\n",
       "      <th>AMT_REQ_CREDIT_BUREAU_MON</th>\n",
       "      <th>AMT_REQ_CREDIT_BUREAU_QRT</th>\n",
       "      <th>AMT_REQ_CREDIT_BUREAU_YEAR</th>\n",
       "    </tr>\n",
       "  </thead>\n",
       "  <tbody>\n",
       "    <tr>\n",
       "      <th>0</th>\n",
       "      <td>100002</td>\n",
       "      <td>1</td>\n",
       "      <td>Cash loans</td>\n",
       "      <td>M</td>\n",
       "      <td>N</td>\n",
       "      <td>Y</td>\n",
       "      <td>0</td>\n",
       "      <td>202500.0</td>\n",
       "      <td>406597.5</td>\n",
       "      <td>24700.5</td>\n",
       "      <td>351000.0</td>\n",
       "      <td>Unaccompanied</td>\n",
       "      <td>Working</td>\n",
       "      <td>Secondary / secondary special</td>\n",
       "      <td>Single / not married</td>\n",
       "      <td>House / apartment</td>\n",
       "      <td>0.018801</td>\n",
       "      <td>-9461</td>\n",
       "      <td>-637</td>\n",
       "      <td>-3648.0</td>\n",
       "      <td>-2120</td>\n",
       "      <td>NaN</td>\n",
       "      <td>1</td>\n",
       "      <td>1</td>\n",
       "      <td>0</td>\n",
       "      <td>1</td>\n",
       "      <td>1</td>\n",
       "      <td>0</td>\n",
       "      <td>Laborers</td>\n",
       "      <td>1.0</td>\n",
       "      <td>2</td>\n",
       "      <td>2</td>\n",
       "      <td>WEDNESDAY</td>\n",
       "      <td>10</td>\n",
       "      <td>0</td>\n",
       "      <td>0</td>\n",
       "      <td>0</td>\n",
       "      <td>0</td>\n",
       "      <td>0</td>\n",
       "      <td>0</td>\n",
       "      <td>...</td>\n",
       "      <td>0.0205</td>\n",
       "      <td>0.0193</td>\n",
       "      <td>0.0000</td>\n",
       "      <td>0.0000</td>\n",
       "      <td>reg oper account</td>\n",
       "      <td>block of flats</td>\n",
       "      <td>0.0149</td>\n",
       "      <td>Stone, brick</td>\n",
       "      <td>No</td>\n",
       "      <td>2.0</td>\n",
       "      <td>2.0</td>\n",
       "      <td>2.0</td>\n",
       "      <td>2.0</td>\n",
       "      <td>-1134.0</td>\n",
       "      <td>0</td>\n",
       "      <td>1</td>\n",
       "      <td>0</td>\n",
       "      <td>0</td>\n",
       "      <td>0</td>\n",
       "      <td>0</td>\n",
       "      <td>0</td>\n",
       "      <td>0</td>\n",
       "      <td>0</td>\n",
       "      <td>0</td>\n",
       "      <td>0</td>\n",
       "      <td>0</td>\n",
       "      <td>0</td>\n",
       "      <td>0</td>\n",
       "      <td>0</td>\n",
       "      <td>0</td>\n",
       "      <td>0</td>\n",
       "      <td>0</td>\n",
       "      <td>0</td>\n",
       "      <td>0</td>\n",
       "      <td>0.0</td>\n",
       "      <td>0.0</td>\n",
       "      <td>0.0</td>\n",
       "      <td>0.0</td>\n",
       "      <td>0.0</td>\n",
       "      <td>1.0</td>\n",
       "    </tr>\n",
       "    <tr>\n",
       "      <th>1</th>\n",
       "      <td>100003</td>\n",
       "      <td>0</td>\n",
       "      <td>Cash loans</td>\n",
       "      <td>F</td>\n",
       "      <td>N</td>\n",
       "      <td>N</td>\n",
       "      <td>0</td>\n",
       "      <td>270000.0</td>\n",
       "      <td>1293502.5</td>\n",
       "      <td>35698.5</td>\n",
       "      <td>1129500.0</td>\n",
       "      <td>Family</td>\n",
       "      <td>State servant</td>\n",
       "      <td>Higher education</td>\n",
       "      <td>Married</td>\n",
       "      <td>House / apartment</td>\n",
       "      <td>0.003541</td>\n",
       "      <td>-16765</td>\n",
       "      <td>-1188</td>\n",
       "      <td>-1186.0</td>\n",
       "      <td>-291</td>\n",
       "      <td>NaN</td>\n",
       "      <td>1</td>\n",
       "      <td>1</td>\n",
       "      <td>0</td>\n",
       "      <td>1</td>\n",
       "      <td>1</td>\n",
       "      <td>0</td>\n",
       "      <td>Core staff</td>\n",
       "      <td>2.0</td>\n",
       "      <td>1</td>\n",
       "      <td>1</td>\n",
       "      <td>MONDAY</td>\n",
       "      <td>11</td>\n",
       "      <td>0</td>\n",
       "      <td>0</td>\n",
       "      <td>0</td>\n",
       "      <td>0</td>\n",
       "      <td>0</td>\n",
       "      <td>0</td>\n",
       "      <td>...</td>\n",
       "      <td>0.0787</td>\n",
       "      <td>0.0558</td>\n",
       "      <td>0.0039</td>\n",
       "      <td>0.0100</td>\n",
       "      <td>reg oper account</td>\n",
       "      <td>block of flats</td>\n",
       "      <td>0.0714</td>\n",
       "      <td>Block</td>\n",
       "      <td>No</td>\n",
       "      <td>1.0</td>\n",
       "      <td>0.0</td>\n",
       "      <td>1.0</td>\n",
       "      <td>0.0</td>\n",
       "      <td>-828.0</td>\n",
       "      <td>0</td>\n",
       "      <td>1</td>\n",
       "      <td>0</td>\n",
       "      <td>0</td>\n",
       "      <td>0</td>\n",
       "      <td>0</td>\n",
       "      <td>0</td>\n",
       "      <td>0</td>\n",
       "      <td>0</td>\n",
       "      <td>0</td>\n",
       "      <td>0</td>\n",
       "      <td>0</td>\n",
       "      <td>0</td>\n",
       "      <td>0</td>\n",
       "      <td>0</td>\n",
       "      <td>0</td>\n",
       "      <td>0</td>\n",
       "      <td>0</td>\n",
       "      <td>0</td>\n",
       "      <td>0</td>\n",
       "      <td>0.0</td>\n",
       "      <td>0.0</td>\n",
       "      <td>0.0</td>\n",
       "      <td>0.0</td>\n",
       "      <td>0.0</td>\n",
       "      <td>0.0</td>\n",
       "    </tr>\n",
       "    <tr>\n",
       "      <th>2</th>\n",
       "      <td>100004</td>\n",
       "      <td>0</td>\n",
       "      <td>Revolving loans</td>\n",
       "      <td>M</td>\n",
       "      <td>Y</td>\n",
       "      <td>Y</td>\n",
       "      <td>0</td>\n",
       "      <td>67500.0</td>\n",
       "      <td>135000.0</td>\n",
       "      <td>6750.0</td>\n",
       "      <td>135000.0</td>\n",
       "      <td>Unaccompanied</td>\n",
       "      <td>Working</td>\n",
       "      <td>Secondary / secondary special</td>\n",
       "      <td>Single / not married</td>\n",
       "      <td>House / apartment</td>\n",
       "      <td>0.010032</td>\n",
       "      <td>-19046</td>\n",
       "      <td>-225</td>\n",
       "      <td>-4260.0</td>\n",
       "      <td>-2531</td>\n",
       "      <td>26.0</td>\n",
       "      <td>1</td>\n",
       "      <td>1</td>\n",
       "      <td>1</td>\n",
       "      <td>1</td>\n",
       "      <td>1</td>\n",
       "      <td>0</td>\n",
       "      <td>Laborers</td>\n",
       "      <td>1.0</td>\n",
       "      <td>2</td>\n",
       "      <td>2</td>\n",
       "      <td>MONDAY</td>\n",
       "      <td>9</td>\n",
       "      <td>0</td>\n",
       "      <td>0</td>\n",
       "      <td>0</td>\n",
       "      <td>0</td>\n",
       "      <td>0</td>\n",
       "      <td>0</td>\n",
       "      <td>...</td>\n",
       "      <td>NaN</td>\n",
       "      <td>NaN</td>\n",
       "      <td>NaN</td>\n",
       "      <td>NaN</td>\n",
       "      <td>NaN</td>\n",
       "      <td>NaN</td>\n",
       "      <td>NaN</td>\n",
       "      <td>NaN</td>\n",
       "      <td>NaN</td>\n",
       "      <td>0.0</td>\n",
       "      <td>0.0</td>\n",
       "      <td>0.0</td>\n",
       "      <td>0.0</td>\n",
       "      <td>-815.0</td>\n",
       "      <td>0</td>\n",
       "      <td>0</td>\n",
       "      <td>0</td>\n",
       "      <td>0</td>\n",
       "      <td>0</td>\n",
       "      <td>0</td>\n",
       "      <td>0</td>\n",
       "      <td>0</td>\n",
       "      <td>0</td>\n",
       "      <td>0</td>\n",
       "      <td>0</td>\n",
       "      <td>0</td>\n",
       "      <td>0</td>\n",
       "      <td>0</td>\n",
       "      <td>0</td>\n",
       "      <td>0</td>\n",
       "      <td>0</td>\n",
       "      <td>0</td>\n",
       "      <td>0</td>\n",
       "      <td>0</td>\n",
       "      <td>0.0</td>\n",
       "      <td>0.0</td>\n",
       "      <td>0.0</td>\n",
       "      <td>0.0</td>\n",
       "      <td>0.0</td>\n",
       "      <td>0.0</td>\n",
       "    </tr>\n",
       "    <tr>\n",
       "      <th>3</th>\n",
       "      <td>100006</td>\n",
       "      <td>0</td>\n",
       "      <td>Cash loans</td>\n",
       "      <td>F</td>\n",
       "      <td>N</td>\n",
       "      <td>Y</td>\n",
       "      <td>0</td>\n",
       "      <td>135000.0</td>\n",
       "      <td>312682.5</td>\n",
       "      <td>29686.5</td>\n",
       "      <td>297000.0</td>\n",
       "      <td>Unaccompanied</td>\n",
       "      <td>Working</td>\n",
       "      <td>Secondary / secondary special</td>\n",
       "      <td>Civil marriage</td>\n",
       "      <td>House / apartment</td>\n",
       "      <td>0.008019</td>\n",
       "      <td>-19005</td>\n",
       "      <td>-3039</td>\n",
       "      <td>-9833.0</td>\n",
       "      <td>-2437</td>\n",
       "      <td>NaN</td>\n",
       "      <td>1</td>\n",
       "      <td>1</td>\n",
       "      <td>0</td>\n",
       "      <td>1</td>\n",
       "      <td>0</td>\n",
       "      <td>0</td>\n",
       "      <td>Laborers</td>\n",
       "      <td>2.0</td>\n",
       "      <td>2</td>\n",
       "      <td>2</td>\n",
       "      <td>WEDNESDAY</td>\n",
       "      <td>17</td>\n",
       "      <td>0</td>\n",
       "      <td>0</td>\n",
       "      <td>0</td>\n",
       "      <td>0</td>\n",
       "      <td>0</td>\n",
       "      <td>0</td>\n",
       "      <td>...</td>\n",
       "      <td>NaN</td>\n",
       "      <td>NaN</td>\n",
       "      <td>NaN</td>\n",
       "      <td>NaN</td>\n",
       "      <td>NaN</td>\n",
       "      <td>NaN</td>\n",
       "      <td>NaN</td>\n",
       "      <td>NaN</td>\n",
       "      <td>NaN</td>\n",
       "      <td>2.0</td>\n",
       "      <td>0.0</td>\n",
       "      <td>2.0</td>\n",
       "      <td>0.0</td>\n",
       "      <td>-617.0</td>\n",
       "      <td>0</td>\n",
       "      <td>1</td>\n",
       "      <td>0</td>\n",
       "      <td>0</td>\n",
       "      <td>0</td>\n",
       "      <td>0</td>\n",
       "      <td>0</td>\n",
       "      <td>0</td>\n",
       "      <td>0</td>\n",
       "      <td>0</td>\n",
       "      <td>0</td>\n",
       "      <td>0</td>\n",
       "      <td>0</td>\n",
       "      <td>0</td>\n",
       "      <td>0</td>\n",
       "      <td>0</td>\n",
       "      <td>0</td>\n",
       "      <td>0</td>\n",
       "      <td>0</td>\n",
       "      <td>0</td>\n",
       "      <td>NaN</td>\n",
       "      <td>NaN</td>\n",
       "      <td>NaN</td>\n",
       "      <td>NaN</td>\n",
       "      <td>NaN</td>\n",
       "      <td>NaN</td>\n",
       "    </tr>\n",
       "    <tr>\n",
       "      <th>4</th>\n",
       "      <td>100007</td>\n",
       "      <td>0</td>\n",
       "      <td>Cash loans</td>\n",
       "      <td>M</td>\n",
       "      <td>N</td>\n",
       "      <td>Y</td>\n",
       "      <td>0</td>\n",
       "      <td>121500.0</td>\n",
       "      <td>513000.0</td>\n",
       "      <td>21865.5</td>\n",
       "      <td>513000.0</td>\n",
       "      <td>Unaccompanied</td>\n",
       "      <td>Working</td>\n",
       "      <td>Secondary / secondary special</td>\n",
       "      <td>Single / not married</td>\n",
       "      <td>House / apartment</td>\n",
       "      <td>0.028663</td>\n",
       "      <td>-19932</td>\n",
       "      <td>-3038</td>\n",
       "      <td>-4311.0</td>\n",
       "      <td>-3458</td>\n",
       "      <td>NaN</td>\n",
       "      <td>1</td>\n",
       "      <td>1</td>\n",
       "      <td>0</td>\n",
       "      <td>1</td>\n",
       "      <td>0</td>\n",
       "      <td>0</td>\n",
       "      <td>Core staff</td>\n",
       "      <td>1.0</td>\n",
       "      <td>2</td>\n",
       "      <td>2</td>\n",
       "      <td>THURSDAY</td>\n",
       "      <td>11</td>\n",
       "      <td>0</td>\n",
       "      <td>0</td>\n",
       "      <td>0</td>\n",
       "      <td>0</td>\n",
       "      <td>1</td>\n",
       "      <td>1</td>\n",
       "      <td>...</td>\n",
       "      <td>NaN</td>\n",
       "      <td>NaN</td>\n",
       "      <td>NaN</td>\n",
       "      <td>NaN</td>\n",
       "      <td>NaN</td>\n",
       "      <td>NaN</td>\n",
       "      <td>NaN</td>\n",
       "      <td>NaN</td>\n",
       "      <td>NaN</td>\n",
       "      <td>0.0</td>\n",
       "      <td>0.0</td>\n",
       "      <td>0.0</td>\n",
       "      <td>0.0</td>\n",
       "      <td>-1106.0</td>\n",
       "      <td>0</td>\n",
       "      <td>0</td>\n",
       "      <td>0</td>\n",
       "      <td>0</td>\n",
       "      <td>0</td>\n",
       "      <td>0</td>\n",
       "      <td>1</td>\n",
       "      <td>0</td>\n",
       "      <td>0</td>\n",
       "      <td>0</td>\n",
       "      <td>0</td>\n",
       "      <td>0</td>\n",
       "      <td>0</td>\n",
       "      <td>0</td>\n",
       "      <td>0</td>\n",
       "      <td>0</td>\n",
       "      <td>0</td>\n",
       "      <td>0</td>\n",
       "      <td>0</td>\n",
       "      <td>0</td>\n",
       "      <td>0.0</td>\n",
       "      <td>0.0</td>\n",
       "      <td>0.0</td>\n",
       "      <td>0.0</td>\n",
       "      <td>0.0</td>\n",
       "      <td>0.0</td>\n",
       "    </tr>\n",
       "    <tr>\n",
       "      <th>...</th>\n",
       "      <td>...</td>\n",
       "      <td>...</td>\n",
       "      <td>...</td>\n",
       "      <td>...</td>\n",
       "      <td>...</td>\n",
       "      <td>...</td>\n",
       "      <td>...</td>\n",
       "      <td>...</td>\n",
       "      <td>...</td>\n",
       "      <td>...</td>\n",
       "      <td>...</td>\n",
       "      <td>...</td>\n",
       "      <td>...</td>\n",
       "      <td>...</td>\n",
       "      <td>...</td>\n",
       "      <td>...</td>\n",
       "      <td>...</td>\n",
       "      <td>...</td>\n",
       "      <td>...</td>\n",
       "      <td>...</td>\n",
       "      <td>...</td>\n",
       "      <td>...</td>\n",
       "      <td>...</td>\n",
       "      <td>...</td>\n",
       "      <td>...</td>\n",
       "      <td>...</td>\n",
       "      <td>...</td>\n",
       "      <td>...</td>\n",
       "      <td>...</td>\n",
       "      <td>...</td>\n",
       "      <td>...</td>\n",
       "      <td>...</td>\n",
       "      <td>...</td>\n",
       "      <td>...</td>\n",
       "      <td>...</td>\n",
       "      <td>...</td>\n",
       "      <td>...</td>\n",
       "      <td>...</td>\n",
       "      <td>...</td>\n",
       "      <td>...</td>\n",
       "      <td>...</td>\n",
       "      <td>...</td>\n",
       "      <td>...</td>\n",
       "      <td>...</td>\n",
       "      <td>...</td>\n",
       "      <td>...</td>\n",
       "      <td>...</td>\n",
       "      <td>...</td>\n",
       "      <td>...</td>\n",
       "      <td>...</td>\n",
       "      <td>...</td>\n",
       "      <td>...</td>\n",
       "      <td>...</td>\n",
       "      <td>...</td>\n",
       "      <td>...</td>\n",
       "      <td>...</td>\n",
       "      <td>...</td>\n",
       "      <td>...</td>\n",
       "      <td>...</td>\n",
       "      <td>...</td>\n",
       "      <td>...</td>\n",
       "      <td>...</td>\n",
       "      <td>...</td>\n",
       "      <td>...</td>\n",
       "      <td>...</td>\n",
       "      <td>...</td>\n",
       "      <td>...</td>\n",
       "      <td>...</td>\n",
       "      <td>...</td>\n",
       "      <td>...</td>\n",
       "      <td>...</td>\n",
       "      <td>...</td>\n",
       "      <td>...</td>\n",
       "      <td>...</td>\n",
       "      <td>...</td>\n",
       "      <td>...</td>\n",
       "      <td>...</td>\n",
       "      <td>...</td>\n",
       "      <td>...</td>\n",
       "      <td>...</td>\n",
       "      <td>...</td>\n",
       "    </tr>\n",
       "    <tr>\n",
       "      <th>307506</th>\n",
       "      <td>456251</td>\n",
       "      <td>0</td>\n",
       "      <td>Cash loans</td>\n",
       "      <td>M</td>\n",
       "      <td>N</td>\n",
       "      <td>N</td>\n",
       "      <td>0</td>\n",
       "      <td>157500.0</td>\n",
       "      <td>254700.0</td>\n",
       "      <td>27558.0</td>\n",
       "      <td>225000.0</td>\n",
       "      <td>Unaccompanied</td>\n",
       "      <td>Working</td>\n",
       "      <td>Secondary / secondary special</td>\n",
       "      <td>Separated</td>\n",
       "      <td>With parents</td>\n",
       "      <td>0.032561</td>\n",
       "      <td>-9327</td>\n",
       "      <td>-236</td>\n",
       "      <td>-8456.0</td>\n",
       "      <td>-1982</td>\n",
       "      <td>NaN</td>\n",
       "      <td>1</td>\n",
       "      <td>1</td>\n",
       "      <td>0</td>\n",
       "      <td>1</td>\n",
       "      <td>0</td>\n",
       "      <td>0</td>\n",
       "      <td>Sales staff</td>\n",
       "      <td>1.0</td>\n",
       "      <td>1</td>\n",
       "      <td>1</td>\n",
       "      <td>THURSDAY</td>\n",
       "      <td>15</td>\n",
       "      <td>0</td>\n",
       "      <td>0</td>\n",
       "      <td>0</td>\n",
       "      <td>0</td>\n",
       "      <td>0</td>\n",
       "      <td>0</td>\n",
       "      <td>...</td>\n",
       "      <td>0.1509</td>\n",
       "      <td>0.2001</td>\n",
       "      <td>0.0757</td>\n",
       "      <td>0.1118</td>\n",
       "      <td>reg oper account</td>\n",
       "      <td>block of flats</td>\n",
       "      <td>0.2898</td>\n",
       "      <td>Stone, brick</td>\n",
       "      <td>No</td>\n",
       "      <td>0.0</td>\n",
       "      <td>0.0</td>\n",
       "      <td>0.0</td>\n",
       "      <td>0.0</td>\n",
       "      <td>-273.0</td>\n",
       "      <td>0</td>\n",
       "      <td>0</td>\n",
       "      <td>0</td>\n",
       "      <td>0</td>\n",
       "      <td>0</td>\n",
       "      <td>0</td>\n",
       "      <td>1</td>\n",
       "      <td>0</td>\n",
       "      <td>0</td>\n",
       "      <td>0</td>\n",
       "      <td>0</td>\n",
       "      <td>0</td>\n",
       "      <td>0</td>\n",
       "      <td>0</td>\n",
       "      <td>0</td>\n",
       "      <td>0</td>\n",
       "      <td>0</td>\n",
       "      <td>0</td>\n",
       "      <td>0</td>\n",
       "      <td>0</td>\n",
       "      <td>NaN</td>\n",
       "      <td>NaN</td>\n",
       "      <td>NaN</td>\n",
       "      <td>NaN</td>\n",
       "      <td>NaN</td>\n",
       "      <td>NaN</td>\n",
       "    </tr>\n",
       "    <tr>\n",
       "      <th>307507</th>\n",
       "      <td>456252</td>\n",
       "      <td>0</td>\n",
       "      <td>Cash loans</td>\n",
       "      <td>F</td>\n",
       "      <td>N</td>\n",
       "      <td>Y</td>\n",
       "      <td>0</td>\n",
       "      <td>72000.0</td>\n",
       "      <td>269550.0</td>\n",
       "      <td>12001.5</td>\n",
       "      <td>225000.0</td>\n",
       "      <td>Unaccompanied</td>\n",
       "      <td>Pensioner</td>\n",
       "      <td>Secondary / secondary special</td>\n",
       "      <td>Widow</td>\n",
       "      <td>House / apartment</td>\n",
       "      <td>0.025164</td>\n",
       "      <td>-20775</td>\n",
       "      <td>365243</td>\n",
       "      <td>-4388.0</td>\n",
       "      <td>-4090</td>\n",
       "      <td>NaN</td>\n",
       "      <td>1</td>\n",
       "      <td>0</td>\n",
       "      <td>0</td>\n",
       "      <td>1</td>\n",
       "      <td>1</td>\n",
       "      <td>0</td>\n",
       "      <td>NaN</td>\n",
       "      <td>1.0</td>\n",
       "      <td>2</td>\n",
       "      <td>2</td>\n",
       "      <td>MONDAY</td>\n",
       "      <td>8</td>\n",
       "      <td>0</td>\n",
       "      <td>0</td>\n",
       "      <td>0</td>\n",
       "      <td>0</td>\n",
       "      <td>0</td>\n",
       "      <td>0</td>\n",
       "      <td>...</td>\n",
       "      <td>0.0205</td>\n",
       "      <td>0.0261</td>\n",
       "      <td>0.0000</td>\n",
       "      <td>0.0000</td>\n",
       "      <td>reg oper account</td>\n",
       "      <td>block of flats</td>\n",
       "      <td>0.0214</td>\n",
       "      <td>Stone, brick</td>\n",
       "      <td>No</td>\n",
       "      <td>0.0</td>\n",
       "      <td>0.0</td>\n",
       "      <td>0.0</td>\n",
       "      <td>0.0</td>\n",
       "      <td>0.0</td>\n",
       "      <td>0</td>\n",
       "      <td>1</td>\n",
       "      <td>0</td>\n",
       "      <td>0</td>\n",
       "      <td>0</td>\n",
       "      <td>0</td>\n",
       "      <td>0</td>\n",
       "      <td>0</td>\n",
       "      <td>0</td>\n",
       "      <td>0</td>\n",
       "      <td>0</td>\n",
       "      <td>0</td>\n",
       "      <td>0</td>\n",
       "      <td>0</td>\n",
       "      <td>0</td>\n",
       "      <td>0</td>\n",
       "      <td>0</td>\n",
       "      <td>0</td>\n",
       "      <td>0</td>\n",
       "      <td>0</td>\n",
       "      <td>NaN</td>\n",
       "      <td>NaN</td>\n",
       "      <td>NaN</td>\n",
       "      <td>NaN</td>\n",
       "      <td>NaN</td>\n",
       "      <td>NaN</td>\n",
       "    </tr>\n",
       "    <tr>\n",
       "      <th>307508</th>\n",
       "      <td>456253</td>\n",
       "      <td>0</td>\n",
       "      <td>Cash loans</td>\n",
       "      <td>F</td>\n",
       "      <td>N</td>\n",
       "      <td>Y</td>\n",
       "      <td>0</td>\n",
       "      <td>153000.0</td>\n",
       "      <td>677664.0</td>\n",
       "      <td>29979.0</td>\n",
       "      <td>585000.0</td>\n",
       "      <td>Unaccompanied</td>\n",
       "      <td>Working</td>\n",
       "      <td>Higher education</td>\n",
       "      <td>Separated</td>\n",
       "      <td>House / apartment</td>\n",
       "      <td>0.005002</td>\n",
       "      <td>-14966</td>\n",
       "      <td>-7921</td>\n",
       "      <td>-6737.0</td>\n",
       "      <td>-5150</td>\n",
       "      <td>NaN</td>\n",
       "      <td>1</td>\n",
       "      <td>1</td>\n",
       "      <td>0</td>\n",
       "      <td>1</td>\n",
       "      <td>0</td>\n",
       "      <td>1</td>\n",
       "      <td>Managers</td>\n",
       "      <td>1.0</td>\n",
       "      <td>3</td>\n",
       "      <td>3</td>\n",
       "      <td>THURSDAY</td>\n",
       "      <td>9</td>\n",
       "      <td>0</td>\n",
       "      <td>0</td>\n",
       "      <td>0</td>\n",
       "      <td>0</td>\n",
       "      <td>1</td>\n",
       "      <td>1</td>\n",
       "      <td>...</td>\n",
       "      <td>0.0855</td>\n",
       "      <td>0.9445</td>\n",
       "      <td>0.0000</td>\n",
       "      <td>0.0000</td>\n",
       "      <td>reg oper account</td>\n",
       "      <td>block of flats</td>\n",
       "      <td>0.7970</td>\n",
       "      <td>Panel</td>\n",
       "      <td>No</td>\n",
       "      <td>6.0</td>\n",
       "      <td>0.0</td>\n",
       "      <td>6.0</td>\n",
       "      <td>0.0</td>\n",
       "      <td>-1909.0</td>\n",
       "      <td>0</td>\n",
       "      <td>1</td>\n",
       "      <td>0</td>\n",
       "      <td>0</td>\n",
       "      <td>0</td>\n",
       "      <td>0</td>\n",
       "      <td>0</td>\n",
       "      <td>0</td>\n",
       "      <td>0</td>\n",
       "      <td>0</td>\n",
       "      <td>0</td>\n",
       "      <td>0</td>\n",
       "      <td>0</td>\n",
       "      <td>0</td>\n",
       "      <td>0</td>\n",
       "      <td>0</td>\n",
       "      <td>0</td>\n",
       "      <td>0</td>\n",
       "      <td>0</td>\n",
       "      <td>0</td>\n",
       "      <td>1.0</td>\n",
       "      <td>0.0</td>\n",
       "      <td>0.0</td>\n",
       "      <td>1.0</td>\n",
       "      <td>0.0</td>\n",
       "      <td>1.0</td>\n",
       "    </tr>\n",
       "    <tr>\n",
       "      <th>307509</th>\n",
       "      <td>456254</td>\n",
       "      <td>1</td>\n",
       "      <td>Cash loans</td>\n",
       "      <td>F</td>\n",
       "      <td>N</td>\n",
       "      <td>Y</td>\n",
       "      <td>0</td>\n",
       "      <td>171000.0</td>\n",
       "      <td>370107.0</td>\n",
       "      <td>20205.0</td>\n",
       "      <td>319500.0</td>\n",
       "      <td>Unaccompanied</td>\n",
       "      <td>Commercial associate</td>\n",
       "      <td>Secondary / secondary special</td>\n",
       "      <td>Married</td>\n",
       "      <td>House / apartment</td>\n",
       "      <td>0.005313</td>\n",
       "      <td>-11961</td>\n",
       "      <td>-4786</td>\n",
       "      <td>-2562.0</td>\n",
       "      <td>-931</td>\n",
       "      <td>NaN</td>\n",
       "      <td>1</td>\n",
       "      <td>1</td>\n",
       "      <td>0</td>\n",
       "      <td>1</td>\n",
       "      <td>0</td>\n",
       "      <td>0</td>\n",
       "      <td>Laborers</td>\n",
       "      <td>2.0</td>\n",
       "      <td>2</td>\n",
       "      <td>2</td>\n",
       "      <td>WEDNESDAY</td>\n",
       "      <td>9</td>\n",
       "      <td>0</td>\n",
       "      <td>0</td>\n",
       "      <td>0</td>\n",
       "      <td>1</td>\n",
       "      <td>1</td>\n",
       "      <td>0</td>\n",
       "      <td>...</td>\n",
       "      <td>NaN</td>\n",
       "      <td>0.0062</td>\n",
       "      <td>NaN</td>\n",
       "      <td>NaN</td>\n",
       "      <td>NaN</td>\n",
       "      <td>block of flats</td>\n",
       "      <td>0.0086</td>\n",
       "      <td>Stone, brick</td>\n",
       "      <td>No</td>\n",
       "      <td>0.0</td>\n",
       "      <td>0.0</td>\n",
       "      <td>0.0</td>\n",
       "      <td>0.0</td>\n",
       "      <td>-322.0</td>\n",
       "      <td>0</td>\n",
       "      <td>1</td>\n",
       "      <td>0</td>\n",
       "      <td>0</td>\n",
       "      <td>0</td>\n",
       "      <td>0</td>\n",
       "      <td>0</td>\n",
       "      <td>0</td>\n",
       "      <td>0</td>\n",
       "      <td>0</td>\n",
       "      <td>0</td>\n",
       "      <td>0</td>\n",
       "      <td>0</td>\n",
       "      <td>0</td>\n",
       "      <td>0</td>\n",
       "      <td>0</td>\n",
       "      <td>0</td>\n",
       "      <td>0</td>\n",
       "      <td>0</td>\n",
       "      <td>0</td>\n",
       "      <td>0.0</td>\n",
       "      <td>0.0</td>\n",
       "      <td>0.0</td>\n",
       "      <td>0.0</td>\n",
       "      <td>0.0</td>\n",
       "      <td>0.0</td>\n",
       "    </tr>\n",
       "    <tr>\n",
       "      <th>307510</th>\n",
       "      <td>456255</td>\n",
       "      <td>0</td>\n",
       "      <td>Cash loans</td>\n",
       "      <td>F</td>\n",
       "      <td>N</td>\n",
       "      <td>N</td>\n",
       "      <td>0</td>\n",
       "      <td>157500.0</td>\n",
       "      <td>675000.0</td>\n",
       "      <td>49117.5</td>\n",
       "      <td>675000.0</td>\n",
       "      <td>Unaccompanied</td>\n",
       "      <td>Commercial associate</td>\n",
       "      <td>Higher education</td>\n",
       "      <td>Married</td>\n",
       "      <td>House / apartment</td>\n",
       "      <td>0.046220</td>\n",
       "      <td>-16856</td>\n",
       "      <td>-1262</td>\n",
       "      <td>-5128.0</td>\n",
       "      <td>-410</td>\n",
       "      <td>NaN</td>\n",
       "      <td>1</td>\n",
       "      <td>1</td>\n",
       "      <td>1</td>\n",
       "      <td>1</td>\n",
       "      <td>1</td>\n",
       "      <td>0</td>\n",
       "      <td>Laborers</td>\n",
       "      <td>2.0</td>\n",
       "      <td>1</td>\n",
       "      <td>1</td>\n",
       "      <td>THURSDAY</td>\n",
       "      <td>20</td>\n",
       "      <td>0</td>\n",
       "      <td>0</td>\n",
       "      <td>0</td>\n",
       "      <td>0</td>\n",
       "      <td>1</td>\n",
       "      <td>1</td>\n",
       "      <td>...</td>\n",
       "      <td>NaN</td>\n",
       "      <td>0.0805</td>\n",
       "      <td>NaN</td>\n",
       "      <td>0.0000</td>\n",
       "      <td>NaN</td>\n",
       "      <td>block of flats</td>\n",
       "      <td>0.0718</td>\n",
       "      <td>Panel</td>\n",
       "      <td>No</td>\n",
       "      <td>0.0</td>\n",
       "      <td>0.0</td>\n",
       "      <td>0.0</td>\n",
       "      <td>0.0</td>\n",
       "      <td>-787.0</td>\n",
       "      <td>0</td>\n",
       "      <td>1</td>\n",
       "      <td>0</td>\n",
       "      <td>0</td>\n",
       "      <td>0</td>\n",
       "      <td>0</td>\n",
       "      <td>0</td>\n",
       "      <td>0</td>\n",
       "      <td>0</td>\n",
       "      <td>0</td>\n",
       "      <td>0</td>\n",
       "      <td>0</td>\n",
       "      <td>0</td>\n",
       "      <td>0</td>\n",
       "      <td>0</td>\n",
       "      <td>0</td>\n",
       "      <td>0</td>\n",
       "      <td>0</td>\n",
       "      <td>0</td>\n",
       "      <td>0</td>\n",
       "      <td>0.0</td>\n",
       "      <td>0.0</td>\n",
       "      <td>0.0</td>\n",
       "      <td>2.0</td>\n",
       "      <td>0.0</td>\n",
       "      <td>1.0</td>\n",
       "    </tr>\n",
       "  </tbody>\n",
       "</table>\n",
       "<p>307511 rows × 122 columns</p>\n",
       "</div>"
      ],
      "text/plain": [
       "        SK_ID_CURR  ...  AMT_REQ_CREDIT_BUREAU_YEAR\n",
       "0           100002  ...                         1.0\n",
       "1           100003  ...                         0.0\n",
       "2           100004  ...                         0.0\n",
       "3           100006  ...                         NaN\n",
       "4           100007  ...                         0.0\n",
       "...            ...  ...                         ...\n",
       "307506      456251  ...                         NaN\n",
       "307507      456252  ...                         NaN\n",
       "307508      456253  ...                         1.0\n",
       "307509      456254  ...                         0.0\n",
       "307510      456255  ...                         1.0\n",
       "\n",
       "[307511 rows x 122 columns]"
      ]
     },
     "execution_count": 321,
     "metadata": {
      "tags": []
     },
     "output_type": "execute_result"
    }
   ],
   "source": [
    "df_test = pd.read_csv('/content/drive/My Drive/application_test.csv')\n",
    "df"
   ]
  },
  {
   "cell_type": "code",
   "execution_count": 327,
   "metadata": {
    "colab": {
     "base_uri": "https://localhost:8080/",
     "height": 53
    },
    "colab_type": "code",
    "id": "KnlsaeYP_nBC",
    "outputId": "cef70f43-fc1a-44b6-8979-32cd2722aa09"
   },
   "outputs": [
    {
     "data": {
      "text/plain": [
       "array([0.05198536, 0.08887683, 0.1439901 , ..., 0.05423354, 0.0791037 ,\n",
       "       0.41064928])"
      ]
     },
     "execution_count": 327,
     "metadata": {
      "tags": []
     },
     "output_type": "execute_result"
    }
   ],
   "source": [
    "df_test2 = df_test[[\"DAYS_BIRTH\",\"REGION_RATING_CLIENT_W_CITY\",\"REGION_RATING_CLIENT\",\"DAYS_ID_PUBLISH\",\n",
    "                 \"EXT_SOURCE_1\",\"EXT_SOURCE_2\",\"EXT_SOURCE_3\"]]\n",
    "\n",
    "preds = model.predict(df_test2)\n",
    "preds"
   ]
  },
  {
   "cell_type": "code",
   "execution_count": 328,
   "metadata": {
    "colab": {
     "base_uri": "https://localhost:8080/",
     "height": 415
    },
    "colab_type": "code",
    "id": "jAM7XXeyiNhx",
    "outputId": "15d669d8-9210-4ab6-af92-3212599fdaec"
   },
   "outputs": [
    {
     "data": {
      "text/html": [
       "<div>\n",
       "<style scoped>\n",
       "    .dataframe tbody tr th:only-of-type {\n",
       "        vertical-align: middle;\n",
       "    }\n",
       "\n",
       "    .dataframe tbody tr th {\n",
       "        vertical-align: top;\n",
       "    }\n",
       "\n",
       "    .dataframe thead th {\n",
       "        text-align: right;\n",
       "    }\n",
       "</style>\n",
       "<table border=\"1\" class=\"dataframe\">\n",
       "  <thead>\n",
       "    <tr style=\"text-align: right;\">\n",
       "      <th></th>\n",
       "      <th>SK_ID_CURR</th>\n",
       "      <th>TARGET</th>\n",
       "    </tr>\n",
       "  </thead>\n",
       "  <tbody>\n",
       "    <tr>\n",
       "      <th>0</th>\n",
       "      <td>100001</td>\n",
       "      <td>0.051985</td>\n",
       "    </tr>\n",
       "    <tr>\n",
       "      <th>1</th>\n",
       "      <td>100005</td>\n",
       "      <td>0.088877</td>\n",
       "    </tr>\n",
       "    <tr>\n",
       "      <th>2</th>\n",
       "      <td>100013</td>\n",
       "      <td>0.143990</td>\n",
       "    </tr>\n",
       "    <tr>\n",
       "      <th>3</th>\n",
       "      <td>100028</td>\n",
       "      <td>0.035568</td>\n",
       "    </tr>\n",
       "    <tr>\n",
       "      <th>4</th>\n",
       "      <td>100038</td>\n",
       "      <td>0.323717</td>\n",
       "    </tr>\n",
       "    <tr>\n",
       "      <th>...</th>\n",
       "      <td>...</td>\n",
       "      <td>...</td>\n",
       "    </tr>\n",
       "    <tr>\n",
       "      <th>48739</th>\n",
       "      <td>456221</td>\n",
       "      <td>0.161858</td>\n",
       "    </tr>\n",
       "    <tr>\n",
       "      <th>48740</th>\n",
       "      <td>456222</td>\n",
       "      <td>0.438400</td>\n",
       "    </tr>\n",
       "    <tr>\n",
       "      <th>48741</th>\n",
       "      <td>456223</td>\n",
       "      <td>0.054234</td>\n",
       "    </tr>\n",
       "    <tr>\n",
       "      <th>48742</th>\n",
       "      <td>456224</td>\n",
       "      <td>0.079104</td>\n",
       "    </tr>\n",
       "    <tr>\n",
       "      <th>48743</th>\n",
       "      <td>456250</td>\n",
       "      <td>0.410649</td>\n",
       "    </tr>\n",
       "  </tbody>\n",
       "</table>\n",
       "<p>48744 rows × 2 columns</p>\n",
       "</div>"
      ],
      "text/plain": [
       "       SK_ID_CURR    TARGET\n",
       "0          100001  0.051985\n",
       "1          100005  0.088877\n",
       "2          100013  0.143990\n",
       "3          100028  0.035568\n",
       "4          100038  0.323717\n",
       "...           ...       ...\n",
       "48739      456221  0.161858\n",
       "48740      456222  0.438400\n",
       "48741      456223  0.054234\n",
       "48742      456224  0.079104\n",
       "48743      456250  0.410649\n",
       "\n",
       "[48744 rows x 2 columns]"
      ]
     },
     "execution_count": 328,
     "metadata": {
      "tags": []
     },
     "output_type": "execute_result"
    }
   ],
   "source": [
    "score = pd.concat([df_test['SK_ID_CURR'], pd.Series(preds)], axis=1)\n",
    "score = score.rename(columns={0: 'TARGET'})\n",
    "score"
   ]
  },
  {
   "cell_type": "code",
   "execution_count": 346,
   "metadata": {
    "colab": {},
    "colab_type": "code",
    "id": "YNu6tq0fijK0"
   },
   "outputs": [],
   "source": [
    "test_score = score.to_csv('test_score.csv', index=False)"
   ]
  },
  {
   "cell_type": "code",
   "execution_count": 347,
   "metadata": {
    "colab": {
     "base_uri": "https://localhost:8080/",
     "height": 17
    },
    "colab_type": "code",
    "id": "3K8U0iMAoVQK",
    "outputId": "33a872e5-d9f4-48aa-dd1c-47fa9bcf226f"
   },
   "outputs": [
    {
     "data": {
      "application/javascript": [
       "\n",
       "    async function download(id, filename, size) {\n",
       "      if (!google.colab.kernel.accessAllowed) {\n",
       "        return;\n",
       "      }\n",
       "      const div = document.createElement('div');\n",
       "      const label = document.createElement('label');\n",
       "      label.textContent = `Downloading \"${filename}\": `;\n",
       "      div.appendChild(label);\n",
       "      const progress = document.createElement('progress');\n",
       "      progress.max = size;\n",
       "      div.appendChild(progress);\n",
       "      document.body.appendChild(div);\n",
       "\n",
       "      const buffers = [];\n",
       "      let downloaded = 0;\n",
       "\n",
       "      const channel = await google.colab.kernel.comms.open(id);\n",
       "      // Send a message to notify the kernel that we're ready.\n",
       "      channel.send({})\n",
       "\n",
       "      for await (const message of channel.messages) {\n",
       "        // Send a message to notify the kernel that we're ready.\n",
       "        channel.send({})\n",
       "        if (message.buffers) {\n",
       "          for (const buffer of message.buffers) {\n",
       "            buffers.push(buffer);\n",
       "            downloaded += buffer.byteLength;\n",
       "            progress.value = downloaded;\n",
       "          }\n",
       "        }\n",
       "      }\n",
       "      const blob = new Blob(buffers, {type: 'application/binary'});\n",
       "      const a = document.createElement('a');\n",
       "      a.href = window.URL.createObjectURL(blob);\n",
       "      a.download = filename;\n",
       "      div.appendChild(a);\n",
       "      a.click();\n",
       "      div.remove();\n",
       "    }\n",
       "  "
      ],
      "text/plain": [
       "<IPython.core.display.Javascript object>"
      ]
     },
     "metadata": {
      "tags": []
     },
     "output_type": "display_data"
    },
    {
     "data": {
      "application/javascript": [
       "download(\"download_04073bd6-0a19-4170-a126-6815dde02a58\", \"test_score.csv\", 1308420)"
      ],
      "text/plain": [
       "<IPython.core.display.Javascript object>"
      ]
     },
     "metadata": {
      "tags": []
     },
     "output_type": "display_data"
    }
   ],
   "source": [
    "from google.colab import files\n",
    "files.download('test_score.csv')"
   ]
  },
  {
   "cell_type": "markdown",
   "metadata": {
    "colab_type": "text",
    "id": "MLCFD7RsqpOr"
   },
   "source": [
    "どういったアイデアを取り入れたか\n",
    "\n",
    "KaggleでよくみかけるLightGBMを試してみた\n",
    "\n",
    "グリッドサーチより格段に処理が早く、精度が向上するので使用\n",
    "\n",
    "\n",
    "LightGBMのハイパーパラメータを調べてたところOptunaというハイパーパラメータ自動最適化フレームワークを発見\n",
    "\n",
    "試してみた結果精度向上\n",
    "\n",
    "まだまだハイパーパラメータのチューニングや引数の意味が分からないので復習に力を入れないと"
   ]
  },
  {
   "cell_type": "markdown",
   "metadata": {
    "colab_type": "text",
    "id": "f-uWqehDqJZ2"
   },
   "source": [
    "Kaggleスコア: 0.65513 \n",
    "\n",
    "順位: 6523位\n",
    "\n",
    "こんなに低い順位だとは・・・・\n",
    "悲しいなぁ"
   ]
  }
 ],
 "metadata": {
  "colab": {
   "collapsed_sections": [],
   "name": "Sprint 機械学習フロー.ipynb",
   "provenance": []
  },
  "kernelspec": {
   "display_name": "Python 3",
   "language": "python",
   "name": "python3"
  },
  "language_info": {
   "codemirror_mode": {
    "name": "ipython",
    "version": 3
   },
   "file_extension": ".py",
   "mimetype": "text/x-python",
   "name": "python",
   "nbconvert_exporter": "python",
   "pygments_lexer": "ipython3",
   "version": "3.7.6"
  }
 },
 "nbformat": 4,
 "nbformat_minor": 1
}
