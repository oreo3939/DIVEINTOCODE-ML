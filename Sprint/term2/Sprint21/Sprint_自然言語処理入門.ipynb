{
  "nbformat": 4,
  "nbformat_minor": 0,
  "metadata": {
    "colab": {
      "name": "Sprint_自然言語処理入門.ipynb",
      "provenance": [],
      "collapsed_sections": [],
      "toc_visible": true
    },
    "hide_input": false,
    "kernelspec": {
      "display_name": "Python 3",
      "language": "python",
      "name": "python3"
    },
    "language_info": {
      "codemirror_mode": {
        "name": "ipython",
        "version": 3
      },
      "file_extension": ".py",
      "mimetype": "text/x-python",
      "name": "python",
      "nbconvert_exporter": "python",
      "pygments_lexer": "ipython3",
      "version": "3.8.3"
    },
    "toc": {
      "base_numbering": 1,
      "nav_menu": {},
      "number_sections": true,
      "sideBar": true,
      "skip_h1_title": false,
      "title_cell": "Table of Contents",
      "title_sidebar": "Contents",
      "toc_cell": false,
      "toc_position": {
        "height": "calc(100% - 180px)",
        "left": "10px",
        "top": "150px",
        "width": "256px"
      },
      "toc_section_display": true,
      "toc_window_display": true
    }
  },
  "cells": [
    {
      "cell_type": "markdown",
      "metadata": {
        "id": "7rHC6oA4vQ9k"
      },
      "source": [
        "# 自然言語処理（NLP, Natural Language Processing） とは\n",
        "\n",
        "人間が普段使っている 自然言語 をコンピュータに処理させる技術のことです。ここではその中でも、機械学習の入力として自然言語を用いることを考えていきます。\n",
        "\n",
        "\n",
        "多くの機械学習手法は 数値データ（量的変数） の入力を前提にしていますので、自然言語の テキストデータ を数値データに変換する必要があります。これを 自然言語のベクトル化 と呼びます。ベクトル化の際にテキストデータの特徴をうまく捉えられるよう、様々な手法が考えられてきていますので、このSprintではそれらを学びます。"
      ]
    },
    {
      "cell_type": "markdown",
      "metadata": {
        "id": "velnXq24vQ7Z"
      },
      "source": [
        "## 非構造化データ\n",
        "データの分類として、表に数値がまとめられたようなコンピュータが扱いやすい形を 構造化データ 、人間が扱いやすい画像・動画・テキスト・音声などを 非構造化データ と呼ぶことがあります。自然言語のベクトル化は、非構造化データを構造化データに変換する工程と言えます。同じ非構造化データでも、画像に対してはディープラーニングを用いる場合この変換作業はあまり必要がありませんでしたが、テキストにおいてはこれをどう行うかが重要です。\n",
        "\n"
      ]
    },
    {
      "cell_type": "markdown",
      "metadata": {
        "id": "ljf7FjYBvQ50"
      },
      "source": [
        "## 自然言語処理により何ができるか\n",
        "機械学習の入力や出力に自然言語のテキストを用いることで様々なことができます。入力も出力もテキストである例としては 機械翻訳 があげられ、実用化されています。入力は画像で出力がテキストである 画像キャプション生成 やその逆の文章からの画像生成も研究が進んでいます。\n",
        "\n",
        "\n",
        "しかし、出力をテキストや画像のような非構造化データとすることは難易度が高いです。比較的簡単にできることとしては、入力をテキスト、出力をカテゴリーとする テキスト分類 です。\n",
        "\n",
        "\n",
        "アヤメやタイタニック、手書き数字のような定番の存在として、IMDB映画レビューデータセット の感情分析があります。レビューの文書が映画に対して肯定的か否定的かを2値分類します。文書ごとの肯定・否定はラベルが与えられています。このSprintではこれを使っていきます。"
      ]
    },
    {
      "cell_type": "markdown",
      "metadata": {
        "id": "-Vubv3PGvQ26"
      },
      "source": [
        "\n",
        "## IMDB映画レビューデータセットを準備します。\n",
        "\n",
        "\n",
        "ダウンロード\n",
        "次のwgetコマンドによってダウンロードします。\n",
        "\n",
        "\n",
        "\n",
        "```\n",
        "# IMDBをカレントフォルダにダウンロード\n",
        "!wget http://ai.stanford.edu/~amaas/data/sentiment/aclImdb_v1.tar.gz\n",
        "# 解凍\n",
        "!tar zxf aclImdb_v1.tar.gz\n",
        "# aclImdb/train/unsupはラベル無しのため削除\n",
        "!rm -rf aclImdb/train/unsup\n",
        "# IMDBデータセットの説明を表示\n",
        "!cat aclImdb/README\n",
        "```\n",
        "\n",
        "以下のサイトで公開されているデータセットです。\n",
        "\n",
        "\n",
        "[Sentiment Analysis](http://ai.stanford.edu/~amaas/data/sentiment/)"
      ]
    },
    {
      "cell_type": "code",
      "metadata": {
        "id": "yL16EbHB2zAY",
        "outputId": "e1202903-9721-4d8e-c28e-f1555c46cfb2",
        "colab": {
          "base_uri": "https://localhost:8080/",
          "height": 1000
        }
      },
      "source": [
        "# IMDBをカレントフォルダにダウンロード\n",
        "!wget http://ai.stanford.edu/~amaas/data/sentiment/aclImdb_v1.tar.gz\n",
        "# 解凍\n",
        "!tar zxf aclImdb_v1.tar.gz\n",
        "# aclImdb/train/unsupはラベル無しのため削除\n",
        "!rm -rf aclImdb/train/unsup\n",
        "# IMDBデータセットの説明を表示\n",
        "!cat aclImdb/README"
      ],
      "execution_count": 3,
      "outputs": [
        {
          "output_type": "stream",
          "text": [
            "--2020-10-03 05:25:20--  http://ai.stanford.edu/~amaas/data/sentiment/aclImdb_v1.tar.gz\n",
            "Resolving ai.stanford.edu (ai.stanford.edu)... 171.64.68.10\n",
            "Connecting to ai.stanford.edu (ai.stanford.edu)|171.64.68.10|:80... connected.\n",
            "HTTP request sent, awaiting response... 200 OK\n",
            "Length: 84125825 (80M) [application/x-gzip]\n",
            "Saving to: ‘aclImdb_v1.tar.gz’\n",
            "\n",
            "aclImdb_v1.tar.gz   100%[===================>]  80.23M  17.3MB/s    in 9.3s    \n",
            "\n",
            "2020-10-03 05:25:30 (8.60 MB/s) - ‘aclImdb_v1.tar.gz’ saved [84125825/84125825]\n",
            "\n",
            "Large Movie Review Dataset v1.0\n",
            "\n",
            "Overview\n",
            "\n",
            "This dataset contains movie reviews along with their associated binary\n",
            "sentiment polarity labels. It is intended to serve as a benchmark for\n",
            "sentiment classification. This document outlines how the dataset was\n",
            "gathered, and how to use the files provided. \n",
            "\n",
            "Dataset \n",
            "\n",
            "The core dataset contains 50,000 reviews split evenly into 25k train\n",
            "and 25k test sets. The overall distribution of labels is balanced (25k\n",
            "pos and 25k neg). We also include an additional 50,000 unlabeled\n",
            "documents for unsupervised learning. \n",
            "\n",
            "In the entire collection, no more than 30 reviews are allowed for any\n",
            "given movie because reviews for the same movie tend to have correlated\n",
            "ratings. Further, the train and test sets contain a disjoint set of\n",
            "movies, so no significant performance is obtained by memorizing\n",
            "movie-unique terms and their associated with observed labels.  In the\n",
            "labeled train/test sets, a negative review has a score <= 4 out of 10,\n",
            "and a positive review has a score >= 7 out of 10. Thus reviews with\n",
            "more neutral ratings are not included in the train/test sets. In the\n",
            "unsupervised set, reviews of any rating are included and there are an\n",
            "even number of reviews > 5 and <= 5.\n",
            "\n",
            "Files\n",
            "\n",
            "There are two top-level directories [train/, test/] corresponding to\n",
            "the training and test sets. Each contains [pos/, neg/] directories for\n",
            "the reviews with binary labels positive and negative. Within these\n",
            "directories, reviews are stored in text files named following the\n",
            "convention [[id]_[rating].txt] where [id] is a unique id and [rating] is\n",
            "the star rating for that review on a 1-10 scale. For example, the file\n",
            "[test/pos/200_8.txt] is the text for a positive-labeled test set\n",
            "example with unique id 200 and star rating 8/10 from IMDb. The\n",
            "[train/unsup/] directory has 0 for all ratings because the ratings are\n",
            "omitted for this portion of the dataset.\n",
            "\n",
            "We also include the IMDb URLs for each review in a separate\n",
            "[urls_[pos, neg, unsup].txt] file. A review with unique id 200 will\n",
            "have its URL on line 200 of this file. Due the ever-changing IMDb, we\n",
            "are unable to link directly to the review, but only to the movie's\n",
            "review page.\n",
            "\n",
            "In addition to the review text files, we include already-tokenized bag\n",
            "of words (BoW) features that were used in our experiments. These \n",
            "are stored in .feat files in the train/test directories. Each .feat\n",
            "file is in LIBSVM format, an ascii sparse-vector format for labeled\n",
            "data.  The feature indices in these files start from 0, and the text\n",
            "tokens corresponding to a feature index is found in [imdb.vocab]. So a\n",
            "line with 0:7 in a .feat file means the first word in [imdb.vocab]\n",
            "(the) appears 7 times in that review.\n",
            "\n",
            "LIBSVM page for details on .feat file format:\n",
            "http://www.csie.ntu.edu.tw/~cjlin/libsvm/\n",
            "\n",
            "We also include [imdbEr.txt] which contains the expected rating for\n",
            "each token in [imdb.vocab] as computed by (Potts, 2011). The expected\n",
            "rating is a good way to get a sense for the average polarity of a word\n",
            "in the dataset.\n",
            "\n",
            "Citing the dataset\n",
            "\n",
            "When using this dataset please cite our ACL 2011 paper which\n",
            "introduces it. This paper also contains classification results which\n",
            "you may want to compare against.\n",
            "\n",
            "\n",
            "@InProceedings{maas-EtAl:2011:ACL-HLT2011,\n",
            "  author    = {Maas, Andrew L.  and  Daly, Raymond E.  and  Pham, Peter T.  and  Huang, Dan  and  Ng, Andrew Y.  and  Potts, Christopher},\n",
            "  title     = {Learning Word Vectors for Sentiment Analysis},\n",
            "  booktitle = {Proceedings of the 49th Annual Meeting of the Association for Computational Linguistics: Human Language Technologies},\n",
            "  month     = {June},\n",
            "  year      = {2011},\n",
            "  address   = {Portland, Oregon, USA},\n",
            "  publisher = {Association for Computational Linguistics},\n",
            "  pages     = {142--150},\n",
            "  url       = {http://www.aclweb.org/anthology/P11-1015}\n",
            "}\n",
            "\n",
            "References\n",
            "\n",
            "Potts, Christopher. 2011. On the negativity of negation. In Nan Li and\n",
            "David Lutz, eds., Proceedings of Semantics and Linguistic Theory 20,\n",
            "636-659.\n",
            "\n",
            "Contact\n",
            "\n",
            "For questions/comments/corrections please contact Andrew Maas\n",
            "amaas@cs.stanford.edu\n"
          ],
          "name": "stdout"
        }
      ]
    },
    {
      "cell_type": "markdown",
      "metadata": {
        "id": "If926ADxvQ03"
      },
      "source": [
        "## 読み込み\n",
        "scikit-learnのload_filesを用いて読み込みます。\n",
        "\n",
        "\n",
        "sklearn.datasets.load_files — scikit-learn 0.21.3 documentation\n",
        "\n",
        "\n",
        "《読み込むコード》\n",
        "\n",
        "\n",
        "\n",
        "```\n",
        "from sklearn.datasets import load_files\n",
        "train_review = load_files('./aclImdb/train/', encoding='utf-8')\n",
        "x_train, y_train = train_review.data, train_review.target\n",
        "test_review = load_files('./aclImdb/test/', encoding='utf-8')\n",
        "x_test, y_test = test_review.data, test_review.target\n",
        "# ラベルの0,1と意味の対応の表示\n",
        "print(train_review.target_names)\n",
        "```\n",
        "\n"
      ]
    },
    {
      "cell_type": "code",
      "metadata": {
        "id": "9zOQw0Vi3qCf"
      },
      "source": [
        "import pandas as pd\n",
        "import matplotlib.pyplot as plt\n",
        "import numpy as np\n",
        "import math\n",
        "from sklearn.metrics import accuracy_score\n",
        "from sklearn import metrics\n",
        "from sklearn.metrics import confusion_matrix\n",
        "from sklearn.feature_extraction.text import TfidfVectorizer\n",
        "from sklearn.feature_extraction.text import CountVectorizer\n",
        "import re"
      ],
      "execution_count": 4,
      "outputs": []
    },
    {
      "cell_type": "code",
      "metadata": {
        "id": "0-Vowvjh3bav",
        "outputId": "d051ec76-0b9f-4aa1-9584-803357a3b0b3",
        "colab": {
          "base_uri": "https://localhost:8080/",
          "height": 35
        }
      },
      "source": [
        "from sklearn.datasets import load_files\n",
        "\n",
        "train_review = load_files('./aclImdb/train/', encoding='utf-8')\n",
        "\n",
        "x_train, y_train = train_review.data, train_review.target\n",
        "\n",
        "test_review = load_files('./aclImdb/test/', encoding='utf-8')\n",
        "\n",
        "x_test, y_test = test_review.data, test_review.target\n",
        "\n",
        "# ラベルの0,1と意味の対応の表示\n",
        "print(train_review.target_names)"
      ],
      "execution_count": 5,
      "outputs": [
        {
          "output_type": "stream",
          "text": [
            "['neg', 'pos']\n"
          ],
          "name": "stdout"
        }
      ]
    },
    {
      "cell_type": "markdown",
      "metadata": {
        "id": "yq5oA_3vwOfO"
      },
      "source": [
        "このデータセットについて\n",
        "\n",
        "中身を見てみると、英語の文章が入っていることが分かります。\n",
        "\n",
        "    print(\"x : {}\".format(x_train[0]))\n",
        "\n",
        "IMDBはInternet Movie Databaseの略で、映画のデータベースサイトです。\n",
        "\n",
        "\n",
        "[Ratings and Reviews for New Movies and TV Shows - IMDb](https://www.imdb.com/)\n",
        "\n",
        "\n",
        "このサイトではユーザーが映画に対して1から10点の評価とコメントを投稿することができます。そのデータベースから訓練データは25000件、テストデータは25000件のデータセットを作成しています。\n",
        "\n",
        "\n",
        "4点以下を否定的、7点以下を肯定的なレビューとして2値のラベル付けしており、これにより感情の分類を行います。5,6点の中立的なレビューはデータセットに含んでいません。また、ラベルは訓練用・テスト用それぞれで均一に入っています。詳細はダウンロードしたREADMEを確認してください。"
      ]
    },
    {
      "cell_type": "code",
      "metadata": {
        "id": "xTws4BaR3uza",
        "outputId": "43b73f07-31b0-425e-82ee-ef46ea941d53",
        "colab": {
          "base_uri": "https://localhost:8080/",
          "height": 55
        }
      },
      "source": [
        "print(\"x : {}\".format(x_train[0]))"
      ],
      "execution_count": 6,
      "outputs": [
        {
          "output_type": "stream",
          "text": [
            "x : Zero Day leads you to think, even re-think why two boys/young men would do what they did - commit mutual suicide via slaughtering their classmates. It captures what must be beyond a bizarre mode of being for two humans who have decided to withdraw from common civility in order to define their own/mutual world via coupled destruction.<br /><br />It is not a perfect movie but given what money/time the filmmaker and actors had - it is a remarkable product. In terms of explaining the motives and actions of the two young suicide/murderers it is better than 'Elephant' - in terms of being a film that gets under our 'rationalistic' skin it is a far, far better film than almost anything you are likely to see. <br /><br />Flawed but honest with a terrible honesty.\n"
          ],
          "name": "stdout"
        }
      ]
    },
    {
      "cell_type": "markdown",
      "metadata": {
        "id": "QkCNWBuMwZKV"
      },
      "source": [
        "##古典的な手法\n",
        "\n",
        "古典的ながら現在でも強力な手法であるBoWとTF-IDFを見ていきます。\n",
        "\n"
      ]
    },
    {
      "cell_type": "markdown",
      "metadata": {
        "id": "1GlL6zFPwefr"
      },
      "source": [
        "##BoW\n",
        "\n",
        "単純ながら効果的な方法として BoW (Bag of Words) があります。これは、サンプルごとに単語などの 登場回数 を数えたものをベクトルとする方法です。単語をカテゴリとして捉え one-hot表現 していることになります。\n",
        "\n",
        "\n",
        "例\n",
        "\n",
        "例として、IMDBデータセットからある3文の最初の5単語を抜き出したものを用意しました\n",
        "\n",
        "\n",
        "\n",
        "```\n",
        "mini_dataset = \\\n",
        "  [\"This movie is very good.\",\n",
        "  \"This film is a good\",\n",
        "  \"Very bad. Very, very bad.\"]\n",
        "```\n",
        "この3文にBoWを適用させてみます。scikit-learnのCountVectorizerを利用します。\n",
        "\n",
        "\n",
        "[sklearn.feature_extraction.text.CountVectorizer — scikit-learn 0.21.3 documentation](https://scikit-learn.org/stable/modules/generated/sklearn.feature_extraction.text.CountVectorizer.html)\n",
        "\n",
        "    import pandas as pd\n",
        "    from sklearn.feature_extraction.text import CountVectorizer\n",
        "    vectorizer = CountVectorizer(token_pattern=r'(?u)\\b\\w+\\b')\n",
        "    bow = (vectorizer.fit_transform(mini_dataset)).toarray()\n",
        "    # DataFrameにまとめる\n",
        "    df = pd.DataFrame(bow, columns=vectorizer.get_feature_names())\n",
        "    display(df)\n",
        "\n",
        "実行すると次のような表が得られます。\n",
        "\n",
        "![](https://t.gyazo.com/teams/diveintocode/cb8a221501808a5f8cd95225183bbb61.png)\n",
        "\n",
        "例にあげた3文の中で登場する8種類の単語が列名になり、0,1,2番目のサンプルでそれらが何回登場しているかを示しています。2番目のサンプル「Very bad. Very, very bad.」ではbadが2回、veryが3回登場しています。列名になっている言葉はデータセットが持つ 語彙 と呼びます。\n",
        "\n",
        "\n",
        "テキストはBoWにより各サンプルが語彙数の次元を持つ特徴量となり、機械学習モデルへ入力できるようになります。この時使用したテキスト全体のことを コーパス と呼びます。語彙はコーパスに含まれる言葉よって決まり、それを特徴量としてモデルの学習を行います。そのため、テストデータではじめて登場する語彙はベクトル化される際に無視されます。\n",
        "\n"
      ]
    },
    {
      "cell_type": "code",
      "metadata": {
        "id": "3mTYQ4tu4dey"
      },
      "source": [
        "mini_dataset = \\\n",
        "  [\"This movie is very good.\",\n",
        "  \"This film is a good\",\n",
        "  \"Very bad. Very, very bad.\"]"
      ],
      "execution_count": 7,
      "outputs": []
    },
    {
      "cell_type": "code",
      "metadata": {
        "id": "P7IWH8Be4iUK",
        "outputId": "5ce9b137-a841-438d-e3aa-cad2d32ede68",
        "colab": {
          "base_uri": "https://localhost:8080/",
          "height": 141
        }
      },
      "source": [
        "vectorizer = CountVectorizer(token_pattern=r'(?u)\\b\\w+\\b')\n",
        "bow = (vectorizer.fit_transform(mini_dataset)).toarray()\n",
        "# DataFrameにまとめる\n",
        "df = pd.DataFrame(bow, columns=vectorizer.get_feature_names())\n",
        "display(df)"
      ],
      "execution_count": 8,
      "outputs": [
        {
          "output_type": "display_data",
          "data": {
            "text/html": [
              "<div>\n",
              "<style scoped>\n",
              "    .dataframe tbody tr th:only-of-type {\n",
              "        vertical-align: middle;\n",
              "    }\n",
              "\n",
              "    .dataframe tbody tr th {\n",
              "        vertical-align: top;\n",
              "    }\n",
              "\n",
              "    .dataframe thead th {\n",
              "        text-align: right;\n",
              "    }\n",
              "</style>\n",
              "<table border=\"1\" class=\"dataframe\">\n",
              "  <thead>\n",
              "    <tr style=\"text-align: right;\">\n",
              "      <th></th>\n",
              "      <th>a</th>\n",
              "      <th>bad</th>\n",
              "      <th>film</th>\n",
              "      <th>good</th>\n",
              "      <th>is</th>\n",
              "      <th>movie</th>\n",
              "      <th>this</th>\n",
              "      <th>very</th>\n",
              "    </tr>\n",
              "  </thead>\n",
              "  <tbody>\n",
              "    <tr>\n",
              "      <th>0</th>\n",
              "      <td>0</td>\n",
              "      <td>0</td>\n",
              "      <td>0</td>\n",
              "      <td>1</td>\n",
              "      <td>1</td>\n",
              "      <td>1</td>\n",
              "      <td>1</td>\n",
              "      <td>1</td>\n",
              "    </tr>\n",
              "    <tr>\n",
              "      <th>1</th>\n",
              "      <td>1</td>\n",
              "      <td>0</td>\n",
              "      <td>1</td>\n",
              "      <td>1</td>\n",
              "      <td>1</td>\n",
              "      <td>0</td>\n",
              "      <td>1</td>\n",
              "      <td>0</td>\n",
              "    </tr>\n",
              "    <tr>\n",
              "      <th>2</th>\n",
              "      <td>0</td>\n",
              "      <td>2</td>\n",
              "      <td>0</td>\n",
              "      <td>0</td>\n",
              "      <td>0</td>\n",
              "      <td>0</td>\n",
              "      <td>0</td>\n",
              "      <td>3</td>\n",
              "    </tr>\n",
              "  </tbody>\n",
              "</table>\n",
              "</div>"
            ],
            "text/plain": [
              "   a  bad  film  good  is  movie  this  very\n",
              "0  0    0     0     1   1      1     1     1\n",
              "1  1    0     1     1   1      0     1     0\n",
              "2  0    2     0     0   0      0     0     3"
            ]
          },
          "metadata": {
            "tags": []
          }
        }
      ]
    },
    {
      "cell_type": "markdown",
      "metadata": {
        "id": "ilZjq8lcxKs-"
      },
      "source": [
        "## 前処理\n",
        "CountVectorizerクラスでは大文字は小文字に揃えるという 前処理 が自動的に行われています。こういった前処理は自然言語処理において大切で、不要な記号などの消去（テキストクリーニング）や表記揺れの統一といったことを別途行うことが一般的です。\n",
        "\n",
        "\n",
        "語形が「see」「saw」「seen」のように変化する単語に対して語幹に揃える ステミング と呼ばれる処理を行うこともあります。\n",
        "\n"
      ]
    },
    {
      "cell_type": "markdown",
      "metadata": {
        "id": "DxVkI0a3xUJ0"
      },
      "source": [
        "## トークン\n",
        "BoWは厳密には単語を数えているのではなく、 トークン（token） として定めた固まりを数えます。\n",
        "\n",
        "\n",
        "何をトークンとするかはCountVectorizerでは引数token_patternで 正規表現 の記法により指定されます。デフォルトはr'(?u)\\b\\w\\w+\\b'ですが、上の例ではr'(?u)\\b\\w+\\b'としています。\n",
        "\n",
        "\n",
        "デフォルトでは空白・句読点・スラッシュなどに囲まれた2文字以上の文字を1つのトークンとして抜き出すようになっているため、「a」や「I」などがカウントされません。英語では1文字の単語は文章の特徴をあまり表さないため、除外されることもあります。しかし、上の例では1文字の単語もトークンとして抜き出すように引数を指定しています。\n",
        "\n",
        "\n",
        "《正規表現》\n",
        "\n",
        "\n",
        "正規表現は前処理の際にも活用しますが、ここでは詳細は扱いません。Pythonではreモジュールによって正規表現操作ができます。\n",
        "\n",
        "\n",
        "[re — 正規表現操作](https://docs.python.org/ja/3/library/re.html)\n",
        "\n",
        "\n",
        "正規表現を利用する際はリアルタイムで結果を確認できる以下のようなサービスが便利です。\n",
        "\n",
        "\n",
        "[Online regex tester and debugger: PHP, PCRE, Python, Golang and JavaScript](https://regex101.com/)\n",
        "\n"
      ]
    },
    {
      "cell_type": "markdown",
      "metadata": {
        "id": "anJ9NZ9WxcKY"
      },
      "source": [
        "## 形態素解析\n",
        "英語などの多くの言語では空白という分かりやすい基準でトークン化が行えますが、日本語ではそれが行えません。\n",
        "\n",
        "\n",
        "日本語では名詞や助詞、動詞のように異なる 品詞 で分けられる単位で 分かち書き することになります。例えば「私はプログラミングを学びます」という日本語の文は「私/は/プログラミング/を/学び/ます」という風になります。\n",
        "\n",
        "\n",
        "これには MeCab や Janome のような形態素解析ツールを用います。Pythonから利用することも可能です。MeCabをウェブ上で簡単に利用できるWeb茶まめというサービスも国立国語研究所が提供しています。\n",
        "\n",
        "\n",
        "自然言語では新しい言葉も日々生まれますので、それにどれだけ対応できるかも大切です。MeCab用の毎週更新される辞書として mecab-ipadic-NEologd がオープンソースで存在しています。\n",
        "\n",
        "\n",
        "[mecab-ipadic-neologd/README.ja.md at master · neologd/mecab-ipadic-neologd](https://github.com/neologd/mecab-ipadic-neologd/blob/master/README.ja.md)"
      ]
    },
    {
      "cell_type": "markdown",
      "metadata": {
        "id": "jwph80-Nxhrm"
      },
      "source": [
        "## n-gram\n",
        "上のBoWの例では1つの単語（トークン）毎の登場回数を数えましたが、これでは語順は全く考慮されていません。\n",
        "\n",
        "\n",
        "考慮するために、隣あう単語同士をまとめて扱う n-gram という考え方を適用することがあります。2つの単語をまとめる場合は 2-gram (bigram) と呼び、次のようになります。\n",
        "\n",
        "    # ngram_rangeで利用するn-gramの範囲を指定する\n",
        "    vectorizer = CountVectorizer(ngram_range=(2, 2), token_pattern=r'(?u)\\b\\w+\\b')\n",
        "    bow_train = (vectorizer.fit_transform(mini_dataset)).toarray()\n",
        "    df = pd.DataFrame(bow_train, columns=vectorizer.get_feature_names())\n",
        "    display(df)\n",
        "\n",
        "![](https://t.gyazo.com/teams/diveintocode/64e20e72c04543743bd52576ec8f9380.png)\n",
        "\n",
        "\n",
        "2-gramにより「very good」と「very bad」が区別して数えられています。\n",
        "\n",
        "\n",
        "単語をまとめない場合は 1-gram (unigram) と呼びます。3つまとめる3-gram(trigram)など任意の数を考えることができます。1-gramと2-gramを組み合わせてBoWを行うといったこともあります。"
      ]
    },
    {
      "cell_type": "code",
      "metadata": {
        "id": "C_r3uOZb7-zg",
        "outputId": "b827ed14-d4b8-4b1a-c925-b6b87eb54789",
        "colab": {
          "base_uri": "https://localhost:8080/",
          "height": 158
        }
      },
      "source": [
        "# ngram_rangeで利用するn-gramの範囲を指定する\n",
        "vectorizer = CountVectorizer(ngram_range=(2, 2), token_pattern=r'(?u)\\b\\w+\\b')\n",
        "bow_train = (vectorizer.fit_transform(mini_dataset)).toarray()\n",
        "df = pd.DataFrame(bow_train, columns=vectorizer.get_feature_names())\n",
        "display(df)"
      ],
      "execution_count": 9,
      "outputs": [
        {
          "output_type": "display_data",
          "data": {
            "text/html": [
              "<div>\n",
              "<style scoped>\n",
              "    .dataframe tbody tr th:only-of-type {\n",
              "        vertical-align: middle;\n",
              "    }\n",
              "\n",
              "    .dataframe tbody tr th {\n",
              "        vertical-align: top;\n",
              "    }\n",
              "\n",
              "    .dataframe thead th {\n",
              "        text-align: right;\n",
              "    }\n",
              "</style>\n",
              "<table border=\"1\" class=\"dataframe\">\n",
              "  <thead>\n",
              "    <tr style=\"text-align: right;\">\n",
              "      <th></th>\n",
              "      <th>a good</th>\n",
              "      <th>bad very</th>\n",
              "      <th>film is</th>\n",
              "      <th>is a</th>\n",
              "      <th>is very</th>\n",
              "      <th>movie is</th>\n",
              "      <th>this film</th>\n",
              "      <th>this movie</th>\n",
              "      <th>very bad</th>\n",
              "      <th>very good</th>\n",
              "      <th>very very</th>\n",
              "    </tr>\n",
              "  </thead>\n",
              "  <tbody>\n",
              "    <tr>\n",
              "      <th>0</th>\n",
              "      <td>0</td>\n",
              "      <td>0</td>\n",
              "      <td>0</td>\n",
              "      <td>0</td>\n",
              "      <td>1</td>\n",
              "      <td>1</td>\n",
              "      <td>0</td>\n",
              "      <td>1</td>\n",
              "      <td>0</td>\n",
              "      <td>1</td>\n",
              "      <td>0</td>\n",
              "    </tr>\n",
              "    <tr>\n",
              "      <th>1</th>\n",
              "      <td>1</td>\n",
              "      <td>0</td>\n",
              "      <td>1</td>\n",
              "      <td>1</td>\n",
              "      <td>0</td>\n",
              "      <td>0</td>\n",
              "      <td>1</td>\n",
              "      <td>0</td>\n",
              "      <td>0</td>\n",
              "      <td>0</td>\n",
              "      <td>0</td>\n",
              "    </tr>\n",
              "    <tr>\n",
              "      <th>2</th>\n",
              "      <td>0</td>\n",
              "      <td>1</td>\n",
              "      <td>0</td>\n",
              "      <td>0</td>\n",
              "      <td>0</td>\n",
              "      <td>0</td>\n",
              "      <td>0</td>\n",
              "      <td>0</td>\n",
              "      <td>2</td>\n",
              "      <td>0</td>\n",
              "      <td>1</td>\n",
              "    </tr>\n",
              "  </tbody>\n",
              "</table>\n",
              "</div>"
            ],
            "text/plain": [
              "   a good  bad very  film is  is a  ...  this movie  very bad  very good  very very\n",
              "0       0         0        0     0  ...           1         0          1          0\n",
              "1       1         0        1     1  ...           0         0          0          0\n",
              "2       0         1        0     0  ...           0         2          0          1\n",
              "\n",
              "[3 rows x 11 columns]"
            ]
          },
          "metadata": {
            "tags": []
          }
        }
      ]
    },
    {
      "cell_type": "markdown",
      "metadata": {
        "id": "siAF6ZUnx8rf"
      },
      "source": [
        "# 【問題1】BoWのスクラッチ実装\n",
        "\n",
        "以下の3文のBoWを求められるプログラムをscikit-learnを使わずに作成してください。1-gramと2-gramで計算してください。\n",
        "\n",
        "    This movie is SOOOO funny!!!\n",
        "    What a movie! I never\n",
        "    best movie ever!!!!! this movie"
      ]
    },
    {
      "cell_type": "markdown",
      "metadata": {
        "id": "OdxEWcVJ31EM"
      },
      "source": [
        "### 1-gram"
      ]
    },
    {
      "cell_type": "code",
      "metadata": {
        "id": "y5fdJ5aJ9avh"
      },
      "source": [
        "data = [\n",
        "    \"This movie is SOOOO funny!!!\", \"What a movie! I never\",\n",
        "    \"best movie ever!!!!! this movie\"\n",
        "]"
      ],
      "execution_count": 10,
      "outputs": []
    },
    {
      "cell_type": "code",
      "metadata": {
        "id": "01KUHd5w31ET"
      },
      "source": [
        "data_split = []\n",
        "word_split = []\n",
        "\n",
        "for i in data:\n",
        "    a = i.split()\n",
        "    data_split.append(a)\n",
        "    for j in a:\n",
        "        word_split.append(j)"
      ],
      "execution_count": 11,
      "outputs": []
    },
    {
      "cell_type": "code",
      "metadata": {
        "id": "QxnuNq9C31Ea",
        "outputId": "6e6dd27c-4e2c-4ec1-9891-adc561e2f9c8",
        "colab": {
          "base_uri": "https://localhost:8080/",
          "height": 71
        }
      },
      "source": [
        "data_split"
      ],
      "execution_count": 12,
      "outputs": [
        {
          "output_type": "execute_result",
          "data": {
            "text/plain": [
              "[['This', 'movie', 'is', 'SOOOO', 'funny!!!'],\n",
              " ['What', 'a', 'movie!', 'I', 'never'],\n",
              " ['best', 'movie', 'ever!!!!!', 'this', 'movie']]"
            ]
          },
          "metadata": {
            "tags": []
          },
          "execution_count": 12
        }
      ]
    },
    {
      "cell_type": "code",
      "metadata": {
        "id": "6aapGkpu31Ei",
        "outputId": "ad0bbdb2-91c7-4ce9-b2fc-386dad9ce857",
        "colab": {
          "base_uri": "https://localhost:8080/",
          "height": 287
        }
      },
      "source": [
        "word_split"
      ],
      "execution_count": 13,
      "outputs": [
        {
          "output_type": "execute_result",
          "data": {
            "text/plain": [
              "['This',\n",
              " 'movie',\n",
              " 'is',\n",
              " 'SOOOO',\n",
              " 'funny!!!',\n",
              " 'What',\n",
              " 'a',\n",
              " 'movie!',\n",
              " 'I',\n",
              " 'never',\n",
              " 'best',\n",
              " 'movie',\n",
              " 'ever!!!!!',\n",
              " 'this',\n",
              " 'movie']"
            ]
          },
          "metadata": {
            "tags": []
          },
          "execution_count": 13
        }
      ]
    },
    {
      "cell_type": "code",
      "metadata": {
        "id": "yEDboccA31En"
      },
      "source": [
        "def n_gram(data,word):\n",
        "    \n",
        "    result = {}\n",
        "    for i in word:\n",
        "        n_gra = []\n",
        "        for j in data:\n",
        "            n_gra.append(j.count(i))\n",
        "            result[i] = n_gra\n",
        "            \n",
        "    return result"
      ],
      "execution_count": 14,
      "outputs": []
    },
    {
      "cell_type": "code",
      "metadata": {
        "id": "v8FO7l3r31Es",
        "outputId": "18d9f5d0-22f9-4d40-ef42-3465964dc874",
        "colab": {
          "base_uri": "https://localhost:8080/",
          "height": 251
        }
      },
      "source": [
        "one = n_gram(data_split, word_split)\n",
        "one"
      ],
      "execution_count": 15,
      "outputs": [
        {
          "output_type": "execute_result",
          "data": {
            "text/plain": [
              "{'I': [0, 1, 0],\n",
              " 'SOOOO': [1, 0, 0],\n",
              " 'This': [1, 0, 0],\n",
              " 'What': [0, 1, 0],\n",
              " 'a': [0, 1, 0],\n",
              " 'best': [0, 0, 1],\n",
              " 'ever!!!!!': [0, 0, 1],\n",
              " 'funny!!!': [1, 0, 0],\n",
              " 'is': [1, 0, 0],\n",
              " 'movie': [1, 0, 2],\n",
              " 'movie!': [0, 1, 0],\n",
              " 'never': [0, 1, 0],\n",
              " 'this': [0, 0, 1]}"
            ]
          },
          "metadata": {
            "tags": []
          },
          "execution_count": 15
        }
      ]
    },
    {
      "cell_type": "code",
      "metadata": {
        "id": "zhHXq_-331E0",
        "outputId": "f009bfc5-8e3e-4a2e-cd62-7f2c062ba74a",
        "colab": {
          "base_uri": "https://localhost:8080/",
          "height": 175
        }
      },
      "source": [
        "result1_df = pd.DataFrame(one,index=data)\n",
        "result1_df"
      ],
      "execution_count": 16,
      "outputs": [
        {
          "output_type": "execute_result",
          "data": {
            "text/html": [
              "<div>\n",
              "<style scoped>\n",
              "    .dataframe tbody tr th:only-of-type {\n",
              "        vertical-align: middle;\n",
              "    }\n",
              "\n",
              "    .dataframe tbody tr th {\n",
              "        vertical-align: top;\n",
              "    }\n",
              "\n",
              "    .dataframe thead th {\n",
              "        text-align: right;\n",
              "    }\n",
              "</style>\n",
              "<table border=\"1\" class=\"dataframe\">\n",
              "  <thead>\n",
              "    <tr style=\"text-align: right;\">\n",
              "      <th></th>\n",
              "      <th>This</th>\n",
              "      <th>movie</th>\n",
              "      <th>is</th>\n",
              "      <th>SOOOO</th>\n",
              "      <th>funny!!!</th>\n",
              "      <th>What</th>\n",
              "      <th>a</th>\n",
              "      <th>movie!</th>\n",
              "      <th>I</th>\n",
              "      <th>never</th>\n",
              "      <th>best</th>\n",
              "      <th>ever!!!!!</th>\n",
              "      <th>this</th>\n",
              "    </tr>\n",
              "  </thead>\n",
              "  <tbody>\n",
              "    <tr>\n",
              "      <th>This movie is SOOOO funny!!!</th>\n",
              "      <td>1</td>\n",
              "      <td>1</td>\n",
              "      <td>1</td>\n",
              "      <td>1</td>\n",
              "      <td>1</td>\n",
              "      <td>0</td>\n",
              "      <td>0</td>\n",
              "      <td>0</td>\n",
              "      <td>0</td>\n",
              "      <td>0</td>\n",
              "      <td>0</td>\n",
              "      <td>0</td>\n",
              "      <td>0</td>\n",
              "    </tr>\n",
              "    <tr>\n",
              "      <th>What a movie! I never</th>\n",
              "      <td>0</td>\n",
              "      <td>0</td>\n",
              "      <td>0</td>\n",
              "      <td>0</td>\n",
              "      <td>0</td>\n",
              "      <td>1</td>\n",
              "      <td>1</td>\n",
              "      <td>1</td>\n",
              "      <td>1</td>\n",
              "      <td>1</td>\n",
              "      <td>0</td>\n",
              "      <td>0</td>\n",
              "      <td>0</td>\n",
              "    </tr>\n",
              "    <tr>\n",
              "      <th>best movie ever!!!!! this movie</th>\n",
              "      <td>0</td>\n",
              "      <td>2</td>\n",
              "      <td>0</td>\n",
              "      <td>0</td>\n",
              "      <td>0</td>\n",
              "      <td>0</td>\n",
              "      <td>0</td>\n",
              "      <td>0</td>\n",
              "      <td>0</td>\n",
              "      <td>0</td>\n",
              "      <td>1</td>\n",
              "      <td>1</td>\n",
              "      <td>1</td>\n",
              "    </tr>\n",
              "  </tbody>\n",
              "</table>\n",
              "</div>"
            ],
            "text/plain": [
              "                                 This  movie  is  ...  best  ever!!!!!  this\n",
              "This movie is SOOOO funny!!!        1      1   1  ...     0          0     0\n",
              "What a movie! I never               0      0   0  ...     0          0     0\n",
              "best movie ever!!!!! this movie     0      2   0  ...     1          1     1\n",
              "\n",
              "[3 rows x 13 columns]"
            ]
          },
          "metadata": {
            "tags": []
          },
          "execution_count": 16
        }
      ]
    },
    {
      "cell_type": "markdown",
      "metadata": {
        "id": "3Ph4AjrV31E7"
      },
      "source": [
        "### 2-gram"
      ]
    },
    {
      "cell_type": "code",
      "metadata": {
        "id": "iFR5XpxR31E9"
      },
      "source": [
        "data_split2 = []\n",
        "word_split2 = []\n",
        "\n",
        "for q in data_split:\n",
        "    two = [] \n",
        "    # 0～3\n",
        "    for w in range(len(q)-2 + 1):\n",
        "        ab = q[w:w +2]\n",
        "        d = ab[0] +\" \" + ab[1]\n",
        "        data_split2.append(d)\n",
        "        two.append(d)\n",
        "    \n",
        "    word_split2.append(two)"
      ],
      "execution_count": 17,
      "outputs": []
    },
    {
      "cell_type": "code",
      "metadata": {
        "id": "NYCNwv0T31FF",
        "outputId": "5c8f7af0-e0cf-428d-e63a-f2dedb9a793b",
        "colab": {
          "base_uri": "https://localhost:8080/",
          "height": 55
        }
      },
      "source": [
        "print(data_split2)"
      ],
      "execution_count": 18,
      "outputs": [
        {
          "output_type": "stream",
          "text": [
            "['This movie', 'movie is', 'is SOOOO', 'SOOOO funny!!!', 'What a', 'a movie!', 'movie! I', 'I never', 'best movie', 'movie ever!!!!!', 'ever!!!!! this', 'this movie']\n"
          ],
          "name": "stdout"
        }
      ]
    },
    {
      "cell_type": "code",
      "metadata": {
        "id": "qwLw96OD31FL",
        "outputId": "73feb568-3c6f-4d35-e0f5-543e8482f142",
        "colab": {
          "base_uri": "https://localhost:8080/",
          "height": 55
        }
      },
      "source": [
        "print(word_split2)"
      ],
      "execution_count": 19,
      "outputs": [
        {
          "output_type": "stream",
          "text": [
            "[['This movie', 'movie is', 'is SOOOO', 'SOOOO funny!!!'], ['What a', 'a movie!', 'movie! I', 'I never'], ['best movie', 'movie ever!!!!!', 'ever!!!!! this', 'this movie']]\n"
          ],
          "name": "stdout"
        }
      ]
    },
    {
      "cell_type": "code",
      "metadata": {
        "id": "0o59CVlb31FS",
        "outputId": "24189f7e-52c7-4b84-a07d-f02e60c9d4e6",
        "colab": {
          "base_uri": "https://localhost:8080/",
          "height": 233
        }
      },
      "source": [
        "two = n_gram(word_split2,data_split2)\n",
        "two"
      ],
      "execution_count": 20,
      "outputs": [
        {
          "output_type": "execute_result",
          "data": {
            "text/plain": [
              "{'I never': [0, 1, 0],\n",
              " 'SOOOO funny!!!': [1, 0, 0],\n",
              " 'This movie': [1, 0, 0],\n",
              " 'What a': [0, 1, 0],\n",
              " 'a movie!': [0, 1, 0],\n",
              " 'best movie': [0, 0, 1],\n",
              " 'ever!!!!! this': [0, 0, 1],\n",
              " 'is SOOOO': [1, 0, 0],\n",
              " 'movie ever!!!!!': [0, 0, 1],\n",
              " 'movie is': [1, 0, 0],\n",
              " 'movie! I': [0, 1, 0],\n",
              " 'this movie': [0, 0, 1]}"
            ]
          },
          "metadata": {
            "tags": []
          },
          "execution_count": 20
        }
      ]
    },
    {
      "cell_type": "code",
      "metadata": {
        "id": "XQ_6cmZA31FY",
        "outputId": "9f4f14b4-96bf-4791-e4ce-91ff2348b8ab",
        "colab": {
          "base_uri": "https://localhost:8080/",
          "height": 262
        }
      },
      "source": [
        "result2_df = pd.DataFrame(two,index=data)\n",
        "result2_df"
      ],
      "execution_count": 21,
      "outputs": [
        {
          "output_type": "execute_result",
          "data": {
            "text/html": [
              "<div>\n",
              "<style scoped>\n",
              "    .dataframe tbody tr th:only-of-type {\n",
              "        vertical-align: middle;\n",
              "    }\n",
              "\n",
              "    .dataframe tbody tr th {\n",
              "        vertical-align: top;\n",
              "    }\n",
              "\n",
              "    .dataframe thead th {\n",
              "        text-align: right;\n",
              "    }\n",
              "</style>\n",
              "<table border=\"1\" class=\"dataframe\">\n",
              "  <thead>\n",
              "    <tr style=\"text-align: right;\">\n",
              "      <th></th>\n",
              "      <th>This movie</th>\n",
              "      <th>movie is</th>\n",
              "      <th>is SOOOO</th>\n",
              "      <th>SOOOO funny!!!</th>\n",
              "      <th>What a</th>\n",
              "      <th>a movie!</th>\n",
              "      <th>movie! I</th>\n",
              "      <th>I never</th>\n",
              "      <th>best movie</th>\n",
              "      <th>movie ever!!!!!</th>\n",
              "      <th>ever!!!!! this</th>\n",
              "      <th>this movie</th>\n",
              "    </tr>\n",
              "  </thead>\n",
              "  <tbody>\n",
              "    <tr>\n",
              "      <th>This movie is SOOOO funny!!!</th>\n",
              "      <td>1</td>\n",
              "      <td>1</td>\n",
              "      <td>1</td>\n",
              "      <td>1</td>\n",
              "      <td>0</td>\n",
              "      <td>0</td>\n",
              "      <td>0</td>\n",
              "      <td>0</td>\n",
              "      <td>0</td>\n",
              "      <td>0</td>\n",
              "      <td>0</td>\n",
              "      <td>0</td>\n",
              "    </tr>\n",
              "    <tr>\n",
              "      <th>What a movie! I never</th>\n",
              "      <td>0</td>\n",
              "      <td>0</td>\n",
              "      <td>0</td>\n",
              "      <td>0</td>\n",
              "      <td>1</td>\n",
              "      <td>1</td>\n",
              "      <td>1</td>\n",
              "      <td>1</td>\n",
              "      <td>0</td>\n",
              "      <td>0</td>\n",
              "      <td>0</td>\n",
              "      <td>0</td>\n",
              "    </tr>\n",
              "    <tr>\n",
              "      <th>best movie ever!!!!! this movie</th>\n",
              "      <td>0</td>\n",
              "      <td>0</td>\n",
              "      <td>0</td>\n",
              "      <td>0</td>\n",
              "      <td>0</td>\n",
              "      <td>0</td>\n",
              "      <td>0</td>\n",
              "      <td>0</td>\n",
              "      <td>1</td>\n",
              "      <td>1</td>\n",
              "      <td>1</td>\n",
              "      <td>1</td>\n",
              "    </tr>\n",
              "  </tbody>\n",
              "</table>\n",
              "</div>"
            ],
            "text/plain": [
              "                                 This movie  ...  this movie\n",
              "This movie is SOOOO funny!!!              1  ...           0\n",
              "What a movie! I never                     0  ...           0\n",
              "best movie ever!!!!! this movie           0  ...           1\n",
              "\n",
              "[3 rows x 12 columns]"
            ]
          },
          "metadata": {
            "tags": []
          },
          "execution_count": 21
        }
      ]
    },
    {
      "cell_type": "code",
      "metadata": {
        "id": "ZcbcKNxV31Fd",
        "outputId": "ba149976-bf62-49a1-c65d-880f2cd4734b",
        "colab": {
          "base_uri": "https://localhost:8080/",
          "height": 35
        }
      },
      "source": [
        "import re\n",
        "\n",
        "alpha_text = \"This movie is SOOOO funny!!!\"\n",
        "alpha_text2 = \"What a movie! I never\"\n",
        "alpha_text3 = \"best movie ever!!!!! this movie\"\n",
        "\n",
        "alpha_pattern = \"\\w+\"\n",
        "alpha_regex = re.compile(alpha_pattern)\n",
        "\n",
        "all_alpha_matches = alpha_regex.findall(alpha_text)\n",
        "print(all_alpha_matches)\n"
      ],
      "execution_count": 22,
      "outputs": [
        {
          "output_type": "stream",
          "text": [
            "['This', 'movie', 'is', 'SOOOO', 'funny']\n"
          ],
          "name": "stdout"
        }
      ]
    },
    {
      "cell_type": "markdown",
      "metadata": {
        "id": "HcBFfmQFyCE8"
      },
      "source": [
        "## TF-IDF\n",
        "\n",
        "BoWの発展的手法として TF-IDF もよく使われます。これは Term Frequency (TF) と Inverse Document Frequency (IDF) という2つの指標の組み合わせです。\n",
        "\n",
        "\n",
        "《標準的なTF-IDFの式》\n",
        "\n",
        "\n",
        "Term Frequency:\n",
        "\n",
        "$$tf(t,d) = \\frac{n_{t,d}}{\\sum_{s \\in d}n_{s,d}}$$\n",
        "\n",
        "$n_{t,d}$\n",
        " : サンプルd内のトークンtの出現回数（BoWと同じ）\n",
        "\n",
        " $\\sum_{s \\in d}n_{s,d}$\n",
        " : サンプルdの全トークンの出現回数の和\n",
        "\n",
        " Inverse Document Frequency:\n",
        "\n",
        " $$idf(t) = \\log{\\frac{N}{df(t)}}$$\n",
        "\n",
        " $N$\n",
        " : サンプル数\n",
        "\n",
        "$\n",
        "d\n",
        "f\n",
        "(\n",
        "t\n",
        ")$\n",
        " : トークンtが出現するサンプル数\n",
        "\n",
        "\n",
        "＊logの底は任意の値\n",
        "\n",
        "TF-IDF:\n",
        "\n",
        "$$tfidf(t, d) = tf(t, d) \\times idf(t)$$\n"
      ]
    },
    {
      "cell_type": "markdown",
      "metadata": {
        "id": "wzItMcPjz6gm"
      },
      "source": [
        "## IDF\n",
        "IDFはそのトークンがデータセット内で珍しいほど値が大きくなる指標です。\n",
        "\n",
        "\n",
        "サンプル数 \n",
        "N\n",
        " をIMDB映画レビューデータセットの訓練データに合わせ25000として、トークンが出現するサンプル数$\n",
        "d\n",
        "f\n",
        "(\n",
        "t\n",
        ")$ を変化させたグラフを確認してみると、次のようになります。\n",
        "\n",
        "    import numpy as np\n",
        "    import matplotlib.pyplot as plt\n",
        "    n_samples = 25000\n",
        "    idf = np.log(n_samples/np.arange(1,n_samples))\n",
        "    plt.title(\"IDF\")\n",
        "    plt.xlabel(\"df(t)\")\n",
        "    plt.ylabel(\"IDF\")\n",
        "    plt.plot(idf)\n",
        "    plt.show()\n",
        "\n",
        "![](https://t.gyazo.com/teams/diveintocode/2a1868fa9e70deb138114819f5f20348.png)\n",
        "\n",
        "TF-IDFではこの数を出現回数に掛け合わせるので、珍しいトークンの登場に重み付けを行なっていることになります。"
      ]
    },
    {
      "cell_type": "markdown",
      "metadata": {
        "id": "LmWml1ik0FRP"
      },
      "source": [
        "## ストップワード\n",
        "あまりにも頻繁に登場するトークンは、値を小さくするだけでなく、取り除くという前処理を加えることもあります。取り除くもののことを ストップワード と呼びます。既存のストップワード一覧を利用したり、しきい値によって求めたりします。\n",
        "\n",
        "\n",
        "scikit-learnのCountVectorizerでは引数stop_wordsにリストで指定することで処理を行なってくれます。\n",
        "\n",
        "    vectorizer = CountVectorizer(stop_words=[\"is\"], token_pattern=r'\\b\\w+\\b')\n",
        "    bow_train = (vectorizer.fit_transform(mini_dataset)).toarray()\n",
        "    df = pd.DataFrame(bow_train, columns=vectorizer.get_feature_names())\n",
        "    display(df)\n",
        "\n",
        "代表的な既存のストップワード一覧としては、NLTK という自然言語処理のライブラリのものがあげられます。あるデータセットにおいては特別重要な意味を持つ単語が一覧に含まれている可能性もあるため、使用する際は中身を確認することが望ましいです。\n",
        "\n",
        "    # はじめて使う場合はストップワードをダウンロード\n",
        "    import nltk\n",
        "    stop_words = nltk.download('stopwords')\n",
        "    from nltk.corpus import stopwords\n",
        "    stop_words = stopwords.words('english')\n",
        "    print(\"stop word : {}\".format(stop_words)) # 'i', 'me', 'my', ...\n",
        "\n",
        "\n",
        "逆に、登場回数が特に少ないトークンも取り除くことが多いです。全てのトークンを用いるとベクトルの次元数が著しく大きくなってしまい計算コストが高まるためです。\n",
        "\n",
        "\n",
        "scikit-learnのCountVectorizerでは引数max_featuresに最大の語彙数を指定することで処理を行なってくれます。以下の例では出現数が多い順に5個でベクトル化しています。\n",
        "\n",
        "    vectorizer = CountVectorizer(token_pattern=r'\\b\\w+\\b', max_features = 5)\n",
        "    bow_train = (vectorizer.fit_transform(mini_dataset)).toarray()\n",
        "    df = pd.DataFrame(bow_train, columns=vectorizer.get_feature_names())\n",
        "    display(df)"
      ]
    },
    {
      "cell_type": "markdown",
      "metadata": {
        "id": "8Za5Pt0O0fB5"
      },
      "source": [
        "# 【問題2】TF-IDFの計算\n",
        "\n",
        "IMDB映画レビューデータセットをTF-IDFによりベクトル化してください。NLTKのストップワードを利用し、最大の語彙数は5000程度に設定してください。テキストクリーニングやステミングなどの前処理はこの問題では要求しません。\n",
        "\n",
        "\n",
        "TF-IDFの計算にはscikit-learnの以下のどちらかのクラスを使用してください。\n",
        "\n",
        "\n",
        "[sklearn.feature_extraction.text.TfidfVectorizer — scikit-learn 0.21.3 documentation](https://scikit-learn.org/stable/modules/generated/sklearn.feature_extraction.text.TfidfVectorizer.html)\n",
        "[sklearn.feature_extraction.text.TfidfTransformer — scikit-learn 0.21.3 documentation](https://scikit-learn.org/stable/modules/generated/sklearn.feature_extraction.text.TfidfTransformer.html)\n",
        "\n",
        "\n",
        "なお、scikit-learnでは標準的な式とは異なる式が採用されています。\n",
        "\n",
        "\n",
        "また、デフォルトではnorm=\"l2\"の引数が設定されており、各サンプルにL2正規化が行われます。norm=Noneとすることで正規化は行われなくなります。\n",
        "\n",
        "\n",
        "Term Frequency:\n",
        "\n",
        "$$tf(t,d) = n_{t,d}$$\n",
        "\n",
        "$n_{t,d}$\n",
        " : サンプルd内のトークンtの出現回数\n",
        "\n",
        "scikit-learnのTFは分母がなくなりBoWと同じ計算になります。\n",
        "\n",
        "\n",
        "Inverse Document Frequency:\n",
        "\n",
        "$$idf(t) = \\log{\\frac{1+N}{1+df(t)}}+1$$\n",
        "\n",
        "$\n",
        "N$\n",
        " : サンプル数\n",
        "\n",
        "$\n",
        "d\n",
        "f\n",
        "(\n",
        "t\n",
        ")$\n",
        " : トークンtが出現するサンプル数\n",
        "\n",
        "\n",
        "＊logの底はネイピア数e\n",
        "\n",
        "\n",
        "詳細は以下のドキュメントを確認してください。\n",
        "\n",
        "\n",
        "[5.2.3.4. Tf–idf term weighting — scikit-learn 0.21.3 documentation](https://scikit-learn.org/stable/modules/feature_extraction.html#tfidf-term-weighting)\n",
        "\n"
      ]
    },
    {
      "cell_type": "code",
      "metadata": {
        "id": "EpzFbZwQ31Fm",
        "outputId": "b8892e37-f3a7-4724-d77e-0a7928eac065",
        "colab": {
          "base_uri": "https://localhost:8080/",
          "height": 91
        }
      },
      "source": [
        "import nltk\n",
        "stop_words = nltk.download('stopwords')\n",
        "from nltk.corpus import stopwords\n",
        "stop_words = stopwords.words('english')\n",
        "print(\"stop word : {}\".format(stop_words))"
      ],
      "execution_count": 23,
      "outputs": [
        {
          "output_type": "stream",
          "text": [
            "[nltk_data] Downloading package stopwords to /root/nltk_data...\n",
            "[nltk_data]   Unzipping corpora/stopwords.zip.\n",
            "stop word : ['i', 'me', 'my', 'myself', 'we', 'our', 'ours', 'ourselves', 'you', \"you're\", \"you've\", \"you'll\", \"you'd\", 'your', 'yours', 'yourself', 'yourselves', 'he', 'him', 'his', 'himself', 'she', \"she's\", 'her', 'hers', 'herself', 'it', \"it's\", 'its', 'itself', 'they', 'them', 'their', 'theirs', 'themselves', 'what', 'which', 'who', 'whom', 'this', 'that', \"that'll\", 'these', 'those', 'am', 'is', 'are', 'was', 'were', 'be', 'been', 'being', 'have', 'has', 'had', 'having', 'do', 'does', 'did', 'doing', 'a', 'an', 'the', 'and', 'but', 'if', 'or', 'because', 'as', 'until', 'while', 'of', 'at', 'by', 'for', 'with', 'about', 'against', 'between', 'into', 'through', 'during', 'before', 'after', 'above', 'below', 'to', 'from', 'up', 'down', 'in', 'out', 'on', 'off', 'over', 'under', 'again', 'further', 'then', 'once', 'here', 'there', 'when', 'where', 'why', 'how', 'all', 'any', 'both', 'each', 'few', 'more', 'most', 'other', 'some', 'such', 'no', 'nor', 'not', 'only', 'own', 'same', 'so', 'than', 'too', 'very', 's', 't', 'can', 'will', 'just', 'don', \"don't\", 'should', \"should've\", 'now', 'd', 'll', 'm', 'o', 're', 've', 'y', 'ain', 'aren', \"aren't\", 'couldn', \"couldn't\", 'didn', \"didn't\", 'doesn', \"doesn't\", 'hadn', \"hadn't\", 'hasn', \"hasn't\", 'haven', \"haven't\", 'isn', \"isn't\", 'ma', 'mightn', \"mightn't\", 'mustn', \"mustn't\", 'needn', \"needn't\", 'shan', \"shan't\", 'shouldn', \"shouldn't\", 'wasn', \"wasn't\", 'weren', \"weren't\", 'won', \"won't\", 'wouldn', \"wouldn't\"]\n"
          ],
          "name": "stdout"
        }
      ]
    },
    {
      "cell_type": "code",
      "metadata": {
        "id": "AQRkzsvV-A9X",
        "outputId": "3e8c0008-f232-4b80-b663-8308e64f0b94",
        "colab": {
          "base_uri": "https://localhost:8080/",
          "height": 53
        }
      },
      "source": [
        "print(len(x_train))\n",
        "print(len(x_test))"
      ],
      "execution_count": 24,
      "outputs": [
        {
          "output_type": "stream",
          "text": [
            "25000\n",
            "25000\n"
          ],
          "name": "stdout"
        }
      ]
    },
    {
      "cell_type": "code",
      "metadata": {
        "id": "KiBBzD8u31Ft",
        "outputId": "b9c09fdd-5693-4729-c742-93824478bded",
        "colab": {
          "base_uri": "https://localhost:8080/",
          "height": 53
        }
      },
      "source": [
        "from sklearn.feature_extraction.text import TfidfVectorizer\n",
        "\n",
        "vectorizer = TfidfVectorizer(stop_words, max_features=5000)\n",
        "\n",
        "X_train = vectorizer.fit_transform(x_train)\n",
        "X_test = vectorizer.fit_transform(x_test)\n",
        "\n",
        "print(X_train.shape)\n",
        "print(X_test.shape)"
      ],
      "execution_count": 25,
      "outputs": [
        {
          "output_type": "stream",
          "text": [
            "(25000, 5000)\n",
            "(25000, 5000)\n"
          ],
          "name": "stdout"
        }
      ]
    },
    {
      "cell_type": "code",
      "metadata": {
        "id": "DHInXEHbAwEx",
        "outputId": "094c61f9-6f66-422e-d2b0-2a59182b694a",
        "colab": {
          "base_uri": "https://localhost:8080/",
          "height": 53
        }
      },
      "source": [
        "vectorizer2 = TfidfVectorizer(stop_words, max_features=5000, ngram_range=(2,2))\n",
        "\n",
        "X_train2 = vectorizer2.fit_transform(x_train)\n",
        "X_test2 = vectorizer2.fit_transform(x_test)\n",
        "\n",
        "print(X_train2.shape)\n",
        "print(X_test2.shape)"
      ],
      "execution_count": 26,
      "outputs": [
        {
          "output_type": "stream",
          "text": [
            "(25000, 5000)\n",
            "(25000, 5000)\n"
          ],
          "name": "stdout"
        }
      ]
    },
    {
      "cell_type": "markdown",
      "metadata": {
        "id": "q6zvr6H01Nue"
      },
      "source": [
        "# 【問題3】TF-IDFを用いた学習\n",
        "問題2で求めたベクトルを用いてIMDB映画レビューデータセットの学習・推定を行なってください。モデルは2値分類が行える任意のものを利用してください。\n",
        "\n",
        "\n",
        "ここでは精度の高さは求めませんが、最大の語彙数やストップワード、n-gramの数を変化させて影響を検証してみてください。\n",
        "\n"
      ]
    },
    {
      "cell_type": "code",
      "metadata": {
        "id": "23M_dr-l8uHJ",
        "outputId": "84e9e10e-b954-4472-a156-069ef578d6a4",
        "colab": {
          "base_uri": "https://localhost:8080/",
          "height": 35
        }
      },
      "source": [
        "from sklearn.linear_model import LogisticRegression\n",
        "from sklearn.metrics import accuracy_score\n",
        "\n",
        "lr = LogisticRegression().fit(X_train, y_train)\n",
        "y_pred = lr.predict(X_test)\n",
        "print(\"acc : {}\".format(accuracy_score(y_test, y_pred)))"
      ],
      "execution_count": 27,
      "outputs": [
        {
          "output_type": "stream",
          "text": [
            "acc : 0.60932\n"
          ],
          "name": "stdout"
        }
      ]
    },
    {
      "cell_type": "code",
      "metadata": {
        "id": "9OuihgXqAadZ",
        "outputId": "a99614a2-8363-4e91-959c-ac8f7188ddaa",
        "colab": {
          "base_uri": "https://localhost:8080/",
          "height": 35
        }
      },
      "source": [
        "lr = LogisticRegression().fit(X_train2, y_train)\n",
        "y_pred = lr.predict(X_test2)\n",
        "print(\"acc : {}\".format(accuracy_score(y_test, y_pred)))"
      ],
      "execution_count": 28,
      "outputs": [
        {
          "output_type": "stream",
          "text": [
            "acc : 0.56088\n"
          ],
          "name": "stdout"
        }
      ]
    },
    {
      "cell_type": "markdown",
      "metadata": {
        "id": "hSmThW4QBjDR"
      },
      "source": [
        "ngram_rangeが(2,2)よろデフォルトの(1,1)の方が精度が高い"
      ]
    },
    {
      "cell_type": "markdown",
      "metadata": {
        "id": "oLRTS5XM1PwP"
      },
      "source": [
        "# 【問題4】TF-IDFのスクラッチ実装\n",
        "以下の3文のTF-IDFを求められるプログラムをscikit-learnを使わずに作成してください。標準的な式と、scikit-learnの採用している式の2種類を作成してください。正規化は不要です。\n",
        "\n",
        "    This movie is SOOOO funny!!!\n",
        "    What a movie! I never\n",
        "    best movie ever!!!!! this movie"
      ]
    },
    {
      "cell_type": "code",
      "metadata": {
        "id": "_-3HF7kjJEf0"
      },
      "source": [
        "text = [\"This movie is SOOOO funny!!!\",\n",
        "\"What a movie! I never\",\n",
        "\"best movie ever!!!!! this movie\"]"
      ],
      "execution_count": 29,
      "outputs": []
    },
    {
      "cell_type": "markdown",
      "metadata": {
        "id": "vr-6TmeNOrzk"
      },
      "source": [
        "標準"
      ]
    },
    {
      "cell_type": "code",
      "metadata": {
        "id": "2FAC6MfOg0Nl"
      },
      "source": [
        "words = []\n",
        "for s in text:\n",
        "    words += s.split(' ')\n",
        "words = list(set(words))\n",
        "words.sort()"
      ],
      "execution_count": 30,
      "outputs": []
    },
    {
      "cell_type": "code",
      "metadata": {
        "id": "rgy1coLFcrXO"
      },
      "source": [
        "N = len(text)\n",
        " \n",
        "def tf(t, d):\n",
        "    return d.count(t)/len(d)\n",
        " \n",
        "def idf(t):\n",
        "    df = 0\n",
        "    for doc in text:\n",
        "        df += t in doc\n",
        "    return np.log(N/df)\n",
        " \n",
        "def tfidf(t, d):\n",
        "    return tf(t,d)* idf(t)"
      ],
      "execution_count": 31,
      "outputs": []
    },
    {
      "cell_type": "code",
      "metadata": {
        "id": "FnZ4amuYd4vf",
        "outputId": "fe4c1406-4487-4659-d922-d398d3ad6235",
        "colab": {
          "base_uri": "https://localhost:8080/",
          "height": 161
        }
      },
      "source": [
        "result = []\n",
        "for i in range(N):\n",
        "    result.append([])\n",
        "    d = text[i]\n",
        "    for j in range(len(words)):\n",
        "        t = words[j]\n",
        "        \n",
        "        result[-1].append(tf(t,d))\n",
        "        \n",
        "tf_ = pd.DataFrame(result, columns=words)\n",
        "tf_"
      ],
      "execution_count": 32,
      "outputs": [
        {
          "output_type": "execute_result",
          "data": {
            "text/html": [
              "<div>\n",
              "<style scoped>\n",
              "    .dataframe tbody tr th:only-of-type {\n",
              "        vertical-align: middle;\n",
              "    }\n",
              "\n",
              "    .dataframe tbody tr th {\n",
              "        vertical-align: top;\n",
              "    }\n",
              "\n",
              "    .dataframe thead th {\n",
              "        text-align: right;\n",
              "    }\n",
              "</style>\n",
              "<table border=\"1\" class=\"dataframe\">\n",
              "  <thead>\n",
              "    <tr style=\"text-align: right;\">\n",
              "      <th></th>\n",
              "      <th>I</th>\n",
              "      <th>SOOOO</th>\n",
              "      <th>This</th>\n",
              "      <th>What</th>\n",
              "      <th>a</th>\n",
              "      <th>best</th>\n",
              "      <th>ever!!!!!</th>\n",
              "      <th>funny!!!</th>\n",
              "      <th>is</th>\n",
              "      <th>movie</th>\n",
              "      <th>movie!</th>\n",
              "      <th>never</th>\n",
              "      <th>this</th>\n",
              "    </tr>\n",
              "  </thead>\n",
              "  <tbody>\n",
              "    <tr>\n",
              "      <th>0</th>\n",
              "      <td>0.000000</td>\n",
              "      <td>0.035714</td>\n",
              "      <td>0.035714</td>\n",
              "      <td>0.000000</td>\n",
              "      <td>0.000000</td>\n",
              "      <td>0.000000</td>\n",
              "      <td>0.000000</td>\n",
              "      <td>0.035714</td>\n",
              "      <td>0.071429</td>\n",
              "      <td>0.035714</td>\n",
              "      <td>0.000000</td>\n",
              "      <td>0.000000</td>\n",
              "      <td>0.000000</td>\n",
              "    </tr>\n",
              "    <tr>\n",
              "      <th>1</th>\n",
              "      <td>0.047619</td>\n",
              "      <td>0.000000</td>\n",
              "      <td>0.000000</td>\n",
              "      <td>0.047619</td>\n",
              "      <td>0.095238</td>\n",
              "      <td>0.000000</td>\n",
              "      <td>0.000000</td>\n",
              "      <td>0.000000</td>\n",
              "      <td>0.000000</td>\n",
              "      <td>0.047619</td>\n",
              "      <td>0.047619</td>\n",
              "      <td>0.047619</td>\n",
              "      <td>0.000000</td>\n",
              "    </tr>\n",
              "    <tr>\n",
              "      <th>2</th>\n",
              "      <td>0.000000</td>\n",
              "      <td>0.000000</td>\n",
              "      <td>0.000000</td>\n",
              "      <td>0.000000</td>\n",
              "      <td>0.000000</td>\n",
              "      <td>0.032258</td>\n",
              "      <td>0.032258</td>\n",
              "      <td>0.000000</td>\n",
              "      <td>0.032258</td>\n",
              "      <td>0.064516</td>\n",
              "      <td>0.000000</td>\n",
              "      <td>0.000000</td>\n",
              "      <td>0.032258</td>\n",
              "    </tr>\n",
              "  </tbody>\n",
              "</table>\n",
              "</div>"
            ],
            "text/plain": [
              "          I     SOOOO      This  ...    movie!     never      this\n",
              "0  0.000000  0.035714  0.035714  ...  0.000000  0.000000  0.000000\n",
              "1  0.047619  0.000000  0.000000  ...  0.047619  0.047619  0.000000\n",
              "2  0.000000  0.000000  0.000000  ...  0.000000  0.000000  0.032258\n",
              "\n",
              "[3 rows x 13 columns]"
            ]
          },
          "metadata": {
            "tags": []
          },
          "execution_count": 32
        }
      ]
    },
    {
      "cell_type": "code",
      "metadata": {
        "id": "yAs9PFrihCUv",
        "outputId": "7eba0782-1020-411c-819d-9050fead62c4",
        "colab": {
          "base_uri": "https://localhost:8080/",
          "height": 447
        }
      },
      "source": [
        "result = []\n",
        "for j in range(len(words)):\n",
        "    t = words[j]\n",
        "    result.append(idf(t))\n",
        "\n",
        "idf_ = pd.DataFrame(result, index=words, columns=[\"IDF\"])\n",
        "idf_"
      ],
      "execution_count": 33,
      "outputs": [
        {
          "output_type": "execute_result",
          "data": {
            "text/html": [
              "<div>\n",
              "<style scoped>\n",
              "    .dataframe tbody tr th:only-of-type {\n",
              "        vertical-align: middle;\n",
              "    }\n",
              "\n",
              "    .dataframe tbody tr th {\n",
              "        vertical-align: top;\n",
              "    }\n",
              "\n",
              "    .dataframe thead th {\n",
              "        text-align: right;\n",
              "    }\n",
              "</style>\n",
              "<table border=\"1\" class=\"dataframe\">\n",
              "  <thead>\n",
              "    <tr style=\"text-align: right;\">\n",
              "      <th></th>\n",
              "      <th>IDF</th>\n",
              "    </tr>\n",
              "  </thead>\n",
              "  <tbody>\n",
              "    <tr>\n",
              "      <th>I</th>\n",
              "      <td>1.098612</td>\n",
              "    </tr>\n",
              "    <tr>\n",
              "      <th>SOOOO</th>\n",
              "      <td>1.098612</td>\n",
              "    </tr>\n",
              "    <tr>\n",
              "      <th>This</th>\n",
              "      <td>1.098612</td>\n",
              "    </tr>\n",
              "    <tr>\n",
              "      <th>What</th>\n",
              "      <td>1.098612</td>\n",
              "    </tr>\n",
              "    <tr>\n",
              "      <th>a</th>\n",
              "      <td>1.098612</td>\n",
              "    </tr>\n",
              "    <tr>\n",
              "      <th>best</th>\n",
              "      <td>1.098612</td>\n",
              "    </tr>\n",
              "    <tr>\n",
              "      <th>ever!!!!!</th>\n",
              "      <td>1.098612</td>\n",
              "    </tr>\n",
              "    <tr>\n",
              "      <th>funny!!!</th>\n",
              "      <td>1.098612</td>\n",
              "    </tr>\n",
              "    <tr>\n",
              "      <th>is</th>\n",
              "      <td>0.405465</td>\n",
              "    </tr>\n",
              "    <tr>\n",
              "      <th>movie</th>\n",
              "      <td>0.000000</td>\n",
              "    </tr>\n",
              "    <tr>\n",
              "      <th>movie!</th>\n",
              "      <td>1.098612</td>\n",
              "    </tr>\n",
              "    <tr>\n",
              "      <th>never</th>\n",
              "      <td>1.098612</td>\n",
              "    </tr>\n",
              "    <tr>\n",
              "      <th>this</th>\n",
              "      <td>1.098612</td>\n",
              "    </tr>\n",
              "  </tbody>\n",
              "</table>\n",
              "</div>"
            ],
            "text/plain": [
              "                IDF\n",
              "I          1.098612\n",
              "SOOOO      1.098612\n",
              "This       1.098612\n",
              "What       1.098612\n",
              "a          1.098612\n",
              "best       1.098612\n",
              "ever!!!!!  1.098612\n",
              "funny!!!   1.098612\n",
              "is         0.405465\n",
              "movie      0.000000\n",
              "movie!     1.098612\n",
              "never      1.098612\n",
              "this       1.098612"
            ]
          },
          "metadata": {
            "tags": []
          },
          "execution_count": 33
        }
      ]
    },
    {
      "cell_type": "code",
      "metadata": {
        "id": "mqrJFjyghaIY",
        "outputId": "68987bd9-079c-4084-c6ab-0c92fca3f152",
        "colab": {
          "base_uri": "https://localhost:8080/",
          "height": 161
        }
      },
      "source": [
        "result = []\n",
        "for i in range(N):\n",
        "    result.append([])\n",
        "    d = text[i]\n",
        "    for j in range(len(words)):\n",
        "        t = words[j]\n",
        "        \n",
        "        result[-1].append(tfidf(t,d))\n",
        "\n",
        "tfidf_ = pd.DataFrame(result, columns=words)\n",
        "tfidf_"
      ],
      "execution_count": 34,
      "outputs": [
        {
          "output_type": "execute_result",
          "data": {
            "text/html": [
              "<div>\n",
              "<style scoped>\n",
              "    .dataframe tbody tr th:only-of-type {\n",
              "        vertical-align: middle;\n",
              "    }\n",
              "\n",
              "    .dataframe tbody tr th {\n",
              "        vertical-align: top;\n",
              "    }\n",
              "\n",
              "    .dataframe thead th {\n",
              "        text-align: right;\n",
              "    }\n",
              "</style>\n",
              "<table border=\"1\" class=\"dataframe\">\n",
              "  <thead>\n",
              "    <tr style=\"text-align: right;\">\n",
              "      <th></th>\n",
              "      <th>I</th>\n",
              "      <th>SOOOO</th>\n",
              "      <th>This</th>\n",
              "      <th>What</th>\n",
              "      <th>a</th>\n",
              "      <th>best</th>\n",
              "      <th>ever!!!!!</th>\n",
              "      <th>funny!!!</th>\n",
              "      <th>is</th>\n",
              "      <th>movie</th>\n",
              "      <th>movie!</th>\n",
              "      <th>never</th>\n",
              "      <th>this</th>\n",
              "    </tr>\n",
              "  </thead>\n",
              "  <tbody>\n",
              "    <tr>\n",
              "      <th>0</th>\n",
              "      <td>0.000000</td>\n",
              "      <td>0.039236</td>\n",
              "      <td>0.039236</td>\n",
              "      <td>0.000000</td>\n",
              "      <td>0.00000</td>\n",
              "      <td>0.000000</td>\n",
              "      <td>0.000000</td>\n",
              "      <td>0.039236</td>\n",
              "      <td>0.028962</td>\n",
              "      <td>0.0</td>\n",
              "      <td>0.000000</td>\n",
              "      <td>0.000000</td>\n",
              "      <td>0.000000</td>\n",
              "    </tr>\n",
              "    <tr>\n",
              "      <th>1</th>\n",
              "      <td>0.052315</td>\n",
              "      <td>0.000000</td>\n",
              "      <td>0.000000</td>\n",
              "      <td>0.052315</td>\n",
              "      <td>0.10463</td>\n",
              "      <td>0.000000</td>\n",
              "      <td>0.000000</td>\n",
              "      <td>0.000000</td>\n",
              "      <td>0.000000</td>\n",
              "      <td>0.0</td>\n",
              "      <td>0.052315</td>\n",
              "      <td>0.052315</td>\n",
              "      <td>0.000000</td>\n",
              "    </tr>\n",
              "    <tr>\n",
              "      <th>2</th>\n",
              "      <td>0.000000</td>\n",
              "      <td>0.000000</td>\n",
              "      <td>0.000000</td>\n",
              "      <td>0.000000</td>\n",
              "      <td>0.00000</td>\n",
              "      <td>0.035439</td>\n",
              "      <td>0.035439</td>\n",
              "      <td>0.000000</td>\n",
              "      <td>0.013080</td>\n",
              "      <td>0.0</td>\n",
              "      <td>0.000000</td>\n",
              "      <td>0.000000</td>\n",
              "      <td>0.035439</td>\n",
              "    </tr>\n",
              "  </tbody>\n",
              "</table>\n",
              "</div>"
            ],
            "text/plain": [
              "          I     SOOOO      This      What  ...  movie    movie!     never      this\n",
              "0  0.000000  0.039236  0.039236  0.000000  ...    0.0  0.000000  0.000000  0.000000\n",
              "1  0.052315  0.000000  0.000000  0.052315  ...    0.0  0.052315  0.052315  0.000000\n",
              "2  0.000000  0.000000  0.000000  0.000000  ...    0.0  0.000000  0.000000  0.035439\n",
              "\n",
              "[3 rows x 13 columns]"
            ]
          },
          "metadata": {
            "tags": []
          },
          "execution_count": 34
        }
      ]
    },
    {
      "cell_type": "markdown",
      "metadata": {
        "id": "e7yz2HDCOwRN"
      },
      "source": [
        "採用"
      ]
    },
    {
      "cell_type": "code",
      "metadata": {
        "id": "PtZ9LwVemvc6"
      },
      "source": [
        "N = len(text)\n",
        " \n",
        "def tf(t, d):\n",
        "    return d.count(t)\n",
        " \n",
        "def idf(t):\n",
        "    df = 0\n",
        "    for doc in text:\n",
        "        df += t in doc\n",
        "    return np.log(N + 1/df + 1)+1\n",
        " \n",
        "def tfidf(t, d):\n",
        "    return tf(t,d)* idf(t)"
      ],
      "execution_count": 35,
      "outputs": []
    },
    {
      "cell_type": "code",
      "metadata": {
        "id": "oEc3crbKnYb7",
        "outputId": "dc1211ef-cdcb-4360-9053-3531b9d44302",
        "colab": {
          "base_uri": "https://localhost:8080/",
          "height": 141
        }
      },
      "source": [
        "result = []\n",
        "for i in range(N):\n",
        "    result.append([])\n",
        "    d = text[i]\n",
        "    for j in range(len(words)):\n",
        "        t = words[j]\n",
        "        \n",
        "        result[-1].append(tf(t,d))\n",
        "        \n",
        "tf_ = pd.DataFrame(result, columns=words)\n",
        "tf_"
      ],
      "execution_count": 36,
      "outputs": [
        {
          "output_type": "execute_result",
          "data": {
            "text/html": [
              "<div>\n",
              "<style scoped>\n",
              "    .dataframe tbody tr th:only-of-type {\n",
              "        vertical-align: middle;\n",
              "    }\n",
              "\n",
              "    .dataframe tbody tr th {\n",
              "        vertical-align: top;\n",
              "    }\n",
              "\n",
              "    .dataframe thead th {\n",
              "        text-align: right;\n",
              "    }\n",
              "</style>\n",
              "<table border=\"1\" class=\"dataframe\">\n",
              "  <thead>\n",
              "    <tr style=\"text-align: right;\">\n",
              "      <th></th>\n",
              "      <th>I</th>\n",
              "      <th>SOOOO</th>\n",
              "      <th>This</th>\n",
              "      <th>What</th>\n",
              "      <th>a</th>\n",
              "      <th>best</th>\n",
              "      <th>ever!!!!!</th>\n",
              "      <th>funny!!!</th>\n",
              "      <th>is</th>\n",
              "      <th>movie</th>\n",
              "      <th>movie!</th>\n",
              "      <th>never</th>\n",
              "      <th>this</th>\n",
              "    </tr>\n",
              "  </thead>\n",
              "  <tbody>\n",
              "    <tr>\n",
              "      <th>0</th>\n",
              "      <td>0</td>\n",
              "      <td>1</td>\n",
              "      <td>1</td>\n",
              "      <td>0</td>\n",
              "      <td>0</td>\n",
              "      <td>0</td>\n",
              "      <td>0</td>\n",
              "      <td>1</td>\n",
              "      <td>2</td>\n",
              "      <td>1</td>\n",
              "      <td>0</td>\n",
              "      <td>0</td>\n",
              "      <td>0</td>\n",
              "    </tr>\n",
              "    <tr>\n",
              "      <th>1</th>\n",
              "      <td>1</td>\n",
              "      <td>0</td>\n",
              "      <td>0</td>\n",
              "      <td>1</td>\n",
              "      <td>2</td>\n",
              "      <td>0</td>\n",
              "      <td>0</td>\n",
              "      <td>0</td>\n",
              "      <td>0</td>\n",
              "      <td>1</td>\n",
              "      <td>1</td>\n",
              "      <td>1</td>\n",
              "      <td>0</td>\n",
              "    </tr>\n",
              "    <tr>\n",
              "      <th>2</th>\n",
              "      <td>0</td>\n",
              "      <td>0</td>\n",
              "      <td>0</td>\n",
              "      <td>0</td>\n",
              "      <td>0</td>\n",
              "      <td>1</td>\n",
              "      <td>1</td>\n",
              "      <td>0</td>\n",
              "      <td>1</td>\n",
              "      <td>2</td>\n",
              "      <td>0</td>\n",
              "      <td>0</td>\n",
              "      <td>1</td>\n",
              "    </tr>\n",
              "  </tbody>\n",
              "</table>\n",
              "</div>"
            ],
            "text/plain": [
              "   I  SOOOO  This  What  a  best  ...  funny!!!  is  movie  movie!  never  this\n",
              "0  0      1     1     0  0     0  ...         1   2      1       0      0     0\n",
              "1  1      0     0     1  2     0  ...         0   0      1       1      1     0\n",
              "2  0      0     0     0  0     1  ...         0   1      2       0      0     1\n",
              "\n",
              "[3 rows x 13 columns]"
            ]
          },
          "metadata": {
            "tags": []
          },
          "execution_count": 36
        }
      ]
    },
    {
      "cell_type": "code",
      "metadata": {
        "id": "oTMaVwXLnbxy",
        "outputId": "b0a78775-958d-411e-def1-c92b0d382548",
        "colab": {
          "base_uri": "https://localhost:8080/",
          "height": 447
        }
      },
      "source": [
        "result = []\n",
        "for j in range(len(words)):\n",
        "    t = words[j]\n",
        "    result.append(idf(t))\n",
        "\n",
        "idf_ = pd.DataFrame(result, index=words, columns=[\"IDF\"])\n",
        "idf_"
      ],
      "execution_count": 37,
      "outputs": [
        {
          "output_type": "execute_result",
          "data": {
            "text/html": [
              "<div>\n",
              "<style scoped>\n",
              "    .dataframe tbody tr th:only-of-type {\n",
              "        vertical-align: middle;\n",
              "    }\n",
              "\n",
              "    .dataframe tbody tr th {\n",
              "        vertical-align: top;\n",
              "    }\n",
              "\n",
              "    .dataframe thead th {\n",
              "        text-align: right;\n",
              "    }\n",
              "</style>\n",
              "<table border=\"1\" class=\"dataframe\">\n",
              "  <thead>\n",
              "    <tr style=\"text-align: right;\">\n",
              "      <th></th>\n",
              "      <th>IDF</th>\n",
              "    </tr>\n",
              "  </thead>\n",
              "  <tbody>\n",
              "    <tr>\n",
              "      <th>I</th>\n",
              "      <td>2.609438</td>\n",
              "    </tr>\n",
              "    <tr>\n",
              "      <th>SOOOO</th>\n",
              "      <td>2.609438</td>\n",
              "    </tr>\n",
              "    <tr>\n",
              "      <th>This</th>\n",
              "      <td>2.609438</td>\n",
              "    </tr>\n",
              "    <tr>\n",
              "      <th>What</th>\n",
              "      <td>2.609438</td>\n",
              "    </tr>\n",
              "    <tr>\n",
              "      <th>a</th>\n",
              "      <td>2.609438</td>\n",
              "    </tr>\n",
              "    <tr>\n",
              "      <th>best</th>\n",
              "      <td>2.609438</td>\n",
              "    </tr>\n",
              "    <tr>\n",
              "      <th>ever!!!!!</th>\n",
              "      <td>2.609438</td>\n",
              "    </tr>\n",
              "    <tr>\n",
              "      <th>funny!!!</th>\n",
              "      <td>2.609438</td>\n",
              "    </tr>\n",
              "    <tr>\n",
              "      <th>is</th>\n",
              "      <td>2.504077</td>\n",
              "    </tr>\n",
              "    <tr>\n",
              "      <th>movie</th>\n",
              "      <td>2.466337</td>\n",
              "    </tr>\n",
              "    <tr>\n",
              "      <th>movie!</th>\n",
              "      <td>2.609438</td>\n",
              "    </tr>\n",
              "    <tr>\n",
              "      <th>never</th>\n",
              "      <td>2.609438</td>\n",
              "    </tr>\n",
              "    <tr>\n",
              "      <th>this</th>\n",
              "      <td>2.609438</td>\n",
              "    </tr>\n",
              "  </tbody>\n",
              "</table>\n",
              "</div>"
            ],
            "text/plain": [
              "                IDF\n",
              "I          2.609438\n",
              "SOOOO      2.609438\n",
              "This       2.609438\n",
              "What       2.609438\n",
              "a          2.609438\n",
              "best       2.609438\n",
              "ever!!!!!  2.609438\n",
              "funny!!!   2.609438\n",
              "is         2.504077\n",
              "movie      2.466337\n",
              "movie!     2.609438\n",
              "never      2.609438\n",
              "this       2.609438"
            ]
          },
          "metadata": {
            "tags": []
          },
          "execution_count": 37
        }
      ]
    },
    {
      "cell_type": "code",
      "metadata": {
        "id": "HMNQGpY0nfqq",
        "outputId": "c3a9ba4e-1e29-4606-a1a6-c20cb109151c",
        "colab": {
          "base_uri": "https://localhost:8080/",
          "height": 161
        }
      },
      "source": [
        "result = []\n",
        "for i in range(N):\n",
        "    result.append([])\n",
        "    d = text[i]\n",
        "    for j in range(len(words)):\n",
        "        t = words[j]\n",
        "        \n",
        "        result[-1].append(tfidf(t,d))\n",
        "\n",
        "tfidf_ = pd.DataFrame(result, columns=words)\n",
        "tfidf_"
      ],
      "execution_count": 38,
      "outputs": [
        {
          "output_type": "execute_result",
          "data": {
            "text/html": [
              "<div>\n",
              "<style scoped>\n",
              "    .dataframe tbody tr th:only-of-type {\n",
              "        vertical-align: middle;\n",
              "    }\n",
              "\n",
              "    .dataframe tbody tr th {\n",
              "        vertical-align: top;\n",
              "    }\n",
              "\n",
              "    .dataframe thead th {\n",
              "        text-align: right;\n",
              "    }\n",
              "</style>\n",
              "<table border=\"1\" class=\"dataframe\">\n",
              "  <thead>\n",
              "    <tr style=\"text-align: right;\">\n",
              "      <th></th>\n",
              "      <th>I</th>\n",
              "      <th>SOOOO</th>\n",
              "      <th>This</th>\n",
              "      <th>What</th>\n",
              "      <th>a</th>\n",
              "      <th>best</th>\n",
              "      <th>ever!!!!!</th>\n",
              "      <th>funny!!!</th>\n",
              "      <th>is</th>\n",
              "      <th>movie</th>\n",
              "      <th>movie!</th>\n",
              "      <th>never</th>\n",
              "      <th>this</th>\n",
              "    </tr>\n",
              "  </thead>\n",
              "  <tbody>\n",
              "    <tr>\n",
              "      <th>0</th>\n",
              "      <td>0.000000</td>\n",
              "      <td>2.609438</td>\n",
              "      <td>2.609438</td>\n",
              "      <td>0.000000</td>\n",
              "      <td>0.000000</td>\n",
              "      <td>0.000000</td>\n",
              "      <td>0.000000</td>\n",
              "      <td>2.609438</td>\n",
              "      <td>5.008155</td>\n",
              "      <td>2.466337</td>\n",
              "      <td>0.000000</td>\n",
              "      <td>0.000000</td>\n",
              "      <td>0.000000</td>\n",
              "    </tr>\n",
              "    <tr>\n",
              "      <th>1</th>\n",
              "      <td>2.609438</td>\n",
              "      <td>0.000000</td>\n",
              "      <td>0.000000</td>\n",
              "      <td>2.609438</td>\n",
              "      <td>5.218876</td>\n",
              "      <td>0.000000</td>\n",
              "      <td>0.000000</td>\n",
              "      <td>0.000000</td>\n",
              "      <td>0.000000</td>\n",
              "      <td>2.466337</td>\n",
              "      <td>2.609438</td>\n",
              "      <td>2.609438</td>\n",
              "      <td>0.000000</td>\n",
              "    </tr>\n",
              "    <tr>\n",
              "      <th>2</th>\n",
              "      <td>0.000000</td>\n",
              "      <td>0.000000</td>\n",
              "      <td>0.000000</td>\n",
              "      <td>0.000000</td>\n",
              "      <td>0.000000</td>\n",
              "      <td>2.609438</td>\n",
              "      <td>2.609438</td>\n",
              "      <td>0.000000</td>\n",
              "      <td>2.504077</td>\n",
              "      <td>4.932674</td>\n",
              "      <td>0.000000</td>\n",
              "      <td>0.000000</td>\n",
              "      <td>2.609438</td>\n",
              "    </tr>\n",
              "  </tbody>\n",
              "</table>\n",
              "</div>"
            ],
            "text/plain": [
              "          I     SOOOO      This  ...    movie!     never      this\n",
              "0  0.000000  2.609438  2.609438  ...  0.000000  0.000000  0.000000\n",
              "1  2.609438  0.000000  0.000000  ...  2.609438  2.609438  0.000000\n",
              "2  0.000000  0.000000  0.000000  ...  0.000000  0.000000  2.609438\n",
              "\n",
              "[3 rows x 13 columns]"
            ]
          },
          "metadata": {
            "tags": []
          },
          "execution_count": 38
        }
      ]
    },
    {
      "cell_type": "markdown",
      "metadata": {
        "id": "fFD34Ykp1SsI"
      },
      "source": [
        "## Word2Vec\n",
        "\n",
        "ニューラルネットワークを用いてベクトル化を行う手法が Word2Vec です。\n",
        "\n",
        "\n",
        "BoWやTF-IDFはone-hot表現であったため、得られるベクトルの次元は語彙数分になります。そのため、語彙数を増やしにくいという問題があります。一方で、Word2Vecでは単語を任意の次元のベクトルに変換します。これをを Word Embedding（単語埋め込み） や 分散表現 と呼びます。変換操作を「ベクトル空間に埋め込む」と言うことが多いです。\n",
        "\n",
        "\n",
        "Word2VecにはCBoWとSkip-gramという2種類の仕組みがあるため順番に見ていきます。"
      ]
    },
    {
      "cell_type": "markdown",
      "metadata": {
        "id": "mD_TKls21Wr_"
      },
      "source": [
        "## CBoW\n",
        "CBoW (Continuous Bag-of-Words) によるWord2Vecではある単語とある単語の間に来る単語を推定できるように全結合層2層のニューラルネットワークを学習します。\n",
        "\n",
        "\n",
        "単語はコーパスの語彙数次元のone-hot表現を行なっておきます。そのため、入力と出力の次元は語彙数と同じになります。一方で、中間のノード数をWord2Vecにより得たい任意の次元数とします。これにより全結合層の重みは「得たい次元のノード数×語彙数」になります。このネットワークにより学習を行なった後、出力側の重みを取り出すことで、各語彙を表すベクトルを手に入れることができます。\n",
        "\n",
        "\n",
        "間の単語の推定を行なっているため、同じ箇所で代替可能な言葉は似たベクトルになるというメリットもあります。これはBoWやTF-IDFでは得られない情報です。\n",
        "\n",
        "\n",
        "あるテキストは「そのテキストの長さ（単語数）×Word2Vecで得た分散表現の次元数」の配列になりますが、各入力の配列を揃える必要があるモデルに入力するためには、短いテキストは空白を表す単語を加える パディング を行なったり、長いテキストは単語を消したりします。テキストを 固定長 にすると呼びます。\n",
        "\n"
      ]
    },
    {
      "cell_type": "markdown",
      "metadata": {
        "id": "wRaSWIMY1Yvy"
      },
      "source": [
        "## ウィンドウサイズ\n",
        "入力する単語は推定する前後1つずつだけでなく、複数個とする場合もあります。前後いくつを見るかの大きさを ウィンドウサイズ と呼びます。"
      ]
    },
    {
      "cell_type": "markdown",
      "metadata": {
        "id": "6iZuASou1bQ1"
      },
      "source": [
        "## Skip-gram\n",
        "CBoWとは逆にある単語の前後の単語を推定できるように全結合層2層のニューラルネットワークを学習する方法が Skip-gram です。学習を行なった後は入力側の重みを取り出し各語彙を表すベクトルとします。現在一般的に使われているのはCBoWよりもSki-gramです。"
      ]
    },
    {
      "cell_type": "markdown",
      "metadata": {
        "id": "H6OwRoAR1dj_"
      },
      "source": [
        "## 利用方法\n",
        "Pythonでは Gensim ライブラリを用いて扱うことができます。\n",
        "\n",
        "\n",
        "gensim: models.word2vec – Word2vec embeddings\n",
        "\n",
        "\n",
        "BoWの例と同じ文章で学習してみます。CountVectorizerと異なり前処理を自動的に行なってはくれないため、単語（トークン）はリストで分割しておきます。また、大文字は小文字に揃え、記号は取り除きます。\n",
        "\n",
        "\n",
        "デフォルトのパラメータではCBoWで計算されます。また、ウィンドウサイズはwindow=5に設定されています。\n",
        "\n",
        "    from gensim.models import Word2Vec\n",
        "    sentences = [['this', 'movie', 'is', 'very', 'good'], ['this', 'film', 'is', 'a', 'good'], ['very', 'bad', 'very', 'very', 'bad']]\n",
        "    model = Word2Vec(min_count=1, size=10) # 次元数を10に設定\n",
        "    model.build_vocab(sentences) # 準備\n",
        "    model.train(sentences, total_examples=model.corpus_count, epochs=model.iter) # 学習\n",
        "    print(\"語彙の一覧 : {}\".format(model.wv.vocab.keys()))\n",
        "    for vocab in model.wv.vocab.keys():\n",
        "    print(\"{}のベクトル : \\n{}\".format(vocab, model.wv[vocab]))\n",
        "\n",
        "このようにしてベクトルが得られます。"
      ]
    },
    {
      "cell_type": "markdown",
      "metadata": {
        "id": "EgwyTz-Y1jqG"
      },
      "source": [
        "## 単語の距離\n",
        "ベクトル間で計算を行うことで、ある単語に似たベクトルを持つ単語を見つけることができます。例えばgoodに似たベクトルの単語を3つ探します。\n",
        "\n",
        "    model.wv.most_similar(positive=\"good\", topn=3)\n",
        "\n",
        "今の例では3文しか学習していませんので効果を発揮しませんが、大きなコーパスで学習することで、並列関係のものが近くに来たりなど面白い結果が得られます。"
      ]
    },
    {
      "cell_type": "markdown",
      "metadata": {
        "id": "SZjQSi2B1qfH"
      },
      "source": [
        "## 可視化\n",
        "2次元に圧縮することで単語ごとの位置関係を可視化することができます。以下はt-SNEを用いた例です\n",
        "\n",
        "    from sklearn.manifold import TSNE\n",
        "    import matplotlib.pyplot as plt\n",
        "    vocabs = model.wv.vocab.keys()\n",
        "    tsne_model = TSNE(perplexity=40, n_components=2, init=\"pca\", n_iter=5000, random_state=23)\n",
        "    vectors_tsne = tsne_model.fit_transform(model[vocabs])\n",
        "    fig, ax = plt.subplots(figsize=(5,5))\n",
        "    ax.scatter(vectors_tsne[:, 0], vectors_tsne[:, 1])\n",
        "    for i, word in enumerate(list(vocabs)):\n",
        "        plt.annotate(word, xy=(vectors_tsne[i, 0], vectors_tsne[i, 1]))\n",
        "    ax.set_yticklabels([])\n",
        "    ax.set_xticklabels([])\n",
        "    plt.show()"
      ]
    },
    {
      "cell_type": "markdown",
      "metadata": {
        "id": "04ioXtGm10-r"
      },
      "source": [
        "## IMDB映画レビューデータセットの分散表現\n",
        "\n",
        "IMDB映画レビューデータセットの訓練データをコーパスとしてWord2Vecを学習させ分散表現を獲得しましょう。\n",
        "\n"
      ]
    },
    {
      "cell_type": "markdown",
      "metadata": {
        "id": "WcOCmEQy12f_"
      },
      "source": [
        "# 【問題5】コーパスの前処理\n",
        "\n",
        "\n",
        "コーパスの前処理として、特殊文字（!など）やURLの除去、大文字の小文字化といったことを行なってください。また、単語（トークン）はリストで分割してください。"
      ]
    },
    {
      "cell_type": "code",
      "metadata": {
        "id": "1pNtLCMgrqMt"
      },
      "source": [
        "import re \n",
        "\n",
        "word2 = []\n",
        "\n",
        "for i in range(len(x_train)):\n",
        "    x = x_train[i].lower()\n",
        "    x = x_train[i].replace(\"!\",\"\").strip()\n",
        "    x = x_train[i].replace(\"?\",\"\").strip()\n",
        "    x = x_train[i].replace(\"<br />\", \"\").strip()\n",
        "    x = re.sub(r\"https?://[\\w/:%#\\$&\\?\\(\\)~\\.=\\+\\-]+\", \"\", x)\n",
        "    x = x_train[i].split()\n",
        "    word2.append(x)"
      ],
      "execution_count": 83,
      "outputs": []
    },
    {
      "cell_type": "code",
      "metadata": {
        "id": "s_iV-k5T7oHW"
      },
      "source": [
        "word2"
      ],
      "execution_count": null,
      "outputs": []
    },
    {
      "cell_type": "markdown",
      "metadata": {
        "id": "sc2w1qOa16Dp"
      },
      "source": [
        "# 【問題6】Word2Vecの学習\n",
        "Word2Vecの学習を行なってください。\n",
        "\n"
      ]
    },
    {
      "cell_type": "code",
      "metadata": {
        "id": "yj37goixrp67",
        "outputId": "0fab7a31-418d-4554-fdda-e3cfd5e6f6f7",
        "colab": {
          "base_uri": "https://localhost:8080/",
          "height": 55
        }
      },
      "source": [
        "from gensim.models import Word2Vec\n",
        "sentences = word2\n",
        "model = Word2Vec(min_count=2, size=10) # 次元数を10に設定\n",
        "model.build_vocab(sentences) # 準備\n",
        "model.train(sentences, total_examples=model.corpus_count, epochs=5) # 学習\n",
        "print(\"語彙の一覧 : {}\".format(model.wv.vocab.keys()))"
      ],
      "execution_count": 102,
      "outputs": [
        {
          "output_type": "stream",
          "text": [
            "語彙の一覧 : dict_keys(['the', 'film', 'by', 'Burton,', 'who', 'to', 'be', 'with', 'he', 'is', 'first', 'of', 'many', 'this', 'kind', 'movie', 'something', 'out', 'his', 'or', 'it', 'and', 'so', 'Very', 'poor', 'in', \"Burton's\", 'a', 'there', 'also', '\"Sleepy', 'Hollow\",', 'will', 'have', 'as', 'I', 'films.', 'that', 'was', 'think', 'possible', 'might', 'had', \"couldn't\", 'comedy', 'horror', 'you', 'are', 'fans', 'because', 'style', 'like'])\n"
          ],
          "name": "stdout"
        }
      ]
    },
    {
      "cell_type": "markdown",
      "metadata": {
        "id": "aKgZW39T18Oe"
      },
      "source": [
        "# 【問題7】（アドバンス課題）ベクトルの可視化\n",
        "得られたベクトルをt-SNEにより可視化してください。また、いくつかの単語を選びwv.most_similarを用いて似ている単語を調べてください。"
      ]
    },
    {
      "cell_type": "code",
      "metadata": {
        "id": "jqowYvGIGKvB",
        "outputId": "30048037-eda1-49a7-bd56-89ccdc3648ae",
        "colab": {
          "base_uri": "https://localhost:8080/",
          "height": 127
        }
      },
      "source": [
        "model.wv.most_similar(positive=\"movie\", topn=3)"
      ],
      "execution_count": 99,
      "outputs": [
        {
          "output_type": "stream",
          "text": [
            "/usr/local/lib/python3.6/dist-packages/gensim/matutils.py:737: FutureWarning: Conversion of the second argument of issubdtype from `int` to `np.signedinteger` is deprecated. In future, it will be treated as `np.int64 == np.dtype(int).type`.\n",
            "  if np.issubdtype(vec.dtype, np.int):\n"
          ],
          "name": "stderr"
        },
        {
          "output_type": "execute_result",
          "data": {
            "text/plain": [
              "[('there', 0.796515166759491),\n",
              " ('aspects', 0.669583797454834),\n",
              " ('peice', 0.6140655279159546)]"
            ]
          },
          "metadata": {
            "tags": []
          },
          "execution_count": 99
        }
      ]
    },
    {
      "cell_type": "code",
      "metadata": {
        "id": "J8r_x_8gHV3f",
        "outputId": "cbed52d3-5ec9-43f7-8a01-9756a5260f85",
        "colab": {
          "base_uri": "https://localhost:8080/",
          "height": 127
        }
      },
      "source": [
        "model.wv.most_similar(positive=\"you\", topn=3)"
      ],
      "execution_count": 103,
      "outputs": [
        {
          "output_type": "stream",
          "text": [
            "/usr/local/lib/python3.6/dist-packages/gensim/matutils.py:737: FutureWarning: Conversion of the second argument of issubdtype from `int` to `np.signedinteger` is deprecated. In future, it will be treated as `np.int64 == np.dtype(int).type`.\n",
            "  if np.issubdtype(vec.dtype, np.int):\n"
          ],
          "name": "stderr"
        },
        {
          "output_type": "execute_result",
          "data": {
            "text/plain": [
              "[('\"Sleepy', 0.659555196762085),\n",
              " ('because', 0.5875020027160645),\n",
              " ('who', 0.5787420272827148)]"
            ]
          },
          "metadata": {
            "tags": []
          },
          "execution_count": 103
        }
      ]
    },
    {
      "cell_type": "code",
      "metadata": {
        "id": "2T06uxQqDyv3",
        "outputId": "0b51c7a2-b259-4d60-bb72-91fe996f6787",
        "colab": {
          "base_uri": "https://localhost:8080/",
          "height": 362
        }
      },
      "source": [
        "from sklearn.manifold import TSNE\n",
        "import matplotlib.pyplot as plt\n",
        "vocabs = model.wv.vocab.keys()\n",
        "tsne_model = TSNE(perplexity=40, n_components=2, init=\"pca\", n_iter=5000, random_state=23)\n",
        "vectors_tsne = tsne_model.fit_transform(model[vocabs])\n",
        "fig, ax = plt.subplots(figsize=(5,5))\n",
        "ax.scatter(vectors_tsne[:, 0], vectors_tsne[:, 1])\n",
        "for i, word in enumerate(list(vocabs)):\n",
        "    plt.annotate(word, xy=(vectors_tsne[i, 0], vectors_tsne[i, 1]))\n",
        "ax.set_yticklabels([])\n",
        "ax.set_xticklabels([])\n",
        "plt.show()"
      ],
      "execution_count": 104,
      "outputs": [
        {
          "output_type": "stream",
          "text": [
            "/usr/local/lib/python3.6/dist-packages/ipykernel_launcher.py:5: DeprecationWarning: Call to deprecated `__getitem__` (Method will be removed in 4.0.0, use self.wv.__getitem__() instead).\n",
            "  \"\"\"\n"
          ],
          "name": "stderr"
        },
        {
          "output_type": "display_data",
          "data": {
            "image/png": "[encoded data removed]",
            "text/plain": [
              "<Figure size 360x360 with 1 Axes>"
            ]
          },
          "metadata": {
            "tags": [],
            "needs_background": "light"
          }
        }
      ]
    },
    {
      "cell_type": "markdown",
      "metadata": {
        "id": "BNkD6eQb1-Jh"
      },
      "source": [
        "## 学習済みベクトル\n",
        "巨大なコーパスで学習して得たベクトルも公開されているため、自分で学習をせずに利用することもできます。オリジナルのWord2Vecの他に同じ作者の発展系である FastText やスタンフォード大の GloVe があり、それぞれ公開されています。\n",
        "\n"
      ]
    },
    {
      "cell_type": "markdown",
      "metadata": {
        "id": "va6zREfk1_15"
      },
      "source": [
        "# 【問題8】（アドバンス課題）Word2Vecを用いた映画レビューの分類\n",
        "問題6で学習して得たベクトルや公開されている学習済みベクトルを用いてIMDB映画レビューデータセットの感情分類の学習・推定を行なってください。"
      ]
    },
    {
      "cell_type": "code",
      "metadata": {
        "id": "hAqC56dBz8ws"
      },
      "source": [
        ""
      ],
      "execution_count": 39,
      "outputs": []
    }
  ]
}