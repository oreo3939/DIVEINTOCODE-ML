{
 "cells": [
  {
   "cell_type": "markdown",
   "metadata": {},
   "source": [
    "# 1次元の畳み込みニューラルネットワークスクラッチ\n",
    "\n",
    "畳み込みニューラルネットワーク（CNN） のクラスをスクラッチで作成していきます。NumPyなど最低限のライブラリのみを使いアルゴリズムを実装していきます。\n",
    "\n",
    "\n",
    "このSprintでは1次元の 畳み込み層 を作成し、畳み込みの基礎を理解することを目指します。次のSprintでは2次元畳み込み層とプーリング層を作成することで、一般的に画像に対して利用されるCNNを完成させます。\n",
    "\n",
    "\n",
    "クラスの名前はScratch1dCNNClassifierとしてください。クラスの構造などは前のSprintで作成したScratchDeepNeuralNetrowkClassifierを参考にしてください。"
   ]
  },
  {
   "cell_type": "markdown",
   "metadata": {},
   "source": [
    "## 1次元畳み込み層とは\n",
    "\n",
    "CNNでは画像に対しての2次元畳み込み層が定番ですが、ここでは理解しやすくするためにまずは1次元畳み込み層を実装します。1次元畳み込みは実用上は自然言語や波形データなどの 系列データ で使われることが多いです。\n",
    "\n",
    "\n",
    "畳み込みは任意の次元に対して考えることができ、立体データに対しての3次元畳み込みまではフレームワークで一般的に用意されています。"
   ]
  },
  {
   "cell_type": "code",
   "execution_count": 167,
   "metadata": {},
   "outputs": [],
   "source": [
    "from keras.datasets import mnist\n",
    "import matplotlib.pyplot as plt\n",
    "%matplotlib inline\n",
    "import numpy as np\n",
    "from sklearn.preprocessing import OneHotEncoder\n",
    "from sklearn.model_selection import train_test_split\n",
    "from sklearn.metrics import accuracy_score, precision_score, recall_score, f1_score"
   ]
  },
  {
   "cell_type": "markdown",
   "metadata": {},
   "source": [
    "## データセットの用意\n",
    "\n",
    "検証には引き続きMNISTデータセットを使用します。1次元畳み込みでは全結合のニューラルネットワークと同様に平滑化されたものを入力します。"
   ]
  },
  {
   "cell_type": "code",
   "execution_count": 168,
   "metadata": {},
   "outputs": [],
   "source": [
    "(X_train, y_train), (X_test, y_test) = mnist.load_data()"
   ]
  },
  {
   "cell_type": "code",
   "execution_count": 169,
   "metadata": {},
   "outputs": [],
   "source": [
    "X_train = X_train.reshape(-1, 1, 784)\n",
    "X_test = X_test.reshape(-1, 1, 784)"
   ]
  },
  {
   "cell_type": "code",
   "execution_count": 170,
   "metadata": {},
   "outputs": [
    {
     "name": "stdout",
     "output_type": "stream",
     "text": [
      "(480, 1, 784)\n",
      "(480,)\n",
      "(120, 1, 784)\n",
      "(120,)\n"
     ]
    }
   ],
   "source": [
    "X_train = X_train[:480]\n",
    "y_train = y_train[:480]\n",
    "X_test = X_test[:120]\n",
    "y_test = y_test[:120]\n",
    "\n",
    "print(X_train.shape)\n",
    "print(y_train.shape)\n",
    "print(X_test.shape)\n",
    "print(y_test.shape)"
   ]
  },
  {
   "cell_type": "code",
   "execution_count": 171,
   "metadata": {},
   "outputs": [
    {
     "name": "stdout",
     "output_type": "stream",
     "text": [
      "1.0\n",
      "0.0\n"
     ]
    }
   ],
   "source": [
    "X_train = X_train.astype(np.float)\n",
    "X_test = X_test.astype(np.float)\n",
    "X_train /= 255\n",
    "X_test /= 255\n",
    "print(X_train.max()) # 1.0\n",
    "print(X_train.min()) # 0.0"
   ]
  },
  {
   "cell_type": "code",
   "execution_count": 172,
   "metadata": {},
   "outputs": [
    {
     "name": "stdout",
     "output_type": "stream",
     "text": [
      "(384, 1, 784)\n",
      "(96, 1, 784)\n"
     ]
    }
   ],
   "source": [
    "X_train, X_val, y_train, y_val = train_test_split(X_train, y_train, test_size=0.2)\n",
    "print(X_train.shape) \n",
    "print(X_val.shape)"
   ]
  },
  {
   "cell_type": "markdown",
   "metadata": {},
   "source": [
    "## 【問題1】チャンネル数を1に限定した1次元畳み込み層クラスの作成\n",
    "\n",
    "チャンネル数を1に限定した1次元畳み込み層のクラスSimpleConv1dを作成してください。基本構造は前のSprintで作成した全結合層のFCクラスと同じになります。なお、重みの初期化に関するクラスは必要に応じて作り変えてください。Xavierの初期値などを使う点は全結合層と同様です。\n",
    "\n",
    "\n",
    "ここでは パディング は考えず、ストライド も1に固定します。また、複数のデータを同時に処理することも考えなくて良く、バッチサイズは1のみに対応してください。この部分の拡張はアドバンス課題とします。\n",
    "\n",
    "\n",
    "フォワードプロパゲーションの数式は以下のようになります。\n",
    "\n",
    "$$a_i = \\sum_{s=0}^{F-1}x_{(i+s)}w_s+b$$\n",
    "\n",
    "$\n",
    "a\n",
    "i\n",
    "$ : 出力される配列のi番目の値\n",
    "\n",
    "$\n",
    "F\n",
    "$ : フィルタのサイズ\n",
    "\n",
    "$\n",
    "x\n",
    "(\n",
    "i\n",
    "+\n",
    "s\n",
    ")\n",
    " $: 入力の配列の(i+s)番目の値\n",
    "\n",
    "$\n",
    "w\n",
    "s\n",
    "$ : 重みの配列のs番目の値\n",
    "\n",
    "$\n",
    "b\n",
    "$ : バイアス項\n",
    "\n",
    "\n",
    "全てスカラーです。\n",
    "\n",
    "\n",
    "次に更新式です。ここがAdaGradなどに置き換えられる点は全結合層と同様です。\n",
    "\n",
    "$$w_s^{\\prime} = w_s - \\alpha \\frac{\\partial L}{\\partial w_s} \\\\\n",
    "b^{\\prime} = b - \\alpha \\frac{\\partial L}{\\partial b}$$\n",
    "\n",
    "$\n",
    "α\n",
    " $: 学習率\n",
    "\n",
    "\n",
    "$\\frac{\\partial L}{\\partial w_s}$\n",
    " : $\n",
    "w\n",
    "s\n",
    "$ に関する損失 $\n",
    "L\n",
    "$ の勾配\n",
    "\n",
    "$\\frac{\\partial L}{\\partial b}$\n",
    " : $\n",
    "b\n",
    "$ に関する損失 $\n",
    "L\n",
    "$ の勾配\n",
    "\n",
    "\n",
    "勾配 \n",
    "$\\frac{\\partial L}{\\partial w_s}$\n",
    " や \n",
    "$\\frac{\\partial L}{\\partial b}$\n",
    "\n",
    " を求めるためのバックプロパゲーションの数式が以下です\n",
    " \n",
    " \n",
    "$$\\frac{\\partial L}{\\partial w_s} = \\sum_{i=0}^{N_{out}-1} \\frac{\\partial L}{\\partial a_i}x_{(i+s)}\\\\\n",
    "\\frac{\\partial L}{\\partial b} = \\sum_{i=0}^{N_{out}-1} \\frac{\\partial L}{\\partial a_i}$$ \n",
    "\n",
    "$\\frac{\\partial L}{\\partial a_i}$\n",
    ": 勾配の配列のi番目の値\n",
    "\n",
    "$N_{out}$\n",
    ": 出力のサイズ\n",
    "\n",
    "前の層に流す誤差の数式は以下です。\n",
    "\n",
    "$$\\frac{\\partial L}{\\partial x_j} = \\sum_{s=0}^{F-1} \\frac{\\partial L}{\\partial a_{(j-s)}}w_s$$\n",
    "\n",
    "$\\frac{\\partial L}{\\partial x_j}$\n",
    ": 前の層に流す誤差の配列のj番目の値\n",
    "\n",
    "ただし、$j-s<0$ または  $j-s>N_{out}-1$  のとき $\\frac{\\partial L}{\\partial a_{(j-s)}} =0$　です。\n",
    "\n",
    "\n",
    "全結合層との大きな違いは、重みが複数の特徴量に対して共有されていることです。この場合は共有されている分の誤差を全て足すことで勾配を求めます。計算グラフ上での分岐はバックプロパゲーションの際に誤差の足し算をすれば良いことになります。\n",
    " "
   ]
  },
  {
   "cell_type": "code",
   "execution_count": 173,
   "metadata": {
    "code_folding": [
     0
    ]
   },
   "outputs": [],
   "source": [
    "# テスト\n",
    "x = np.array([1, 2, 3, 4])\n",
    "w = np.array([3, 5, 7])\n",
    "b = np.array([1])"
   ]
  },
  {
   "cell_type": "code",
   "execution_count": 187,
   "metadata": {
    "code_folding": [
     0
    ]
   },
   "outputs": [
    {
     "name": "stdout",
     "output_type": "stream",
     "text": [
      "[35 50]\n"
     ]
    }
   ],
   "source": [
    "#配列作成\n",
    "idx1 = np.arange(w.shape[0])\n",
    "idx2 = np.arange(w.shape[0] - 1).reshape(-1, 1)\n",
    "index = idx1 + idx2\n",
    "a = np.dot(x[index], w.T) + b\n",
    "print(a)\n",
    "\n",
    "# a = np.array([35, 50])"
   ]
  },
  {
   "cell_type": "code",
   "execution_count": 175,
   "metadata": {},
   "outputs": [
    {
     "data": {
      "text/plain": [
       "30"
      ]
     },
     "execution_count": 175,
     "metadata": {},
     "output_type": "execute_result"
    }
   ],
   "source": [
    "da = np.array([10, 20])\n",
    "d = np.sum(da)\n",
    "d\n",
    "\n",
    "#delta_b = np.array([30])"
   ]
  },
  {
   "cell_type": "code",
   "execution_count": 190,
   "metadata": {},
   "outputs": [
    {
     "name": "stdout",
     "output_type": "stream",
     "text": [
      "[10 20]\n",
      "[[1 2 3]\n",
      " [2 3 4]]\n"
     ]
    },
    {
     "data": {
      "text/plain": [
       "array([ 50,  80, 110])"
      ]
     },
     "execution_count": 190,
     "metadata": {},
     "output_type": "execute_result"
    }
   ],
   "source": [
    "s = np.dot(da,x[index])\n",
    "print(da)\n",
    "print(x[index])\n",
    "s\n",
    "\n",
    "#d elta_w = np.array([50, 80, 110])"
   ]
  },
  {
   "cell_type": "code",
   "execution_count": 255,
   "metadata": {
    "code_folding": [
     0
    ]
   },
   "outputs": [
    {
     "data": {
      "text/plain": [
       "array([ 30., 110., 170., 140.])"
      ]
     },
     "execution_count": 255,
     "metadata": {},
     "output_type": "execute_result"
    }
   ],
   "source": [
    "#0配列を用意\n",
    "dx = np.zeros(x.shape[0])\n",
    "\n",
    "\n",
    "for j in range(x.shape[0]):    \n",
    "    for s in range(w.shape[0]):   \n",
    "        \n",
    "        # j 0,0,0,1,1,1....\n",
    "        # s 0,1,2,0,1,2....\n",
    "        # 0未満　or １超える\n",
    "        if j - s < 0 or j - s > 1:\n",
    "            \n",
    "            # w[s] = 3,5,7,3,5,7....\n",
    "            # w[s] = 条件該当\n",
    "            dx[j] += 0 * w[s]\n",
    "\n",
    "        # その他(0,1)\n",
    "        else:\n",
    "            \n",
    "            # da[j-s]は該当値*3,5,7\n",
    "            dx[j] += da[j - s] * w[s]\n",
    "\n",
    "dx\n",
    "\n",
    "# delta_x = np.array([30, 110, 170, 140])"
   ]
  },
  {
   "cell_type": "code",
   "execution_count": 265,
   "metadata": {
    "code_folding": []
   },
   "outputs": [],
   "source": [
    "class SimpleConv1d:\n",
    "    \"\"\"\n",
    "    チャンネル数を1に限定した1次元畳み込み層クラス\n",
    "    Parameters\n",
    "    ----------\n",
    "    n_nodes1 : int\n",
    "      前の層のノード数\n",
    "    n_nodes2 : int\n",
    "      後の層のノード数\n",
    "    initializer : 初期化方法のインスタンス\n",
    "    optimizer : 最適化手法のインスタンス\n",
    "\n",
    "    \"\"\"\n",
    "    def __init__(self, n_nodes1, n_nodes2, filter_size, initializer, optimizer):\n",
    "        self.optimizer = optimizer\n",
    "        # initializerのメソッドを使い、self.Wとself.Bを初期化する\n",
    "        self.W = initializer.W(n_nodes2, n_nodes1, filter_size)\n",
    "        self.b = initializer.b(n_nodes2)\n",
    "        self.X = None\n",
    "        self.index = None\n",
    "        self.out_put = None\n",
    "        \n",
    "    \n",
    "    \n",
    "    def forward(self, X):\n",
    "        \"\"\"\n",
    "        フォワード\n",
    "        Parameters\n",
    "        ----------\n",
    "        X : 次の形のndarray, shape (batch_size, n_nodes1)\n",
    "            入力\n",
    "        Returns\n",
    "        ----------\n",
    "        out : 次の形のndarray, shape (batch_size, n_nodes2)\n",
    "            出力\n",
    "        \"\"\"        \n",
    "        # Xをコピー\n",
    "        self.X = X.copy()\n",
    "        \n",
    "        # 配列作成\n",
    "        idx1 = np.arange(self.W.shape[0])\n",
    "        idx2 = np.arange(self.W.shape[0] - 1).reshape(-1, 1)\n",
    "        self.index = idx1 + idx2\n",
    "\n",
    "        # 出力の計算\n",
    "        a = np.dot(X[idx1 + idx2], self.W.T) + self.b\n",
    "\n",
    "        return a\n",
    "    \n",
    "    \n",
    "    def backward(self, dA):\n",
    "        \"\"\"\n",
    "        バックプロバケーション\n",
    "        Parameters\n",
    "        ----------\n",
    "        dA : 次の形のndarray, shape(batch_size, n_nodes2)\n",
    "            後ろから流れてきた勾配\n",
    "            \n",
    "        Returns\n",
    "        ----------\n",
    "        dX : 次の形のndarray, shape (batch_size, n_nodes1)\n",
    "            前に流す勾配\n",
    "        \"\"\"\n",
    "        #バイアス\n",
    "        db = np.sum(dA)\n",
    "        \n",
    "        #重み\n",
    "        dW = np.dot(da, self.X[self.index])\n",
    "        \n",
    "        #0配列を用意\n",
    "        dX = np.zeros(self.X.shape[0])\n",
    "        \n",
    "        #n_out\n",
    "        self.out_put = self._out_put(self.X.shape[0], 0, self.W.shape[0], 1)\n",
    "                \n",
    "        for j in range(self.X.shape[0]):\n",
    "            for s in range(self.W.shape[0]):\n",
    "\n",
    "                if j - s < 0 or j - s > self.n_out - 1:\n",
    "                     dX[j] += 0 * self.W[s]\n",
    "                else:\n",
    "                    dX[j] += dA[j - s] * self.W[s]\n",
    "\n",
    "        \n",
    "        # 重み、バイアスの更新\n",
    "        self = self.optimizer.update(self)\n",
    "        return dX\n",
    "    \n",
    "    def _out_put(input_data, f, s, p):\n",
    "        \"\"\"\n",
    "        出力サイズ計算\n",
    "        Parameters\n",
    "        ----------\n",
    "        inp : 入力データ\n",
    "        f : フィルター\n",
    "        s : ストライド\n",
    "        p : パディング\n",
    "        ----------\n",
    "        Returns\n",
    "\n",
    "        out : 出力サイズ\n",
    "        \"\"\"\n",
    "        out = int(((inp + 2 * p - f) / s ) + 1)\n",
    "        return out"
   ]
  },
  {
   "cell_type": "markdown",
   "metadata": {},
   "source": [
    "## 【問題2】1次元畳み込み後の出力サイズの計算\n",
    "\n",
    "畳み込みを行うと特徴量の数が変化します。どのように変化するかは以下の数式から求められます。パディングやストライドも含めています。この計算を行う関数を作成してください。\n",
    "\n",
    "$$ N_{out} =  \\frac{N_{in}+2P-F}{S} + 1\\\\ $$\n",
    "\n",
    "$N_{out}$\n",
    " : 出力のサイズ（特徴量の数）\n",
    "\n",
    "\n",
    "$N_{in}$\n",
    " : 入力のサイズ（特徴量の数）\n",
    "\n",
    "$\n",
    "P\n",
    "$ : ある方向へのパディングの数\n",
    "\n",
    "$\n",
    "F\n",
    "$ : フィルタのサイズ\n",
    "\n",
    "\n",
    "$S$\n",
    " : ストライドのサイズ"
   ]
  },
  {
   "cell_type": "code",
   "execution_count": 242,
   "metadata": {
    "code_folding": [
     0
    ]
   },
   "outputs": [],
   "source": [
    "def out_put(input_data, f, s, p):\n",
    "    \"\"\"\n",
    "    出力サイズ計算\n",
    "    Parameters\n",
    "    ----------\n",
    "    inp : 入力データ\n",
    "    f : フィルター\n",
    "    s : ストライド\n",
    "    p : パディング\n",
    "    ----------\n",
    "    Returns\n",
    "    \n",
    "    out : 1次元配列\n",
    "    \"\"\"\n",
    "    \n",
    "    \n",
    "    out = int(((inp + 2 * p - f) / s ) + 1)\n",
    "    return out"
   ]
  },
  {
   "cell_type": "markdown",
   "metadata": {},
   "source": [
    "## 【問題3】小さな配列での1次元畳み込み層の実験\n",
    "\n",
    "次に示す小さな配列でフォワードプロパゲーションとバックプロパゲーションが正しく行えているか確認してください。\n",
    "\n",
    "\n",
    "入力x、重みw、バイアスbを次のようにします。\n",
    "\n",
    "    x = np.array([1,2,3,4])\n",
    "    w = np.array([3, 5, 7])\n",
    "    b = np.array([1])\n",
    "    \n",
    "フォワードプロパゲーションをすると出力は次のようになります\n",
    "\n",
    "    a = np.array([35, 50])\n",
    "    \n",
    "    \n",
    "次にバックプロパゲーションを考えます。誤差は次のようであったとします。\n",
    "\n",
    "    delta_a = np.array([10, 20])\n",
    "    \n",
    "バックプロパゲーションをすると次のような値になります。\n",
    "\n",
    "    delta_b = np.array([30])\n",
    "    delta_w = np.array([50, 80, 110])\n",
    "    delta_x = np.array([30, 110, 170, 140])\n",
    "    \n"
   ]
  },
  {
   "cell_type": "markdown",
   "metadata": {},
   "source": [
    "上記で確認"
   ]
  },
  {
   "cell_type": "markdown",
   "metadata": {},
   "source": [
    "## 実装上の工夫\n",
    "\n",
    "畳み込みを実装する場合は、まずはfor文を重ねていく形で構いません。しかし、できるだけ計算は効率化させたいため、以下の式を一度に計算する方法を考えることにします。\n",
    "\n",
    "$$ a_i = \\sum_{s=0}^{F-1}x_{(i+s)}w_s+b $$\n",
    "\n",
    "バイアス項は単純な足し算のため、重みの部分を見ます。\n",
    "\n",
    "$$ \\sum_{s=0}^{F-1}x_{(i+s)}w_s $$\n",
    "\n",
    "これは、xの一部を取り出した配列とwの配列の内積です。具体的な状況を考えると、以下のようなコードで計算できます。この例では流れを分かりやすくするために、各要素同士でアダマール積を計算してから合計を計算しています。これは結果的に内積と同様です。\n",
    "\n",
    "    x = np.array([1, 2, 3, 4])\n",
    "    w = np.array([3, 5, 7])\n",
    "    a = np.empty((2, 3))\n",
    "    indexes0 = np.array([0, 1, 2]).astype(np.int)\n",
    "    indexes1 = np.array([1, 2, 3]).astype(np.int)\n",
    "    a[0] = x[indexes0]*w # x[indexes0]は([1, 2, 3])である\n",
    "    a[1] = x[indexes1]*w # x[indexes1]は([2, 3, 4])である\n",
    "    a = a.sum(axis=1)\n",
    "    \n",
    "ndarrayは配列を使ったインデックス指定ができることを利用した方法です。\n",
    "\n",
    "\n",
    "また、二次元配列を使えば一次元配列から二次元配列が取り出せます。\n",
    "\n",
    "    x = np.array([1, 2, 3, 4])\n",
    "    indexes = np.array([[0, 1, 2], [1, 2, 3]]).astype(np.int)\n",
    "    print(x[indexes]) # ([[1, 2, 3], [2, 3, 4]])\n",
    "\n",
    "\n",
    "このこととブロードキャストなどをうまく組み合わせることで、一度にまとめて計算することも可能です。\n",
    "\n",
    "\n",
    "畳み込みの計算方法に正解はないので、自分なりに効率化していってください。\n",
    "\n",
    "\n",
    "《参考》\n",
    "\n",
    "\n",
    "以下のページのInteger array indexingの部分がこの方法についての記述です。\n",
    "\n",
    "\n",
    "[Indexing — NumPy v1.17 Manual](https://numpy.org/doc/stable/reference/arrays.indexing.html)\n",
    "\n"
   ]
  },
  {
   "cell_type": "markdown",
   "metadata": {},
   "source": [
    "## 【問題4】チャンネル数を限定しない1次元畳み込み層クラスの作成\n",
    "\n",
    "チャンネル数を1に限定しない1次元畳み込み層のクラスConv1dを作成してください。\n",
    "\n",
    "\n",
    "例えば以下のようなx, w, bがあった場合は、\n",
    "\n",
    "    x = np.array([[1, 2, 3, 4], [2, 3, 4, 5]]) # shape(2, 4)で、（入力チャンネル数、特徴量数）である。\n",
    "    w = np.ones((3, 2, 3)) # 例の簡略化のため全て1とする。(出力チャンネル数、入力チャンネル数、フィルタサイズ)である。\n",
    "    b = np.array([1, 2, 3]) # （出力チャンネル数）\n",
    "\n",
    "出力は次のようになります。\n",
    "\n",
    "    a = np.array([[16, 22], [17, 23], [18, 24]]) # shape(3, 2)で、（出力チャンネル数、特徴量数）である。\n",
    "\n",
    "入力が2チャンネル、出力が3チャンネルの例です。計算グラフを書いた上で、バックプロパゲーションも手計算で考えてみましょう。計算グラフの中には和と積しか登場しないので、微分を新たに考える必要はありません。\n",
    "\n",
    "\n",
    "《補足》\n",
    "\n",
    "\n",
    "チャンネル数を加える場合、配列をどういう順番にするかという問題があります。(バッチサイズ、チャンネル数、特徴量数)または(バッチサイズ、特徴量数、チャンネル数)が一般的で、ライブラリによって順番は異なっています。（切り替えて使用できるものもあります）\n",
    "\n",
    "\n",
    "今回のスクラッチでは自身の実装上どちらが効率的かを考えて選んでください。上記の例ではバッチサイズは考えておらず、(チャンネル数、特徴量数)です。"
   ]
  },
  {
   "cell_type": "code",
   "execution_count": 180,
   "metadata": {},
   "outputs": [
    {
     "ename": "SyntaxError",
     "evalue": "unexpected EOF while parsing (<ipython-input-180-f46c9e9eb9c4>, line 2)",
     "output_type": "error",
     "traceback": [
      "\u001b[1;36m  File \u001b[1;32m\"<ipython-input-180-f46c9e9eb9c4>\"\u001b[1;36m, line \u001b[1;32m2\u001b[0m\n\u001b[1;33m    \u001b[0m\n\u001b[1;37m    ^\u001b[0m\n\u001b[1;31mSyntaxError\u001b[0m\u001b[1;31m:\u001b[0m unexpected EOF while parsing\n"
     ]
    }
   ],
   "source": [
    "class Conv1d:\n",
    "    "
   ]
  },
  {
   "cell_type": "markdown",
   "metadata": {},
   "source": [
    "## 【問題5】（アドバンス課題）パディングの実装\n",
    "\n",
    "畳み込み層にパディングの機能を加えてください。1次元配列の場合、前後にn個特徴量を増やせるようにしてください。\n",
    "\n",
    "\n",
    "最も単純なパディングは全て0で埋める ゼロパディング であり、CNNでは一般的です。他に端の値を繰り返す方法などもあります。\n",
    "\n",
    "\n",
    "フレームワークによっては、元の入力のサイズを保つようにという指定をすることができます。この機能も持たせておくと便利です。なお、NumPyにはパディングの関数が存在します。\n",
    "\n",
    "\n",
    "[numpy.pad — NumPy v1.17 Manual](https://numpy.org/doc/stable/reference/generated/numpy.pad.html)"
   ]
  },
  {
   "cell_type": "code",
   "execution_count": null,
   "metadata": {},
   "outputs": [],
   "source": []
  },
  {
   "cell_type": "markdown",
   "metadata": {},
   "source": [
    "## 【問題6】（アドバンス課題）ミニバッチへの対応\n",
    "\n",
    "ここまでの課題はバッチサイズ1で良いとしてきました。しかし、実際は全結合層同様にミニバッチ学習が行われます。Conv1dクラスを複数のデータが同時に計算できるように変更してください。\n",
    "\n"
   ]
  },
  {
   "cell_type": "code",
   "execution_count": null,
   "metadata": {},
   "outputs": [],
   "source": []
  },
  {
   "cell_type": "markdown",
   "metadata": {},
   "source": [
    "## 【問題7】（アドバンス課題）任意のストライド数\n",
    "\n",
    "ストライドは1限定の実装をしてきましたが、任意のストライド数に対応できるようにしてください。\n",
    "\n"
   ]
  },
  {
   "cell_type": "code",
   "execution_count": null,
   "metadata": {},
   "outputs": [],
   "source": []
  },
  {
   "cell_type": "markdown",
   "metadata": {},
   "source": [
    "## 【問題8】学習と推定\n",
    "\n",
    "これまで使ってきたニューラルネットワークの全結合層の一部をConv1dに置き換えてMNISTを学習・推定し、Accuracyを計算してください。\n",
    "\n",
    "\n",
    "出力層だけは全結合層をそのまま使ってください。ただし、チャンネルが複数ある状態では全結合層への入力は行えません。その段階でのチャンネルは1になるようにするか、 平滑化 を行なってください。\n",
    "\n",
    "\n",
    "画像に対しての1次元畳み込みは実用上は行わないことのため、精度は問いません。"
   ]
  },
  {
   "cell_type": "code",
   "execution_count": null,
   "metadata": {},
   "outputs": [],
   "source": []
  }
 ],
 "metadata": {
  "kernelspec": {
   "display_name": "Python 3",
   "language": "python",
   "name": "python3"
  },
  "language_info": {
   "codemirror_mode": {
    "name": "ipython",
    "version": 3
   },
   "file_extension": ".py",
   "mimetype": "text/x-python",
   "name": "python",
   "nbconvert_exporter": "python",
   "pygments_lexer": "ipython3",
   "version": "3.7.6"
  }
 },
 "nbformat": 4,
 "nbformat_minor": 4
}
