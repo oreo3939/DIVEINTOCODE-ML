{
 "cells": [
  {
   "cell_type": "code",
   "execution_count": 1,
   "metadata": {},
   "outputs": [],
   "source": [
    "import numpy as np\n",
    "\n",
    "\n",
    "def output_size(n_features, filter_length, stride=1, pad=0):\n",
    "    return int(1 + (n_features + 2 * pad - filter_length) / stride)\n",
    "\n",
    "\n",
    "def imcol2(input_data, filter_h, filter_w, stride=1, pad=0):\n",
    "    \"\"\"\n",
    "    Parameters  \n",
    "    -----------\n",
    "    input_data : (データ数,チャンネル,高さ,横幅)の4次元配列からなる入力データ\n",
    "    filter_h : フィルターの高さ\n",
    "    filter_w : フィルターの横幅\n",
    "    stride : ストライド\n",
    "    pad : パディング\n",
    "    -----------\n",
    "    Returns\n",
    "    col : 2次元配列 \n",
    "     \n",
    "    \"\"\"\n",
    "\n",
    "    N, C, H, W = input_data.shape\n",
    "    OH = output_size(n_features=H, filter_length=filter_h, stride=stride, pad=pad)\n",
    "    OW = output_size(n_features=W, filter_length=filter_w, stride=stride, pad=pad)\n",
    "\n",
    "    img = np.pad(input_data, [(0,0), (0,0), (pad, pad), (pad, pad)], 'constant')\n",
    "    col = np.zeros((N, C, filter_h, filter_w, OH, OW))\n",
    "\n",
    "    for y in range(filter_h):\n",
    "        y_max = y + stride*OH\n",
    "        for x in range(filter_w):\n",
    "            x_max = x + stride*OW\n",
    "            col[:, :, y, x, :, :] = img[:, :, y:y_max:stride, x:x_max:stride]\n",
    "\n",
    "    col = col.transpose(0, 4, 5, 1, 2, 3).reshape(N*OH*OW, -1)\n",
    "    return col\n",
    "\n",
    "\n",
    "\n",
    "\n",
    "def col2im(col, input_shape, filter_h, filter_w, stride=1, pad=0):\n",
    "    \"\"\"\n",
    "    Parameters\n",
    "    ----------\n",
    "    col :　変換するデーター\n",
    "    input_shape : 入力データの形状（例：(10, 1, 28, 28)）\n",
    "    filter_h : フィルターの高さ\n",
    "    filter_w : フィルターの横幅\n",
    "    stride : ストライド\n",
    "    pad : パディング\n",
    "    Returns\n",
    "    -------\n",
    "    \"\"\"\n",
    "    N, C, H, W = input_shape.shape\n",
    "    OH = output_size(n_features=H, filter_length=filter_h, stride=stride, pad=pad)\n",
    "    OW = output_size(n_features=W, filter_length=filter_w, stride=stride, pad=pad)\n",
    "    col = col.reshape(N, OH, OW, C, filter_h, filter_w).transpose(0, 3, 4, 5, 1, 2)\n",
    "\n",
    "    img = np.zeros((N, C, H + 2*pad + stride - 1, W + 2*pad + stride - 1))\n",
    "    for y in range(filter_h):\n",
    "        y_max = y + stride*OH\n",
    "        for x in range(filter_w):\n",
    "            x_max = x + stride*OW\n",
    "            img[:, :, y:y_max:stride, x:x_max:stride] += col[:, :, y, x, :, :]\n",
    "\n",
    "    return img[:, :, pad:H + pad, pad:W + pad]"
   ]
  },
  {
   "cell_type": "code",
   "execution_count": 3,
   "metadata": {},
   "outputs": [
    {
     "data": {
      "text/plain": [
       "CompletedProcess(args=['jupyter', 'nbconvert', '--to', 'python', 'utils.ipynb'], returncode=0)"
      ]
     },
     "execution_count": 3,
     "metadata": {},
     "output_type": "execute_result"
    }
   ],
   "source": [
    "import subprocess\n",
    "subprocess.run(['jupyter', 'nbconvert', '--to', 'python', 'utils.ipynb'])"
   ]
  },
  {
   "cell_type": "code",
   "execution_count": null,
   "metadata": {},
   "outputs": [],
   "source": []
  }
 ],
 "metadata": {
  "kernelspec": {
   "display_name": "Python 3",
   "language": "python",
   "name": "python3"
  },
  "language_info": {
   "codemirror_mode": {
    "name": "ipython",
    "version": 3
   },
   "file_extension": ".py",
   "mimetype": "text/x-python",
   "name": "python",
   "nbconvert_exporter": "python",
   "pygments_lexer": "ipython3",
   "version": "3.7.6"
  }
 },
 "nbformat": 4,
 "nbformat_minor": 4
}
