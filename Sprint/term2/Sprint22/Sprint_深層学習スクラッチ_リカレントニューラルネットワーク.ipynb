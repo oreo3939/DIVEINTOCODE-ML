{
  "nbformat": 4,
  "nbformat_minor": 0,
  "metadata": {
    "colab": {
      "name": "Sprint 深層学習スクラッチ リカレントニューラルネットワーク.ipynb",
      "provenance": [],
      "collapsed_sections": []
    },
    "kernelspec": {
      "name": "python3",
      "display_name": "Python 3"
    }
  },
  "cells": [
    {
      "cell_type": "markdown",
      "metadata": {
        "id": "iFNWedsokp1S"
      },
      "source": [
        "リカレントニューラルネットワーク（RNN） のクラスをスクラッチで作成していきます。NumPyなど最低限のライブラリのみを使いアルゴリズムを実装していきます。\n",
        "\n",
        "\n",
        "フォワードプロパゲーションの実装を必須課題とし、バックプロパゲーションの実装はアドバンス課題とします。\n",
        "\n",
        "\n",
        "クラスの名前はScratchSimpleRNNClassifierとしてください。クラスの構造などは以前のSprintで作成したScratchDeepNeuralNetrowkClassifierを参考にしてください。\n",
        "\n"
      ]
    },
    {
      "cell_type": "markdown",
      "metadata": {
        "id": "2IIlYweglSXG"
      },
      "source": [
        "## 【問題1】SimpleRNNのフォワードプロパゲーション実装\n",
        "\n",
        "SimpleRNNのクラスSimpleRNNを作成してください。基本構造はFCクラスと同じになります。\n",
        "\n",
        "\n",
        "フォワードプロパゲーションの数式は以下のようになります。ndarrayのshapeがどうなるかを併記しています。\n",
        "\n",
        "\n",
        "バッチサイズをbatch_size、入力の特徴量数をn_features、RNNのノード数をn_nodesとして表記します。活性化関数はtanhとして進めますが、これまでのニューラルネットワーク同様にReLUなどに置き換えられます。\n",
        "\n",
        "\n",
        "$$a_t = x_{t}\\cdot W_{x} + h_{t-1}\\cdot W_{h} + B\\\\\n",
        "h_t = tanh(a_t)$$\n",
        "\n",
        "\n",
        "$\n",
        "a_t\n",
        "$ : 時刻tの活性化関数を通す前の状態 (batch_size, n_nodes)\n",
        "\n",
        "$\n",
        "h_t\n",
        "$ : 時刻tの状態・出力 (batch_size, n_nodes)\n",
        "\n",
        "\n",
        "$x_{t}\n",
        "$ : 時刻tの入力 (batch_size, n_features)\n",
        "\n",
        "\n",
        "$W_{x}\n",
        " $: 入力に対する重み (n_features, n_nodes)\n",
        "\n",
        "\n",
        "$h_{t-1}\n",
        " $: 時刻t-1の状態（前の時刻から伝わる順伝播） (batch_size, n_nodes)\n",
        "\n",
        "\n",
        "$W_{h}\n",
        " $: 状態に対する重み。 (n_nodes, n_nodes)\n",
        "\n",
        "\n",
        "$B\n",
        " $: バイアス項 (n_nodes,)\n",
        "\n",
        "\n",
        "\n",
        " 初期状態 $\n",
        "h_{0}\n",
        " $は全て0とすることが多いですが、任意の値を与えることも可能です。\n",
        "\n",
        "\n",
        "上記の処理を系列数n_sequences回繰り返すことになります。RNN全体への入力 $\n",
        "x$\n",
        " は(batch_size, n_sequences, n_features)のような配列で渡されることになり、そこから各時刻の配列を取り出していきます。\n",
        "\n",
        "\n",
        "分類問題であれば、それぞれの時刻のhに対して全結合層とソフトマックス関数（またはシグモイド関数）を使用します。タスクによっては最後の時刻のhだけを使用することもあります。"
      ]
    },
    {
      "cell_type": "code",
      "metadata": {
        "id": "lS3SeERRw7mo"
      },
      "source": [
        "import numpy as np"
      ],
      "execution_count": 51,
      "outputs": []
    },
    {
      "cell_type": "code",
      "metadata": {
        "id": "Qf3YYGpjjaso"
      },
      "source": [
        "class ScratchSimpleRNNClassifier():\n",
        "\n",
        "    def __init__(self):\n",
        "        pass\n",
        "\n",
        "    def forward(self, x, w_x, w_h):\n",
        "        self.batch_size = x.shape[0] # 1\n",
        "        self.n_sequences = x.shape[1] # 3\n",
        "        self.n_features = x.shape[2] # 2\n",
        "        self.n_nodes = w_x.shape[1] # 4\n",
        "        h = np.zeros((batch_size, n_nodes)) # (batch_size, n_nodes)\n",
        "        b = np.array([1, 1, 1, 1]) # (n_nodes,)\n",
        "\n",
        "        for i in range(n_sequences):\n",
        "            if i ==0:\n",
        "                a = np.dot(x[0,i,:], w_x) + np.dot(h, w_h) + b\n",
        "                a = np.tanh(a)\n",
        "            else:\n",
        "                a = np.dot(x[0,i,:], w_x) + np.dot(a, w_h) + b\n",
        "                a = np.tanh(a)\n",
        "                \n",
        "        return a"
      ],
      "execution_count": 52,
      "outputs": []
    },
    {
      "cell_type": "markdown",
      "metadata": {
        "id": "F6jH4JE_mGH6"
      },
      "source": [
        "## 【問題2】小さな配列でのフォワードプロパゲーションの実験\n",
        "小さな配列でフォワードプロパゲーションを考えてみます。\n",
        "\n",
        "\n",
        "入力x、初期状態h、重みw_xとw_h、バイアスbを次のようにします。\n",
        "\n",
        "\n",
        "ここで配列xの軸はバッチサイズ、系列数、特徴量数の順番です。\n",
        "\n",
        "\n",
        "```\n",
        "x = np.array([[[1, 2], [2, 3], [3, 4]]])/100 # (batch_size, n_sequences, n_features)\n",
        "w_x = np.array([[1, 3, 5, 7], [3, 5, 7, 8]])/100 # (n_features, n_nodes)\n",
        "w_h = np.array([[1, 3, 5, 7], [2, 4, 6, 8], [3, 5, 7, 8], [4, 6, 8, 10]])/100 # (n_nodes, n_nodes)\n",
        "batch_size = x.shape[0] # 1\n",
        "n_sequences = x.shape[1] # 3\n",
        "n_features = x.shape[2] # 2\n",
        "n_nodes = w_x.shape[1] # 4\n",
        "h = np.zeros((batch_size, n_nodes)) # (batch_size, n_nodes)\n",
        "b = np.array([1, 1, 1, 1]) # (n_nodes,)\n",
        "```\n",
        "\n",
        "フォワードプロパゲーションの出力が次のようになることを作成したコードで確認してください。\n",
        "\n",
        "\n",
        "```\n",
        "h = np.array([[0.79494228, 0.81839002, 0.83939649, 0.85584174]]) # (batch_size, n_nodes)\n",
        "```\n",
        "\n",
        "\n"
      ]
    },
    {
      "cell_type": "code",
      "metadata": {
        "id": "9REAVyF4mXXP"
      },
      "source": [
        "x = np.array([[[1, 2], [2, 3], [3, 4]]])/100 # (batch_size, n_sequences, n_features)\n",
        "w_x = np.array([[1, 3, 5, 7], [3, 5, 7, 8]])/100 # (n_features, n_nodes)\n",
        "w_h = np.array([[1, 3, 5, 7], [2, 4, 6, 8], [3, 5, 7, 8], [4, 6, 8, 10]])/100 # (n_nodes, n_nodes)\n",
        "batch_size = x.shape[0] # 1\n",
        "n_sequences = x.shape[1] # 3\n",
        "n_features = x.shape[2] # 2\n",
        "n_nodes = w_x.shape[1] # 4\n",
        "h = np.zeros((batch_size, n_nodes)) # (batch_size, n_nodes)\n",
        "b = np.array([1, 1, 1, 1]) # (n_nodes,)"
      ],
      "execution_count": 53,
      "outputs": []
    },
    {
      "cell_type": "code",
      "metadata": {
        "id": "AovVBMPHyBI7",
        "outputId": "72e8a996-83dd-4240-fded-9d81b9985dc8",
        "colab": {
          "base_uri": "https://localhost:8080/",
          "height": 89
        }
      },
      "source": [
        "display(x.shape)\n",
        "display(w_x.shape)\n",
        "display(w_h.shape)\n",
        "display(h.shape)"
      ],
      "execution_count": 54,
      "outputs": [
        {
          "output_type": "display_data",
          "data": {
            "text/plain": [
              "(1, 3, 2)"
            ]
          },
          "metadata": {
            "tags": []
          }
        },
        {
          "output_type": "display_data",
          "data": {
            "text/plain": [
              "(2, 4)"
            ]
          },
          "metadata": {
            "tags": []
          }
        },
        {
          "output_type": "display_data",
          "data": {
            "text/plain": [
              "(4, 4)"
            ]
          },
          "metadata": {
            "tags": []
          }
        },
        {
          "output_type": "display_data",
          "data": {
            "text/plain": [
              "(1, 4)"
            ]
          },
          "metadata": {
            "tags": []
          }
        }
      ]
    },
    {
      "cell_type": "code",
      "metadata": {
        "id": "Ox_j-6S1yg2y",
        "outputId": "448282a4-8ada-4656-8193-50114de95fc3",
        "colab": {
          "base_uri": "https://localhost:8080/"
        }
      },
      "source": [
        "testa = np.dot(x[0,0,:], w_x) + np.dot(h, w_h) + b\n",
        "testa = np.tanh(testa)\n",
        "print(testa)\n",
        "\n",
        "testb = np.dot(x[0,1,:], w_x) + np.dot(testa, w_h) + b\n",
        "testb = np.tanh(testb)\n",
        "print(testb)\n",
        "\n",
        "testc = np.dot(x[0,2,:], w_x) + np.dot(testb, w_h) + b\n",
        "testc = np.tanh(testc)\n",
        "print(testc)"
      ],
      "execution_count": 55,
      "outputs": [
        {
          "output_type": "stream",
          "text": [
            "[[0.76188798 0.76213958 0.76239095 0.76255841]]\n",
            "[[0.792209   0.8141834  0.83404912 0.84977719]]\n",
            "[[0.79494228 0.81839002 0.83939649 0.85584174]]\n"
          ],
          "name": "stdout"
        }
      ]
    },
    {
      "cell_type": "code",
      "metadata": {
        "id": "ZJ9h8wEoP1fT",
        "outputId": "7203874c-5262-42c7-eb39-9caa7ca2546e",
        "colab": {
          "base_uri": "https://localhost:8080/"
        }
      },
      "source": [
        "for i in range(n_sequences):\n",
        "    if i ==0:\n",
        "        a = np.dot(x[0,i,:], w_x) + np.dot(h, w_h) + b\n",
        "        a = np.tanh(a)\n",
        "        print(\"i==0 :{}\".format(a))\n",
        "    else:\n",
        "        a = np.dot(x[0,i,:], w_x) + np.dot(a, w_h) + b\n",
        "        a = np.tanh(a)\n",
        "        print(\"i !=0 : {}\".format(a))"
      ],
      "execution_count": 56,
      "outputs": [
        {
          "output_type": "stream",
          "text": [
            "i==0 :[[0.76188798 0.76213958 0.76239095 0.76255841]]\n",
            "i !=0 : [[0.792209   0.8141834  0.83404912 0.84977719]]\n",
            "i !=0 : [[0.79494228 0.81839002 0.83939649 0.85584174]]\n"
          ],
          "name": "stdout"
        }
      ]
    },
    {
      "cell_type": "code",
      "metadata": {
        "id": "nryfFn7bWTfk",
        "outputId": "9ce1d315-106f-4a23-b7f1-d0f3a428bfa6",
        "colab": {
          "base_uri": "https://localhost:8080/"
        }
      },
      "source": [
        "ssr = ScratchSimpleRNNClassifier()\n",
        "h = ssr.forward(x, w_x, w_h)\n",
        "h"
      ],
      "execution_count": 57,
      "outputs": [
        {
          "output_type": "execute_result",
          "data": {
            "text/plain": [
              "array([[0.79494228, 0.81839002, 0.83939649, 0.85584174]])"
            ]
          },
          "metadata": {
            "tags": []
          },
          "execution_count": 57
        }
      ]
    },
    {
      "cell_type": "markdown",
      "metadata": {
        "id": "_FEmALf7R3Je"
      },
      "source": [
        "### 答え\n",
        "\n",
        "```\n",
        "h = np.array([[0.79494228, 0.81839002, 0.83939649, 0.85584174]]) # (batch_size, n_nodes)\n",
        "```"
      ]
    },
    {
      "cell_type": "markdown",
      "metadata": {
        "id": "NTVCmdfXmX2o"
      },
      "source": [
        "## 【問題3】（アドバンス課題）バックプロパゲーションの実装\n",
        "\n",
        "バックプロパゲーションを実装してください。\n",
        "\n",
        "\n",
        "RNNの内部は全結合層を組み合わせた形になっているので、更新式は全結合層などと同様です。\n",
        "\n",
        "$$W_x^{\\prime} = W_x - \\alpha \\frac{\\partial L}{\\partial W_x} \\\\\n",
        "W_h^{\\prime} = W_h - \\alpha \\frac{\\partial L}{\\partial W_h} \\\\\n",
        "B^{\\prime} = B - \\alpha \\frac{\\partial L}{\\partial B}$$\n",
        "\n",
        "$α$\n",
        " : 学習率\n",
        "\n",
        " $\\frac{\\partial L}{\\partial W_x}$\n",
        ": $\n",
        "W\n",
        "x\n",
        " $に関する損失 $\n",
        "L\n",
        "$ の勾配\n",
        "\n",
        " $\\frac{\\partial L}{\\partial W_h}$\n",
        " : \n",
        "$W_{h}$\n",
        " に関する損失 $\n",
        "L\n",
        "$ の勾配\n",
        "\n",
        "$\\frac{\\partial L}{\\partial B}$\n",
        ": $\n",
        "B\n",
        " $に関する損失 $\n",
        "L\n",
        "$ の勾配\n",
        "\n",
        "勾配を求めるためのバックプロパゲーションの数式が以下です。\n",
        "\n",
        "$\\frac{\\partial h_t}{\\partial a_t} = \\frac{\\partial L}{\\partial h_t} ×(1-tanh^2(a_t))$\n",
        "\n",
        "$\\frac{\\partial L}{\\partial B} = \\frac{\\partial h_t}{\\partial a_t}$\n",
        "\n",
        "$\\frac{\\partial L}{\\partial W_x} = x_{t}^{T}\\cdot \\frac{\\partial h_t}{\\partial a_t}$\n",
        "\n",
        "$\\frac{\\partial L}{\\partial W_h} = h_{t-1}^{T}\\cdot \\frac{\\partial h_t}{\\partial a_t}$\n",
        "\n",
        "$\\frac{\\partial L}{\\partial h_t}$は前の時刻からの状態の誤差と出力の誤差の合計です。hは順伝播時に出力と次の層に伝わる状態双方に使われているからです。\n",
        "\n",
        "\n",
        "前の時刻や層に流す誤差の数式は以下です。\n",
        "\n",
        "$\\frac{\\partial L}{\\partial h_{t-1}} = \\frac{\\partial h_t}{\\partial a_t}\\cdot W_{h}^{T}$\n",
        "\n",
        "$\\frac{\\partial L}{\\partial x_{t}} = \\frac{\\partial h_t}{\\partial a_t}\\cdot W_{x}^{T}$"
      ]
    },
    {
      "cell_type": "code",
      "metadata": {
        "id": "-zOA9W6zmpzV"
      },
      "source": [
        ""
      ],
      "execution_count": 57,
      "outputs": []
    }
  ]
}