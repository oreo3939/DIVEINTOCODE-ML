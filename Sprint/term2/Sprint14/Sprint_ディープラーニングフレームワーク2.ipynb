{
  "nbformat": 4,
  "nbformat_minor": 0,
  "metadata": {
    "kernelspec": {
      "display_name": "Python 3",
      "language": "python",
      "name": "python3"
    },
    "language_info": {
      "codemirror_mode": {
        "name": "ipython",
        "version": 3
      },
      "file_extension": ".py",
      "mimetype": "text/x-python",
      "name": "python",
      "nbconvert_exporter": "python",
      "pygments_lexer": "ipython3",
      "version": "3.7.6"
    },
    "colab": {
      "name": "Sprint ディープラーニングフレームワーク2.ipynb",
      "provenance": [],
      "collapsed_sections": []
    }
  },
  "cells": [
    {
      "cell_type": "markdown",
      "metadata": {
        "id": "BfOWc3KOcTDN",
        "colab_type": "text"
      },
      "source": [
        "## 【問題2】（アドバンス課題）様々な手法を実行\n",
        "\n",
        "TensorFLowやGoogle AI ResearchのGitHubリポジトリには、定番のモデルから最新のモデルまで多様なコードが公開されています。これらから興味あるものを選び実行してください。\n",
        "\n",
        "\n",
        "なお、これらのコードは初学者向けではないため、巨大なデータセットのダウンロードが必要な場合など、実行が簡単ではないこともあります。そういった場合は、コードリーディングを行ってください。\n",
        "\n",
        "\n",
        "[models/research at master · tensorflow/models](https://github.com/tensorflow/models/tree/master/research)\n",
        "\n",
        "\n",
        "[google-research/google-research: Google AI Research](https://github.com/google-research/google-research)\n",
        "\n",
        "\n",
        "更新日が古いものはPythonやTensorFlowのバージョンが古く、扱いずらい場合があります。新しいものから見ることを推奨します。"
      ]
    },
    {
      "cell_type": "code",
      "metadata": {
        "id": "mweMXQsucTDT",
        "colab_type": "code",
        "colab": {}
      },
      "source": [
        ""
      ],
      "execution_count": null,
      "outputs": []
    },
    {
      "cell_type": "markdown",
      "metadata": {
        "id": "SeETfSG3cTDk",
        "colab_type": "text"
      },
      "source": [
        "「ディープラーニングフレームワーク1」で作成した4種類のデータセットを扱うTensorFLowのコードを異なるフレームワークに変更していきます。\n",
        "\n",
        "\n",
        "Iris（Iris-versicolorとIris-virginicaのみの2値分類）\n",
        "Iris（3種類全ての目的変数を使用して多値分類）\n",
        "House Prices\n",
        "MNIST"
      ]
    },
    {
      "cell_type": "markdown",
      "metadata": {
        "id": "_W2u1Su_cTDn",
        "colab_type": "text"
      },
      "source": [
        "Kerasへの書き換え\n",
        "KerasはTensorFLowに含まれるtf.kerasモジュールを使用してください。\n",
        "\n",
        "\n",
        "KerasにはSequentialモデルかFunctional APIかなど書き方に種類がありますが、これは指定しません。\n",
        "\n"
      ]
    },
    {
      "cell_type": "markdown",
      "metadata": {
        "id": "oR1nYeo-cTDq",
        "colab_type": "text"
      },
      "source": [
        "## 【問題3】Iris（2値分類）をKerasで学習\n",
        "\n",
        "TensorFlowによるIrisデータセットに対する2値分類をKerasに書き換えてください。"
      ]
    },
    {
      "cell_type": "code",
      "metadata": {
        "id": "JwnUYcvqcTDs",
        "colab_type": "code",
        "colab": {}
      },
      "source": [
        "import numpy as np\n",
        "import pandas as pd\n",
        "from sklearn.model_selection import train_test_split\n",
        "import tensorflow as tf\n",
        "import matplotlib.pyplot as plt\n",
        "import os"
      ],
      "execution_count": 18,
      "outputs": []
    },
    {
      "cell_type": "code",
      "metadata": {
        "id": "h5bmKEJehqN2",
        "colab_type": "code",
        "colab": {
          "base_uri": "https://localhost:8080/",
          "height": 35
        },
        "outputId": "6aca59fb-8348-4033-829b-69bd3a9d2db0"
      },
      "source": [
        "from google.colab import drive\n",
        "drive.mount('/content/drive')"
      ],
      "execution_count": 15,
      "outputs": [
        {
          "output_type": "stream",
          "text": [
            "Mounted at /content/drive\n"
          ],
          "name": "stdout"
        }
      ]
    },
    {
      "cell_type": "code",
      "metadata": {
        "id": "0Yuk1SXAdOdv",
        "colab_type": "code",
        "colab": {}
      },
      "source": [
        "# データセットの読み込み\n",
        "df = pd.read_csv('drive/My Drive/Iris.csv')\n",
        "\n",
        "#データフレームから条件抽出\n",
        "df = df[(df['Species'] == 'Iris-versicolor') | (df['Species'] == 'Iris-virginica')]\n",
        "y = df['Species']\n",
        "X = df.loc[:, ['SepalLengthCm', 'SepalWidthCm', 'PetalLengthCm', 'PetalWidthCm']]\n",
        "y = np.array(y)\n",
        "X = np.array(X)\n",
        "\n",
        "# ラベルを数値に変換\n",
        "y[y=='Iris-versicolor'] = 0\n",
        "y[y=='Iris-virginica'] = 1\n",
        "y = y.astype(np.int)[:, np.newaxis]\n",
        "\n",
        "# trainとtestに分割\n",
        "X_train, X_test, y_train, y_test = train_test_split(X, y, test_size=0.2, random_state=0)\n",
        "\n",
        "# さらにtrainとvalに分割\n",
        "X_train, X_val, y_train, y_val = train_test_split(X_train, y_train, test_size=0.2, random_state=0)"
      ],
      "execution_count": 103,
      "outputs": []
    },
    {
      "cell_type": "code",
      "metadata": {
        "id": "svYjkyl1h_Tx",
        "colab_type": "code",
        "colab": {
          "base_uri": "https://localhost:8080/",
          "height": 377
        },
        "outputId": "7e233eed-76da-4ac4-e1c6-126b7eeb7504"
      },
      "source": [
        "# モデル構築\n",
        "from tensorflow.keras.models import Sequential\n",
        "from tensorflow.keras.layers import Dense,Activation\n",
        "from keras.optimizers import Adam\n",
        "from keras import backend as K\n",
        "\n",
        "K.clear_session()\n",
        "# ハイパーパラメータの設定\n",
        "\n",
        "batch_size = 10\n",
        "n_epochs = 20\n",
        "n_hidden1 = 50\n",
        "n_hidden2 = 100\n",
        "n_input = X_train.shape[1]\n",
        "n_classes = y.shape[1]\n",
        "\n",
        "# model構築\n",
        "model = Sequential()\n",
        "model.add(Dense(n_hidden1, input_dim=n_input))\n",
        "model.add(Activation(\"relu\"))\n",
        "model.add(Dense(n_hidden2, input_dim=n_hidden1))\n",
        "model.add(Activation(\"relu\"))\n",
        "model.add(Dense(n_classes, input_dim=n_hidden2))\n",
        "model.add(Activation('sigmoid'))\n",
        "\n",
        "# モデルのコンパイル\n",
        "model.compile(optimizer='Adam', loss='binary_crossentropy', metrics=['accuracy'])\n",
        "\n",
        "model.summary()\n",
        "\n"
      ],
      "execution_count": 104,
      "outputs": [
        {
          "output_type": "stream",
          "text": [
            "Model: \"sequential\"\n",
            "_________________________________________________________________\n",
            "Layer (type)                 Output Shape              Param #   \n",
            "=================================================================\n",
            "dense (Dense)                (None, 50)                250       \n",
            "_________________________________________________________________\n",
            "activation (Activation)      (None, 50)                0         \n",
            "_________________________________________________________________\n",
            "dense_1 (Dense)              (None, 100)               5100      \n",
            "_________________________________________________________________\n",
            "activation_1 (Activation)    (None, 100)               0         \n",
            "_________________________________________________________________\n",
            "dense_2 (Dense)              (None, 1)                 101       \n",
            "_________________________________________________________________\n",
            "activation_2 (Activation)    (None, 1)                 0         \n",
            "=================================================================\n",
            "Total params: 5,451\n",
            "Trainable params: 5,451\n",
            "Non-trainable params: 0\n",
            "_________________________________________________________________\n"
          ],
          "name": "stdout"
        }
      ]
    },
    {
      "cell_type": "code",
      "metadata": {
        "id": "q154Iq_3m3wt",
        "colab_type": "code",
        "colab": {
          "base_uri": "https://localhost:8080/",
          "height": 755
        },
        "outputId": "9957ddc8-42cf-4a63-de4d-7f9b3030e6ac"
      },
      "source": [
        "# モデルの学習\n",
        "model.fit(x=X_train, y=y_train, epochs=n_epochs, batch_size=batch_size )\n"
      ],
      "execution_count": 105,
      "outputs": [
        {
          "output_type": "stream",
          "text": [
            "Epoch 1/20\n",
            "7/7 [==============================] - 0s 2ms/step - loss: 0.8096 - accuracy: 0.5312\n",
            "Epoch 2/20\n",
            "7/7 [==============================] - 0s 2ms/step - loss: 0.6692 - accuracy: 0.6406\n",
            "Epoch 3/20\n",
            "7/7 [==============================] - 0s 2ms/step - loss: 0.6509 - accuracy: 0.7969\n",
            "Epoch 4/20\n",
            "7/7 [==============================] - 0s 1ms/step - loss: 0.6238 - accuracy: 0.7031\n",
            "Epoch 5/20\n",
            "7/7 [==============================] - 0s 2ms/step - loss: 0.6112 - accuracy: 0.6406\n",
            "Epoch 6/20\n",
            "7/7 [==============================] - 0s 2ms/step - loss: 0.6001 - accuracy: 0.5938\n",
            "Epoch 7/20\n",
            "7/7 [==============================] - 0s 2ms/step - loss: 0.5949 - accuracy: 0.5312\n",
            "Epoch 8/20\n",
            "7/7 [==============================] - 0s 2ms/step - loss: 0.5772 - accuracy: 0.7656\n",
            "Epoch 9/20\n",
            "7/7 [==============================] - 0s 2ms/step - loss: 0.5764 - accuracy: 0.9219\n",
            "Epoch 10/20\n",
            "7/7 [==============================] - 0s 1ms/step - loss: 0.5576 - accuracy: 0.9375\n",
            "Epoch 11/20\n",
            "7/7 [==============================] - 0s 1ms/step - loss: 0.5399 - accuracy: 0.7500\n",
            "Epoch 12/20\n",
            "7/7 [==============================] - 0s 2ms/step - loss: 0.5320 - accuracy: 0.7344\n",
            "Epoch 13/20\n",
            "7/7 [==============================] - 0s 1ms/step - loss: 0.5159 - accuracy: 0.9062\n",
            "Epoch 14/20\n",
            "7/7 [==============================] - 0s 1ms/step - loss: 0.5031 - accuracy: 0.8438\n",
            "Epoch 15/20\n",
            "7/7 [==============================] - 0s 2ms/step - loss: 0.4888 - accuracy: 0.8281\n",
            "Epoch 16/20\n",
            "7/7 [==============================] - 0s 2ms/step - loss: 0.4730 - accuracy: 0.9375\n",
            "Epoch 17/20\n",
            "7/7 [==============================] - 0s 2ms/step - loss: 0.4680 - accuracy: 0.9375\n",
            "Epoch 18/20\n",
            "7/7 [==============================] - 0s 2ms/step - loss: 0.4480 - accuracy: 0.9531\n",
            "Epoch 19/20\n",
            "7/7 [==============================] - 0s 1ms/step - loss: 0.4316 - accuracy: 0.9375\n",
            "Epoch 20/20\n",
            "7/7 [==============================] - 0s 2ms/step - loss: 0.4168 - accuracy: 0.9375\n"
          ],
          "name": "stdout"
        },
        {
          "output_type": "execute_result",
          "data": {
            "text/plain": [
              "<tensorflow.python.keras.callbacks.History at 0x7f0229262860>"
            ]
          },
          "metadata": {
            "tags": []
          },
          "execution_count": 105
        }
      ]
    },
    {
      "cell_type": "code",
      "metadata": {
        "id": "lwxL75YBmQGj",
        "colab_type": "code",
        "colab": {
          "base_uri": "https://localhost:8080/",
          "height": 71
        },
        "outputId": "961725ee-dbd3-4f0d-e203-c4d189dc5624"
      },
      "source": [
        "y_pred = model.predict(X_test,  batch_size=batch_size)\n",
        "\n",
        "\n",
        "# バッチごとにある入力データにおける損失値を計算\n",
        "loss, acc = model.evaluate(X_test, y_test, batch_size=batch_size)\n",
        "print(\"loss %.3f\" % loss)\n",
        "print(\"acc %.3f\" % acc)"
      ],
      "execution_count": 106,
      "outputs": [
        {
          "output_type": "stream",
          "text": [
            "2/2 [==============================] - 0s 1ms/step - loss: 0.4273 - accuracy: 0.9000\n",
            "loss 0.427\n",
            "acc 0.900\n"
          ],
          "name": "stdout"
        }
      ]
    },
    {
      "cell_type": "markdown",
      "metadata": {
        "id": "UXq_XICucTD6",
        "colab_type": "text"
      },
      "source": [
        "## 【問題4】Iris（多値分類）をKerasで学習\n",
        "\n",
        "TensorFlowによるIrisデータセットに対する3値分類をKerasに書き換えてください。\n",
        "\n",
        "[コンパイルのパレメーター参考](http://bcl.sci.yamaguchi-u.ac.jp/~jun/notebook/keras/loss/)"
      ]
    },
    {
      "cell_type": "code",
      "metadata": {
        "id": "r6rSUpomcTD9",
        "colab_type": "code",
        "colab": {}
      },
      "source": [
        "from sklearn.preprocessing import OneHotEncoder\n",
        "\n",
        "# データセットの読み込み\n",
        "df = pd.read_csv('drive/My Drive/Iris.csv')\n",
        "\n",
        "#データフレームから条件抽出\n",
        "y = df['Species']\n",
        "X = df.loc[:, ['SepalLengthCm', 'SepalWidthCm', 'PetalLengthCm', 'PetalWidthCm']]\n",
        "y = np.array(y)\n",
        "X = np.array(X)\n",
        "\n",
        "#ラベルを数値に変換\n",
        "y[y == 'Iris-setosa'] = 0\n",
        "y[y == 'Iris-versicolor'] = 1\n",
        "y[y == 'Iris-virginica'] = 2\n",
        "y = y.astype(np.int)[:, np.newaxis]\n",
        "\n",
        "# OneHot\n",
        "oe = OneHotEncoder(categories=\"auto\",sparse=False)\n",
        "y = oe.fit_transform(y)\n",
        "\n",
        "# trainとtestに分割\n",
        "X_train, X_test, y_train, y_test = train_test_split(X, y, test_size=0.2, random_state=0)\n",
        "\n",
        "# さらにtrainとvalに分割\n",
        "X_train, X_val, y_train, y_val = train_test_split(X_train, y_train, test_size=0.2, random_state=0)"
      ],
      "execution_count": 107,
      "outputs": []
    },
    {
      "cell_type": "code",
      "metadata": {
        "id": "UdeeDU4Cn-sT",
        "colab_type": "code",
        "colab": {
          "base_uri": "https://localhost:8080/",
          "height": 377
        },
        "outputId": "a7739e28-9b59-49e3-a42a-595fcf0e9e68"
      },
      "source": [
        "K.clear_session()\n",
        "# ハイパーパラメータの設定\n",
        "\n",
        "batch_size = 10\n",
        "n_epochs = 20\n",
        "n_hidden1 = 50\n",
        "n_hidden2 = 100\n",
        "n_input = X_train.shape[1]\n",
        "n_classes = y.shape[1]\n",
        "\n",
        "# model構築\n",
        "model = Sequential()\n",
        "model.add(Dense(n_hidden1, input_dim=n_input))\n",
        "model.add(Activation(\"relu\"))\n",
        "model.add(Dense(n_hidden2, input_dim=n_hidden1))\n",
        "model.add(Activation(\"relu\"))\n",
        "model.add(Dense(n_classes, input_dim=n_hidden2))\n",
        "model.add(Activation('sigmoid'))\n",
        "\n",
        "# モデルのコンパイル\n",
        "model.compile(optimizer='Adam', loss='categorical_crossentropy', metrics=['accuracy'])\n",
        "\n",
        "model.summary()"
      ],
      "execution_count": 108,
      "outputs": [
        {
          "output_type": "stream",
          "text": [
            "Model: \"sequential\"\n",
            "_________________________________________________________________\n",
            "Layer (type)                 Output Shape              Param #   \n",
            "=================================================================\n",
            "dense (Dense)                (None, 50)                250       \n",
            "_________________________________________________________________\n",
            "activation (Activation)      (None, 50)                0         \n",
            "_________________________________________________________________\n",
            "dense_1 (Dense)              (None, 100)               5100      \n",
            "_________________________________________________________________\n",
            "activation_1 (Activation)    (None, 100)               0         \n",
            "_________________________________________________________________\n",
            "dense_2 (Dense)              (None, 3)                 303       \n",
            "_________________________________________________________________\n",
            "activation_2 (Activation)    (None, 3)                 0         \n",
            "=================================================================\n",
            "Total params: 5,653\n",
            "Trainable params: 5,653\n",
            "Non-trainable params: 0\n",
            "_________________________________________________________________\n"
          ],
          "name": "stdout"
        }
      ]
    },
    {
      "cell_type": "code",
      "metadata": {
        "id": "l_iip9kQoHVq",
        "colab_type": "code",
        "colab": {
          "base_uri": "https://localhost:8080/",
          "height": 755
        },
        "outputId": "e542c34d-342f-4efa-85ab-da1353459eb1"
      },
      "source": [
        "# モデルの学習\n",
        "model.fit(x=X_train, y=y_train, epochs=n_epochs, batch_size=batch_size )\n"
      ],
      "execution_count": 109,
      "outputs": [
        {
          "output_type": "stream",
          "text": [
            "Epoch 1/20\n",
            "10/10 [==============================] - 0s 2ms/step - loss: 1.0721 - accuracy: 0.2812\n",
            "Epoch 2/20\n",
            "10/10 [==============================] - 0s 1ms/step - loss: 0.9253 - accuracy: 0.3854\n",
            "Epoch 3/20\n",
            "10/10 [==============================] - 0s 2ms/step - loss: 0.8009 - accuracy: 0.6458\n",
            "Epoch 4/20\n",
            "10/10 [==============================] - 0s 1ms/step - loss: 0.6669 - accuracy: 0.6875\n",
            "Epoch 5/20\n",
            "10/10 [==============================] - 0s 2ms/step - loss: 0.5694 - accuracy: 0.6875\n",
            "Epoch 6/20\n",
            "10/10 [==============================] - 0s 2ms/step - loss: 0.4668 - accuracy: 0.8750\n",
            "Epoch 7/20\n",
            "10/10 [==============================] - 0s 2ms/step - loss: 0.4069 - accuracy: 0.9062\n",
            "Epoch 8/20\n",
            "10/10 [==============================] - 0s 2ms/step - loss: 0.3591 - accuracy: 0.9167\n",
            "Epoch 9/20\n",
            "10/10 [==============================] - 0s 1ms/step - loss: 0.3251 - accuracy: 0.9167\n",
            "Epoch 10/20\n",
            "10/10 [==============================] - 0s 1ms/step - loss: 0.2854 - accuracy: 0.9688\n",
            "Epoch 11/20\n",
            "10/10 [==============================] - 0s 1ms/step - loss: 0.2700 - accuracy: 0.9583\n",
            "Epoch 12/20\n",
            "10/10 [==============================] - 0s 1ms/step - loss: 0.2439 - accuracy: 0.9271\n",
            "Epoch 13/20\n",
            "10/10 [==============================] - 0s 2ms/step - loss: 0.2152 - accuracy: 0.9583\n",
            "Epoch 14/20\n",
            "10/10 [==============================] - 0s 2ms/step - loss: 0.2008 - accuracy: 0.9583\n",
            "Epoch 15/20\n",
            "10/10 [==============================] - 0s 2ms/step - loss: 0.1885 - accuracy: 0.9479\n",
            "Epoch 16/20\n",
            "10/10 [==============================] - 0s 1ms/step - loss: 0.1655 - accuracy: 0.9688\n",
            "Epoch 17/20\n",
            "10/10 [==============================] - 0s 1ms/step - loss: 0.1563 - accuracy: 0.9688\n",
            "Epoch 18/20\n",
            "10/10 [==============================] - 0s 2ms/step - loss: 0.1607 - accuracy: 0.9583\n",
            "Epoch 19/20\n",
            "10/10 [==============================] - 0s 2ms/step - loss: 0.1470 - accuracy: 0.9479\n",
            "Epoch 20/20\n",
            "10/10 [==============================] - 0s 2ms/step - loss: 0.1385 - accuracy: 0.9688\n"
          ],
          "name": "stdout"
        },
        {
          "output_type": "execute_result",
          "data": {
            "text/plain": [
              "<tensorflow.python.keras.callbacks.History at 0x7f02278caf98>"
            ]
          },
          "metadata": {
            "tags": []
          },
          "execution_count": 109
        }
      ]
    },
    {
      "cell_type": "code",
      "metadata": {
        "id": "Pu0c28aAoOf9",
        "colab_type": "code",
        "colab": {
          "base_uri": "https://localhost:8080/",
          "height": 71
        },
        "outputId": "71187673-66cf-4f62-cc82-add89cce48ef"
      },
      "source": [
        "y_pred = model.predict(X_test,  batch_size=batch_size)\n",
        "\n",
        "model.metrics_names\n",
        "loss, acc = model.evaluate(X_test, y_test, batch_size=batch_size)\n",
        "print(\"loss %.3f\" % loss)\n",
        "print(\"acc %.3f\" % acc)"
      ],
      "execution_count": 110,
      "outputs": [
        {
          "output_type": "stream",
          "text": [
            "3/3 [==============================] - 0s 2ms/step - loss: 0.1347 - accuracy: 0.9667\n",
            "loss 0.135\n",
            "acc 0.967\n"
          ],
          "name": "stdout"
        }
      ]
    },
    {
      "cell_type": "markdown",
      "metadata": {
        "id": "DY2fI6p8cTEI",
        "colab_type": "text"
      },
      "source": [
        "## 【問題5】House PricesをKerasで学習\n",
        "\n",
        "TensorFlowによるHouse Pricesデータセットに対する回帰をKerasに書き換えてください。\n",
        "\n"
      ]
    },
    {
      "cell_type": "code",
      "metadata": {
        "id": "6jwQpxarcTEL",
        "colab_type": "code",
        "colab": {}
      },
      "source": [
        "df2 = pd.read_csv('drive/My Drive/train.csv')\n",
        "y = df2[\"SalePrice\"]\n",
        "X = df2.loc[:, [\"GrLivArea\", \"YearBuilt\"]]\n",
        "y = np.array(y)\n",
        "X = np.array(X)\n",
        "# 次元変換\n",
        "y = y[:, np.newaxis]\n",
        "# 対数変換\n",
        "X = np.log(X)\n",
        "y = np.log(y)\n",
        "# trainとtestに分割\n",
        "X_train, X_test, y_train, y_test = train_test_split(X, y, test_size=0.2, random_state=0)\n",
        "# さらにtrainとvalに分割\n",
        "X_train, X_val, y_train, y_val = train_test_split(X_train, y_train, test_size=0.2, random_state=0)"
      ],
      "execution_count": 68,
      "outputs": []
    },
    {
      "cell_type": "code",
      "metadata": {
        "id": "49B6RZwTpXqD",
        "colab_type": "code",
        "colab": {
          "base_uri": "https://localhost:8080/",
          "height": 377
        },
        "outputId": "55e296eb-95a2-42e9-8966-c5a8e522cf6b"
      },
      "source": [
        "K.clear_session()\n",
        "\n",
        "# ハイパーパラメータの設定\n",
        "batch_size = 10\n",
        "n_epochs = 20\n",
        "\n",
        "n_hidden1 = 50\n",
        "n_hidden2 = 100\n",
        "n_input = X_train.shape[1]\n",
        "n_classes = y.shape[1]\n",
        "\n",
        "# model構築\n",
        "model = Sequential()\n",
        "model.add(Dense(n_hidden1, input_dim=n_input))\n",
        "model.add(Activation('sigmoid'))\n",
        "model.add(Dense(n_hidden2, input_dim=n_hidden1))\n",
        "model.add(Activation('sigmoid'))\n",
        "model.add(Dense(n_classes, input_dim=n_hidden2))\n",
        "model.add(Activation('sigmoid'))\n",
        "\n",
        "# model コンパイル\n",
        "model.compile(optimizer='Adam', loss='mse', metrics=['mse'])\n",
        "\n",
        "model.summary()"
      ],
      "execution_count": 82,
      "outputs": [
        {
          "output_type": "stream",
          "text": [
            "Model: \"sequential\"\n",
            "_________________________________________________________________\n",
            "Layer (type)                 Output Shape              Param #   \n",
            "=================================================================\n",
            "dense (Dense)                (None, 50)                150       \n",
            "_________________________________________________________________\n",
            "activation (Activation)      (None, 50)                0         \n",
            "_________________________________________________________________\n",
            "dense_1 (Dense)              (None, 100)               5100      \n",
            "_________________________________________________________________\n",
            "activation_1 (Activation)    (None, 100)               0         \n",
            "_________________________________________________________________\n",
            "dense_2 (Dense)              (None, 1)                 101       \n",
            "_________________________________________________________________\n",
            "activation_2 (Activation)    (None, 1)                 0         \n",
            "=================================================================\n",
            "Total params: 5,351\n",
            "Trainable params: 5,351\n",
            "Non-trainable params: 0\n",
            "_________________________________________________________________\n"
          ],
          "name": "stdout"
        }
      ]
    },
    {
      "cell_type": "code",
      "metadata": {
        "id": "VTGhrhW5p8SZ",
        "colab_type": "code",
        "colab": {
          "base_uri": "https://localhost:8080/",
          "height": 755
        },
        "outputId": "c9c4cf2f-1351-4e60-ffec-2d1405c0770c"
      },
      "source": [
        "# モデルの学習\n",
        "model.fit(x=X_train, y=y_train, epochs=n_epochs, batch_size=batch_size)"
      ],
      "execution_count": 83,
      "outputs": [
        {
          "output_type": "stream",
          "text": [
            "Epoch 1/20\n",
            "94/94 [==============================] - 0s 1ms/step - loss: 122.7569 - mse: 122.7569\n",
            "Epoch 2/20\n",
            "94/94 [==============================] - 0s 1ms/step - loss: 121.8067 - mse: 121.8067\n",
            "Epoch 3/20\n",
            "94/94 [==============================] - 0s 1ms/step - loss: 121.7702 - mse: 121.7702\n",
            "Epoch 4/20\n",
            "94/94 [==============================] - 0s 1ms/step - loss: 121.7577 - mse: 121.7577\n",
            "Epoch 5/20\n",
            "94/94 [==============================] - 0s 1ms/step - loss: 121.7528 - mse: 121.7528\n",
            "Epoch 6/20\n",
            "94/94 [==============================] - 0s 1ms/step - loss: 121.7507 - mse: 121.7507\n",
            "Epoch 7/20\n",
            "94/94 [==============================] - 0s 1ms/step - loss: 121.7496 - mse: 121.7496\n",
            "Epoch 8/20\n",
            "94/94 [==============================] - 0s 1ms/step - loss: 121.7489 - mse: 121.7489\n",
            "Epoch 9/20\n",
            "94/94 [==============================] - 0s 1ms/step - loss: 121.7485 - mse: 121.7485\n",
            "Epoch 10/20\n",
            "94/94 [==============================] - 0s 1ms/step - loss: 121.7481 - mse: 121.7481\n",
            "Epoch 11/20\n",
            "94/94 [==============================] - 0s 1ms/step - loss: 121.7479 - mse: 121.7479\n",
            "Epoch 12/20\n",
            "94/94 [==============================] - 0s 1ms/step - loss: 121.7477 - mse: 121.7477\n",
            "Epoch 13/20\n",
            "94/94 [==============================] - 0s 1ms/step - loss: 121.7475 - mse: 121.7475\n",
            "Epoch 14/20\n",
            "94/94 [==============================] - 0s 1ms/step - loss: 121.7473 - mse: 121.7473\n",
            "Epoch 15/20\n",
            "94/94 [==============================] - 0s 1ms/step - loss: 121.7472 - mse: 121.7472\n",
            "Epoch 16/20\n",
            "94/94 [==============================] - 0s 1ms/step - loss: 121.7471 - mse: 121.7471\n",
            "Epoch 17/20\n",
            "94/94 [==============================] - 0s 1ms/step - loss: 121.7470 - mse: 121.7470\n",
            "Epoch 18/20\n",
            "94/94 [==============================] - 0s 1ms/step - loss: 121.7469 - mse: 121.7469\n",
            "Epoch 19/20\n",
            "94/94 [==============================] - 0s 1ms/step - loss: 121.7468 - mse: 121.7468\n",
            "Epoch 20/20\n",
            "94/94 [==============================] - 0s 1ms/step - loss: 121.7468 - mse: 121.7468\n"
          ],
          "name": "stdout"
        },
        {
          "output_type": "execute_result",
          "data": {
            "text/plain": [
              "<tensorflow.python.keras.callbacks.History at 0x7f0277ef0da0>"
            ]
          },
          "metadata": {
            "tags": []
          },
          "execution_count": 83
        }
      ]
    },
    {
      "cell_type": "code",
      "metadata": {
        "id": "FzAlFgCPqAfd",
        "colab_type": "code",
        "colab": {
          "base_uri": "https://localhost:8080/",
          "height": 53
        },
        "outputId": "3e295cf9-3924-4a79-e3e5-9bf483e05913"
      },
      "source": [
        "y_pred = model.predict(X_test,  batch_size=batch_size)\n",
        "\n",
        "model.evaluate(X_test, y_test, batch_size=batch_size)"
      ],
      "execution_count": 84,
      "outputs": [
        {
          "output_type": "stream",
          "text": [
            "30/30 [==============================] - 0s 828us/step - loss: 121.7433 - mse: 121.7433\n"
          ],
          "name": "stdout"
        },
        {
          "output_type": "execute_result",
          "data": {
            "text/plain": [
              "[121.74327087402344, 121.74327087402344]"
            ]
          },
          "metadata": {
            "tags": []
          },
          "execution_count": 84
        }
      ]
    },
    {
      "cell_type": "markdown",
      "metadata": {
        "id": "Crc-ww7xcTEX",
        "colab_type": "text"
      },
      "source": [
        "## 【問題6】MNISTをKerasで学習\n",
        "\n",
        "TensorFlowによるMNISTデータセットによる画像の多値分類をKerasに書き換えてください。"
      ]
    },
    {
      "cell_type": "code",
      "metadata": {
        "id": "TodNGxv3cTEa",
        "colab_type": "code",
        "colab": {
          "base_uri": "https://localhost:8080/",
          "height": 89
        },
        "outputId": "c4f163b8-b4e8-401c-ad8e-77f9e8bb0936"
      },
      "source": [
        "from keras.datasets import mnist\n",
        "\n",
        "#データの読み込み\n",
        "(X_train, y_train), (X_test, y_test) = mnist.load_data()\n",
        "\n",
        "# 次元変換\n",
        "y_train = y_train.astype(np.int)[:, np.newaxis]\n",
        "\n",
        "y_test = y_test.astype(np.int)[:, np.newaxis]\n",
        "\n",
        "#  OneHotEncoder\n",
        "oe = OneHotEncoder(handle_unknown='ignore', sparse=False)\n",
        "y_train = oe.fit_transform(y_train)\n",
        "\n",
        "y_test = oe.fit_transform(y_test)\n",
        "\n",
        "#データの変換\n",
        "X_train = X_train.reshape(-1, 784)\n",
        "X_test = X_test.reshape(-1, 784)\n",
        "X_train = X_train.astype(np.float)\n",
        "X_test = X_test.astype(np.float)\n",
        "X_train /= 255\n",
        "X_test /= 255\n",
        "\n",
        "#分割\n",
        "X_train, X_val, y_train, y_val = train_test_split(X_train, y_train, test_size=0.2)\n",
        "print(X_train.shape)\n",
        "print(X_test.shape)"
      ],
      "execution_count": 85,
      "outputs": [
        {
          "output_type": "stream",
          "text": [
            "Downloading data from https://storage.googleapis.com/tensorflow/tf-keras-datasets/mnist.npz\n",
            "11493376/11490434 [==============================] - 0s 0us/step\n",
            "(48000, 784)\n",
            "(10000, 784)\n"
          ],
          "name": "stdout"
        }
      ]
    },
    {
      "cell_type": "code",
      "metadata": {
        "id": "R1K_NY_mtZXG",
        "colab_type": "code",
        "colab": {
          "base_uri": "https://localhost:8080/",
          "height": 377
        },
        "outputId": "4f8dc0b6-f889-4ebd-e19e-a1ae1d6ac0f5"
      },
      "source": [
        "K.clear_session()\n",
        "\n",
        "# ハイパーパラメータの設定\n",
        "batch_size = 500\n",
        "n_epochs = 20\n",
        "n_hidden1 = 50\n",
        "n_hidden2 = 100\n",
        "n_input = X_train.shape[1] #特徴量数\n",
        "n_classes = y_train.shape[1] #クラス数\n",
        "\n",
        "# model構築\n",
        "model = Sequential()\n",
        "model.add(Dense(n_hidden1, input_dim=n_input))\n",
        "model.add(Activation('relu'))\n",
        "model.add(Dense(n_hidden2, input_dim=n_hidden1))\n",
        "model.add(Activation('relu'))\n",
        "model.add(Dense(n_classes, input_dim=n_hidden2))\n",
        "model.add(Activation('softmax'))\n",
        "\n",
        "# modelコンパイル 交差エントロピー\n",
        "model.compile(optimizer='Adam', loss='categorical_crossentropy', metrics=['accuracy'])\n",
        "\n",
        "model.summary()"
      ],
      "execution_count": 89,
      "outputs": [
        {
          "output_type": "stream",
          "text": [
            "Model: \"sequential\"\n",
            "_________________________________________________________________\n",
            "Layer (type)                 Output Shape              Param #   \n",
            "=================================================================\n",
            "dense (Dense)                (None, 50)                39250     \n",
            "_________________________________________________________________\n",
            "activation (Activation)      (None, 50)                0         \n",
            "_________________________________________________________________\n",
            "dense_1 (Dense)              (None, 100)               5100      \n",
            "_________________________________________________________________\n",
            "activation_1 (Activation)    (None, 100)               0         \n",
            "_________________________________________________________________\n",
            "dense_2 (Dense)              (None, 10)                1010      \n",
            "_________________________________________________________________\n",
            "activation_2 (Activation)    (None, 10)                0         \n",
            "=================================================================\n",
            "Total params: 45,360\n",
            "Trainable params: 45,360\n",
            "Non-trainable params: 0\n",
            "_________________________________________________________________\n"
          ],
          "name": "stdout"
        }
      ]
    },
    {
      "cell_type": "code",
      "metadata": {
        "id": "McnYxSxEtZSJ",
        "colab_type": "code",
        "colab": {
          "base_uri": "https://localhost:8080/",
          "height": 755
        },
        "outputId": "07cf8d8d-a6b4-476a-b5c8-5742c49cf63d"
      },
      "source": [
        "# モデルの学習\n",
        "model.fit(x=X_train, y=y_train, epochs=n_epochs, batch_size=batch_size,\n",
        "          validation_data=(X_val, y_val))"
      ],
      "execution_count": 90,
      "outputs": [
        {
          "output_type": "stream",
          "text": [
            "Epoch 1/20\n",
            "96/96 [==============================] - 1s 8ms/step - loss: 0.8454 - accuracy: 0.7614 - val_loss: 0.3426 - val_accuracy: 0.9005\n",
            "Epoch 2/20\n",
            "96/96 [==============================] - 1s 6ms/step - loss: 0.2844 - accuracy: 0.9174 - val_loss: 0.2565 - val_accuracy: 0.9272\n",
            "Epoch 3/20\n",
            "96/96 [==============================] - 1s 6ms/step - loss: 0.2265 - accuracy: 0.9344 - val_loss: 0.2160 - val_accuracy: 0.9380\n",
            "Epoch 4/20\n",
            "96/96 [==============================] - 1s 6ms/step - loss: 0.1864 - accuracy: 0.9460 - val_loss: 0.1891 - val_accuracy: 0.9456\n",
            "Epoch 5/20\n",
            "96/96 [==============================] - 1s 6ms/step - loss: 0.1610 - accuracy: 0.9528 - val_loss: 0.1697 - val_accuracy: 0.9510\n",
            "Epoch 6/20\n",
            "96/96 [==============================] - 1s 6ms/step - loss: 0.1419 - accuracy: 0.9579 - val_loss: 0.1634 - val_accuracy: 0.9512\n",
            "Epoch 7/20\n",
            "96/96 [==============================] - 1s 6ms/step - loss: 0.1275 - accuracy: 0.9627 - val_loss: 0.1484 - val_accuracy: 0.9549\n",
            "Epoch 8/20\n",
            "96/96 [==============================] - 1s 6ms/step - loss: 0.1159 - accuracy: 0.9657 - val_loss: 0.1406 - val_accuracy: 0.9575\n",
            "Epoch 9/20\n",
            "96/96 [==============================] - 1s 6ms/step - loss: 0.1050 - accuracy: 0.9690 - val_loss: 0.1340 - val_accuracy: 0.9591\n",
            "Epoch 10/20\n",
            "96/96 [==============================] - 1s 6ms/step - loss: 0.0957 - accuracy: 0.9722 - val_loss: 0.1284 - val_accuracy: 0.9609\n",
            "Epoch 11/20\n",
            "96/96 [==============================] - 1s 7ms/step - loss: 0.0884 - accuracy: 0.9740 - val_loss: 0.1320 - val_accuracy: 0.9588\n",
            "Epoch 12/20\n",
            "96/96 [==============================] - 1s 6ms/step - loss: 0.0821 - accuracy: 0.9765 - val_loss: 0.1289 - val_accuracy: 0.9613\n",
            "Epoch 13/20\n",
            "96/96 [==============================] - 1s 6ms/step - loss: 0.0763 - accuracy: 0.9778 - val_loss: 0.1219 - val_accuracy: 0.9628\n",
            "Epoch 14/20\n",
            "96/96 [==============================] - 1s 6ms/step - loss: 0.0695 - accuracy: 0.9801 - val_loss: 0.1213 - val_accuracy: 0.9640\n",
            "Epoch 15/20\n",
            "96/96 [==============================] - 1s 6ms/step - loss: 0.0645 - accuracy: 0.9816 - val_loss: 0.1209 - val_accuracy: 0.9640\n",
            "Epoch 16/20\n",
            "96/96 [==============================] - 1s 6ms/step - loss: 0.0616 - accuracy: 0.9820 - val_loss: 0.1185 - val_accuracy: 0.9649\n",
            "Epoch 17/20\n",
            "96/96 [==============================] - 1s 6ms/step - loss: 0.0568 - accuracy: 0.9836 - val_loss: 0.1162 - val_accuracy: 0.9647\n",
            "Epoch 18/20\n",
            "96/96 [==============================] - 1s 6ms/step - loss: 0.0519 - accuracy: 0.9853 - val_loss: 0.1200 - val_accuracy: 0.9649\n",
            "Epoch 19/20\n",
            "96/96 [==============================] - 1s 6ms/step - loss: 0.0501 - accuracy: 0.9855 - val_loss: 0.1167 - val_accuracy: 0.9652\n",
            "Epoch 20/20\n",
            "96/96 [==============================] - 1s 6ms/step - loss: 0.0446 - accuracy: 0.9875 - val_loss: 0.1145 - val_accuracy: 0.9663\n"
          ],
          "name": "stdout"
        },
        {
          "output_type": "execute_result",
          "data": {
            "text/plain": [
              "<tensorflow.python.keras.callbacks.History at 0x7f02747d77f0>"
            ]
          },
          "metadata": {
            "tags": []
          },
          "execution_count": 90
        }
      ]
    },
    {
      "cell_type": "code",
      "metadata": {
        "id": "xt-5nUz7uSl_",
        "colab_type": "code",
        "colab": {
          "base_uri": "https://localhost:8080/",
          "height": 71
        },
        "outputId": "a27f404d-6ca7-4262-9413-9ef7b6b93780"
      },
      "source": [
        "y_pred = model.predict(X_test,  batch_size=batch_size)\n",
        "model.metrics_names\n",
        "loss, acc = model.evaluate(X_test, y_test, batch_size=batch_size)\n",
        "print(\"loss %.3f\" % loss)\n",
        "print(\"acc %.3f\" % acc)"
      ],
      "execution_count": 93,
      "outputs": [
        {
          "output_type": "stream",
          "text": [
            "20/20 [==============================] - 0s 2ms/step - loss: 0.1018 - accuracy: 0.9711\n",
            "loss 0.102\n",
            "acc 0.971\n"
          ],
          "name": "stdout"
        }
      ]
    },
    {
      "cell_type": "markdown",
      "metadata": {
        "id": "xP1Pm5F6cTEn",
        "colab_type": "text"
      },
      "source": [
        "## 【問題7】（アドバンス課題）PyTorchへの書き換え\n",
        "\n",
        "4種類の問題をPyTorchに書き換えてください。"
      ]
    },
    {
      "cell_type": "code",
      "metadata": {
        "id": "8umsX9sLcTEp",
        "colab_type": "code",
        "colab": {}
      },
      "source": [
        "import torch\n",
        "import torchvision\n",
        "import torchvision.transforms as transforms\n",
        "import numpy as np"
      ],
      "execution_count": 95,
      "outputs": []
    },
    {
      "cell_type": "markdown",
      "metadata": {
        "id": "a34CNJ-L0MCZ",
        "colab_type": "text"
      },
      "source": [
        "## Iris（2値分類）P"
      ]
    },
    {
      "cell_type": "code",
      "metadata": {
        "id": "-YJ3mXIe0ETv",
        "colab_type": "code",
        "colab": {}
      },
      "source": [
        ""
      ],
      "execution_count": null,
      "outputs": []
    },
    {
      "cell_type": "markdown",
      "metadata": {
        "id": "stK8lpq9cTE3",
        "colab_type": "text"
      },
      "source": [
        "## 【問題8】（アドバンス課題）フレームワークの比較\n",
        "\n",
        "それぞれのフレームワークにはどのような違いがあるかをまとめてください。\n",
        "\n",
        "\n",
        "《視点例》\n",
        "\n",
        "\n",
        "・計算速度\n",
        "・コードの行数・可読性\n",
        "・用意されている機能"
      ]
    },
    {
      "cell_type": "markdown",
      "metadata": {
        "id": "NOKa-f34vjE7",
        "colab_type": "text"
      },
      "source": [
        " Keras　： 中身の処理がわからない、コードを書くのが楽(可読性が高い)\n",
        " \n",
        " \n",
        " TensorFLow : 細かい所まで設定できる\n",
        "\n",
        "\n",
        " Pytorch : 日本語での文献が少ない、Kerasならfit()で済むのが細かく書かなくてはいけない、Kerasより処理が早い(colab)"
      ]
    }
  ]
}