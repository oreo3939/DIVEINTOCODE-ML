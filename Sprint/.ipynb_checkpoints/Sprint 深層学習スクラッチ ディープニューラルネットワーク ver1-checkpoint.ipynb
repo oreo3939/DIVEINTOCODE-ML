{
 "cells": [
  {
   "cell_type": "markdown",
   "metadata": {},
   "source": [
    "#ディープニューラルネットワークスクラッチ\n",
    "\n",
    "前回は3層のニューラルネットワークを作成しましたが、今回はこれを任意の層数に拡張しやすいものに書き換えていきます。その上で、活性化関数や初期値、最適化手法について発展的なものを扱えるようにしていきます。\n",
    "\n",
    "\n",
    "このようなスクラッチを行うことで、今後各種フレームワークを利用していくにあたり、内部の動きが想像できることを目指します。\n",
    "\n",
    "\n",
    "名前は新しくScratchDeepNeuralNetrowkClassifierクラスとしてください。"
   ]
  },
  {
   "cell_type": "markdown",
   "metadata": {},
   "source": [
    "##層などのクラス化\n",
    "\n",
    "クラスにまとめて行くことで、構成を変更しやすい実装にしていきます。\n",
    "\n",
    "\n",
    "手を加える箇所\n",
    "\n",
    "\n",
    "・層の数\n",
    "\n",
    "・層の種類（今後畳み込み層など他のタイプの層が登場する）\n",
    "\n",
    "・活性化関数の種類\n",
    "\n",
    "・重みやバイアスの初期化方法\n",
    "\n",
    "・最適化手法\n",
    "\n",
    "そのために、全結合層、各種活性化関数、重みやバイアスの初期化、最適化手法それぞれのクラスを作成します。\n",
    "\n",
    "\n",
    "**実装方法は自由**ですが、簡単な例を紹介します。サンプルコード1のように全結合層と活性化関数のインスタンスを作成し、サンプルコード2,3のようにして使用します。それぞれのクラスについてはこのあと解説します。\n",
    "\n",
    "《サンプルコード1》\n",
    "\n",
    "\n",
    "ScratchDeepNeuralNetrowkClassifierのfitメソッド内\n",
    "\n",
    "    # self.sigma : ガウス分布の標準偏差\n",
    "    # self.lr : 学習率\n",
    "    # self.n_nodes1 : 1層目のノード数\n",
    "    # self.n_nodes2 : 2層目のノード数\n",
    "    # self.n_output : 出力層のノード数\n",
    "    optimizer = SGD(self.lr)\n",
    "    self.FC1 = FC(self.n_features, self.n_nodes1, SimpleInitializer(self.sigma), optimizer)\n",
    "    self.activation1 = Tanh()\n",
    "    self.FC2 = FC(self.n_nodes1, self.n_nodes2, SimpleInitializer(self.sigma), optimizer)\n",
    "    self.activation2 = Tanh()\n",
    "    self.FC3 = FC(self.n_nodes2, self.n_output, SimpleInitializer(self.sigma), optimizer)\n",
    "    self.activation3 = Softmax()\n",
    "    \n",
    " \n",
    "《サンプルコード2》\n",
    "\n",
    "\n",
    "イテレーションごとのフォワード\n",
    "\n",
    "    A1 = self.FC1.forward(X)\n",
    "    Z1 = self.activation1.forward(A1)\n",
    "    A2 = self.FC2.forward(Z1)\n",
    "    Z2 = self.activation2.forward(A2)\n",
    "    A3 = self.FC3.forward(Z2)\n",
    "    Z3 = self.activation3.forward(A3)\n",
    "    \n",
    "    \n",
    " 《サンプルコード3》\n",
    "\n",
    "\n",
    "イテレーションごとのバックワード\n",
    "\n",
    "    dA3 = self.activation3.backward(Z3, Y) # 交差エントロピー誤差とソフトマックスを合わせている\n",
    "    dZ2 = self.FC3.backward(dA3)\n",
    "    dA2 = self.activation2.backward(dZ2)\n",
    "    dZ1 = self.FC2.backward(dA2)\n",
    "    dA1 = self.activation1.backward(dZ1)\n",
    "    dZ0 = self.FC1.backward(dA1) # dZ0は使用しない"
   ]
  },
  {
   "cell_type": "code",
   "execution_count": 452,
   "metadata": {},
   "outputs": [],
   "source": [
    "import numpy as np\n",
    "import pandas as pd\n",
    "import matplotlib.pyplot as plt\n",
    "from sklearn.model_selection import train_test_split\n",
    "from collections import OrderedDict\n",
    "from sklearn.metrics import accuracy_score"
   ]
  },
  {
   "cell_type": "markdown",
   "metadata": {},
   "source": [
    "##【問題1】全結合層のクラス化\n",
    "\n",
    "全結合層のクラス化を行なってください。\n",
    "\n",
    "\n",
    "以下に雛形を載せました。コンストラクタで重みやバイアスの初期化をして、あとはフォワードとバックワードのメソッドを用意します。重みW、バイアスB、およびフォワード時の入力Xをインスタンス変数として保持しておくことで、煩雑な入出力は不要になります。\n",
    "\n",
    "\n",
    "なお、インスタンスも引数として渡すことができます。そのため、初期化方法のインスタンスinitializerをコンストラクタで受け取れば、それにより初期化が行われます。渡すインスタンスを変えれば、初期化方法が変えられます。\n",
    "\n",
    "\n",
    "また、引数として自身のインスタンスselfを渡すこともできます。これを利用してself.optimizer.update(self)という風に層の重みの更新が可能です。更新に必要な値は複数ありますが、全て全結合層が持つインスタンス変数にすることができます。\n",
    "\n",
    "\n",
    "初期化方法と最適化手法のクラスについては後述します。\n",
    "\n",
    "\n",
    "《雛形》\n",
    "\n",
    "    class FC:\n",
    "        \"\"\"\n",
    "        ノード数n_nodes1からn_nodes2への全結合層\n",
    "        Parameters\n",
    "    ----------\n",
    "    n_nodes1 : int\n",
    "      前の層のノード数\n",
    "    n_nodes2 : int\n",
    "      後の層のノード数\n",
    "    initializer : 初期化方法のインスタンス\n",
    "    optimizer : 最適化手法のインスタンス\n",
    "    \"\"\"\n",
    "    def __init__(self, n_nodes1, n_nodes2, initializer, optimizer):\n",
    "        self.optimizer = optimizer\n",
    "        # 初期化\n",
    "        # initializerのメソッドを使い、self.Wとself.Bを初期化する\n",
    "        pass\n",
    "    def forward(self, X):\n",
    "        \"\"\"\n",
    "        フォワード\n",
    "        Parameters\n",
    "        ----------\n",
    "        X : 次の形のndarray, shape (batch_size, n_nodes1)\n",
    "            入力\n",
    "        Returns\n",
    "        ----------\n",
    "        A : 次の形のndarray, shape (batch_size, n_nodes2)\n",
    "            出力\n",
    "        \"\"\"        \n",
    "        pass\n",
    "        return A\n",
    "    def backward(self, dA):\n",
    "        \"\"\"\n",
    "        バックワード\n",
    "        Parameters\n",
    "        ----------\n",
    "        dA : 次の形のndarray, shape (batch_size, n_nodes2)\n",
    "            後ろから流れてきた勾配\n",
    "        Returns\n",
    "        ----------\n",
    "        dZ : 次の形のndarray, shape (batch_size, n_nodes1)\n",
    "            前に流す勾配\n",
    "        \"\"\"\n",
    "        pass\n",
    "        # 更新\n",
    "        self = self.optimizer.update(self)\n",
    "        return dZ"
   ]
  },
  {
   "cell_type": "code",
   "execution_count": 453,
   "metadata": {
    "code_folding": [
     0
    ]
   },
   "outputs": [],
   "source": [
    "class FC:\n",
    "    \"\"\"\n",
    "    ノード数n_nodes1からn_nodes2への全結合層\n",
    "\n",
    "    \"\"\"\n",
    "    def __init__(self, n_nodes1, n_nodes2, initializer, optimizer):\n",
    "        self.optimizer = optimizer\n",
    "        self.W = initializer.W(n_nodes1, n_nodes2)\n",
    "        self.b = initializer.B(n_nodes2)\n",
    "        self.X = None\n",
    "        self.dW = None\n",
    "        self.db = None\n",
    "        \n",
    "    \n",
    "    \n",
    "    def forward(self, X):\n",
    "        \"\"\"\n",
    "        フォワード\n",
    "        Parameters\n",
    "        ----------\n",
    "        X : 次の形のndarray, shape (batch_size, n_nodes1)\n",
    "            入力\n",
    "        Returns\n",
    "        ----------\n",
    "        out : 次の形のndarray, shape (batch_size, n_nodes2)\n",
    "            出力\n",
    "        \"\"\"        \n",
    "        self.X = X # 保持\n",
    "        out = np.dot(X, self.W) + self.b\n",
    "        return out\n",
    "    \n",
    "    \n",
    "    def backward(self, dA):\n",
    "        \"\"\"\n",
    "        バックワード\n",
    "        Parameters\n",
    "        ----------\n",
    "        dA : 次の形のndarray, shape (batch_size, n_nodes2)\n",
    "            後ろから流れてきた勾配\n",
    "        Returns\n",
    "        ----------\n",
    "        dZ : 次の形のndarray, shape (batch_size, n_nodes1)\n",
    "            前に流す勾配\n",
    "        \"\"\"        \n",
    "        # 入力値の微分 = (逆伝播の)入力値 * 重みの転置\n",
    "        dX = np.dot(dA, self.W.T)\n",
    "        # 重みパラメータの微分 = 順伝播時の入力値の転置 * 逆伝播の入力値\n",
    "        self.dW = np.dot(self.X.T, dA)\n",
    "        # バイアスパラメータの微分 = 逆伝播の入力値の総和\n",
    "        self.db = np.sum(dA, axis=0)\n",
    "        # 更新\n",
    "        self = self.optimizer.update(self)\n",
    "        return dZ"
   ]
  },
  {
   "cell_type": "markdown",
   "metadata": {},
   "source": [
    "##【問題2】初期化方法のクラス化\n",
    "\n",
    "初期化を行うコードをクラス化してください。\n",
    "\n",
    "\n",
    "前述のように、全結合層のコンストラクタに初期化方法のインスタンスを渡せるようにします。以下の雛形に必要なコードを書き加えていってください。標準偏差の値（sigma）はコンストラクタで受け取るようにすることで、全結合層のクラス内にこの値（sigma）を渡さなくてすむようになります。\n",
    "\n",
    "\n",
    "これまで扱ってきた初期化方法はSimpleInitializerクラスと名付けることにします。\n",
    "\n",
    "\n",
    "《雛形》\n",
    "\n",
    "    class SimpleInitializer:\n",
    "        \"\"\"\n",
    "        ガウス分布によるシンプルな初期化\n",
    "        Parameters\n",
    "    ----------\n",
    "    sigma : float\n",
    "      ガウス分布の標準偏差\n",
    "    \"\"\"\n",
    "    def __init__(self, sigma):\n",
    "        self.sigma = sigma\n",
    "    def W(self, n_nodes1, n_nodes2):\n",
    "        \"\"\"\n",
    "        重みの初期化\n",
    "        Parameters\n",
    "        ----------\n",
    "        n_nodes1 : int\n",
    "          前の層のノード数\n",
    "        n_nodes2 : int\n",
    "          後の層のノード数\n",
    "\n",
    "        Returns\n",
    "        ----------\n",
    "        W :\n",
    "        \"\"\"\n",
    "        pass\n",
    "        return W\n",
    "    def B(self, n_nodes2):\n",
    "        \"\"\"\n",
    "        バイアスの初期化\n",
    "        Parameters\n",
    "        ----------\n",
    "        n_nodes2 : int\n",
    "          後の層のノード数\n",
    "\n",
    "        Returns\n",
    "        ----------\n",
    "        B :\n",
    "        \"\"\"\n",
    "        pass\n",
    "        return B\n"
   ]
  },
  {
   "cell_type": "code",
   "execution_count": 454,
   "metadata": {
    "code_folding": [
     0
    ]
   },
   "outputs": [],
   "source": [
    "class SimpleInitializer:\n",
    "    \"\"\"\n",
    "    ガウス分布によるシンプルな初期化\n",
    "    Parameters\n",
    "    ----------\n",
    "    sigma : float\n",
    "      ガウス分布の標準偏差\n",
    "    \"\"\"\n",
    "    def __init__(self, sigma):\n",
    "        self.sigma = sigma\n",
    "        \n",
    "        \n",
    "    def W(self, n_nodes1, n_nodes2):\n",
    "        \"\"\"\n",
    "        重みの初期化\n",
    "        Parameters\n",
    "        ----------\n",
    "        n_nodes1 : int\n",
    "          前の層のノード数\n",
    "        n_nodes2 : int\n",
    "          後の層のノード数\n",
    "\n",
    "        Returns\n",
    "        ----------\n",
    "        W :\n",
    "        \"\"\"\n",
    "        W = self.sigma * np.random.randn(n_nodes1, n_nodes2)\n",
    "        return W\n",
    "    def B(self, n_nodes2):\n",
    "        \"\"\"\n",
    "        バイアスの初期化\n",
    "        Parameters\n",
    "        ----------\n",
    "        n_nodes2 : int\n",
    "          後の層のノード数\n",
    "\n",
    "        Returns\n",
    "        ----------\n",
    "        B :\n",
    "        \"\"\"\n",
    "        B = np.zeros(n_nodes2)\n",
    "        return B"
   ]
  },
  {
   "cell_type": "markdown",
   "metadata": {},
   "source": [
    "##【問題3】最適化手法のクラス化\n",
    "\n",
    "最適化手法のクラス化を行なってください。\n",
    "\n",
    "\n",
    "最適化手法に関しても初期化方法同様に全結合層にインスタンスとして渡します。バックワードのときにself.optimizer.update(self)のように更新できるようにします。以下の雛形に必要なコードを書き加えていってください。\n",
    "\n",
    "\n",
    "これまで扱ってきた最適化手法はSGDクラス（Stochastic Gradient Descent、確率的勾配降下法）として作成します。\n",
    "\n",
    "\n",
    "雛形\n",
    "\n",
    "    class SGD:\n",
    "        \"\"\"\n",
    "        確率的勾配降下法\n",
    "        Parameters\n",
    "    ----------\n",
    "    lr : 学習率\n",
    "    \"\"\"\n",
    "    def __init__(self, lr):\n",
    "        self.lr = lr\n",
    "    def update(self, layer):\n",
    "        \"\"\"\n",
    "        ある層の重みやバイアスの更新\n",
    "        Parameters\n",
    "        ----------\n",
    "        layer : 更新前の層のインスタンス\n",
    "        \"\"\""
   ]
  },
  {
   "cell_type": "code",
   "execution_count": 455,
   "metadata": {
    "code_folding": [
     0
    ]
   },
   "outputs": [],
   "source": [
    "class SGD():\n",
    "    \"\"\"\n",
    "    確率的勾配降下法\n",
    "    Parameters\n",
    "    ----------\n",
    "    lr : 学習率\n",
    "    \"\"\"\n",
    "    \n",
    "    def __init__(self, lr = 0.01):\n",
    "        self.lr = lr\n",
    "\n",
    "    def update(self, layer):\n",
    "        \"\"\"\n",
    "        ある層の重みやバイアスの更新\n",
    "\n",
    "        \"\"\"\n",
    "        \n",
    "        # dW = 重みパラメータの微分\n",
    "        # db = バイアスパラメータの微分\n",
    "        layer.W -= self.lr * layer.dW\n",
    "        layer.b -= self.lr * layer.db"
   ]
  },
  {
   "cell_type": "markdown",
   "metadata": {},
   "source": [
    "##【問題4】活性化関数のクラス化\n",
    "\n",
    "活性化関数のクラス化を行なってください。\n",
    "\n",
    "\n",
    "ソフトマックス関数のバックプロパゲーションには交差エントロピー誤差の計算も含む実装を行うことで計算が簡略化されます。"
   ]
  },
  {
   "cell_type": "markdown",
   "metadata": {},
   "source": [
    "##発展的要素\n",
    "\n",
    "活性化関数や重みの初期値、最適化手法に関してこれまで見てきた以外のものを実装していきます。\n",
    "\n"
   ]
  },
  {
   "cell_type": "code",
   "execution_count": 456,
   "metadata": {
    "code_folding": [
     0,
     16,
     32,
     50
    ]
   },
   "outputs": [],
   "source": [
    "class Tangent():\n",
    "    def __init__(self):\n",
    "        self.out = None\n",
    "        \n",
    "    def forward(self, X):\n",
    "        out = np.tanh(X)\n",
    "        self.out = out\n",
    "        \n",
    "        return out\n",
    "    \n",
    "    def backward(self, dout):\n",
    "        dX = dout*(1 - self.out**2)\n",
    "        \n",
    "        return dX\n",
    "\n",
    "    \n",
    "class Sigmoid():\n",
    "    def __init__(self):\n",
    "        self.out = None\n",
    "        \n",
    "    def forward(self, X):\n",
    "        out = 1 / (1 + np.exp(-X))\n",
    "        self.out = out\n",
    "        \n",
    "        return out\n",
    "        \n",
    "    def backward(self, dout):\n",
    "        dX = dout*(1.0 - self.out) * self.out\n",
    "        \n",
    "        return dX\n",
    "\n",
    "    \n",
    "class Relu():\n",
    "    def __init__(self):\n",
    "        self.mask = None\n",
    "\n",
    "    def forward(self, X):\n",
    "        self.mask = (X <= 0)\n",
    "        out = X.copy()\n",
    "        out[self.mask] = 0\n",
    "\n",
    "        return out\n",
    "\n",
    "    def backward(self, dout):\n",
    "        dout[self.mask] = 0\n",
    "        dx = dout\n",
    "\n",
    "        return dx\n",
    "    \n",
    "    \n",
    "class Softmax():\n",
    "    def __init__(self):\n",
    "        self.loss = None\n",
    "        self.y = None\n",
    "        self.t = None\n",
    "    \n",
    "    def forward(self, X, t):\n",
    "        self.t = t\n",
    "        self.y = self.softmax(X)\n",
    "        self.loss = self.cross_entropy_error(self.y, self.t)\n",
    "        return self.loss \n",
    "    \n",
    "    def cross_entropy_error(self, y, t):\n",
    "        if t.size == y.size:\n",
    "            t = t.argmax(axis=1)\n",
    "            \n",
    "        batch_size = y.shape[0]\n",
    "        return -np.sum(t * np.log(y + 1e-7)) / batch_size\n",
    "\n",
    "    def softmax(self, X):\n",
    "        X = X - np.max(X, axis=-1, keepdims=True)\n",
    "        y = np.exp(X) / np.sum(np.exp(X), axis=-1, keepdims=True)\n",
    "        return y\n",
    "    \n",
    "    def backward(self, dout=1):\n",
    "        batch_size = self.t.shape[0]\n",
    "        dX = (self.y - self.t) / batch_size\n",
    "        return dX"
   ]
  },
  {
   "cell_type": "markdown",
   "metadata": {},
   "source": [
    "##【問題5】ReLUクラスの作成\n",
    "\n",
    "現在一般的に使われている活性化関数であるReLU（Rectified Linear Unit）をReLUクラスとして実装してください。\n",
    "\n",
    "\n",
    "ReLUは以下の数式です。\n",
    "\n",
    "$$f(x) = ReLU(x) = \\begin{cases}\n",
    "x  & \\text{if $x>0$,}\\\\\n",
    "0 & \\text{if $x\\leqq0$.}\n",
    "\\end{cases}$$\n",
    "\n",
    "$\n",
    "x\n",
    " $ : ある特徴量。スカラー\n",
    "\n",
    "\n",
    "実装上はnp.maximumを使い配列に対してまとめて計算が可能です。\n",
    "\n",
    "\n",
    "numpy.maximum — NumPy v1.15 Manual\n",
    "\n",
    "\n",
    "一方、バックプロパゲーションのための $\n",
    "x\n",
    "$ に関する $\n",
    "f\n",
    "(\n",
    "x\n",
    ")\n",
    " $の微分は以下のようになります。\n",
    " \n",
    " $$\\frac{\\partial f(x)}{\\partial x} = \\begin{cases}\n",
    "1  & \\text{if $x>0$,}\\\\\n",
    "0 & \\text{if $x\\leqq0$.}\n",
    "\\end{cases}$$\n",
    "\n",
    "数学的には微分可能ではないですが、 $\n",
    "x\n",
    "=$\n",
    "0\n",
    " のとき \n",
    "0\n",
    " とすることで対応しています。\n",
    "\n",
    "\n",
    "フォワード時の $\n",
    "x\n",
    "$ の正負により、勾配を逆伝播するかどうかが決まるということになります。"
   ]
  },
  {
   "cell_type": "code",
   "execution_count": 457,
   "metadata": {
    "code_folding": [
     0
    ]
   },
   "outputs": [],
   "source": [
    "class Relu():\n",
    "    def __init__(self):\n",
    "        self.re = None\n",
    "\n",
    "    def forward(self, X):\n",
    "        self.re = (X <= 0) # Xが0以下True, その他False\n",
    "        out = X.copy() # X配列コピー\n",
    "        out[self.re] = 0 # Trueを0に\n",
    "\n",
    "        return out\n",
    "\n",
    "    def backward(self, dout):\n",
    "        dout[self.re] = 0 # X <= 0がtrueはdoutも0で流す。それ以外はそのまま\n",
    "        dx = dout\n",
    "\n",
    "        return dx"
   ]
  },
  {
   "cell_type": "code",
   "execution_count": 458,
   "metadata": {},
   "outputs": [
    {
     "name": "stdout",
     "output_type": "stream",
     "text": [
      "[[ 1.  -0.5]\n",
      " [-2.   3. ]]\n"
     ]
    },
    {
     "data": {
      "text/plain": [
       "array([[1., 0.],\n",
       "       [0., 3.]])"
      ]
     },
     "execution_count": 458,
     "metadata": {},
     "output_type": "execute_result"
    }
   ],
   "source": [
    "r = Relu()\n",
    "X = np.array([[1.0, -0.5], [-2.0, 3.0]])\n",
    "print(X)\n",
    "r.forward(X)"
   ]
  },
  {
   "cell_type": "code",
   "execution_count": 459,
   "metadata": {},
   "outputs": [
    {
     "data": {
      "text/plain": [
       "array([[1., 0.],\n",
       "       [0., 3.]])"
      ]
     },
     "execution_count": 459,
     "metadata": {},
     "output_type": "execute_result"
    }
   ],
   "source": [
    "r.backward(X)"
   ]
  },
  {
   "cell_type": "markdown",
   "metadata": {},
   "source": [
    "##【問題6】重みの初期値\n",
    "\n",
    "ここまでは重みやバイアスの初期値は単純にガウス分布で、標準偏差をハイパーパラメータとして扱ってきました。しかし、どのような値にすると良いかが知られています。**シグモイド関数やハイパボリックタンジェント関数のときは Xavierの初期値 （またはGlorotの初期値）、ReLUのときは Heの初期値**が使われます。\n",
    "\n",
    "\n",
    "XavierInitializerクラスと、HeInitializerクラスを作成してください。\n",
    "\n"
   ]
  },
  {
   "cell_type": "markdown",
   "metadata": {},
   "source": [
    "##Xavierの初期値\n",
    "\n",
    "Xavierの初期値における標準偏差 $\n",
    "σ\n",
    " $は次の式で求められます。\n",
    "\n",
    "$$\\sigma = \\frac{1}{\\sqrt{n}}$$\n",
    "\n",
    "$\n",
    "n\n",
    "$ : 前の層のノード数\n",
    "\n",
    "\n",
    "《論文》\n",
    "\n",
    "\n",
    "[Glorot, X., & Bengio, Y. (n.d.). Understanding the difficulty of training deep feedforward neural networks.](http://proceedings.mlr.press/v9/glorot10a/glorot10a.pdf)\n"
   ]
  },
  {
   "cell_type": "code",
   "execution_count": 460,
   "metadata": {},
   "outputs": [
    {
     "name": "stdout",
     "output_type": "stream",
     "text": [
      "[[-0.02545473 -0.05222828 -0.05924382 ...  0.05443918 -0.03569927\n",
      "  -0.08462216]\n",
      " [ 0.0163612   0.10750198  0.09432884 ... -0.04194449  0.0650574\n",
      "   0.08135153]\n",
      " [-0.19610319  0.05757095  0.01815883 ...  0.01689613  0.11391467\n",
      "   0.03102198]\n",
      " ...\n",
      " [-0.08915606  0.00340409 -0.03324871 ...  0.06041643 -0.07339099\n",
      "  -0.04247029]\n",
      " [ 0.10694668 -0.08118332  0.10670233 ... -0.01727104  0.10587765\n",
      "  -0.08071005]\n",
      " [ 0.05163821 -0.13084516 -0.08043983 ... -0.08180163  0.00622774\n",
      "   0.04760624]]\n",
      "[0. 0. 0. 0. 0. 0. 0. 0. 0. 0. 0. 0. 0. 0. 0. 0. 0. 0. 0. 0. 0. 0. 0. 0.\n",
      " 0. 0. 0. 0. 0. 0. 0. 0. 0. 0. 0. 0. 0. 0. 0. 0. 0. 0. 0. 0. 0. 0. 0. 0.\n",
      " 0. 0.]\n"
     ]
    }
   ],
   "source": [
    "n_nodes1 = 100\n",
    "n_nodes2 = 50\n",
    "\n",
    "W = np.random.randn(n_nodes1, n_nodes1) * np.sqrt(1.0 / n_nodes1)\n",
    "B = np.zeros(n_nodes2)\n",
    "\n",
    "print(W)\n",
    "print(B)"
   ]
  },
  {
   "cell_type": "code",
   "execution_count": 461,
   "metadata": {
    "code_folding": [
     0
    ]
   },
   "outputs": [],
   "source": [
    "class Xa:\n",
    "    def __init__(self):\n",
    "        self.sigma = None\n",
    "    # 重みXavierの初期値\n",
    "    def W(self,n_nodes1, n_nodes2):\n",
    "        self.sigma = np.sqrt(1.0 /n_nodes1)\n",
    "        W = self.sigma * np.random.randn(n_nodes1, n_nodes2)\n",
    "        return W\n",
    "    \n",
    "    # バイアスXavierの初期値\n",
    "    def B(self,n_nodes2):\n",
    "        B = np.zeros(n_nodes2)\n",
    "        return B\n",
    "    "
   ]
  },
  {
   "cell_type": "code",
   "execution_count": 462,
   "metadata": {},
   "outputs": [
    {
     "name": "stdout",
     "output_type": "stream",
     "text": [
      "[[-0.07595512 -0.03773669 -0.06574965 ...  0.12712779  0.03825179\n",
      "   0.07517853]\n",
      " [-0.23610904  0.1757041  -0.04954988 ...  0.07222684  0.08624101\n",
      "  -0.03895452]\n",
      " [-0.05515574  0.16588395  0.13044192 ... -0.0472475   0.04422224\n",
      "   0.06078262]\n",
      " ...\n",
      " [-0.17066118 -0.01252444  0.09609024 ...  0.01219337  0.01020999\n",
      "  -0.09391865]\n",
      " [ 0.08884957 -0.14953992  0.20709231 ...  0.01993056 -0.02562784\n",
      "  -0.03058842]\n",
      " [-0.13063644 -0.08104448  0.05122479 ...  0.10737502 -0.00518379\n",
      "   0.06052356]]\n"
     ]
    },
    {
     "data": {
      "text/plain": [
       "array([0., 0., 0., 0., 0., 0., 0., 0., 0., 0., 0., 0., 0., 0., 0., 0., 0.,\n",
       "       0., 0., 0., 0., 0., 0., 0., 0., 0., 0., 0., 0., 0., 0., 0., 0., 0.,\n",
       "       0., 0., 0., 0., 0., 0., 0., 0., 0., 0., 0., 0., 0., 0., 0., 0.])"
      ]
     },
     "execution_count": 462,
     "metadata": {},
     "output_type": "execute_result"
    }
   ],
   "source": [
    "n_nodes1 = 100\n",
    "n_nodes2 = 50\n",
    "x = Xavier()\n",
    "print(x.W(n_nodes1,n_nodes2))\n",
    "x.B(n_nodes2)"
   ]
  },
  {
   "cell_type": "markdown",
   "metadata": {},
   "source": [
    "##Heの初期値\n",
    "\n",
    "Heの初期値における標準偏差 $\n",
    "σ\n",
    "$ は次の式で求められます。\n",
    "\n",
    "$$\\sigma = \\sqrt{\\frac{2}{n}}$$\n",
    "\n",
    "$\n",
    "n\n",
    "$ : 前の層のノード数\n",
    "\n",
    "\n",
    "《論文》\n",
    "\n",
    "\n",
    "[He, K., Zhang, X., Ren, S., & Sun, J. (2015). Delving Deep into Rectifiers: Surpassing Human-Level Performance on ImageNet Classification.](https://arxiv.org/pdf/1502.01852.pdf)"
   ]
  },
  {
   "cell_type": "code",
   "execution_count": 463,
   "metadata": {},
   "outputs": [
    {
     "data": {
      "text/plain": [
       "array([[ 0.1137009 , -0.05312567, -0.04245601, ..., -0.08429376,\n",
       "        -0.08493217,  0.21158113],\n",
       "       [-0.03571319,  0.08022964, -0.01614997, ...,  0.04313805,\n",
       "        -0.13537523, -0.03444894],\n",
       "       [ 0.04626939,  0.16924931, -0.01502614, ..., -0.02038165,\n",
       "        -0.15700654,  0.06888967],\n",
       "       ...,\n",
       "       [-0.26096115, -0.14325132,  0.16042525, ..., -0.00221963,\n",
       "        -0.17699754,  0.06666529],\n",
       "       [ 0.08330453, -0.20195569, -0.02559002, ...,  0.14721267,\n",
       "         0.1156399 ,  0.09380904],\n",
       "       [-0.10081599, -0.10709278,  0.11828361, ..., -0.02549647,\n",
       "        -0.17547366, -0.0115739 ]])"
      ]
     },
     "execution_count": 463,
     "metadata": {},
     "output_type": "execute_result"
    }
   ],
   "source": [
    "n_nodes1 = 100\n",
    "n_nodes2 = 50\n",
    "\n",
    "\n",
    "W = np.random.randn(n_nodes1, n_nodes1) * np.sqrt(2.0 / n_nodes1)\n",
    "\n",
    "W"
   ]
  },
  {
   "cell_type": "code",
   "execution_count": 464,
   "metadata": {
    "code_folding": [
     0
    ]
   },
   "outputs": [],
   "source": [
    "class He:\n",
    "    def __init__(self):\n",
    "        self.sigma = None\n",
    "    \n",
    "    def W(self,n_nodes1, n_nodes2):\n",
    "        self.sigma = np.sqrt(2.0 / n_nodes1)\n",
    "        W = self.sigma * np.random.randn(n_nodes1, n_nodes2)\n",
    "        return W\n",
    "    \n",
    "    def B(self,n_nodes2):\n",
    "        B = np.zeros(n_nodes2)\n",
    "        return B\n",
    "    "
   ]
  },
  {
   "cell_type": "code",
   "execution_count": 465,
   "metadata": {},
   "outputs": [
    {
     "name": "stdout",
     "output_type": "stream",
     "text": [
      "[[ 0.16945174  0.25662846 -0.01315376 ... -0.2452924   0.06994103\n",
      "   0.0981642 ]\n",
      " [ 0.15795478  0.11723232  0.03405146 ...  0.01810344 -0.09997677\n",
      "  -0.07646797]\n",
      " [-0.02771997  0.18556229 -0.12988063 ... -0.0016957   0.16040818\n",
      "  -0.06728946]\n",
      " ...\n",
      " [ 0.19604049  0.14806505 -0.07867793 ...  0.25480248  0.29266877\n",
      "   0.06650376]\n",
      " [ 0.00916931  0.06298648 -0.29070344 ...  0.06301895  0.07153287\n",
      "   0.03745853]\n",
      " [-0.10338742 -0.11624144  0.00871033 ... -0.11570483  0.20120921\n",
      "   0.12616958]]\n"
     ]
    },
    {
     "data": {
      "text/plain": [
       "array([0., 0., 0., 0., 0., 0., 0., 0., 0., 0., 0., 0., 0., 0., 0., 0., 0.,\n",
       "       0., 0., 0., 0., 0., 0., 0., 0., 0., 0., 0., 0., 0., 0., 0., 0., 0.,\n",
       "       0., 0., 0., 0., 0., 0., 0., 0., 0., 0., 0., 0., 0., 0., 0., 0.])"
      ]
     },
     "execution_count": 465,
     "metadata": {},
     "output_type": "execute_result"
    }
   ],
   "source": [
    "n_nodes1 = 100\n",
    "n_nodes2 = 50\n",
    "h = He()\n",
    "print(h.W(n_nodes1,n_nodes2))\n",
    "h.B(n_nodes2)"
   ]
  },
  {
   "cell_type": "code",
   "execution_count": 466,
   "metadata": {
    "code_folding": [
     0
    ]
   },
   "outputs": [],
   "source": [
    "class XaHe:\n",
    "    def __init__(self,weight = \"relu\"):\n",
    "        self.sigma = None\n",
    "        \n",
    "    def W(self,n_nodes1, n_nodes2, weight=\"relu\"):\n",
    "        if str(weight).lower() in (\"relu\",\"he\"):\n",
    "            self.sigma = np.sqrt(2.0 / n_nodes1)\n",
    "        else:\n",
    "            self.sigma = np.sqrt(1.0 / n_nodes1)\n",
    "        return self.sigma * np.random.randn(n_nodes1, n_nodes2)\n",
    "    \n",
    "    def B(self,n_nodes2):\n",
    "        B = np.zeros(n_nodes2)\n",
    "        return B"
   ]
  },
  {
   "cell_type": "code",
   "execution_count": 467,
   "metadata": {},
   "outputs": [
    {
     "data": {
      "text/plain": [
       "array([[-0.11812177, -0.06118408,  0.31981648, ..., -0.19414065,\n",
       "         0.00147421,  0.11787149],\n",
       "       [ 0.16648452, -0.0646948 ,  0.13095929, ..., -0.02291938,\n",
       "        -0.06520607, -0.10504736],\n",
       "       [ 0.26578159, -0.11082851,  0.08272409, ..., -0.12499598,\n",
       "        -0.20683998, -0.17650477],\n",
       "       ...,\n",
       "       [ 0.06293136, -0.11198514, -0.18561754, ...,  0.01920316,\n",
       "         0.0162983 ,  0.04304205],\n",
       "       [ 0.13762489,  0.09148703, -0.15722044, ..., -0.14090796,\n",
       "        -0.39920156, -0.27217435],\n",
       "       [-0.32030991, -0.33134014,  0.1845845 , ..., -0.07180986,\n",
       "        -0.0626317 ,  0.07653759]])"
      ]
     },
     "execution_count": 467,
     "metadata": {},
     "output_type": "execute_result"
    }
   ],
   "source": [
    "n_nodes1 = 100\n",
    "n_nodes2 = 50\n",
    "\n",
    "xh = XaHe()\n",
    "xh.W(n_nodes1,n_nodes2)"
   ]
  },
  {
   "cell_type": "code",
   "execution_count": 468,
   "metadata": {},
   "outputs": [
    {
     "data": {
      "text/plain": [
       "array([[ 0.03410818,  0.05407139,  0.10603512, ..., -0.05602699,\n",
       "        -0.11899521,  0.16384215],\n",
       "       [ 0.24422587,  0.05067346, -0.00768257, ...,  0.02416897,\n",
       "        -0.02647679,  0.01644473],\n",
       "       [ 0.0995582 , -0.11971915,  0.09326708, ..., -0.02169568,\n",
       "         0.08804552,  0.38706065],\n",
       "       ...,\n",
       "       [ 0.09426679, -0.05874599,  0.07908557, ...,  0.05724648,\n",
       "        -0.02127589,  0.07762253],\n",
       "       [-0.10160777,  0.0552524 ,  0.01569049, ..., -0.09852118,\n",
       "        -0.05262311, -0.23273073],\n",
       "       [-0.05226161,  0.08035758, -0.07698241, ...,  0.00106318,\n",
       "         0.10423705, -0.13227817]])"
      ]
     },
     "execution_count": 468,
     "metadata": {},
     "output_type": "execute_result"
    }
   ],
   "source": [
    "n_nodes1 = 100\n",
    "n_nodes2 = 50\n",
    "\n",
    "xh = XaHe(weight = \"sig\")\n",
    "xh.W(n_nodes1,n_nodes2)"
   ]
  },
  {
   "cell_type": "markdown",
   "metadata": {},
   "source": [
    "##【問題7】最適化手法\n",
    "\n",
    "学習率は学習過程で変化させていく方法が一般的です。基本的な手法である AdaGrad のクラスを作成してください。\n",
    "\n",
    "\n",
    "まず、これまで使ってきたSGDを確認します。\n",
    "\n",
    "$$W_i^{\\prime} = W_i - \\alpha E(\\frac{\\partial L}{\\partial W_i}) \\\\\n",
    "B_i^{\\prime} = B_i - \\alpha E(\\frac{\\partial L}{\\partial B_i})$$\n",
    "\n",
    "$\n",
    "α\n",
    " $: 学習率（層ごとに変えることも可能だが、基本的には全て同じとする）\n",
    " \n",
    "\n",
    "$\\frac{\\partial L}{\\partial W_i}$  :$\n",
    "W\n",
    "i\n",
    "$ に関する損失 $\n",
    "L\n",
    "$ の勾配\n",
    "\n",
    "$\\frac{\\partial L}{\\partial B_i}$\n",
    " : $\n",
    "B\n",
    "i\n",
    "$ に関する損失 $\n",
    "L\n",
    " $の勾配\n",
    "\n",
    "\n",
    "\n",
    "$\n",
    "E\n",
    "(\n",
    ")\n",
    "$ : ミニバッチ方向にベクトルの平均を計算\n",
    "\n",
    "\n",
    "続いて、AdaGradです。バイアスの数式は省略しますが、重みと同様のことをします。\n",
    "\n",
    "\n",
    "更新された分だけその重みに対する学習率を徐々に下げていきます。イテレーションごとの勾配の二乗和 \n",
    "H\n",
    " を保存しておき、その分だけ学習率を小さくします。\n",
    "\n",
    "\n",
    "学習率は重み一つひとつに対して異なることになります。\n",
    "\n",
    "\n",
    "$$ H_i^{\\prime}  = H_i+E(\\frac{\\partial L}{\\partial W_i})×E(\\frac{\\partial L}{\\partial W_i})\\\\\n",
    "W_i^{\\prime} = W_i - \\alpha \\frac{1}{\\sqrt{H_i^{\\prime} }} E(\\frac{\\partial L}{\\partial W_i}) \\\\ $$\n",
    "\n",
    "$\n",
    "H\n",
    "i\n",
    " $: i層目に関して、前のイテレーションまでの勾配の二乗和（初期値は0）\n",
    "\n",
    "$\n",
    "H\n",
    "′\n",
    "i\n",
    "$ : 更新した $\n",
    "H\n",
    "i\n",
    "$\n",
    "\n",
    "\n",
    "《論文》\n",
    "[Duchi JDUCHI, J., & Singer, Y. (2011). Adaptive Subgradient Methods for Online Learning and Stochastic Optimization * Elad Hazan. Journal of Machine Learning Research (Vol. 12).](https://www.jmlr.org/papers/volume12/duchi11a/duchi11a.pdf)"
   ]
  },
  {
   "cell_type": "code",
   "execution_count": 469,
   "metadata": {
    "code_folding": [
     0
    ]
   },
   "outputs": [],
   "source": [
    "class AdaGrad:\n",
    "    def __init__(self, lr=0.01):\n",
    "        self.lr = lr\n",
    "        self.h = None\n",
    "        \n",
    "    def update(self, layer):\n",
    "        if (self.h_W is None) and (self.h_b is None):\n",
    "            self.h_W = 0\n",
    "            self.h_b = 0\n",
    "        \n",
    "        self.h_W += (layer.dW ** 2).sum()\n",
    "        self.h_b += (layer.db ** 2).sum()\n",
    "        layer.W -= self.lr * layer.dW / (np.sqrt(self.h_W) + 1e-7)\n",
    "        layer.b -= self.lr * layer.db / (np.sqrt(self.h_b) + 1e-7)"
   ]
  },
  {
   "cell_type": "markdown",
   "metadata": {},
   "source": [
    "##前処理"
   ]
  },
  {
   "cell_type": "code",
   "execution_count": 470,
   "metadata": {},
   "outputs": [
    {
     "name": "stdout",
     "output_type": "stream",
     "text": [
      "1.0\n",
      "0.0\n"
     ]
    }
   ],
   "source": [
    "from keras.datasets import mnist\n",
    "(X_train, y_train), (X_test, y_test) = mnist.load_data()\n",
    "\n",
    "X_train = X_train.reshape(-1, 784)\n",
    "X_test = X_test.reshape(-1, 784)\n",
    "X_train = X_train.astype(np.float)\n",
    "X_test = X_test.astype(np.float)\n",
    "X_train /= 255\n",
    "X_test /= 255\n",
    "print(X_train.max()) # 1.0\n",
    "print(X_train.min()) # 0.0"
   ]
  },
  {
   "cell_type": "code",
   "execution_count": 471,
   "metadata": {},
   "outputs": [
    {
     "name": "stdout",
     "output_type": "stream",
     "text": [
      "(60000,)\n",
      "(60000, 10)\n",
      "float64\n"
     ]
    }
   ],
   "source": [
    "from sklearn.preprocessing import OneHotEncoder\n",
    "enc = OneHotEncoder(handle_unknown='ignore', sparse=False)\n",
    "y_train_one_hot = enc.fit_transform(y_train[:, np.newaxis])\n",
    "y_test_one_hot = enc.transform(y_test[:, np.newaxis])\n",
    "print(y_train.shape) # (60000,)\n",
    "print(y_train_one_hot.shape) # (60000, 10)\n",
    "print(y_train_one_hot.dtype) # float64"
   ]
  },
  {
   "cell_type": "code",
   "execution_count": 472,
   "metadata": {},
   "outputs": [
    {
     "name": "stdout",
     "output_type": "stream",
     "text": [
      "(48000, 784)\n",
      "(12000, 784)\n"
     ]
    }
   ],
   "source": [
    "from sklearn.model_selection import train_test_split\n",
    "X_train, X_val, y_train, y_val = train_test_split(X_train, y_train_one_hot, test_size=0.2)\n",
    "print(X_train.shape) # (48000, 784)\n",
    "print(X_val.shape) # (12000, 784)"
   ]
  },
  {
   "cell_type": "code",
   "execution_count": 473,
   "metadata": {},
   "outputs": [],
   "source": [
    "\n",
    "y_train = y_train.astype(int)\n",
    "y_val = y_val.astype(int)"
   ]
  },
  {
   "cell_type": "markdown",
   "metadata": {},
   "source": [
    "##【問題8】クラスの完成\n",
    "\n",
    "任意の構成で学習と推定が行えるScratchDeepNeuralNetrowkClassifierクラスを完成させてください。"
   ]
  },
  {
   "cell_type": "code",
   "execution_count": 474,
   "metadata": {
    "code_folding": []
   },
   "outputs": [],
   "source": [
    "class FC:\n",
    "    \"\"\"\n",
    "    ノード数n_nodes1からn_nodes2への全結合層\n",
    "\n",
    "    \"\"\"\n",
    "    def __init__(self, n_nodes1, n_nodes2, initializer, optimizer):\n",
    "        self.optimizer = optimizer\n",
    "        # W,bを初期化\n",
    "        self.W = initializer.W(n_nodes1, n_nodes2)\n",
    "        self.b = initializer.B(n_nodes2)\n",
    "        self.X = None\n",
    "        self.dW = None\n",
    "        self.db = None\n",
    "        \n",
    "    \n",
    "    \n",
    "    def forward(self, X):\n",
    "        \"\"\"\n",
    "        フォワード\n",
    "        Parameters\n",
    "        ----------\n",
    "        X : 次の形のndarray, shape (batch_size, n_nodes1)\n",
    "            入力\n",
    "        Returns\n",
    "        ----------\n",
    "        out : 次の形のndarray, shape (batch_size, n_nodes2)\n",
    "            出力\n",
    "        \"\"\"        \n",
    "        self.X = X\n",
    "        out = np.dot(X, self.W) + self.b\n",
    "        return out\n",
    "    \n",
    "    \n",
    "    def backward(self, dA):\n",
    "        \"\"\"\n",
    "        バックワード\n",
    "        Parameters\n",
    "        ----------\n",
    "        dA : 次の形のndarray, shape (batch_size, n_nodes2)\n",
    "            後ろから流れてきた勾配\n",
    "        Returns\n",
    "        ----------\n",
    "        dZ : 次の形のndarray, shape (batch_size, n_nodes1)\n",
    "            前に流す勾配\n",
    "        \"\"\"\n",
    "        batch_size = dA.shape[0]\n",
    "        dX = np.dot(dA, self.W.T)\n",
    "        self.dW = np.dot(self.X.T, dA) #/ batch_size\n",
    "        self.db = np.sum(dA, axis=0) #/ batch_size\n",
    "        # 更新\n",
    "        self = self.optimizer.update(self)\n",
    "        return dX"
   ]
  },
  {
   "cell_type": "code",
   "execution_count": 475,
   "metadata": {
    "code_folding": [
     0
    ]
   },
   "outputs": [],
   "source": [
    "class SimpleInitializer:\n",
    "    \"\"\"\n",
    "    ガウス分布によるシンプルな初期化\n",
    "    Parameters\n",
    "    ----------\n",
    "    sigma : float\n",
    "      ガウス分布の標準偏差\n",
    "    \"\"\"\n",
    "    def __init__(self, sigma):\n",
    "        self.sigma = sigma\n",
    "        \n",
    "        \n",
    "    def W(self, n_nodes1, n_nodes2):\n",
    "        \"\"\"\n",
    "        重みの初期化\n",
    "        Parameters\n",
    "        ----------\n",
    "        n_nodes1 : int\n",
    "          前の層のノード数\n",
    "        n_nodes2 : int\n",
    "          後の層のノード数\n",
    "\n",
    "        Returns\n",
    "        ----------\n",
    "        W :\n",
    "        \"\"\"\n",
    "        W = self.sigma * np.random.randn(n_nodes1, n_nodes2)\n",
    "        return W\n",
    "    def B(self, n_nodes2):\n",
    "        \"\"\"\n",
    "        バイアスの初期化\n",
    "        Parameters\n",
    "        ----------\n",
    "        n_nodes2 : int\n",
    "          後の層のノード数\n",
    "\n",
    "        Returns\n",
    "        ----------\n",
    "        B :\n",
    "        \"\"\"\n",
    "        B = np.zeros(n_nodes2)\n",
    "        return B"
   ]
  },
  {
   "cell_type": "code",
   "execution_count": 476,
   "metadata": {
    "code_folding": [
     0,
     14,
     18
    ]
   },
   "outputs": [],
   "source": [
    "class Xa:\n",
    "    def __init__(self):\n",
    "        self.sigma = None\n",
    "    \n",
    "    def W(self,n_nodes1, n_nodes2):\n",
    "        self.sigma = np.sqrt(1.0 /n_nodes1)\n",
    "        W = self.sigma * np.random.randn(n_nodes1, n_nodes2)\n",
    "        return W\n",
    "    \n",
    "    def B(self,n_nodes2):\n",
    "        B = np.zeros(n_nodes2)\n",
    "        return B\n",
    "    \n",
    "    \n",
    "class He:\n",
    "    def __init__(self):\n",
    "        self.sigma = None\n",
    "    \n",
    "    def W(self,n_nodes1, n_nodes2):\n",
    "        self.sigma = np.sqrt(2.0 / n_nodes1)\n",
    "        W = self.sigma * np.random.randn(n_nodes1, n_nodes2)\n",
    "        return W\n",
    "    \n",
    "    def B(self,n_nodes2):\n",
    "        B = np.zeros(n_nodes2)\n",
    "        return B"
   ]
  },
  {
   "cell_type": "code",
   "execution_count": 477,
   "metadata": {
    "code_folding": [
     0,
     16,
     32,
     50
    ]
   },
   "outputs": [],
   "source": [
    "class Tangent():\n",
    "    def __init__(self):\n",
    "        self.out = None\n",
    "        \n",
    "    def forward(self, X):\n",
    "        out = np.tanh(X)\n",
    "        self.out = out\n",
    "        \n",
    "        return out\n",
    "    \n",
    "    def backward(self, dout):\n",
    "        dX = dout*(1 - self.out**2)\n",
    "        \n",
    "        return dX\n",
    "\n",
    "    \n",
    "class Sigmoid():\n",
    "    def __init__(self):\n",
    "        self.out = None\n",
    "        \n",
    "    def forward(self, X):\n",
    "        out = 1 / (1 + np.exp(-X))\n",
    "        self.out = out\n",
    "        \n",
    "        return out\n",
    "        \n",
    "    def backward(self, dout):\n",
    "        dX = dout*(1.0 - self.out) * self.out\n",
    "        \n",
    "        return dX\n",
    "\n",
    "    \n",
    "class Relu():\n",
    "    def __init__(self):\n",
    "        self.mask = None\n",
    "\n",
    "    def forward(self, X):\n",
    "        self.mask = (X <= 0)\n",
    "        out = X.copy()\n",
    "        out[self.mask] = 0\n",
    "\n",
    "        return out\n",
    "\n",
    "    def backward(self, dout):\n",
    "        dout[self.mask] = 0\n",
    "        dx = dout\n",
    "\n",
    "        return dx\n",
    "    \n",
    "    \n",
    "class Softmax():\n",
    "    def __init__(self):\n",
    "        self.loss = None\n",
    "        self.y = None\n",
    "        self.t = None\n",
    "    \n",
    "    def forward(self, X, t):\n",
    "        self.t = t\n",
    "        self.y = self.softmax(X)\n",
    "        self.loss = self.cross_entropy_error(self.y, self.t)\n",
    "        return self.loss \n",
    "    \n",
    "    def cross_entropy_error(self, y, t):     \n",
    "        batch_size = y.shape[0]\n",
    "\n",
    "        return -np.sum(t * np.log(y + 1e-7)) / batch_size\n",
    "\n",
    "    def softmax(self, X):\n",
    "        X = X - np.max(X, axis=-1, keepdims=True)\n",
    "        y = np.exp(X) / np.sum(np.exp(X), axis=-1, keepdims=True)\n",
    "        return y\n",
    "    \n",
    "    def backward(self, dout=1):\n",
    "        batch_size = self.t.shape[0]\n",
    "        dX = (self.y - self.t) / batch_size\n",
    "        return dX"
   ]
  },
  {
   "cell_type": "code",
   "execution_count": 501,
   "metadata": {
    "code_folding": [
     0
    ]
   },
   "outputs": [],
   "source": [
    "class SGD():\n",
    "    \"\"\"\n",
    "    確率的勾配降下法\n",
    "    Parameters\n",
    "    ----------\n",
    "    lr : 学習率\n",
    "    \"\"\"\n",
    "    \n",
    "    def __init__(self, lr = 0.01):\n",
    "        self.lr = lr\n",
    "\n",
    "    def update(self, layer):\n",
    "        \"\"\"\n",
    "        ある層の重みやバイアスの更新\n",
    "\n",
    "        \"\"\"\n",
    "        layer.W -= self.lr * layer.dW\n",
    "        layer.b -= self.lr * layer.db\n",
    "        \n",
    "        \n",
    "class AdaGrad:\n",
    "    def __init__(self, lr=0.01):\n",
    "        self.lr = lr\n",
    "        self.h_W = None\n",
    "        self.h_b = None\n",
    "        \n",
    "    def update(self, layer):\n",
    "        if (self.h_W is None) and (self.h_b is None):\n",
    "            self.h_W = 0\n",
    "            self.h_b = 0\n",
    "        \n",
    "        self.h_W += (layer.dW ** 2).sum()\n",
    "        self.h_b += (layer.db ** 2).sum()\n",
    "        layer.W -= self.lr * layer.dW / (np.sqrt(self.h_W) + 1e-7)\n",
    "        layer.b -= self.lr * layer.db / (np.sqrt(self.h_b) + 1e-7)"
   ]
  },
  {
   "cell_type": "code",
   "execution_count": 502,
   "metadata": {
    "code_folding": []
   },
   "outputs": [],
   "source": [
    "class ScratchDeepNeuralNetrowk(object):\n",
    "    \"\"\"\n",
    "    全結合による多層ニューラルネットワーク\n",
    "    \"\"\"\n",
    "    \n",
    "    def __init__(self, lr, verbose=True, batch_size=20, max_iter=3):\n",
    "        self.verbose = verbose\n",
    "        self.batch_size = batch_size\n",
    "        self.max_iter = max_iter\n",
    "        self.train_loss = []\n",
    "        self.test_loss = []\n",
    "        \n",
    "        # レイヤの生成\n",
    "        initializer = He()\n",
    "        optimizer = SGD(lr=lr)\n",
    "        self.layers = OrderedDict()\n",
    "        \n",
    "        self.layers[\"FC1\"] = FC(784, 100, initializer, optimizer)\n",
    "        \n",
    "        self.layers[\"ReLU\"] = Relu()\n",
    "        \n",
    "        self.layers[\"FC2\"] = FC(100, 50, initializer, optimizer)\n",
    "        \n",
    "        self.layers[\"Relu\"] = Relu()\n",
    "        \n",
    "        self.layers[\"FC3\"] = FC(50, 10, initializer, optimizer)\n",
    "        \n",
    "        self.lastLayer = Softmax()\n",
    "        \n",
    "        \n",
    "    def fit(self, X, y, X_val=None, y_val=None):\n",
    "        \"\"\"\n",
    "        ニューラルネットワーク分類器を学習する。\n",
    "\n",
    "        Parameters\n",
    "        ----------\n",
    "        X : 次の形のndarray, shape (n_samples, n_features)\n",
    "            訓練データの特徴量\n",
    "        y : 次の形のndarray, shape (n_samples, )\n",
    "            訓練データの正解値\n",
    "        X_val : 次の形のndarray, shape (n_samples, n_features)\n",
    "            検証データの特徴量\n",
    "        y_val : 次の形のndarray, shape (n_samples, )\n",
    "            検証データの正解値\n",
    "        \"\"\"\n",
    "        # 1エポック当たりの繰り返し回数\n",
    "        iter_per_epoch = 1000\n",
    "        # エポック複数繰り返す\n",
    "        for _  in range(self.max_iter):\n",
    "            \n",
    "            # 1エポック\n",
    "            for i in range(iter_per_epoch):\n",
    "                #損失計算用のリスト\n",
    "                s_list = []\n",
    "                \n",
    "                batch_mask = np.random.choice(X.shape[0], self.batch_size)\n",
    "                X_batch = X[batch_mask]\n",
    "                y_batch = y[batch_mask]\n",
    "                \n",
    "                #勾配\n",
    "                self._gradient(X_batch, y_batch)\n",
    "                    \n",
    "                loss = self._loss(X_batch, y_batch)\n",
    "                s_list.append(loss)\n",
    "        \n",
    "                if self.verbose:\n",
    "                    #verboseをTrueにした際は学習過程などを出力する\n",
    "                    print(loss)\n",
    "                        \n",
    "            self.train_loss.append(loss)\n",
    "            if (X_val is not None) and (y_val is not None):\n",
    "                loss_test = self._loss(X_val, y_val)\n",
    "                self.test_loss.append(loss_test)\n",
    "                    \n",
    "\n",
    "    def predict(self, X):\n",
    "        \"\"\"\n",
    "        推論\n",
    "        \n",
    "        return 画像データ（入力データ）\n",
    "        \"\"\"\n",
    "        for layer in self.layers.values():\n",
    "            X = layer.forward(X)\n",
    "            pred = np.argmax(X, axis=1)\n",
    "        return pred\n",
    "    \n",
    "    \n",
    "    def _loss(self, X, t):\n",
    "#         y = self.predict(X)\n",
    "#         return self.lastLayer.forward(y, t)\n",
    "\n",
    "        for layer in self.layers.values():\n",
    "            X = layer.forward(X)\n",
    "            \n",
    "        return self.lastLayer.forward(X, t)\n",
    "\n",
    "        \n",
    "    def _gradient(self, X, t):\n",
    "        \"\"\"\n",
    "        重みパラメータに対する勾配を誤差逆伝播法によって求める\n",
    "        \n",
    "        X : 画像データ（入力データ)\n",
    "        t : 教師データ\n",
    "        \n",
    "        \"\"\"\n",
    "        self._loss(X, t)\n",
    "        \n",
    "        dout = 1\n",
    "        dout = self.lastLayer.backward(dout)\n",
    "        \n",
    "        layers = list(self.layers.values())\n",
    "        layers.reverse()\n",
    "        for layer in layers:\n",
    "            dout = layer.backward(dout)\n",
    "        \n",
    "        return"
   ]
  },
  {
   "cell_type": "markdown",
   "metadata": {},
   "source": [
    "##【問題9】学習と推定\n",
    "\n",
    "層の数や活性化関数を変えたいくつかのネットワークを作成してください。そして、MNISTのデータを学習・推定し、Accuracyを計算してください。"
   ]
  },
  {
   "cell_type": "code",
   "execution_count": 503,
   "metadata": {},
   "outputs": [
    {
     "name": "stdout",
     "output_type": "stream",
     "text": [
      "(48000, 784)\n",
      "(48000, 10)\n",
      "(12000, 784)\n",
      "(12000, 10)\n"
     ]
    }
   ],
   "source": [
    "sdn = ScratchDeepNeuralNetrowk(lr=0.1, verbose=False, batch_size=20, max_iter=5)\n",
    "print(X_train.shape)\n",
    "print(y_train.shape)\n",
    "print(X_val.shape)\n",
    "print(y_val.shape)"
   ]
  },
  {
   "cell_type": "code",
   "execution_count": 504,
   "metadata": {},
   "outputs": [],
   "source": [
    "sdn.fit(X_train, y_train, X_val, y_val)"
   ]
  },
  {
   "cell_type": "code",
   "execution_count": 505,
   "metadata": {},
   "outputs": [
    {
     "name": "stdout",
     "output_type": "stream",
     "text": [
      "正答率:0.9631666666666666\n"
     ]
    }
   ],
   "source": [
    "y_val = np.argmax(y_val, axis=1)\n",
    "y_pred = sdn.predict(X_val)\n",
    "accuracy = accuracy_score(y_pred, y_val)\n",
    "print(\"正答率:{}\".format(accuracy))"
   ]
  },
  {
   "cell_type": "code",
   "execution_count": 506,
   "metadata": {},
   "outputs": [
    {
     "data": {
      "image/png": "[encoded data removed]",
      "text/plain": [
       "<Figure size 432x288 with 1 Axes>"
      ]
     },
     "metadata": {
      "needs_background": "light"
     },
     "output_type": "display_data"
    }
   ],
   "source": [
    "x = np.arange(1, len(sdn.train_loss)+1)\n",
    "plt.plot(x, sdn.train_loss, label=\"loss\")\n",
    "plt.plot(x, sdn.test_loss, label=\"val_loss\")\n",
    "plt.legend()\n",
    "plt.show()"
   ]
  },
  {
   "cell_type": "markdown",
   "metadata": {},
   "source": [
    "なんだこのグラフ？\n",
    "\n",
    "どうなっているんだ？"
   ]
  },
  {
   "cell_type": "markdown",
   "metadata": {},
   "source": [
    "層を増やしてみる"
   ]
  },
  {
   "cell_type": "code",
   "execution_count": 507,
   "metadata": {},
   "outputs": [],
   "source": [
    "class ScratchDeepNeuralNetrowk(object):\n",
    "    \"\"\"\n",
    "    全結合による多層ニューラルネットワーク\n",
    "    \"\"\"\n",
    "    \n",
    "    def __init__(self, lr, verbose=True, batch_size=20, max_iter=3):\n",
    "        self.verbose = verbose\n",
    "        self.batch_size = batch_size\n",
    "        self.max_iter = max_iter\n",
    "        self.train_loss = []\n",
    "        self.test_loss = []\n",
    "        \n",
    "        # レイヤの生成\n",
    "        initializer = He()\n",
    "        # AdaGrad使用\n",
    "        optimizer = AdaGrad(lr=lr)\n",
    "        self.layers = OrderedDict()\n",
    "        \n",
    "        self.layers[\"FC1\"] = FC(784, 600, initializer, optimizer)\n",
    "        \n",
    "        self.layers[\"ReLU1\"] = Relu()\n",
    "        \n",
    "        self.layers[\"FC2\"] = FC(600, 500, initializer, optimizer)\n",
    "        \n",
    "        self.layers[\"Relu2\"] = Relu()\n",
    "        \n",
    "        self.layers[\"FC3\"] = FC(500, 400, initializer, optimizer)\n",
    "        \n",
    "        self.layers[\"Relu3\"] = Relu()\n",
    "        \n",
    "        self.layers[\"FC4\"] = FC(400, 300, initializer, optimizer)\n",
    "        \n",
    "        self.layers[\"tanh1\"] = Tangent()\n",
    "        \n",
    "        self.layers[\"FC5\"] = FC(300, 200, initializer, optimizer)\n",
    "        \n",
    "        self.layers[\"tanh2\"] = Tangent()\n",
    "        \n",
    "        self.layers[\"FC6\"] = FC(200, 100, initializer, optimizer)\n",
    "        \n",
    "        self.layers[\"tanh3\"] = Tangent()\n",
    "        \n",
    "        self.layers[\"FC7\"] = FC(100, 50, initializer, optimizer)\n",
    "        \n",
    "        self.layers[\"tanh4\"] = Tangent()\n",
    "        \n",
    "        self.layers[\"FC8\"] = FC(50, 10, initializer, optimizer)\n",
    "        \n",
    "        self.lastLayer = Softmax()\n",
    "        \n",
    "        \n",
    "    def fit(self, X, y, X_val=None, y_val=None):\n",
    "        \"\"\"\n",
    "        ニューラルネットワーク分類器を学習する。\n",
    "\n",
    "        Parameters\n",
    "        ----------\n",
    "        X : 次の形のndarray, shape (n_samples, n_features)\n",
    "            訓練データの特徴量\n",
    "        y : 次の形のndarray, shape (n_samples, )\n",
    "            訓練データの正解値\n",
    "        X_val : 次の形のndarray, shape (n_samples, n_features)\n",
    "            検証データの特徴量\n",
    "        y_val : 次の形のndarray, shape (n_samples, )\n",
    "            検証データの正解値\n",
    "        \"\"\"\n",
    "        # 1エポック当たりの繰り返し回数\n",
    "        iter_per_epoch = 1000\n",
    "        # エポック複数繰り返す\n",
    "        for _  in range(self.max_iter):\n",
    "            \n",
    "            # 1エポック\n",
    "            for i in range(iter_per_epoch):\n",
    "                #損失計算用のリスト\n",
    "                s_list = []\n",
    "                \n",
    "                batch_mask = np.random.choice(X.shape[0], self.batch_size)\n",
    "                X_batch = X[batch_mask]\n",
    "                y_batch = y[batch_mask]\n",
    "                \n",
    "                #勾配\n",
    "                self._gradient(X_batch, y_batch)\n",
    "                    \n",
    "                loss = self._loss(X_batch, y_batch)\n",
    "                s_list.append(loss)\n",
    "        \n",
    "                if self.verbose:\n",
    "                    #verboseをTrueにした際は学習過程などを出力する\n",
    "                    print(loss)\n",
    "                        \n",
    "            self.train_loss.append(sum(s_list) / len(s_list))\n",
    "            if (X_val is not None) and (y_val is not None):\n",
    "                loss_test = self._loss(X_val, y_val)\n",
    "                self.test_loss.append(loss_test)\n",
    "                    \n",
    "\n",
    "    def predict(self, X):\n",
    "        \"\"\"\n",
    "        推論\n",
    "        \n",
    "        return 画像データ（入力データ）\n",
    "        \"\"\"\n",
    "        for layer in self.layers.values():\n",
    "            X = layer.forward(X)\n",
    "            pred = np.argmax(X, axis=1)\n",
    "        return pred\n",
    "    \n",
    "    \n",
    "    def _loss(self, X, t):\n",
    "#         y = self.predict(X)\n",
    "#         return self.lastLayer.forward(y, t)\n",
    "\n",
    "        for layer in self.layers.values():\n",
    "            X = layer.forward(X)\n",
    "        return self.lastLayer.forward(X, t)\n",
    "\n",
    "        \n",
    "    def _gradient(self, X, t):\n",
    "        \"\"\"\n",
    "        重みパラメータに対する勾配を誤差逆伝播法によって求める\n",
    "        \n",
    "        X : 画像データ（入力データ)\n",
    "        t : 教師データ\n",
    "        \n",
    "        \"\"\"\n",
    "        self._loss(X, t)\n",
    "        \n",
    "        dout = 1\n",
    "        dout = self.lastLayer.backward(dout)\n",
    "        \n",
    "        layers = list(self.layers.values())\n",
    "        layers.reverse()\n",
    "        for layer in layers:\n",
    "            dout = layer.backward(dout)\n",
    "        \n",
    "        return"
   ]
  },
  {
   "cell_type": "code",
   "execution_count": 508,
   "metadata": {},
   "outputs": [
    {
     "name": "stdout",
     "output_type": "stream",
     "text": [
      "1.0\n",
      "0.0\n"
     ]
    }
   ],
   "source": [
    "from keras.datasets import mnist\n",
    "(X_train, y_train), (X_test, y_test) = mnist.load_data()\n",
    "\n",
    "X_train = X_train.reshape(-1, 784)\n",
    "X_test = X_test.reshape(-1, 784)\n",
    "X_train = X_train.astype(np.float)\n",
    "X_test = X_test.astype(np.float)\n",
    "X_train /= 255\n",
    "X_test /= 255\n",
    "print(X_train.max()) # 1.0\n",
    "print(X_train.min()) # 0.0"
   ]
  },
  {
   "cell_type": "code",
   "execution_count": 509,
   "metadata": {},
   "outputs": [
    {
     "name": "stdout",
     "output_type": "stream",
     "text": [
      "(60000,)\n",
      "(60000, 10)\n",
      "float64\n"
     ]
    }
   ],
   "source": [
    "from sklearn.preprocessing import OneHotEncoder\n",
    "enc = OneHotEncoder(handle_unknown='ignore', sparse=False)\n",
    "y_train_one_hot = enc.fit_transform(y_train[:, np.newaxis])\n",
    "y_test_one_hot = enc.transform(y_test[:, np.newaxis])\n",
    "print(y_train.shape) # (60000,)\n",
    "print(y_train_one_hot.shape) # (60000, 10)\n",
    "print(y_train_one_hot.dtype) # float64"
   ]
  },
  {
   "cell_type": "code",
   "execution_count": 510,
   "metadata": {},
   "outputs": [
    {
     "name": "stdout",
     "output_type": "stream",
     "text": [
      "(48000, 784)\n",
      "(12000, 784)\n"
     ]
    }
   ],
   "source": [
    "from sklearn.model_selection import train_test_split\n",
    "X_train, X_val, y_train, y_val = train_test_split(X_train, y_train_one_hot, test_size=0.2)\n",
    "print(X_train.shape) # (48000, 784)\n",
    "print(X_val.shape) # (12000, 784)\n",
    "y_train = y_train.astype(int)\n",
    "y_val = y_val.astype(int)"
   ]
  },
  {
   "cell_type": "code",
   "execution_count": 511,
   "metadata": {},
   "outputs": [
    {
     "name": "stdout",
     "output_type": "stream",
     "text": [
      "(48000, 784)\n",
      "(48000, 10)\n",
      "(12000, 784)\n",
      "(12000, 10)\n"
     ]
    }
   ],
   "source": [
    "sdn2 = ScratchDeepNeuralNetrowk(lr=0.1, verbose=False, batch_size=20, max_iter=5)\n",
    "print(X_train.shape)\n",
    "print(y_train.shape)\n",
    "print(X_val.shape)\n",
    "print(y_val.shape)"
   ]
  },
  {
   "cell_type": "code",
   "execution_count": 512,
   "metadata": {},
   "outputs": [],
   "source": [
    "sdn2.fit(X_train, y_train, X_val, y_val)"
   ]
  },
  {
   "cell_type": "code",
   "execution_count": 513,
   "metadata": {},
   "outputs": [
    {
     "name": "stdout",
     "output_type": "stream",
     "text": [
      "正答率:0.89825\n"
     ]
    }
   ],
   "source": [
    "y_val = np.argmax(y_val, axis=1)\n",
    "y_pred = sdn2.predict(X_val)\n",
    "accuracy = accuracy_score(y_pred, y_val)\n",
    "print(\"正答率:{}\".format(accuracy))"
   ]
  },
  {
   "cell_type": "code",
   "execution_count": 514,
   "metadata": {},
   "outputs": [
    {
     "data": {
      "image/png": "[encoded data removed]",
      "text/plain": [
       "<Figure size 432x288 with 1 Axes>"
      ]
     },
     "metadata": {
      "needs_background": "light"
     },
     "output_type": "display_data"
    }
   ],
   "source": [
    "x = np.arange(1, len(sdn2.train_loss)+1)\n",
    "plt.plot(x, sdn2.train_loss, label=\"loss\")\n",
    "plt.plot(x, sdn2.test_loss, label=\"val_loss\")\n",
    "plt.legend()\n",
    "plt.show()"
   ]
  },
  {
   "cell_type": "markdown",
   "metadata": {},
   "source": [
    "層の数や大きさを上げたらよいというわけではなさそう\n",
    "\n",
    "このグラフはなんでだ？\n"
   ]
  },
  {
   "cell_type": "markdown",
   "metadata": {},
   "source": [
    "課題\n",
    "\n",
    "ゼロから作るDeep Learning参考に作成\n",
    "コードをしっかりと理解しないと\n",
    "\n",
    "正解率は9割出ているのでよし\n",
    "\n",
    "ロスの曲線がおかしいのでコードを修正しないと"
   ]
  }
 ],
 "metadata": {
  "kernelspec": {
   "display_name": "Python 3",
   "language": "python",
   "name": "python3"
  },
  "language_info": {
   "codemirror_mode": {
    "name": "ipython",
    "version": 3
   },
   "file_extension": ".py",
   "mimetype": "text/x-python",
   "name": "python",
   "nbconvert_exporter": "python",
   "pygments_lexer": "ipython3",
   "version": "3.7.6"
  }
 },
 "nbformat": 4,
 "nbformat_minor": 4
}
